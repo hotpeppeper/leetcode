{
 "metadata": {
  "language_info": {
   "codemirror_mode": {
    "name": "ipython",
    "version": 3
   },
   "file_extension": ".py",
   "mimetype": "text/x-python",
   "name": "python",
   "nbconvert_exporter": "python",
   "pygments_lexer": "ipython3",
   "version": "3.8.5"
  },
  "orig_nbformat": 2,
  "kernelspec": {
   "name": "python3",
   "display_name": "Python 3",
   "language": "python"
  }
 },
 "nbformat": 4,
 "nbformat_minor": 2,
 "cells": [
  {
   "source": [
    "#### 反转链表\n",
    "反转一个单链表。"
   ],
   "cell_type": "markdown",
   "metadata": {}
  },
  {
   "cell_type": "code",
   "execution_count": 8,
   "metadata": {},
   "outputs": [],
   "source": [
    "class ListNode:\n",
    "    def __init__(self, x):\n",
    "        self.next=None\n",
    "        self.val = x"
   ]
  },
  {
   "cell_type": "code",
   "execution_count": 2,
   "metadata": {},
   "outputs": [],
   "source": [
    "def reverse(head: ListNode):\n",
    "    dummy = ListNode()\n",
    "    p = head\n",
    "    while p:\n",
    "        tmp = p.next\n",
    "        p.next = dummy.next\n",
    "        dummy.next = p\n",
    "        p = tmp\n",
    "    return dummy.next"
   ]
  },
  {
   "source": [
    "#### 移除链表元素\n",
    "删除链表中等于给定值 val 的所有节点。"
   ],
   "cell_type": "markdown",
   "metadata": {}
  },
  {
   "cell_type": "code",
   "execution_count": 3,
   "metadata": {},
   "outputs": [],
   "source": [
    "def remove_element(head: ListNode, val):\n",
    "    dummy = ListNode()\n",
    "    p = head\n",
    "    tail = dummy\n",
    "    while P:\n",
    "        tmp = p.next\n",
    "        if p.val != val:\n",
    "            tail.next = p\n",
    "            tail = p\n",
    "        p = tmp\n",
    "    tail.next = None\n",
    "    return dummy.next"
   ]
  },
  {
   "source": [
    "#### 删除排序链表中的重复元素\n",
    "给定一个排序链表，删除所有重复的元素，使得每个元素只出现一次。"
   ],
   "cell_type": "markdown",
   "metadata": {}
  },
  {
   "cell_type": "code",
   "execution_count": 4,
   "metadata": {},
   "outputs": [],
   "source": [
    "def delete_dumlicates(head):\n",
    "    dummy = ListNode()\n",
    "    tail = dummy\n",
    "    p = head\n",
    "    while p:\n",
    "        tmp = p.next\n",
    "        if tail == dummy or tail.val != p.val:\n",
    "            tail.next = p\n",
    "            tail = p\n",
    "        p = tmp\n",
    "    tail.next = None\n",
    "\n",
    "    return dummy.next"
   ]
  },
  {
   "source": [
    "#### 合并两个有序链表\n",
    "将两个升序链表合并为一个新的 升序 链表并返回。新链表是通过拼接给定的两个链表的所有节点组成的。 "
   ],
   "cell_type": "markdown",
   "metadata": {}
  },
  {
   "cell_type": "code",
   "execution_count": 5,
   "metadata": {},
   "outputs": [],
   "source": [
    "def merge_two_lists(l1: ListNode, l2: ListNode):\n",
    "    dummy = ListNode()\n",
    "    tail = dummy\n",
    "    while l1 or l2:\n",
    "        if not l1 or not l2 and l1.val < l2.val:\n",
    "            tail.next = l1\n",
    "            tail = l1\n",
    "            l1 = l1.next\n",
    "        else:\n",
    "            tail.next = l2\n",
    "            tail = l2\n",
    "            l2 = l2.next\n",
    "    tail.next = None\n",
    "    return dummy.next"
   ]
  },
  {
   "source": [
    "#### 两两交换链表中的节点\n",
    "给定一个链表，两两交换其中相邻的节点，并返回交换后的链表。你不能只是单纯的改变节点内部的值，而是需要实际的进行节点交换。"
   ],
   "cell_type": "markdown",
   "metadata": {}
  },
  {
   "cell_type": "code",
   "execution_count": 6,
   "metadata": {},
   "outputs": [],
   "source": [
    "class Solution:\n",
    "    def split(self, head: ListNode):\n",
    "        odd = ListNode() # 奇数节点\n",
    "        even = ListNode() # 偶数节点\n",
    "\n",
    "        odd_tail = odd\n",
    "        even_tail = even\n",
    "\n",
    "        p = head\n",
    "        idx = 1\n",
    "        while p:\n",
    "            if idx % 2 == 1:\n",
    "                odd_tail.next = p\n",
    "                odd_tail = p\n",
    "            else:\n",
    "                even_tail.next = p\n",
    "                even_tail = p\n",
    "            p = p.next\n",
    "            idx += 1\n",
    "        \n",
    "        odd_tail.next = None\n",
    "        even_tail.next = None\n",
    "\n",
    "        return odd.next, even.next\n",
    "\n",
    "    def merge(self, odd, even):\n",
    "        is_even = False\n",
    "        dummy = ListNode()\n",
    "        tail = dummy\n",
    "        while odd or even:\n",
    "            if (not add) or (is_even and even):\n",
    "                tail.next = even\n",
    "                tail = even\n",
    "            else:\n",
    "                tail.next = odd\n",
    "                tail = odd\n",
    "            tail = tail.next\n",
    "            is_even = not is_even\n",
    "        tail.next = None\n",
    "        return dummy.next\n",
    "\n",
    "    def swap_pairs(self, head: ListNode):\n",
    "\n",
    "        return self.merge(self.split(head))"
   ]
  },
  {
   "source": [
    "#### 环形链表\n",
    "给定一个链表，判断链表中是否有环。\n",
    "如果链表中存在环，则返回 true 。 否则，返回 false 。"
   ],
   "cell_type": "markdown",
   "metadata": {}
  },
  {
   "cell_type": "code",
   "execution_count": 8,
   "metadata": {},
   "outputs": [],
   "source": [
    "def has_cycle(head: ListNode):\n",
    "    if not head or not head.next:\n",
    "        return False\n",
    "    l1 = head\n",
    "    l2 = head\n",
    "    while s2 and s2.next:\n",
    "        s1 = s1.next\n",
    "        s2 = s2.next.next\n",
    "        if s1 == s2:\n",
    "            break\n",
    "    return s1 == s2"
   ]
  },
  {
   "source": [
    "#### 环形链表 II\n",
    "给定一个链表，返回链表开始入环的第一个节点。 如果链表无环，则返回 null。"
   ],
   "cell_type": "markdown",
   "metadata": {}
  },
  {
   "cell_type": "code",
   "execution_count": 9,
   "metadata": {},
   "outputs": [],
   "source": [
    "def detect_cycle(head: ListNode):\n",
    "    # 用两个指针，一个快指针每次走两步，一个慢指针每次走一步\n",
    "    if not head or not head.next:\n",
    "        return None\n",
    "\n",
    "    fast , slow = head, head\n",
    "    while True:\n",
    "        if not fast or not fast.next:\n",
    "            return\n",
    "        fast = fast.next.next\n",
    "        slow = slow.next\n",
    "        if fast == slow:\n",
    "            break\n",
    "    fast = head\n",
    "    while fast != slow:\n",
    "        fast = fast.next\n",
    "        slow = slow.next\n",
    "    return fast"
   ]
  },
  {
   "source": [
    "#### 442. 数组中重复的数据\n",
    "给定一个整数数组 a，其中1 ≤ a\\[i\\] ≤ n （n为数组长度）, 其中有些元素出现两次而其他元素出现一次。\n",
    "\n",
    "找到所有出现两次的元素。"
   ],
   "cell_type": "markdown",
   "metadata": {}
  },
  {
   "cell_type": "code",
   "execution_count": 1,
   "metadata": {},
   "outputs": [],
   "source": [
    "def findDuplicates(nums: list):\n",
    "    res = []\n",
    "    for i in range(len(nums)):\n",
    "        num = abs(nums[i]) - 1\n",
    "        if nums[num] < 0:\n",
    "            res.append(num+1)\n",
    "        # 将列表中的值为下标对应元素取反，\n",
    "        # 如果下次遍历到某个值，且这个值为下标小于0，则之前出现过\n",
    "        nums[num] = -nums[num]\n",
    "    return res"
   ]
  },
  {
   "cell_type": "code",
   "execution_count": 2,
   "metadata": {},
   "outputs": [
    {
     "output_type": "execute_result",
     "data": {
      "text/plain": [
       "[2, 3]"
      ]
     },
     "metadata": {},
     "execution_count": 2
    }
   ],
   "source": [
    "findDuplicates([4,3,2,7,8,2,3,1])"
   ]
  },
  {
   "source": [
    "#### 数组中消失的数据\n",
    "给定一个整数数组 a，其中1 ≤ a\\[i\\] ≤ n （n为数组长度）, 其中有些元素出现两次，有些元素出现一次。\n",
    "\n",
    "找到所有没有出现的元素。"
   ],
   "cell_type": "markdown",
   "metadata": {}
  },
  {
   "cell_type": "code",
   "execution_count": 3,
   "metadata": {},
   "outputs": [],
   "source": [
    "def find_missing(nums):\n",
    "    n = len(nums)\n",
    "    for i in range(n):\n",
    "        num = nums[i] - 1\n",
    "        nums[num] += n\n",
    "    return [i+1 for i in range(n) if nums[i] < n]"
   ]
  },
  {
   "cell_type": "code",
   "execution_count": 4,
   "metadata": {},
   "outputs": [
    {
     "output_type": "execute_result",
     "data": {
      "text/plain": [
       "[5, 7, 9]"
      ]
     },
     "metadata": {},
     "execution_count": 4
    }
   ],
   "source": [
    "find_missing([1,2,3,2,4,4,6,8,8])"
   ]
  },
  {
   "source": [
    "####  LRU 缓存\n",
    "设计和构建一个“最近最少使用”缓存，该缓存会删除最近最少使用的项目。缓存应该从键映射到值(允许你插入和检索特定键对应的值)，并在初始化时指定最大容量。当缓存被填满时，它应该删除最近最少使用的项目。\n"
   ],
   "cell_type": "markdown",
   "metadata": {}
  },
  {
   "cell_type": "code",
   "execution_count": 5,
   "metadata": {},
   "outputs": [],
   "source": [
    "class DLinkNode:\n",
    "    def __init__(self, key=0, value=0):\n",
    "        self.key = key\n",
    "        self.value = value\n",
    "        self.prev = None # 前指针\n",
    "        self.next = None # 后指针"
   ]
  },
  {
   "cell_type": "code",
   "execution_count": 6,
   "metadata": {},
   "outputs": [],
   "source": [
    "class LRU:\n",
    "    def __init__(self, capacity: int):\n",
    "        self.capacity = capacity\n",
    "        self.head = DLinkNode() # 假头，真正开始的地方在head.next\n",
    "        self.tail = DLinkNode()\n",
    "        self.head.next = self.tail\n",
    "        self.tail.prev = self.head\n",
    "        self.size = 0\n",
    "        self.cache = {}\n",
    "\n",
    "    def add_to_head(self, node: DLinkNode):\n",
    "        node.prev = self.head\n",
    "        node.next = self.head.next\n",
    "        self.head.next.prev = node\n",
    "        self.head.next = node\n",
    "\n",
    "    def remove_node(self, node):\n",
    "        node.prev.next = node.next\n",
    "        node.next.prev = node.prev\n",
    "\n",
    "    def move_to_head(self, node):\n",
    "        self.remove_node(node)\n",
    "        self.add_to_head(node)\n",
    "\n",
    "    def remove_tail(self):\n",
    "        node = self.tail.prev\n",
    "        self.remove_node(node)\n",
    "        return node\n",
    "\n",
    "    def get(self, key):\n",
    "        if key not in self.cache:\n",
    "            return -1\n",
    "        node = self.cache[key]\n",
    "        # 如果存在，先定位，再移动到链表头部\n",
    "        self.move_to_head(node)\n",
    "        return node.value\n",
    "\n",
    "    def put(self, key, value):\n",
    "        if key not in self.cache:\n",
    "            node = DLinkNode(key, value)\n",
    "            self.cache[key] = node\n",
    "            self.add_to_head(node)\n",
    "            self.size += 1\n",
    "            if self.size > self.capacity:\n",
    "                # 超出容量，删除队尾节点\n",
    "                revoved = self.remove_tail()\n",
    "                self.cache.pop(revoved.key)\n",
    "                self.size -= 1\n",
    "        else:\n",
    "            # 如果已经存在，则更新节点的value，然后移动到队首\n",
    "            node = self.cache[key]\n",
    "            node.value = value\n",
    "            self.move_to_head(node)"
   ]
  },
  {
   "source": [
    "#### 160. 相交链表\n",
    "编写一个程序，找到两个单链表相交的起始节点。"
   ],
   "cell_type": "markdown",
   "metadata": {}
  },
  {
   "cell_type": "code",
   "execution_count": 10,
   "metadata": {},
   "outputs": [],
   "source": [
    "def getIntersectionNode(headA: ListNode, headB: ListNode):\n",
    "    # 设A, B的公共部分的长度为c，A的不相交部分长度为a，B的不相交部分长度为b\n",
    "    # A的长度为a+c，b的长度为b+c\n",
    "    # 当A遍历到队尾的时候，指向B，走到交点的长度为a+c+b\n",
    "    # 当B遍历到队尾的时候，指向A，走到交点的长度为b+c+a=a+c+b\n",
    "    A = headA\n",
    "    B = headB\n",
    "    while A != B:\n",
    "        A = A.next if A else B\n",
    "        B = B.next if B else A\n",
    "    return A"
   ]
  },
  {
   "source": [
    "#### 16. 最接近的三数之和\n",
    "给定一个包括 n 个整数的数组 nums 和 一个目标值 target。找出 nums 中的三个整数，使得它们的和与 target 最接近。返回这三个数的和。假定每组输入只存在唯一答案。"
   ],
   "cell_type": "markdown",
   "metadata": {}
  },
  {
   "cell_type": "code",
   "execution_count": 11,
   "metadata": {},
   "outputs": [],
   "source": [
    "def three_sum_closest(nums: list, k: int):\n",
    "    nums.sort()\n",
    "    res = nums[0] + nums[1] + nums[2]\n",
    "    n = len(nums)\n",
    "    for i in range(n):\n",
    "        start = i + 1\n",
    "        end = n - 1\n",
    "        while start < end:\n",
    "            sum_ = nums[i] + nums[start] + nums[end]\n",
    "            if abs(sum_ - res) > abs(sum_ - k):\n",
    "                res = sum_\n",
    "            if k > sum_:\n",
    "                start += 1\n",
    "            elif k < sum_:\n",
    "                end -= 1\n",
    "            else:\n",
    "                return res\n",
    "    return res"
   ]
  },
  {
   "cell_type": "code",
   "execution_count": 12,
   "metadata": {},
   "outputs": [
    {
     "output_type": "execute_result",
     "data": {
      "text/plain": [
       "2"
      ]
     },
     "metadata": {},
     "execution_count": 12
    }
   ],
   "source": [
    "three_sum_closest([-1,2,1,-4], 1)"
   ]
  },
  {
   "source": [
    "#### 移除元素\n",
    "给你一个数组 nums 和一个值 val，你需要 原地 移除所有数值等于 val 的元素，并返回移除后数组的新长度。\n",
    "\n",
    "不要使用额外的数组空间，你必须仅使用 O(1) 额外空间并 原地 修改输入数组。\n",
    "\n",
    "元素的顺序可以改变。你不需要考虑数组中超出新长度后面的元素。"
   ],
   "cell_type": "markdown",
   "metadata": {}
  },
  {
   "cell_type": "code",
   "execution_count": 14,
   "metadata": {},
   "outputs": [],
   "source": [
    "def remove_element(nums, val):\n",
    "    i = 0\n",
    "    n = len(nums)\n",
    "    while i < n:\n",
    "        if nums[i] == val:\n",
    "            nums[i] = nums[n-1]\n",
    "            n -= 1\n",
    "        else:\n",
    "            i += 1\n",
    "    return n"
   ]
  },
  {
   "cell_type": "code",
   "execution_count": 15,
   "metadata": {},
   "outputs": [
    {
     "output_type": "execute_result",
     "data": {
      "text/plain": [
       "5"
      ]
     },
     "metadata": {},
     "execution_count": 15
    }
   ],
   "source": [
    "remove_element([0,1,2,2,3,0,4,2], 2)"
   ]
  },
  {
   "source": [
    "#### 组合总和\n",
    "给定一个无重复元素的数组 candidates 和一个目标数 target ，找出 candidates 中所有可以使数字和为 target 的组合。\n",
    "\n",
    "candidates 中的数字可以无限制重复被选取。"
   ],
   "cell_type": "markdown",
   "metadata": {}
  },
  {
   "cell_type": "code",
   "execution_count": 25,
   "metadata": {},
   "outputs": [],
   "source": [
    "class Solution:\n",
    "    def combinationSum(self, candidates, target: int):\n",
    "        size = len(candidates)\n",
    "        if size == 0:\n",
    "            return []\n",
    "\n",
    "        candidates.sort()\n",
    "        path = []\n",
    "        res = []\n",
    "        self._dfs(candidates, 0, size, path, res, target)\n",
    "        return res\n",
    "\n",
    "    def _dfs(self, candidates, begin, size, path, res, target):\n",
    "        if target == 0:\n",
    "            res.append(path[:])\n",
    "            return\n",
    "\n",
    "        for i in range(begin, size):\n",
    "            residue = target - candidates[i]\n",
    "            if residue < 0:\n",
    "                break\n",
    "\n",
    "            path.append(candidates[i])\n",
    "            self._dfs(candidates, i, size, path, res, residue)\n",
    "            path.pop()"
   ]
  },
  {
   "cell_type": "code",
   "execution_count": 26,
   "metadata": {},
   "outputs": [
    {
     "output_type": "error",
     "ename": "NameError",
     "evalue": "name 'condidates' is not defined",
     "traceback": [
      "\u001b[1;31m---------------------------------------------------------------------------\u001b[0m",
      "\u001b[1;31mNameError\u001b[0m                                 Traceback (most recent call last)",
      "\u001b[1;32m<ipython-input-26-d16963445296>\u001b[0m in \u001b[0;36m<module>\u001b[1;34m\u001b[0m\n\u001b[1;32m----> 1\u001b[1;33m \u001b[0mcombination_sum\u001b[0m\u001b[1;33m(\u001b[0m\u001b[1;33m[\u001b[0m\u001b[1;36m2\u001b[0m\u001b[1;33m,\u001b[0m\u001b[1;36m3\u001b[0m\u001b[1;33m,\u001b[0m\u001b[1;36m6\u001b[0m\u001b[1;33m,\u001b[0m\u001b[1;36m7\u001b[0m\u001b[1;33m]\u001b[0m\u001b[1;33m,\u001b[0m \u001b[1;36m7\u001b[0m\u001b[1;33m)\u001b[0m\u001b[1;33m\u001b[0m\u001b[1;33m\u001b[0m\u001b[0m\n\u001b[0m",
      "\u001b[1;32m<ipython-input-22-85d545a03410>\u001b[0m in \u001b[0;36mcombination_sum\u001b[1;34m(candidates, target)\u001b[0m\n\u001b[0;32m     19\u001b[0m     \u001b[0mpath\u001b[0m \u001b[1;33m=\u001b[0m \u001b[1;33m[\u001b[0m\u001b[1;33m]\u001b[0m\u001b[1;33m\u001b[0m\u001b[1;33m\u001b[0m\u001b[0m\n\u001b[0;32m     20\u001b[0m     \u001b[0mres\u001b[0m \u001b[1;33m=\u001b[0m \u001b[1;33m[\u001b[0m\u001b[1;33m]\u001b[0m\u001b[1;33m\u001b[0m\u001b[1;33m\u001b[0m\u001b[0m\n\u001b[1;32m---> 21\u001b[1;33m     \u001b[0m_dfs\u001b[0m\u001b[1;33m(\u001b[0m\u001b[0mcandidates\u001b[0m\u001b[1;33m,\u001b[0m \u001b[1;36m0\u001b[0m\u001b[1;33m,\u001b[0m \u001b[0msize\u001b[0m\u001b[1;33m,\u001b[0m \u001b[0mpath\u001b[0m\u001b[1;33m,\u001b[0m \u001b[0mres\u001b[0m\u001b[1;33m,\u001b[0m \u001b[0mtarget\u001b[0m\u001b[1;33m)\u001b[0m\u001b[1;33m\u001b[0m\u001b[1;33m\u001b[0m\u001b[0m\n\u001b[0m\u001b[0;32m     22\u001b[0m     \u001b[1;32mreturn\u001b[0m \u001b[0mres\u001b[0m\u001b[1;33m\u001b[0m\u001b[1;33m\u001b[0m\u001b[0m\n\u001b[0;32m     23\u001b[0m \u001b[1;33m\u001b[0m\u001b[0m\n",
      "\u001b[1;32m<ipython-input-22-85d545a03410>\u001b[0m in \u001b[0;36m_dfs\u001b[1;34m(candidates, begin, end, path, res, target)\u001b[0m\n\u001b[0;32m      8\u001b[0m             \u001b[1;32mif\u001b[0m \u001b[0mresidue\u001b[0m \u001b[1;33m<\u001b[0m \u001b[1;36m0\u001b[0m\u001b[1;33m:\u001b[0m\u001b[1;33m\u001b[0m\u001b[1;33m\u001b[0m\u001b[0m\n\u001b[0;32m      9\u001b[0m                 \u001b[1;32mbreak\u001b[0m\u001b[1;33m\u001b[0m\u001b[1;33m\u001b[0m\u001b[0m\n\u001b[1;32m---> 10\u001b[1;33m             \u001b[0mpath\u001b[0m\u001b[1;33m.\u001b[0m\u001b[0mappend\u001b[0m\u001b[1;33m(\u001b[0m\u001b[0mcondidates\u001b[0m\u001b[1;33m[\u001b[0m\u001b[0mi\u001b[0m\u001b[1;33m]\u001b[0m\u001b[1;33m)\u001b[0m\u001b[1;33m\u001b[0m\u001b[1;33m\u001b[0m\u001b[0m\n\u001b[0m\u001b[0;32m     11\u001b[0m             \u001b[0mcombination_sum\u001b[0m\u001b[1;33m(\u001b[0m\u001b[0mcondidates\u001b[0m\u001b[1;33m,\u001b[0m \u001b[0mi\u001b[0m\u001b[1;33m,\u001b[0m \u001b[0msize\u001b[0m\u001b[1;33m,\u001b[0m \u001b[0mpath\u001b[0m\u001b[1;33m,\u001b[0m \u001b[0mres\u001b[0m\u001b[1;33m,\u001b[0m \u001b[0mresidue\u001b[0m\u001b[1;33m)\u001b[0m\u001b[1;33m\u001b[0m\u001b[1;33m\u001b[0m\u001b[0m\n\u001b[0;32m     12\u001b[0m             \u001b[0mpath\u001b[0m\u001b[1;33m.\u001b[0m\u001b[0mpop\u001b[0m\u001b[1;33m(\u001b[0m\u001b[1;33m)\u001b[0m\u001b[1;33m\u001b[0m\u001b[1;33m\u001b[0m\u001b[0m\n",
      "\u001b[1;31mNameError\u001b[0m: name 'condidates' is not defined"
     ]
    }
   ],
   "source": [
    "s = Solution()\n",
    "s.combinationSum([2,3,6,7], 7)"
   ]
  },
  {
   "cell_type": "code",
   "execution_count": null,
   "metadata": {},
   "outputs": [],
   "source": []
  }
 ]
}