{
 "metadata": {
  "language_info": {
   "codemirror_mode": {
    "name": "ipython",
    "version": 3
   },
   "file_extension": ".py",
   "mimetype": "text/x-python",
   "name": "python",
   "nbconvert_exporter": "python",
   "pygments_lexer": "ipython3",
   "version": "3.8.5-final"
  },
  "orig_nbformat": 2,
  "kernelspec": {
   "name": "python3",
   "display_name": "Python 3.8.5 64-bit (conda)",
   "metadata": {
    "interpreter": {
     "hash": "3fa48bb2c24bfd2c860ebc2f76fcf240faeca9c313f5297b1080b141badca120"
    }
   }
  }
 },
 "nbformat": 4,
 "nbformat_minor": 2,
 "cells": [
  {
   "source": [
    "#### 反转链表\n",
    "反转一个单链表。"
   ],
   "cell_type": "markdown",
   "metadata": {}
  },
  {
   "cell_type": "code",
   "execution_count": 1,
   "metadata": {},
   "outputs": [],
   "source": [
    "class ListNode:\n",
    "    def __init__(self, x):\n",
    "        self.next=None\n",
    "        self.val = x"
   ]
  },
  {
   "cell_type": "code",
   "execution_count": 2,
   "metadata": {},
   "outputs": [],
   "source": [
    "def reverse(head: ListNode):\n",
    "    dummy = ListNode()\n",
    "    p = head\n",
    "    while p:\n",
    "        tmp = p.next\n",
    "        p.next = dummy.next\n",
    "        dummy.next = p\n",
    "        p = tmp\n",
    "    return dummy.next"
   ]
  },
  {
   "source": [
    "#### 移除链表元素\n",
    "删除链表中等于给定值 val 的所有节点。"
   ],
   "cell_type": "markdown",
   "metadata": {}
  },
  {
   "cell_type": "code",
   "execution_count": 3,
   "metadata": {},
   "outputs": [],
   "source": [
    "def remove_element(head: ListNode, val):\n",
    "    dummy = ListNode()\n",
    "    p = head\n",
    "    tail = dummy\n",
    "    while P:\n",
    "        tmp = p.next\n",
    "        if p.val != val:\n",
    "            tail.next = p\n",
    "            tail = p\n",
    "        p = tmp\n",
    "    tail.next = None\n",
    "    return dummy.next"
   ]
  },
  {
   "source": [
    "#### 删除排序链表中的重复元素\n",
    "给定一个排序链表，删除所有重复的元素，使得每个元素只出现一次。"
   ],
   "cell_type": "markdown",
   "metadata": {}
  },
  {
   "cell_type": "code",
   "execution_count": 4,
   "metadata": {},
   "outputs": [],
   "source": [
    "def delete_dumlicates(head):\n",
    "    dummy = ListNode()\n",
    "    tail = dummy\n",
    "    p = head\n",
    "    while p:\n",
    "        tmp = p.next\n",
    "        if tail == dummy or tail.val != p.val:\n",
    "            tail.next = p\n",
    "            tail = p\n",
    "        p = tmp\n",
    "    tail.next = None\n",
    "\n",
    "    return dummy.next"
   ]
  },
  {
   "cell_type": "code",
   "execution_count": null,
   "metadata": {},
   "outputs": [],
   "source": []
  }
 ]
}