{
 "metadata": {
  "language_info": {
   "codemirror_mode": {
    "name": "ipython",
    "version": 3
   },
   "file_extension": ".py",
   "mimetype": "text/x-python",
   "name": "python",
   "nbconvert_exporter": "python",
   "pygments_lexer": "ipython3",
   "version": "3.8.5-final"
  },
  "orig_nbformat": 2,
  "kernelspec": {
   "name": "python3",
   "display_name": "Python 3",
   "language": "python"
  }
 },
 "nbformat": 4,
 "nbformat_minor": 2,
 "cells": [
  {
   "source": [
    "#### 反转链表\n",
    "反转一个单链表。"
   ],
   "cell_type": "markdown",
   "metadata": {}
  },
  {
   "cell_type": "code",
   "execution_count": 1,
   "metadata": {},
   "outputs": [],
   "source": [
    "class ListNode:\n",
    "    def __init__(self, x):\n",
    "        self.next=None\n",
    "        self.val = x"
   ]
  },
  {
   "cell_type": "code",
   "execution_count": 2,
   "metadata": {},
   "outputs": [],
   "source": [
    "def reverse(head: ListNode):\n",
    "    dummy = ListNode()\n",
    "    p = head\n",
    "    while p:\n",
    "        tmp = p.next\n",
    "        p.next = dummy.next\n",
    "        dummy.next = p\n",
    "        p = tmp\n",
    "    return dummy.next"
   ]
  },
  {
   "source": [
    "#### 移除链表元素\n",
    "删除链表中等于给定值 val 的所有节点。"
   ],
   "cell_type": "markdown",
   "metadata": {}
  },
  {
   "cell_type": "code",
   "execution_count": 3,
   "metadata": {},
   "outputs": [],
   "source": [
    "def remove_element(head: ListNode, val):\n",
    "    dummy = ListNode()\n",
    "    p = head\n",
    "    tail = dummy\n",
    "    while P:\n",
    "        tmp = p.next\n",
    "        if p.val != val:\n",
    "            tail.next = p\n",
    "            tail = p\n",
    "        p = tmp\n",
    "    tail.next = None\n",
    "    return dummy.next"
   ]
  },
  {
   "source": [
    "#### 删除排序链表中的重复元素\n",
    "给定一个排序链表，删除所有重复的元素，使得每个元素只出现一次。"
   ],
   "cell_type": "markdown",
   "metadata": {}
  },
  {
   "cell_type": "code",
   "execution_count": 4,
   "metadata": {},
   "outputs": [],
   "source": [
    "def delete_dumlicates(head):\n",
    "    dummy = ListNode()\n",
    "    tail = dummy\n",
    "    p = head\n",
    "    while p:\n",
    "        tmp = p.next\n",
    "        if tail == dummy or tail.val != p.val:\n",
    "            tail.next = p\n",
    "            tail = p\n",
    "        p = tmp\n",
    "    tail.next = None\n",
    "\n",
    "    return dummy.next"
   ]
  },
  {
   "source": [
    "#### 合并两个有序链表\n",
    "将两个升序链表合并为一个新的 升序 链表并返回。新链表是通过拼接给定的两个链表的所有节点组成的。 "
   ],
   "cell_type": "markdown",
   "metadata": {}
  },
  {
   "cell_type": "code",
   "execution_count": 5,
   "metadata": {},
   "outputs": [],
   "source": [
    "def merge_two_lists(l1: ListNode, l2: ListNode):\n",
    "    dummy = ListNode()\n",
    "    tail = dummy\n",
    "    while l1 or l2:\n",
    "        if not l1 or not l2 and l1.val < l2.val:\n",
    "            tail.next = l1\n",
    "            tail = l1\n",
    "            l1 = l1.next\n",
    "        else:\n",
    "            tail.next = l2\n",
    "            tail = l2\n",
    "            l2 = l2.next\n",
    "    tail.next = None\n",
    "    return dummy.next"
   ]
  },
  {
   "source": [
    "#### 两两交换链表中的节点\n",
    "给定一个链表，两两交换其中相邻的节点，并返回交换后的链表。你不能只是单纯的改变节点内部的值，而是需要实际的进行节点交换。"
   ],
   "cell_type": "markdown",
   "metadata": {}
  },
  {
   "cell_type": "code",
   "execution_count": 6,
   "metadata": {},
   "outputs": [],
   "source": [
    "class Solution:\n",
    "    def split(self, head: ListNode):\n",
    "        odd = ListNode() # 奇数节点\n",
    "        even = ListNode() # 偶数节点\n",
    "\n",
    "        odd_tail = odd\n",
    "        even_tail = even\n",
    "\n",
    "        p = head\n",
    "        idx = 1\n",
    "        while p:\n",
    "            if idx % 2 == 1:\n",
    "                odd_tail.next = p\n",
    "                odd_tail = p\n",
    "            else:\n",
    "                even_tail.next = p\n",
    "                even_tail = p\n",
    "            p = p.next\n",
    "            idx += 1\n",
    "        \n",
    "        odd_tail.next = None\n",
    "        even_tail.next = None\n",
    "\n",
    "        return odd.next, even.next\n",
    "\n",
    "    def merge(self, odd, even):\n",
    "        is_even = False\n",
    "        dummy = ListNode()\n",
    "        tail = dummy\n",
    "        while odd or even:\n",
    "            if (not add) or (is_even and even):\n",
    "                tail.next = even\n",
    "                tail = even\n",
    "            else:\n",
    "                tail.next = odd\n",
    "                tail = odd\n",
    "            tail = tail.next\n",
    "            is_even = not is_even\n",
    "        tail.next = None\n",
    "        return dummy.next\n",
    "\n",
    "    def swap_pairs(self, head: ListNode):\n",
    "\n",
    "        return self.merge(self.split(head))"
   ]
  },
  {
   "source": [
    "#### 环形链表\n",
    "给定一个链表，判断链表中是否有环。\n",
    "如果链表中存在环，则返回 true 。 否则，返回 false 。"
   ],
   "cell_type": "markdown",
   "metadata": {}
  },
  {
   "cell_type": "code",
   "execution_count": 7,
   "metadata": {},
   "outputs": [],
   "source": [
    "def has_cycle(head: ListNode):\n",
    "    if not head or not head.next:\n",
    "        return False\n",
    "    l1 = head\n",
    "    l2 = head\n",
    "    while s2 and s2.next:\n",
    "        s1 = s1.next\n",
    "        s2 = s2.next.next\n",
    "        if s1 == s2:\n",
    "            return True\n",
    "    return False"
   ]
  },
  {
   "cell_type": "code",
   "execution_count": null,
   "metadata": {},
   "outputs": [],
   "source": []
  }
 ]
}