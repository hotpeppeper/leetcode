{
 "metadata": {
  "language_info": {
   "codemirror_mode": {
    "name": "ipython",
    "version": 3
   },
   "file_extension": ".py",
   "mimetype": "text/x-python",
   "name": "python",
   "nbconvert_exporter": "python",
   "pygments_lexer": "ipython3",
   "version": "3.8.5-final"
  },
  "orig_nbformat": 2,
  "kernelspec": {
   "name": "python3",
   "display_name": "Python 3.8.5 64-bit (conda)",
   "metadata": {
    "interpreter": {
     "hash": "3fa48bb2c24bfd2c860ebc2f76fcf240faeca9c313f5297b1080b141badca120"
    }
   }
  }
 },
 "nbformat": 4,
 "nbformat_minor": 2,
 "cells": [
  {
   "source": [
    "#### 存在重复元素\n",
    "给定一个整数数组，判断是否存在重复元素。"
   ],
   "cell_type": "markdown",
   "metadata": {}
  },
  {
   "cell_type": "code",
   "execution_count": 1,
   "metadata": {},
   "outputs": [],
   "source": [
    "def contains_duplicate(nums):\n",
    "    return len(set(nums)) != len(nums)"
   ]
  },
  {
   "cell_type": "code",
   "execution_count": 2,
   "metadata": {},
   "outputs": [
    {
     "output_type": "execute_result",
     "data": {
      "text/plain": [
       "True"
      ]
     },
     "metadata": {},
     "execution_count": 2
    }
   ],
   "source": [
    "contains_duplicate([1,1,2,3])"
   ]
  },
  {
   "source": [
    "#### 字符串中的第一个唯一字符\n",
    "给定一个字符串，找到它的第一个不重复的字符，并返回它的索引。如果不存在，则返回 -1。"
   ],
   "cell_type": "markdown",
   "metadata": {}
  },
  {
   "cell_type": "code",
   "execution_count": 3,
   "metadata": {},
   "outputs": [],
   "source": [
    "import collections\n",
    "def first_unique(s):\n",
    "    frequency = collections.Counter(s)\n",
    "    for i, ch in enumerate(s):\n",
    "        if frequency[ch] == 1:\n",
    "            return i\n",
    "    return -1"
   ]
  },
  {
   "cell_type": "code",
   "execution_count": 4,
   "metadata": {},
   "outputs": [
    {
     "output_type": "execute_result",
     "data": {
      "text/plain": [
       "0"
      ]
     },
     "metadata": {},
     "execution_count": 4
    }
   ],
   "source": [
    "first_unique('leetcode')"
   ]
  },
  {
   "source": [
    "#### 寻找重复的子树\n",
    "给定一棵二叉树，返回所有重复的子树。对于同一类的重复子树，你只需要返回其中任意一棵的根结点即可。\n",
    "\n",
    "两棵树重复是指它们具有相同的结构以及相同的结点值。"
   ],
   "cell_type": "markdown",
   "metadata": {}
  },
  {
   "cell_type": "code",
   "execution_count": 5,
   "metadata": {},
   "outputs": [],
   "source": [
    "class TreeNode:\n",
    "    def __init__(self, val=0, left=None, right=None):\n",
    "        self.val = val\n",
    "        self.left = left\n",
    "        self.right = right"
   ]
  },
  {
   "cell_type": "code",
   "execution_count": 6,
   "metadata": {},
   "outputs": [],
   "source": [
    "def find_suplicate_subtrees(root: TreeNode):\n",
    "    trees = collections.defaultdict()\n",
    "    trees.default_factory = trees.__len__\n",
    "    count = collections.Counter()\n",
    "    res = []\n",
    "    def look(node):\n",
    "        if node:\n",
    "            uid = trees[node.val, look(node.left), look(node.right)]\n",
    "            count[uid] += 1\n",
    "            if count[uid] == 2:\n",
    "                res.append(node)\n",
    "            return uid\n",
    "\n",
    "    look(root)\n",
    "    return res"
   ]
  },
  {
   "source": [
    "#### 有效数独\n",
    "判断一个 9x9 的数独是否有效。只需要根据以下规则，验证已经填入的数字是否有效即可。\n",
    "* 数字 1-9 在每一行只能出现一次。\n",
    "* 数字 1-9 在每一列只能出现一次。\n",
    "* 数字 1-9 在每一个以粗实线分隔的 3x3 宫内只能出现一次。"
   ],
   "cell_type": "markdown",
   "metadata": {}
  },
  {
   "cell_type": "code",
   "execution_count": 7,
   "metadata": {},
   "outputs": [],
   "source": [
    "def is_valid_sudoku(board):\n",
    "    rows = [{} for _ in range(9)]\n",
    "    columns = [{} for _ in range(9)]\n",
    "    boxes = [{} for _ in range(9)]\n",
    "\n",
    "    for i in range(9):\n",
    "        for j in range(9):\n",
    "            num = board[i][j]\n",
    "            if num != '.':\n",
    "                num = int(num)\n",
    "                box_idx = (i // 3) * 3 + j // 3\n",
    "                rows[i][num] = rows[i].get(num, 0) + 1\n",
    "                columns[i][num] = columns[i].get(num, 0) + 1\n",
    "                boxes[box_idx][num] = boxes[box_idx].get(num, 0) + 1\n",
    "                if rows[i][num] > 1 or columns[i][num] > 1 or boxes[box_idx][num] > 1:\n",
    "                    return False\n",
    "    return True"
   ]
  },
  {
   "source": [
    "#### 宝石与石头\n",
    "\n",
    "给定字符串J 代表石头中宝石的类型，和字符串 S代表你拥有的石头。 S 中每个字符代表了一种你拥有的石头的类型，你想知道你拥有的石头中有多少是宝石。\n",
    "\n",
    "J 中的字母不重复，J 和 S中的所有字符都是字母。字母区分大小写，因此\"a\"和\"A\"是不同类型的石头。\n"
   ],
   "cell_type": "markdown",
   "metadata": {}
  },
  {
   "cell_type": "code",
   "execution_count": 8,
   "metadata": {},
   "outputs": [],
   "source": [
    "def num_jewels_in_stones(jewels, stones):\n",
    "    J = set(jewels)\n",
    "    res = 0\n",
    "    for i in stones:\n",
    "        if i in J:\n",
    "            res += 1\n",
    "    return res"
   ]
  },
  {
   "cell_type": "code",
   "execution_count": 9,
   "metadata": {},
   "outputs": [
    {
     "output_type": "execute_result",
     "data": {
      "text/plain": [
       "3"
      ]
     },
     "metadata": {},
     "execution_count": 9
    }
   ],
   "source": [
    "num_jewels_in_stones('aA', 'aAAbbbb')"
   ]
  },
  {
   "source": [
    "#### 无重复字符的最长子串\n",
    "给定一个字符串，请你找出其中不含有重复字符的 最长子串 的长度。"
   ],
   "cell_type": "markdown",
   "metadata": {}
  },
  {
   "cell_type": "code",
   "execution_count": null,
   "metadata": {},
   "outputs": [],
   "source": [
    "def length_of_longest_substring(s):\n",
    "    res = 0\n",
    "    k = -1\n",
    "    dic = {}\n",
    "    for i, c in enumerate(s):\n",
    "        if c in dic and dic[c] > k: # 字符c在字典中 且 上次出现的下标大于当前长度的起始下标\n",
    "            k = dic[c]\n",
    "            dic[c] = i\n",
    "        else:\n",
    "            dic[c] = i\n",
    "            res = max(res, i - k)\n",
    "    return res"
   ]
  }
 ]
}