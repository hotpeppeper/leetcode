{
 "metadata": {
  "language_info": {
   "codemirror_mode": {
    "name": "ipython",
    "version": 3
   },
   "file_extension": ".py",
   "mimetype": "text/x-python",
   "name": "python",
   "nbconvert_exporter": "python",
   "pygments_lexer": "ipython3",
   "version": "3.8.5-final"
  },
  "orig_nbformat": 2,
  "kernelspec": {
   "name": "python3",
   "display_name": "Python 3.8.5 64-bit (conda)",
   "metadata": {
    "interpreter": {
     "hash": "3fa48bb2c24bfd2c860ebc2f76fcf240faeca9c313f5297b1080b141badca120"
    }
   }
  }
 },
 "nbformat": 4,
 "nbformat_minor": 2,
 "cells": [
  {
   "source": [
    "#### 存在重复元素\n",
    "给定一个整数数组，判断是否存在重复元素。"
   ],
   "cell_type": "markdown",
   "metadata": {}
  },
  {
   "cell_type": "code",
   "execution_count": 1,
   "metadata": {},
   "outputs": [],
   "source": [
    "def contains_duplicate(nums):\n",
    "    return len(set(nums)) != len(nums)"
   ]
  },
  {
   "cell_type": "code",
   "execution_count": 2,
   "metadata": {},
   "outputs": [
    {
     "output_type": "execute_result",
     "data": {
      "text/plain": [
       "True"
      ]
     },
     "metadata": {},
     "execution_count": 2
    }
   ],
   "source": [
    "contains_duplicate([1,1,2,3])"
   ]
  },
  {
   "source": [
    "#### 字符串中的第一个唯一字符\n",
    "给定一个字符串，找到它的第一个不重复的字符，并返回它的索引。如果不存在，则返回 -1。"
   ],
   "cell_type": "markdown",
   "metadata": {}
  },
  {
   "cell_type": "code",
   "execution_count": 3,
   "metadata": {},
   "outputs": [],
   "source": [
    "import collections\n",
    "def first_unique(s):\n",
    "    frequency = collections.Counter(s)\n",
    "    for i, ch in enumerate(s):\n",
    "        if frequency[ch] == 1:\n",
    "            return i\n",
    "    return -1"
   ]
  },
  {
   "cell_type": "code",
   "execution_count": 4,
   "metadata": {},
   "outputs": [
    {
     "output_type": "execute_result",
     "data": {
      "text/plain": [
       "0"
      ]
     },
     "metadata": {},
     "execution_count": 4
    }
   ],
   "source": [
    "first_unique('leetcode')"
   ]
  },
  {
   "source": [
    "#### 寻找重复的子树\n",
    "给定一棵二叉树，返回所有重复的子树。对于同一类的重复子树，你只需要返回其中任意一棵的根结点即可。\n",
    "\n",
    "两棵树重复是指它们具有相同的结构以及相同的结点值。"
   ],
   "cell_type": "markdown",
   "metadata": {}
  },
  {
   "cell_type": "code",
   "execution_count": 5,
   "metadata": {},
   "outputs": [],
   "source": [
    "class TreeNode:\n",
    "    def __init__(self, val=0, left=None, right=None):\n",
    "        self.val = val\n",
    "        self.left = left\n",
    "        self.right = right"
   ]
  },
  {
   "cell_type": "code",
   "execution_count": 6,
   "metadata": {},
   "outputs": [],
   "source": [
    "def find_suplicate_subtrees(root: TreeNode):\n",
    "    trees = collections.defaultdict()\n",
    "    trees.default_factory = trees.__len__\n",
    "    count = collections.Counter()\n",
    "    res = []\n",
    "    def look(node):\n",
    "        if node:\n",
    "            uid = trees[node.val, look(node.left), look(node.right)]\n",
    "            count[uid] += 1\n",
    "            if count[uid] == 2:\n",
    "                res.append(node)\n",
    "            return uid\n",
    "\n",
    "    look(root)\n",
    "    return res"
   ]
  },
  {
   "cell_type": "code",
   "execution_count": null,
   "metadata": {},
   "outputs": [],
   "source": []
  }
 ]
}