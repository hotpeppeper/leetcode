{
 "metadata": {
  "language_info": {
   "codemirror_mode": {
    "name": "ipython",
    "version": 3
   },
   "file_extension": ".py",
   "mimetype": "text/x-python",
   "name": "python",
   "nbconvert_exporter": "python",
   "pygments_lexer": "ipython3",
   "version": "3.8.5"
  },
  "orig_nbformat": 2,
  "kernelspec": {
   "name": "python3",
   "display_name": "Python 3.8.5 64-bit ('base': conda)",
   "metadata": {
    "interpreter": {
     "hash": "3fa48bb2c24bfd2c860ebc2f76fcf240faeca9c313f5297b1080b141badca120"
    }
   }
  }
 },
 "nbformat": 4,
 "nbformat_minor": 2,
 "cells": [
  {
   "source": [
    "#### 最小路径和\n",
    "\n",
    "给定一个包含非负整数的 m x n 网格 grid ，请找出一条从左上角到右下角的路径，使得路径上的数字总和为最小。"
   ],
   "cell_type": "markdown",
   "metadata": {}
  },
  {
   "cell_type": "code",
   "execution_count": 1,
   "metadata": {},
   "outputs": [],
   "source": [
    "def min_path_sum(grid):\n",
    "    if not grid:\n",
    "        return 0\n",
    "\n",
    "    \n",
    "    column = len(grid[0])\n",
    "    row = len(grid)\n",
    "    # 计算第一行的值\n",
    "    for i in range(1, column):\n",
    "        grid[0][i] += grid[0][i-1]\n",
    "    # 计算第一列的值\n",
    "    for i in range(1, row):\n",
    "        grid[i][0] += grid[i-1][0]\n",
    "    \n",
    "    for r in range(1, row):\n",
    "        for col in range(column):\n",
    "            # 当前格子的最小值=上面一个格子和左面格子的最小值+本格的值\n",
    "            grid[r][col] = min(grid[r-1][col], grid[r][col-1]) + grid[r][col]\n",
    "    return grid[-1][-1]"
   ]
  },
  {
   "cell_type": "code",
   "execution_count": 2,
   "metadata": {},
   "outputs": [
    {
     "output_type": "execute_result",
     "data": {
      "text/plain": [
       "7"
      ]
     },
     "metadata": {},
     "execution_count": 2
    }
   ],
   "source": [
    "min_path_sum([[1,3,1],[1,5,1],[4,2,1]])"
   ]
  },
  {
   "cell_type": "code",
   "execution_count": 3,
   "metadata": {},
   "outputs": [
    {
     "output_type": "execute_result",
     "data": {
      "text/plain": [
       "12"
      ]
     },
     "metadata": {},
     "execution_count": 3
    }
   ],
   "source": [
    "min_path_sum([[1,2,3],[4,5,6]])"
   ]
  },
  {
   "source": [
    "####  买卖股票的最佳时机\n",
    "给定一个数组 prices ，它的第 i 个元素 prices\\[i\\] 表示一支给定股票第 i 天的价格。\n",
    "\n",
    "你只能选择 某一天 买入这只股票，并选择在 未来的某一个不同的日子 卖出该股票。设计一个算法来计算你所能获取的最大利润。\n",
    "\n",
    "返回你可以从这笔交易中获取的最大利润。如果你不能获取任何利润，返回 0 。"
   ],
   "cell_type": "markdown",
   "metadata": {}
  },
  {
   "cell_type": "code",
   "execution_count": 10,
   "metadata": {},
   "outputs": [],
   "source": [
    "def max_profit(prices):\n",
    "    res = 0\n",
    "    min_ = float('inf')\n",
    "    for i in prices:\n",
    "        min_ = min(min_, i)\n",
    "        res = max(res, i-min_)\n",
    "    return res"
   ]
  },
  {
   "cell_type": "code",
   "execution_count": 11,
   "metadata": {},
   "outputs": [
    {
     "output_type": "execute_result",
     "data": {
      "text/plain": [
       "5"
      ]
     },
     "metadata": {},
     "execution_count": 11
    }
   ],
   "source": [
    "max_profit([7,1,5,3,6,4])"
   ]
  },
  {
   "source": [
    "#### 打家劫舍\n",
    "你是一个专业的小偷，计划偷窃沿街的房屋。每间房内都藏有一定的现金，影响你偷窃的唯一制约因素就是相邻的房屋装有相互连通的防盗系统，如果两间相邻的房屋在同一晚上被小偷闯入，系统会自动报警。\n",
    "\n",
    "给定一个代表每个房屋存放金额的非负整数数组，计算你 不触动警报装置的情况下 ，一夜之内能够偷窃到的最高金额。"
   ],
   "cell_type": "markdown",
   "metadata": {}
  },
  {
   "cell_type": "code",
   "execution_count": 15,
   "metadata": {},
   "outputs": [],
   "source": [
    "def rob(nums):\n",
    "    if not nums:\n",
    "        return 0\n",
    "    res = [0] * len(nums)\n",
    "    res[0] = nums[0]\n",
    "    res[1] = max(nums[0], nums[1])\n",
    "    for i in range(2, len(nums)):\n",
    "        res[i] = max(res[i-2] + nums[i], res[i-1])\n",
    "    return res[-1]"
   ]
  },
  {
   "cell_type": "code",
   "execution_count": 16,
   "metadata": {},
   "outputs": [
    {
     "output_type": "execute_result",
     "data": {
      "text/plain": [
       "12"
      ]
     },
     "metadata": {},
     "execution_count": 16
    }
   ],
   "source": [
    "rob([2,7,9,3,1])"
   ]
  },
  {
   "source": [
    "#### 打家劫舍 II\n",
    "你是一个专业的小偷，计划偷窃沿街的房屋，每间房内都藏有一定的现金。这个地方所有的房屋都 围成一圈 ，这意味着第一个房屋和最后一个房屋是紧挨着的。同时，相邻的房屋装有相互连通的防盗系统，如果两间相邻的房屋在同一晚上被小偷闯入，系统会自动报警 。\n",
    "\n",
    "给定一个代表每个房屋存放金额的非负整数数组，计算你 在不触动警报装置的情况下 ，能够偷窃到的最高金额。"
   ],
   "cell_type": "markdown",
   "metadata": {}
  },
  {
   "cell_type": "code",
   "execution_count": 17,
   "metadata": {},
   "outputs": [],
   "source": [
    "def rob2(nums):\n",
    "    return max(rob(nums[:-1]), rob(nums[1:]))\n",
    "    "
   ]
  },
  {
   "cell_type": "code",
   "execution_count": 18,
   "metadata": {},
   "outputs": [
    {
     "output_type": "execute_result",
     "data": {
      "text/plain": [
       "4"
      ]
     },
     "metadata": {},
     "execution_count": 18
    }
   ],
   "source": [
    "rob2([1,2,3,1])"
   ]
  },
  {
   "cell_type": "code",
   "execution_count": null,
   "metadata": {},
   "outputs": [],
   "source": []
  }
 ]
}