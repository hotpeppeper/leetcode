{
 "metadata": {
  "language_info": {
   "codemirror_mode": {
    "name": "ipython",
    "version": 3
   },
   "file_extension": ".py",
   "mimetype": "text/x-python",
   "name": "python",
   "nbconvert_exporter": "python",
   "pygments_lexer": "ipython3",
   "version": "3.8.5"
  },
  "orig_nbformat": 2,
  "kernelspec": {
   "name": "python3",
   "display_name": "Python 3.8.5 64-bit ('base': conda)"
  },
  "interpreter": {
   "hash": "3fa48bb2c24bfd2c860ebc2f76fcf240faeca9c313f5297b1080b141badca120"
  }
 },
 "nbformat": 4,
 "nbformat_minor": 2,
 "cells": [
  {
   "cell_type": "markdown",
   "source": [
    "#### 最小路径和\n",
    "\n",
    "给定一个包含非负整数的 m x n 网格 grid ，请找出一条从左上角到右下角的路径，使得路径上的数字总和为最小。"
   ],
   "metadata": {}
  },
  {
   "cell_type": "code",
   "execution_count": 1,
   "source": [
    "def min_path_sum(grid):\r\n",
    "    if not grid:\r\n",
    "        return 0\r\n",
    "\r\n",
    "    \r\n",
    "    column = len(grid[0])\r\n",
    "    row = len(grid)\r\n",
    "    # 计算第一行的值\r\n",
    "    for i in range(1, column):\r\n",
    "        grid[0][i] += grid[0][i-1]\r\n",
    "    # 计算第一列的值\r\n",
    "    for i in range(1, row):\r\n",
    "        grid[i][0] += grid[i-1][0]\r\n",
    "    \r\n",
    "    for r in range(1, row):\r\n",
    "        for col in range(column):\r\n",
    "            # 当前格子的最小值=上面一个格子和左面格子的最小值+本格的值\r\n",
    "            grid[r][col] = min(grid[r-1][col], grid[r][col-1]) + grid[r][col]\r\n",
    "    return grid[-1][-1]"
   ],
   "outputs": [],
   "metadata": {}
  },
  {
   "cell_type": "code",
   "execution_count": 2,
   "source": [
    "min_path_sum([[1,3,1],[1,5,1],[4,2,1]])"
   ],
   "outputs": [
    {
     "output_type": "execute_result",
     "data": {
      "text/plain": [
       "7"
      ]
     },
     "metadata": {},
     "execution_count": 2
    }
   ],
   "metadata": {}
  },
  {
   "cell_type": "code",
   "execution_count": 3,
   "source": [
    "min_path_sum([[1,2,3],[4,5,6]])"
   ],
   "outputs": [
    {
     "output_type": "execute_result",
     "data": {
      "text/plain": [
       "12"
      ]
     },
     "metadata": {},
     "execution_count": 3
    }
   ],
   "metadata": {}
  },
  {
   "cell_type": "markdown",
   "source": [
    "####  买卖股票的最佳时机\n",
    "给定一个数组 prices ，它的第 i 个元素 prices\\[i\\] 表示一支给定股票第 i 天的价格。\n",
    "\n",
    "你只能选择 某一天 买入这只股票，并选择在 未来的某一个不同的日子 卖出该股票。设计一个算法来计算你所能获取的最大利润。\n",
    "\n",
    "返回你可以从这笔交易中获取的最大利润。如果你不能获取任何利润，返回 0 。"
   ],
   "metadata": {}
  },
  {
   "cell_type": "code",
   "execution_count": 10,
   "source": [
    "def max_profit(prices):\r\n",
    "    res = 0\r\n",
    "    min_ = float('inf')\r\n",
    "    for i in prices:\r\n",
    "        min_ = min(min_, i)\r\n",
    "        res = max(res, i-min_)\r\n",
    "    return res"
   ],
   "outputs": [],
   "metadata": {}
  },
  {
   "cell_type": "code",
   "execution_count": 11,
   "source": [
    "max_profit([7,1,5,3,6,4])"
   ],
   "outputs": [
    {
     "output_type": "execute_result",
     "data": {
      "text/plain": [
       "5"
      ]
     },
     "metadata": {},
     "execution_count": 11
    }
   ],
   "metadata": {}
  },
  {
   "cell_type": "markdown",
   "source": [
    "#### 打家劫舍\n",
    "你是一个专业的小偷，计划偷窃沿街的房屋。每间房内都藏有一定的现金，影响你偷窃的唯一制约因素就是相邻的房屋装有相互连通的防盗系统，如果两间相邻的房屋在同一晚上被小偷闯入，系统会自动报警。\n",
    "\n",
    "给定一个代表每个房屋存放金额的非负整数数组，计算你 不触动警报装置的情况下 ，一夜之内能够偷窃到的最高金额。"
   ],
   "metadata": {}
  },
  {
   "cell_type": "code",
   "execution_count": 15,
   "source": [
    "def rob(nums):\r\n",
    "    if not nums:\r\n",
    "        return 0\r\n",
    "    res = [0] * len(nums)\r\n",
    "    res[0] = nums[0]\r\n",
    "    res[1] = max(nums[0], nums[1])\r\n",
    "    for i in range(2, len(nums)):\r\n",
    "        res[i] = max(res[i-2] + nums[i], res[i-1])\r\n",
    "    return res[-1]"
   ],
   "outputs": [],
   "metadata": {}
  },
  {
   "cell_type": "code",
   "execution_count": 16,
   "source": [
    "rob([2,7,9,3,1])"
   ],
   "outputs": [
    {
     "output_type": "execute_result",
     "data": {
      "text/plain": [
       "12"
      ]
     },
     "metadata": {},
     "execution_count": 16
    }
   ],
   "metadata": {}
  },
  {
   "cell_type": "markdown",
   "source": [
    "#### 打家劫舍 II\n",
    "你是一个专业的小偷，计划偷窃沿街的房屋，每间房内都藏有一定的现金。这个地方所有的房屋都 围成一圈 ，这意味着第一个房屋和最后一个房屋是紧挨着的。同时，相邻的房屋装有相互连通的防盗系统，如果两间相邻的房屋在同一晚上被小偷闯入，系统会自动报警 。\n",
    "\n",
    "给定一个代表每个房屋存放金额的非负整数数组，计算你 在不触动警报装置的情况下 ，能够偷窃到的最高金额。"
   ],
   "metadata": {}
  },
  {
   "cell_type": "code",
   "execution_count": 17,
   "source": [
    "def rob2(nums):\r\n",
    "    return max(rob(nums[:-1]), rob(nums[1:]))\r\n",
    "    "
   ],
   "outputs": [],
   "metadata": {}
  },
  {
   "cell_type": "code",
   "execution_count": 18,
   "source": [
    "rob2([1,2,3,1])"
   ],
   "outputs": [
    {
     "output_type": "execute_result",
     "data": {
      "text/plain": [
       "4"
      ]
     },
     "metadata": {},
     "execution_count": 18
    }
   ],
   "metadata": {}
  },
  {
   "cell_type": "markdown",
   "source": [
    "#### 零钱兑换\n",
    "\n",
    "给定不同面额的硬币 coins 和一个总金额\n",
    "amount。编写一个函数来计算可以凑成总金额所需的最少的硬币个数。如果没有任何一种硬币组合能组成总金额，返回 -1。\n",
    "\n",
    "你可以认为每种硬币的数量是无限的。"
   ],
   "metadata": {}
  },
  {
   "cell_type": "code",
   "execution_count": 1,
   "source": [
    "def coin_change(coins, amount):\r\n",
    "    dp = [float('inf')] * (amount + 1)\r\n",
    "    dp[0] = 0\r\n",
    "    for coin in coins:\r\n",
    "        for i in range(coin, amount+1):\r\n",
    "            dp[i] = min(dp[i], dp[x-coin]+1)\r\n",
    "\r\n",
    "    return dp[amount] if dp[amount] != float('inf') else -1"
   ],
   "outputs": [],
   "metadata": {}
  },
  {
   "cell_type": "markdown",
   "source": [
    "### 斐波那契数\r\n",
    "斐波那契数，通常用F(n)表示，形成的序列成为斐波那契数列，概述由0和1开始，后面的每一项数字都是前面两项数字的和"
   ],
   "metadata": {}
  },
  {
   "cell_type": "code",
   "execution_count": 9,
   "source": [
    "def fibo(n):\r\n",
    "    if n <= 1:\r\n",
    "        return n\r\n",
    "    dp = [0] * (n + 1)\r\n",
    "    dp[0] = 0\r\n",
    "    dp[1] = 1\r\n",
    "    for i in range(2, n + 1):\r\n",
    "        dp[i] = dp[i - 1] + dp[i - 2]\r\n",
    "    print(dp)\r\n",
    "    return dp[-1]"
   ],
   "outputs": [],
   "metadata": {}
  },
  {
   "cell_type": "code",
   "execution_count": 10,
   "source": [
    "fibo(5)"
   ],
   "outputs": [
    {
     "output_type": "stream",
     "name": "stdout",
     "text": [
      "[0, 1, 1, 2, 3, 5]\n"
     ]
    },
    {
     "output_type": "execute_result",
     "data": {
      "text/plain": [
       "5"
      ]
     },
     "metadata": {},
     "execution_count": 10
    }
   ],
   "metadata": {}
  },
  {
   "cell_type": "code",
   "execution_count": 11,
   "source": [
    "def fibo(n):\r\n",
    "    if n <= 1:\r\n",
    "        return n\r\n",
    "    pre = 0\r\n",
    "    cur = 1\r\n",
    "    for i in range(2, n + 1):\r\n",
    "        sum_ = pre + cur\r\n",
    "        pre = cur\r\n",
    "        cur = sum_\r\n",
    "    return cur"
   ],
   "outputs": [],
   "metadata": {}
  },
  {
   "cell_type": "code",
   "execution_count": 13,
   "source": [
    "fibo(10)"
   ],
   "outputs": [
    {
     "output_type": "execute_result",
     "data": {
      "text/plain": [
       "55"
      ]
     },
     "metadata": {},
     "execution_count": 13
    }
   ],
   "metadata": {}
  },
  {
   "cell_type": "markdown",
   "source": [
    "### 爬楼梯\r\n",
    "假设你正在爬楼梯，需要n阶你才能到达楼顶，每次你可以爬1或者2个台阶。你有多少种不同的方法可以爬到楼顶呢"
   ],
   "metadata": {}
  },
  {
   "cell_type": "code",
   "execution_count": 24,
   "source": [
    "def climb_stairs(n: int):\r\n",
    "    if n <= 1:\r\n",
    "        return n\r\n",
    "    dp = [0] * (n)\r\n",
    "    # 把0当成第1阶\r\n",
    "    dp[0] = 1\r\n",
    "    dp[1] = 2\r\n",
    "    for i in range(2, n):\r\n",
    "        dp[i] = dp[i - 1] + dp[i - 2]\r\n",
    "    print(dp)\r\n",
    "    return dp[-1]"
   ],
   "outputs": [],
   "metadata": {}
  },
  {
   "cell_type": "code",
   "execution_count": 25,
   "source": [
    "climb_stairs(5)"
   ],
   "outputs": [
    {
     "output_type": "stream",
     "name": "stdout",
     "text": [
      "[1, 2, 3, 5, 8]\n"
     ]
    },
    {
     "output_type": "execute_result",
     "data": {
      "text/plain": [
       "8"
      ]
     },
     "metadata": {},
     "execution_count": 25
    }
   ],
   "metadata": {}
  },
  {
   "cell_type": "markdown",
   "source": [
    "### 使用最小花费排楼梯\r\n",
    "数组的每个下标作为一个阶梯，第i个阶梯对应着一个非负数的体力花费值cost\\[i\\]（下标从0开始）。每当你爬上一个阶梯你都要花费对应的体力值，一旦支付了相应的体力值，你就可以选择向上爬一个阶梯或者两个阶梯。请你找出到达楼顶的最低花费，在开始时，你可以选择从下标0或者1的元素作为初始阶梯"
   ],
   "metadata": {}
  },
  {
   "cell_type": "code",
   "execution_count": 32,
   "source": [
    "def min_cost_climbing_stairs(cost: list):\r\n",
    "    dp = [0] * len(cost)\r\n",
    "    dp[0] = cost[0]\r\n",
    "    dp[1] = cost[1]\r\n",
    "    for i in range(2, len(cost)):\r\n",
    "        # 前面两个阶梯花费的最小值，加上本阶梯的花费\r\n",
    "        dp[i] = min(dp[i-1], dp[i-2]) + cost[i]\r\n",
    "    print(dp)\r\n",
    "    return min(dp[-1], dp[-2])"
   ],
   "outputs": [],
   "metadata": {}
  },
  {
   "cell_type": "code",
   "execution_count": 33,
   "source": [
    "min_cost_climbing_stairs([1,100,1,1,1,100,1,1,100,1])"
   ],
   "outputs": [
    {
     "output_type": "stream",
     "name": "stdout",
     "text": [
      "[1, 100, 2, 3, 3, 103, 4, 5, 104, 6]\n"
     ]
    },
    {
     "output_type": "execute_result",
     "data": {
      "text/plain": [
       "6"
      ]
     },
     "metadata": {},
     "execution_count": 33
    }
   ],
   "metadata": {}
  },
  {
   "cell_type": "markdown",
   "source": [
    "### 不同路径\r\n",
    "一个机器人位于一个m x n的网格左上角，机器人每次只能向下或者向右移动一步，机器人试图到达网格的右下角，总共用多少条不同的路径"
   ],
   "metadata": {}
  },
  {
   "cell_type": "code",
   "execution_count": 34,
   "source": [
    "def unique_path(m, n):\r\n",
    "    dp = [[0] * n] * m\r\n",
    "    # 初始化第一行和第一列，每个格只有一条路径\r\n",
    "    for i in range(n):\r\n",
    "        dp[0][i] = 1\r\n",
    "    for i in range(m):\r\n",
    "        dp[i][0] = 1\r\n",
    "\r\n",
    "    for i in range(1, m):\r\n",
    "        for j in range(1, n):\r\n",
    "            dp[i][j] = dp[i-1][j] + dp[i][j-1]\r\n",
    "    return dp[-1][-1]"
   ],
   "outputs": [],
   "metadata": {}
  },
  {
   "cell_type": "code",
   "execution_count": 36,
   "source": [
    "print(unique_path(2,3))\r\n",
    "print(unique_path(7,3))"
   ],
   "outputs": [
    {
     "output_type": "stream",
     "name": "stdout",
     "text": [
      "3\n",
      "28\n"
     ]
    }
   ],
   "metadata": {}
  },
  {
   "cell_type": "markdown",
   "source": [
    "### 不同路径II\r\n",
    "一个机器人位于一个m x n网格的左上角，机器人每次只能向下或者向右移动一步，机器人试图到达网格的右下角，现在考虑网格中有障碍物。那么从左上角到右下角将会有多少种不同的路径，网格中的障碍物和空位置分别用0和1来表示"
   ],
   "metadata": {}
  },
  {
   "cell_type": "code",
   "execution_count": 39,
   "source": [
    "def unique_path2(grid: list):\r\n",
    "    m = len(grid)\r\n",
    "    n = len(grid[0])\r\n",
    "    dp = [[0] * n for _ in range(m)]\r\n",
    "    for i in range(n):\r\n",
    "        if grid[0][i] == 1:\r\n",
    "            break\r\n",
    "        dp[0][i] = 1\r\n",
    "    for i in range(m):\r\n",
    "        if grid[i][0] == 1:\r\n",
    "            break\r\n",
    "        dp[i][0] = 1\r\n",
    "    for i in range(1, m):\r\n",
    "        for j in range(1, n):\r\n",
    "            if grid[i][j] == 1:\r\n",
    "                continue\r\n",
    "            dp[i][j] = dp[i-1][j] + dp[i][j-1]\r\n",
    "    return dp[-1][-1]"
   ],
   "outputs": [],
   "metadata": {}
  },
  {
   "cell_type": "code",
   "execution_count": 40,
   "source": [
    "unique_path2([[0,0,0],[0,1,0],[0,0,0]])"
   ],
   "outputs": [
    {
     "output_type": "execute_result",
     "data": {
      "text/plain": [
       "2"
      ]
     },
     "metadata": {},
     "execution_count": 40
    }
   ],
   "metadata": {}
  },
  {
   "cell_type": "markdown",
   "source": [
    "### 整数拆分\r\n",
    "给定一个正整数n，将其拆分为至少两个正整数的和，并使这些整数的乘积最大化，返回你可以获得的最大乘积"
   ],
   "metadata": {}
  },
  {
   "cell_type": "code",
   "execution_count": 43,
   "source": [
    "def integer_break(n: int):\r\n",
    "    dp = [0] * (n + 1)\r\n",
    "    dp[2] = 1\r\n",
    "    # dp[i]表示拆分数字i，得到的最大乘积\r\n",
    "    for i in range(3, n+1):\r\n",
    "        for j in range(1, i):\r\n",
    "            dp[i] = max(dp[i], max((i-j)*j, dp[i-j]*j))\r\n",
    "    print(dp)\r\n",
    "    return dp[-1]"
   ],
   "outputs": [],
   "metadata": {}
  },
  {
   "cell_type": "code",
   "execution_count": 44,
   "source": [
    "integer_break(10)"
   ],
   "outputs": [
    {
     "output_type": "stream",
     "name": "stdout",
     "text": [
      "[0, 0, 1, 2, 4, 6, 9, 12, 18, 27, 36]\n"
     ]
    },
    {
     "output_type": "execute_result",
     "data": {
      "text/plain": [
       "36"
      ]
     },
     "metadata": {},
     "execution_count": 44
    }
   ],
   "metadata": {}
  },
  {
   "cell_type": "code",
   "execution_count": null,
   "source": [],
   "outputs": [],
   "metadata": {}
  }
 ]
}