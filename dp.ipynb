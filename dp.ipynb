{
 "cells": [
  {
   "cell_type": "markdown",
   "metadata": {},
   "source": [
    "#### 最小路径和\n",
    "\n",
    "给定一个包含非负整数的 m x n 网格 grid ，请找出一条从左上角到右下角的路径，使得路径上的数字总和为最小。"
   ]
  },
  {
   "cell_type": "code",
   "execution_count": 1,
   "metadata": {},
   "outputs": [],
   "source": [
    "def min_path_sum(grid):\n",
    "    if not grid:\n",
    "        return 0\n",
    "\n",
    "    column = len(grid[0])\n",
    "    row = len(grid)\n",
    "    # 计算第一行的值\n",
    "    for i in range(1, column):\n",
    "        grid[0][i] += grid[0][i-1]\n",
    "    # 计算第一列的值\n",
    "    for i in range(1, row):\n",
    "        grid[i][0] += grid[i-1][0]\n",
    "    \n",
    "    for r in range(1, row):\n",
    "        for col in range(column):\n",
    "            # 当前格子的最小值=上面一个格子和左面格子的最小值+本格的值\n",
    "            grid[r][col] = min(grid[r-1][col], grid[r][col-1]) + grid[r][col]\n",
    "    return grid[-1][-1]"
   ]
  },
  {
   "cell_type": "code",
   "execution_count": 2,
   "metadata": {},
   "outputs": [
    {
     "data": {
      "text/plain": [
       "7"
      ]
     },
     "execution_count": 2,
     "metadata": {},
     "output_type": "execute_result"
    }
   ],
   "source": [
    "min_path_sum([[1,3,1],[1,5,1],[4,2,1]])"
   ]
  },
  {
   "cell_type": "code",
   "execution_count": 3,
   "metadata": {},
   "outputs": [
    {
     "data": {
      "text/plain": [
       "12"
      ]
     },
     "execution_count": 3,
     "metadata": {},
     "output_type": "execute_result"
    }
   ],
   "source": [
    "min_path_sum([[1,2,3],[4,5,6]])"
   ]
  },
  {
   "cell_type": "markdown",
   "metadata": {},
   "source": [
    "####  买卖股票的最佳时机\n",
    "给定一个数组 prices ，它的第 i 个元素 prices\\[i\\] 表示一支给定股票第 i 天的价格。\n",
    "\n",
    "你只能选择 某一天 买入这只股票，并选择在 未来的某一个不同的日子 卖出该股票。设计一个算法来计算你所能获取的最大利润。\n",
    "\n",
    "返回你可以从这笔交易中获取的最大利润。如果你不能获取任何利润，返回 0 。"
   ]
  },
  {
   "cell_type": "code",
   "execution_count": 4,
   "metadata": {},
   "outputs": [],
   "source": [
    "def max_profit(prices):\n",
    "    res = 0\n",
    "    min_ = float('inf')\n",
    "    for i in prices:\n",
    "        min_ = min(min_, i)\n",
    "        res = max(res, i-min_)\n",
    "    return res"
   ]
  },
  {
   "cell_type": "code",
   "execution_count": 5,
   "metadata": {},
   "outputs": [
    {
     "data": {
      "text/plain": [
       "5"
      ]
     },
     "execution_count": 5,
     "metadata": {},
     "output_type": "execute_result"
    }
   ],
   "source": [
    "max_profit([7,1,5,3,6,4])"
   ]
  },
  {
   "cell_type": "code",
   "execution_count": 8,
   "metadata": {},
   "outputs": [],
   "source": [
    "def max_profit(prices: list):\n",
    "    dp = [[0] * 2 for _ in range(len(prices))]\n",
    "    dp[0][0] = -prices[0]\n",
    "    for i in range(1, len(prices)):\n",
    "        dp[i][0] = max(dp[i-1][0], -prices[i])\n",
    "        dp[i][1] = max(dp[i-1][1], dp[i-1][0] + prices[i])\n",
    "    return dp[-1][-1]\n",
    "    "
   ]
  },
  {
   "cell_type": "code",
   "execution_count": 9,
   "metadata": {},
   "outputs": [
    {
     "data": {
      "text/plain": [
       "5"
      ]
     },
     "execution_count": 9,
     "metadata": {},
     "output_type": "execute_result"
    }
   ],
   "source": [
    "max_profit([7,1,5,3,6,4])"
   ]
  },
  {
   "cell_type": "markdown",
   "metadata": {},
   "source": [
    "### 买卖股票的最佳时机II\n",
    "给定一个数组，它的第i个元素是一支股票第i天的价格，设计一个算法来计算你能获取的最大利润。你可以尽可能的完成更多的交易（多次买卖一支股票）"
   ]
  },
  {
   "cell_type": "code",
   "execution_count": 10,
   "metadata": {},
   "outputs": [],
   "source": [
    "def max_profit2(prices: list):\n",
    "    n = len(prices)\n",
    "    dp = [[0]*n for _ in range(n)]\n",
    "    dp[0][0] = -prices[0]\n",
    "    # dp[i][0]表示第i天持有股票所得现金\n",
    "    # dp[i][1]表示第i天不持有股票所得最多现金\n",
    "    for i in range(1, n):\n",
    "        # 不操作为dp[i-1][0]，买入股票为前一天最大的利润减去今天股票的价格dp[i-1][1] - prices[i]\n",
    "        dp[i][0] = max(dp[i-1][0], dp[i-1][1] - prices[i])\n",
    "        # 不卖出为dp[i-1][1]，卖出则为前一天持有股票所得现金加上今天卖出股票价格\n",
    "        dp[i][1] = max(dp[i-1][1], dp[i-1][0] + prices[i])\n",
    "    return dp[-1][1]"
   ]
  },
  {
   "cell_type": "code",
   "execution_count": 11,
   "metadata": {},
   "outputs": [
    {
     "data": {
      "text/plain": [
       "4"
      ]
     },
     "execution_count": 11,
     "metadata": {},
     "output_type": "execute_result"
    }
   ],
   "source": [
    "max_profit2([1,2,3,4,5])"
   ]
  },
  {
   "cell_type": "markdown",
   "metadata": {},
   "source": [
    "### 买卖股票的最佳时机III\n",
    "给定一个数组，它的第i个元素是一支给定的股票在第i天的价格\n",
    "设计一个算法来计算你能获取的最大利润，你最多可以完成两笔交易"
   ]
  },
  {
   "cell_type": "code",
   "execution_count": 18,
   "metadata": {},
   "outputs": [],
   "source": [
    "def max_profit3(prices: list):\n",
    "    if len(prices) == 0:\n",
    "        return 0\n",
    "    n = len(prices)\n",
    "    # 一共5中状态，0：无操作，1：第一次买入，2：第一次卖出，3：第二次买入，4：第2次卖出\n",
    "    dp = [[0] * 5 for _ in range(n)]\n",
    "    dp[0][1] = -prices[0]\n",
    "    dp[0][3] = -prices[0]\n",
    "    for i in range(1, n):\n",
    "        dp[i][0] = dp[i-1][0]\n",
    "        # 未操作dp[i-1][1]，买入dp[i-1][0] - prices[i]\n",
    "        dp[i][1] = max(dp[i-1][1], dp[i-1][0] - prices[i])\n",
    "        # 为操作dp[i-1][2]，卖出dp[i-1][1] + prices[i]\n",
    "        dp[i][2] = max(dp[i-1][2], dp[i-1][1] + prices[i])\n",
    "        dp[i][3] = max(dp[i-1][3], dp[i-1][3] - prices[i])\n",
    "        dp[i][4] = max(dp[i-1][4], dp[i-1][3] + prices[i])\n",
    "    print(dp)\n",
    "    return dp[-1][-1]"
   ]
  },
  {
   "cell_type": "code",
   "execution_count": null,
   "metadata": {},
   "outputs": [],
   "source": [
    "max_profit3([1,2,3,4,5])"
   ]
  },
  {
   "cell_type": "markdown",
   "metadata": {},
   "source": [
    "### 买卖股票的最佳时机IV\n",
    "给定一个整数数组prices，它的第i个元素是给定一支股票在第i天的价格，设计一个算法来计算你能获得的最大利润，你最多可以完成K笔交易"
   ]
  },
  {
   "cell_type": "code",
   "execution_count": 19,
   "metadata": {},
   "outputs": [],
   "source": [
    "def max_profit4(prices: list, k: int):\n",
    "    if len(prices) == 0:\n",
    "        return 0\n",
    "    n = len(prices)\n",
    "    # 解题逻辑和上一到题一样，只不过是把2换成了k, 一共有2k+1个状态\n",
    "    dp = [[0] * (2*k + 1) for _ in range(n)]\n",
    "    for i in range(1, 2*k, 2):\n",
    "        dp[0][i] = -prices[0]\n",
    "    for i in range(1, n):\n",
    "        for j in range(0, 2*k, 2):\n",
    "            dp[i][j+1] = max(dp[i-1][j+1], dp[i-1][j] - prices[i])\n",
    "            dp[i][j+2] = max(dp[i-1][j+2], dp[i-1][j+1] + prices[i])\n",
    "\n",
    "    return dp[-1][-1]\n"
   ]
  },
  {
   "cell_type": "markdown",
   "metadata": {},
   "source": [
    "### 最佳买卖股票时机含冷冻期\n",
    "给定一个整数数组，其中第i个元素代表第i天的股票价格，设计一个算法计算最大利润，在满足一下约束条件下，你可以尽可能多得完成更多的交易\n",
    "* 不能同时参与多笔交易，必须在再次购买前出售掉之前的股票\n",
    "* 卖出股票后，你无法在第二天买入股票（即冷冻期为一天）"
   ]
  },
  {
   "cell_type": "code",
   "execution_count": null,
   "metadata": {},
   "outputs": [],
   "source": [
    "def max_profit5(prices: list):\n",
    "    n = len(prices)\n",
    "    if n == 0:\n",
    "        return 0\n",
    "    dp = [[0] * 4 for _ in range(n)]\n",
    "    dp[0][0] = -prices[0]\n",
    "    # 四种状态，0：今天买入股票，1：两天前卖出股票，今天没有操作。2：今天卖出股票，3:今天为冷冻期\n",
    "    for i in range(1, n):\n",
    "        dp[i][0] = max(dp[i-1][0], dp[i-1][3] - prices[i], dp[i-1][1] - prices[i])\n",
    "        dp[i][1] = max(dp[i-1][1], dp[i-1][3])\n",
    "        dp[i][2] = dp[i-1][0] + prices[i]\n",
    "        dp[i][3] = dp[i-1][2]\n",
    "\n",
    "    return max(dp[-1][3], dp[-1][1], dp[-1][2])"
   ]
  },
  {
   "cell_type": "markdown",
   "metadata": {},
   "source": [
    "### 买卖股票的最佳时机含手续费\n",
    "给定一个整数数组prices，其中第i个元素代表第i天的股票的价格；非负整数fee代表的交易股票的手续费用，你可以无限次的完成交易，但是每笔交易都需要付手续费。如果你已经购买了一个股票，在卖出它之前你就不能再继续购买股票了，返回获得最大利润。"
   ]
  },
  {
   "cell_type": "code",
   "execution_count": 3,
   "metadata": {},
   "outputs": [],
   "source": [
    "def max_profit5(prices: list, fee: int):\n",
    "    n = len(prices)\n",
    "    if n == 0:\n",
    "        return 0\n",
    "    dp = [[0] * 2 for _ in range(n)]\n",
    "    dp[0][0] = -prices[0]\n",
    "    for i in range(1, n):\n",
    "        dp[i][0] = max(dp[i-1][0], dp[i-1][1] - prices[i])\n",
    "        dp[i][1] = max(dp[i-1][1], dp[i-1][0] + prices[i] - fee)\n",
    "    return max(dp[-1])\n"
   ]
  },
  {
   "cell_type": "markdown",
   "metadata": {},
   "source": [
    "#### 打家劫舍\n",
    "你是一个专业的小偷，计划偷窃沿街的房屋。每间房内都藏有一定的现金，影响你偷窃的唯一制约因素就是相邻的房屋装有相互连通的防盗系统，如果两间相邻的房屋在同一晚上被小偷闯入，系统会自动报警。\n",
    "\n",
    "给定一个代表每个房屋存放金额的非负整数数组，计算你 不触动警报装置的情况下 ，一夜之内能够偷窃到的最高金额。"
   ]
  },
  {
   "cell_type": "code",
   "execution_count": 78,
   "metadata": {},
   "outputs": [],
   "source": [
    "def rob(nums):\n",
    "    if not nums:\n",
    "        return 0\n",
    "    res = [0] * len(nums)\n",
    "    res[0] = nums[0]\n",
    "    res[1] = max(nums[0], nums[1])\n",
    "    for i in range(2, len(nums)):\n",
    "        # 如果偷第i个房间，res[i] = res[i-2] + nums[i]，第i-1个房间不偷\n",
    "        # 如果不偷第i个房间，res[i] = dp[i-1]，第i-1个房间得偷\n",
    "        res[i] = max(res[i-2] + nums[i], res[i-1])\n",
    "    return res[-1]"
   ]
  },
  {
   "cell_type": "code",
   "execution_count": 79,
   "metadata": {},
   "outputs": [
    {
     "data": {
      "text/plain": [
       "12"
      ]
     },
     "execution_count": 79,
     "metadata": {},
     "output_type": "execute_result"
    }
   ],
   "source": [
    "rob([2,7,9,3,1])"
   ]
  },
  {
   "cell_type": "markdown",
   "metadata": {},
   "source": [
    "#### 打家劫舍 II\n",
    "你是一个专业的小偷，计划偷窃沿街的房屋，每间房内都藏有一定的现金。这个地方所有的房屋都 围成一圈 ，这意味着第一个房屋和最后一个房屋是紧挨着的。同时，相邻的房屋装有相互连通的防盗系统，如果两间相邻的房屋在同一晚上被小偷闯入，系统会自动报警 。\n",
    "\n",
    "给定一个代表每个房屋存放金额的非负整数数组，计算你 在不触动警报装置的情况下 ，能够偷窃到的最高金额。"
   ]
  },
  {
   "cell_type": "code",
   "execution_count": 17,
   "metadata": {},
   "outputs": [],
   "source": [
    "def rob2(nums):\n",
    "    return max(rob(nums[:-1]), rob(nums[1:]))\n",
    "    "
   ]
  },
  {
   "cell_type": "code",
   "execution_count": 18,
   "metadata": {},
   "outputs": [
    {
     "data": {
      "text/plain": [
       "4"
      ]
     },
     "execution_count": 18,
     "metadata": {},
     "output_type": "execute_result"
    }
   ],
   "source": [
    "rob2([1,2,3,1])"
   ]
  },
  {
   "cell_type": "markdown",
   "metadata": {},
   "source": [
    "### 打家劫舍III\n",
    "在上次打劫完一条街道之后和一圈房屋后，小偷又发现一个新的可行窃的地区。这个地区只有一个入口，我们称之为根。除了跟之外，每栋房子有且只有一个父房子与之相连。一番侦查之后，聪明的小偷意识到这个地方所有的房屋的排列类似于一颗二叉树。如果两个直接相连的房子在同一天晚上被打劫，房屋自动报警。在不触动警报的情况下，小偷一晚能够盗取的最高金额"
   ]
  },
  {
   "cell_type": "code",
   "execution_count": 81,
   "metadata": {},
   "outputs": [],
   "source": [
    "def rob3(root):\n",
    "    def rob_tree(cur):\n",
    "        if cur == None:\n",
    "            return [0, 0]\n",
    "        left = rob_tree(cur.left)\n",
    "        right = rob_tree(cur.right)\n",
    "        # 偷当前节点, 则不能偷左右子节点\n",
    "        val1 = cur.val + left[0] + right[0]\n",
    "        # 不偷当前节点，则偷左右子节点\n",
    "        val2 = max(left) + max(right)\n",
    "        return [val1, val2]\n",
    "\n",
    "    res = rob_tree(root)\n",
    "    return max(res)"
   ]
  },
  {
   "cell_type": "markdown",
   "metadata": {},
   "source": [
    "#### 零钱兑换\n",
    "\n",
    "给定不同面额的硬币 coins 和一个总金额\n",
    "amount。编写一个函数来计算可以凑成总金额所需的最少的硬币个数。如果没有任何一种硬币组合能组成总金额，返回 -1。\n",
    "\n",
    "你可以认为每种硬币的数量是无限的。"
   ]
  },
  {
   "cell_type": "code",
   "execution_count": 1,
   "metadata": {},
   "outputs": [],
   "source": [
    "def coin_change(coins, amount):\n",
    "    dp = [float('inf')] * (amount + 1)\n",
    "    dp[0] = 0\n",
    "    for coin in coins:\n",
    "        for i in range(coin, amount+1):\n",
    "            dp[i] = min(dp[i], dp[i-coin]+1)\n",
    "\n",
    "    return dp[amount] if dp[amount] != float('inf') else -1"
   ]
  },
  {
   "cell_type": "markdown",
   "metadata": {},
   "source": [
    "### 斐波那契数\n",
    "斐波那契数，通常用F(n)表示，形成的序列成为斐波那契数列，概述由0和1开始，后面的每一项数字都是前面两项数字的和"
   ]
  },
  {
   "cell_type": "code",
   "execution_count": 9,
   "metadata": {},
   "outputs": [],
   "source": [
    "def fibo(n):\n",
    "    if n <= 1:\n",
    "        return n\n",
    "    dp = [0] * (n + 1)\n",
    "    dp[0] = 0\n",
    "    dp[1] = 1\n",
    "    for i in range(2, n + 1):\n",
    "        dp[i] = dp[i - 1] + dp[i - 2]\n",
    "    print(dp)\n",
    "    return dp[-1]"
   ]
  },
  {
   "cell_type": "code",
   "execution_count": 10,
   "metadata": {},
   "outputs": [
    {
     "name": "stdout",
     "output_type": "stream",
     "text": [
      "[0, 1, 1, 2, 3, 5]\n"
     ]
    },
    {
     "data": {
      "text/plain": [
       "5"
      ]
     },
     "execution_count": 10,
     "metadata": {},
     "output_type": "execute_result"
    }
   ],
   "source": [
    "fibo(5)"
   ]
  },
  {
   "cell_type": "code",
   "execution_count": 11,
   "metadata": {},
   "outputs": [],
   "source": [
    "def fibo(n):\n",
    "    if n <= 1:\n",
    "        return n\n",
    "    pre = 0\n",
    "    cur = 1\n",
    "    for i in range(2, n + 1):\n",
    "        sum_ = pre + cur\n",
    "        pre = cur\n",
    "        cur = sum_\n",
    "    return cur"
   ]
  },
  {
   "cell_type": "code",
   "execution_count": 13,
   "metadata": {},
   "outputs": [
    {
     "data": {
      "text/plain": [
       "55"
      ]
     },
     "execution_count": 13,
     "metadata": {},
     "output_type": "execute_result"
    }
   ],
   "source": [
    "fibo(10)"
   ]
  },
  {
   "cell_type": "markdown",
   "metadata": {},
   "source": [
    "### 爬楼梯\n",
    "假设你正在爬楼梯，需要n阶你才能到达楼顶，每次你可以爬1或者2个台阶。你有多少种不同的方法可以爬到楼顶呢"
   ]
  },
  {
   "cell_type": "code",
   "execution_count": 24,
   "metadata": {},
   "outputs": [],
   "source": [
    "def climb_stairs(n: int):\n",
    "    if n <= 1:\n",
    "        return n\n",
    "    dp = [0] * (n)\n",
    "    # 把0当成第1阶\n",
    "    dp[0] = 1\n",
    "    dp[1] = 2\n",
    "    for i in range(2, n):\n",
    "        dp[i] = dp[i - 1] + dp[i - 2]\n",
    "    print(dp)\n",
    "    return dp[-1]"
   ]
  },
  {
   "cell_type": "code",
   "execution_count": 25,
   "metadata": {},
   "outputs": [
    {
     "name": "stdout",
     "output_type": "stream",
     "text": [
      "[1, 2, 3, 5, 8]\n"
     ]
    },
    {
     "data": {
      "text/plain": [
       "8"
      ]
     },
     "execution_count": 25,
     "metadata": {},
     "output_type": "execute_result"
    }
   ],
   "source": [
    "climb_stairs(5)"
   ]
  },
  {
   "cell_type": "markdown",
   "metadata": {},
   "source": [
    "### 使用最小花费排楼梯\n",
    "数组的每个下标作为一个阶梯，第i个阶梯对应着一个非负数的体力花费值cost\\[i\\]（下标从0开始）。每当你爬上一个阶梯你都要花费对应的体力值，一旦支付了相应的体力值，你就可以选择向上爬一个阶梯或者两个阶梯。请你找出到达楼顶的最低花费，在开始时，你可以选择从下标0或者1的元素作为初始阶梯"
   ]
  },
  {
   "cell_type": "code",
   "execution_count": 32,
   "metadata": {},
   "outputs": [],
   "source": [
    "def min_cost_climbing_stairs(cost: list):\n",
    "    dp = [0] * len(cost)\n",
    "    dp[0] = cost[0]\n",
    "    dp[1] = cost[1]\n",
    "    for i in range(2, len(cost)):\n",
    "        # 前面两个阶梯花费的最小值，加上本阶梯的花费\n",
    "        dp[i] = min(dp[i-1], dp[i-2]) + cost[i]\n",
    "    print(dp)\n",
    "    return min(dp[-1], dp[-2])"
   ]
  },
  {
   "cell_type": "code",
   "execution_count": 33,
   "metadata": {},
   "outputs": [
    {
     "name": "stdout",
     "output_type": "stream",
     "text": [
      "[1, 100, 2, 3, 3, 103, 4, 5, 104, 6]\n"
     ]
    },
    {
     "data": {
      "text/plain": [
       "6"
      ]
     },
     "execution_count": 33,
     "metadata": {},
     "output_type": "execute_result"
    }
   ],
   "source": [
    "min_cost_climbing_stairs([1,100,1,1,1,100,1,1,100,1])"
   ]
  },
  {
   "cell_type": "markdown",
   "metadata": {},
   "source": [
    "### 不同路径\n",
    "一个机器人位于一个m x n的网格左上角，机器人每次只能向下或者向右移动一步，机器人试图到达网格的右下角，总共用多少条不同的路径"
   ]
  },
  {
   "cell_type": "code",
   "execution_count": 34,
   "metadata": {},
   "outputs": [],
   "source": [
    "def unique_path(m, n):\n",
    "    dp = [[0] * n] * m\n",
    "    # 初始化第一行和第一列，每个格只有一条路径\n",
    "    for i in range(n):\n",
    "        dp[0][i] = 1\n",
    "    for i in range(m):\n",
    "        dp[i][0] = 1\n",
    "\n",
    "    for i in range(1, m):\n",
    "        for j in range(1, n):\n",
    "            dp[i][j] = dp[i-1][j] + dp[i][j-1]\n",
    "    return dp[-1][-1]"
   ]
  },
  {
   "cell_type": "code",
   "execution_count": 36,
   "metadata": {},
   "outputs": [
    {
     "name": "stdout",
     "output_type": "stream",
     "text": [
      "3\n",
      "28\n"
     ]
    }
   ],
   "source": [
    "print(unique_path(2,3))\n",
    "print(unique_path(7,3))"
   ]
  },
  {
   "cell_type": "markdown",
   "metadata": {},
   "source": [
    "### 不同路径II\n",
    "一个机器人位于一个m x n网格的左上角，机器人每次只能向下或者向右移动一步，机器人试图到达网格的右下角，现在考虑网格中有障碍物。那么从左上角到右下角将会有多少种不同的路径，网格中的障碍物和空位置分别用0和1来表示"
   ]
  },
  {
   "cell_type": "code",
   "execution_count": 39,
   "metadata": {},
   "outputs": [],
   "source": [
    "def unique_path2(grid: list):\n",
    "    m = len(grid)\n",
    "    n = len(grid[0])\n",
    "    dp = [[0] * n for _ in range(m)]\n",
    "    for i in range(n):\n",
    "        if grid[0][i] == 1:\n",
    "            break\n",
    "        dp[0][i] = 1\n",
    "    for i in range(m):\n",
    "        if grid[i][0] == 1:\n",
    "            break\n",
    "        dp[i][0] = 1\n",
    "    for i in range(1, m):\n",
    "        for j in range(1, n):\n",
    "            if grid[i][j] == 1:\n",
    "                continue\n",
    "            dp[i][j] = dp[i-1][j] + dp[i][j-1]\n",
    "    return dp[-1][-1]"
   ]
  },
  {
   "cell_type": "code",
   "execution_count": 40,
   "metadata": {},
   "outputs": [
    {
     "data": {
      "text/plain": [
       "2"
      ]
     },
     "execution_count": 40,
     "metadata": {},
     "output_type": "execute_result"
    }
   ],
   "source": [
    "unique_path2([[0,0,0],[0,1,0],[0,0,0]])"
   ]
  },
  {
   "cell_type": "markdown",
   "metadata": {},
   "source": [
    "### 整数拆分\n",
    "给定一个正整数n，将其拆分为至少两个正整数的和，并使这些整数的乘积最大化，返回你可以获得的最大乘积"
   ]
  },
  {
   "cell_type": "code",
   "execution_count": 43,
   "metadata": {},
   "outputs": [],
   "source": [
    "def integer_break(n: int):\n",
    "    dp = [0] * (n + 1)\n",
    "    dp[2] = 1\n",
    "    # dp[i]表示拆分数字i，得到的最大乘积\n",
    "    for i in range(3, n+1):\n",
    "        for j in range(1, i):\n",
    "            dp[i] = max(dp[i], max((i-j)*j, dp[i-j]*j))\n",
    "    print(dp)\n",
    "    return dp[-1]"
   ]
  },
  {
   "cell_type": "code",
   "execution_count": 44,
   "metadata": {},
   "outputs": [
    {
     "name": "stdout",
     "output_type": "stream",
     "text": [
      "[0, 0, 1, 2, 4, 6, 9, 12, 18, 27, 36]\n"
     ]
    },
    {
     "data": {
      "text/plain": [
       "36"
      ]
     },
     "execution_count": 44,
     "metadata": {},
     "output_type": "execute_result"
    }
   ],
   "source": [
    "integer_break(10)"
   ]
  },
  {
   "cell_type": "markdown",
   "metadata": {},
   "source": [
    "### 不同的二叉搜索树\n",
    "给定一个正数n，求以1...n为节点组成的二叉搜索树有多少种"
   ]
  },
  {
   "cell_type": "code",
   "execution_count": 45,
   "metadata": {},
   "outputs": [],
   "source": [
    "def num_trees(n: int):\n",
    "    dp = [0] * (n + 1)\n",
    "    dp[0] = 1\n",
    "    for i in range(n+1):\n",
    "        for j in range(1, i+1):\n",
    "            dp[i] += dp[j-1] * dp[i - j]\n",
    "    return dp[-1]"
   ]
  },
  {
   "cell_type": "code",
   "execution_count": 49,
   "metadata": {},
   "outputs": [
    {
     "data": {
      "text/plain": [
       "5"
      ]
     },
     "execution_count": 49,
     "metadata": {},
     "output_type": "execute_result"
    }
   ],
   "source": [
    "num_trees(3)"
   ]
  },
  {
   "cell_type": "markdown",
   "metadata": {},
   "source": [
    "### 分割等和子集\n",
    "给定一个只包含正整数的非空数组，是否可以将这个数组分割成两个子集，使得两个子集的元素和相等"
   ]
  },
  {
   "cell_type": "code",
   "execution_count": 58,
   "metadata": {},
   "outputs": [],
   "source": [
    "def can_partition(nums: list):\n",
    "    # dp[i]中的i表示背包内总和\n",
    "    dp = [0] * 10001\n",
    "    sum_ = sum(nums)\n",
    "    if sum_ % 2 == 1:\n",
    "        return False\n",
    "    target = sum_ // 2\n",
    "\n",
    "    for i in range(len(nums)):\n",
    "        for j in reversed(range(nums[i], target+1)):\n",
    "            dp[j] = max(dp[j], dp[j - nums[i]] + nums[i])\n",
    "\n",
    "    print(dp[:target+1])\n",
    "    return dp[target] == target"
   ]
  },
  {
   "cell_type": "code",
   "execution_count": 59,
   "metadata": {},
   "outputs": [
    {
     "name": "stdout",
     "output_type": "stream",
     "text": [
      "[0, 1, 1, 1, 1, 5, 6, 6, 6, 6, 10, 11]\n"
     ]
    },
    {
     "data": {
      "text/plain": [
       "True"
      ]
     },
     "execution_count": 59,
     "metadata": {},
     "output_type": "execute_result"
    }
   ],
   "source": [
    "can_partition([1,5,11,5])"
   ]
  },
  {
   "cell_type": "markdown",
   "metadata": {},
   "source": [
    "### 最后一块石头的重量\n",
    "有一堆石头，每块石头的重量都是正整数，每一个回合，从中选出任一两块石头，然后将它们一起粉碎，假设石头的重量分别为x,y，且x<=y，那么粉碎的可能结果如下：\n",
    "* 如果x=y，那么两块石头都被完全粉碎\n",
    "* 如果x!=y，那么重量为x的石头将会被完全粉碎，而重量为y的石头新重量为y-x\n",
    "* 最后最多就会剩下一块石头。返回次石头最小的可能重量。如果没有石头剩下，就返回0"
   ]
  },
  {
   "cell_type": "code",
   "execution_count": 64,
   "metadata": {},
   "outputs": [],
   "source": [
    "def last_stone_weight(stones: list):\n",
    "    # 问题转化为将石头分为两堆，\n",
    "    # 每堆的最大重量为所有石头重量和的一半，\n",
    "    # 最后剩下的最小重量就是总重量减去两堆石头的重量\n",
    "    dp = [0] * 15001\n",
    "    sum_ = sum(stones)\n",
    "    target = sum_ // 2\n",
    "    for i in range(len(stones)):\n",
    "        for j in reversed(range(stones[i], target+1)):\n",
    "            dp[j] = max(dp[j-stones[i]] + stones[i], dp[j])\n",
    "    return sum_ - dp[target] * 2"
   ]
  },
  {
   "cell_type": "code",
   "execution_count": 65,
   "metadata": {},
   "outputs": [
    {
     "data": {
      "text/plain": [
       "1"
      ]
     },
     "execution_count": 65,
     "metadata": {},
     "output_type": "execute_result"
    }
   ],
   "source": [
    "last_stone_weight([2,7,4,1,8,1])"
   ]
  },
  {
   "cell_type": "markdown",
   "metadata": {},
   "source": [
    "### 目标和\n",
    "给定一个非负证书组，a1,a2....an和一个目标数S，现在你有两个符号+和-。对于数组中的任意一个正数，你都可以从+ 或-中选择一个符号添加在前面，返回可以谁最终数组和为目标数D的所有添加符号的方法数"
   ]
  },
  {
   "cell_type": "code",
   "execution_count": 76,
   "metadata": {},
   "outputs": [],
   "source": [
    "def find_target_sum_ways(nums: list, S: int):\n",
    "    sum_ = sum(nums)\n",
    "    if S > sum_ or (S + sum_) % 2 == 1:\n",
    "        return 0\n",
    "    bag_size = (S + sum_) // 2\n",
    "    dp = [0] * (bag_size + 1)\n",
    "    dp[0] = 1\n",
    "    for i in range(len(nums)):\n",
    "        for j in reversed(range(nums[i], bag_size+1)):\n",
    "            dp[j] += dp[j - nums[i]]\n",
    "    print(dp)\n",
    "    return dp[-1]"
   ]
  },
  {
   "cell_type": "code",
   "execution_count": 77,
   "metadata": {},
   "outputs": [
    {
     "name": "stdout",
     "output_type": "stream",
     "text": [
      "[1, 5, 10, 10, 5]\n"
     ]
    },
    {
     "data": {
      "text/plain": [
       "5"
      ]
     },
     "execution_count": 77,
     "metadata": {},
     "output_type": "execute_result"
    }
   ],
   "source": [
    "find_target_sum_ways([1,1,1,1,1], 3)"
   ]
  },
  {
   "cell_type": "markdown",
   "metadata": {},
   "source": [
    "### 最长递增子序列\n",
    "给你一个整数数组nums，找到其中最长严格递增子序列长度\n",
    "子序列是由数组派生而来的序列，删除（或不删除）数组中的元素而不改变其余元素的顺序。"
   ]
  },
  {
   "cell_type": "code",
   "execution_count": 5,
   "metadata": {},
   "outputs": [],
   "source": [
    "def length_of_lis(nums: list):\n",
    "    n = len(nums)\n",
    "    if n <= 1:\n",
    "        return n\n",
    "    dp = [1] * n\n",
    "    res = 0\n",
    "    for i in range(n):\n",
    "        for j in range(i):\n",
    "            if nums[i] > nums[j]:\n",
    "                dp[i] = max(dp[i], dp[j] + 1)\n",
    "            if dp[i] > res:\n",
    "                res = dp[i]\n",
    "    return res"
   ]
  },
  {
   "cell_type": "markdown",
   "metadata": {},
   "source": [
    "### 最长连续递增子序列\n",
    "给定一个未经排序的整数数组，找到最长且连续的子序列，并返回该序列的长度"
   ]
  },
  {
   "cell_type": "code",
   "execution_count": 6,
   "metadata": {},
   "outputs": [],
   "source": [
    "def find_length_of_lcis(nums):\n",
    "    n = len(nums)\n",
    "    if n <= 1:\n",
    "        return n\n",
    "    dp = [1] * n\n",
    "    res = 0\n",
    "    for i in range(n-1):\n",
    "        if nums[i+1] > nums[i]:\n",
    "            dp[i+1] = dp[i] + 1\n",
    "        if dp[i+1] > res:\n",
    "            res = dp[i + 1]\n",
    "    return res"
   ]
  },
  {
   "cell_type": "markdown",
   "metadata": {},
   "source": [
    "### 最长重复子数组\n",
    "给定两个整数数组A和B，返回两个数组中公共的，长度最长的子数组长度"
   ]
  },
  {
   "cell_type": "code",
   "execution_count": 9,
   "metadata": {},
   "outputs": [],
   "source": [
    "def find_length(A: list, B: list):\n",
    "    res = 0\n",
    "    dp = [[0] * (len(A)+1) for _ in range(len(B)+1)]\n",
    "    for i in range(1, len(A) + 1):\n",
    "        for j in range(1, len(B) + 1):\n",
    "            if A[i-1] == B[j-1]:\n",
    "                dp[i][j] = dp[i-1][j-1] + 1\n",
    "            if dp[i][j] > res:\n",
    "                res = dp[i][j]\n",
    "    return res"
   ]
  },
  {
   "cell_type": "code",
   "execution_count": 10,
   "metadata": {},
   "outputs": [
    {
     "data": {
      "text/plain": [
       "3"
      ]
     },
     "execution_count": 10,
     "metadata": {},
     "output_type": "execute_result"
    }
   ],
   "source": [
    "find_length([1,2,3,2,1], [3,2,1,4,7])"
   ]
  },
  {
   "cell_type": "markdown",
   "metadata": {},
   "source": [
    "### 最长公共子序列\n",
    "给定两个字符串text1和text2，返回这两个字符串的最长公共子序列的长度。一个字符串的子序列是这样的一个新的字符串：它是由远字符串在不改变字符的相对顺序的情况下删除某些字符（也可以不删除任何字符）后组成的新的字符串"
   ]
  },
  {
   "cell_type": "code",
   "execution_count": 13,
   "metadata": {},
   "outputs": [],
   "source": [
    "def longest_common_subsequence(text1: str, text2: str):\n",
    "    dp = [[0] * (len(text1)+1) for _ in range(len(text2)+1)]\n",
    "    for i in range(1, len(text1)+1):\n",
    "        for j in range(1, len(text2)+1):\n",
    "            if text1[i-1] == text2[j-1]:\n",
    "                dp[i][j] = dp[i-1][j-1] + 1\n",
    "            else:\n",
    "                # 如果不相等，则找上一次最长的长度\n",
    "                dp[i][j] = max(dp[i-1][j], dp[i][j-1])\n",
    "    return dp[-1][-1]"
   ]
  },
  {
   "cell_type": "markdown",
   "metadata": {},
   "source": [
    "### 不相交的线\n",
    "我们在两条独立的水平线上按给定的顺序写下A和B中的整数，现在，我们可以绘制一些链接两个数字A\\[i\\]和B\\[j\\]的直线，只要A\\[i\\]==B\\[j\\]，且我们绘制的直线不与任何其他连线（非水平线）相交。一这种方法绘制线条，并返回我们可以会知道最大连接线数。"
   ]
  },
  {
   "cell_type": "code",
   "execution_count": 14,
   "metadata": {},
   "outputs": [],
   "source": [
    "def max_uncross_lines(A: list, B: list):\n",
    "    dp = [[0]* (len(A)+1) for _ in range(len(B)+1)]\n",
    "    for i in range(1, len(A)+1):\n",
    "        for j in range(1, len(B)+1):\n",
    "            if A[i-1] == B[j-1]:\n",
    "                dp[i][j] = dp[i-1][j-1] + 1\n",
    "            else:\n",
    "                dp[i][j] = max(dp[i-1][j], dp[i][j-1])\n",
    "    return dp[-1][-1]"
   ]
  },
  {
   "cell_type": "code",
   "execution_count": 15,
   "metadata": {},
   "outputs": [
    {
     "data": {
      "text/plain": [
       "2"
      ]
     },
     "execution_count": 15,
     "metadata": {},
     "output_type": "execute_result"
    }
   ],
   "source": [
    "max_uncross_lines([1,4,2], [1,2,4])"
   ]
  },
  {
   "cell_type": "markdown",
   "metadata": {},
   "source": [
    "### 最大子序和\n",
    "给定一个整数数组nums，找到一个具有最大和的连续子数组（子数组最少包含一个元素）。返回其最大和"
   ]
  },
  {
   "cell_type": "code",
   "execution_count": 17,
   "metadata": {},
   "outputs": [],
   "source": [
    "def max_sub_array(nums: list):\n",
    "    n = len(nums)\n",
    "    if n == 0:\n",
    "        return 0\n",
    "    dp = [0] * n\n",
    "    dp[0] = nums[0]\n",
    "    res = dp[0]\n",
    "    for i in range(1, n):\n",
    "        dp[i] = max(nums[i], dp[i-1]+nums[i])\n",
    "        if dp[i] > res:\n",
    "            res = dp[i]\n",
    "    return res"
   ]
  },
  {
   "cell_type": "code",
   "execution_count": 18,
   "metadata": {},
   "outputs": [
    {
     "data": {
      "text/plain": [
       "6"
      ]
     },
     "execution_count": 18,
     "metadata": {},
     "output_type": "execute_result"
    }
   ],
   "source": [
    "max_sub_array([-2,1,-3,4,-1,2,1,-5,4])"
   ]
  },
  {
   "cell_type": "markdown",
   "metadata": {},
   "source": [
    "### 判断子序列\n",
    "给定一个字符串s和t，判断s是否为t的子序列。\n",
    "字符串的一个子序列是原始字符串删除一些（也可以不删除）字符而不改变剩余字符相对位置形成的字符串"
   ]
  },
  {
   "cell_type": "code",
   "execution_count": 28,
   "metadata": {},
   "outputs": [],
   "source": [
    "def is_subsequence(s: str, t: str):\n",
    "    # dp[i][j]表示s[i-1]==t[j-1]时候的子序列长度\n",
    "    dp = [[0] * (len(t)+1) for _ in range(len(s)+1)]\n",
    "    for i in range(1, len(s)+1):\n",
    "        for j in range(1, len(t)+1):\n",
    "            if s[i-1] == t[j-1]:\n",
    "                dp[i][j] = dp[i-1][j-1] + 1\n",
    "            else:\n",
    "                dp[i][j] = dp[i][j-1]\n",
    "    return dp[-1][-1] == len(s)"
   ]
  },
  {
   "cell_type": "code",
   "execution_count": 29,
   "metadata": {},
   "outputs": [
    {
     "data": {
      "text/plain": [
       "True"
      ]
     },
     "execution_count": 29,
     "metadata": {},
     "output_type": "execute_result"
    }
   ],
   "source": [
    "is_subsequence('abc', 'ahbgdc')"
   ]
  },
  {
   "cell_type": "code",
   "execution_count": 26,
   "metadata": {},
   "outputs": [],
   "source": [
    "def is_subsequence2(s: str, t: str):\n",
    "    i = 0\n",
    "    j = 0\n",
    "    while j < len(t) and i < len(s):\n",
    "        if s[i] == t[j]:\n",
    "            i += 1\n",
    "        j += 1\n",
    "    return i == len(s)"
   ]
  },
  {
   "cell_type": "markdown",
   "metadata": {},
   "source": [
    "### 不同子序列\n",
    "给定一个字符串s和一个字符串t，计算s的子序列中t出现的个数。"
   ]
  },
  {
   "cell_type": "code",
   "execution_count": 21,
   "metadata": {},
   "outputs": [],
   "source": [
    "def num_distict(s: str, t: str):\n",
    "    # dp[i][j]表示以i-1结尾的s中出现以下标j-1结尾的t的个数\n",
    "    dp = [[0] * (len(t) + 1) for _ in range(len(s) + 1)]\n",
    "    for i in range(len(s) + 1):\n",
    "        dp[i][0] = 1\n",
    "    for i in range(1, len(s) + 1):\n",
    "        for j in range(1, len(t) + 1):\n",
    "            if s[i-1] == t[j-1]:\n",
    "                dp[i][j] = dp[i-1][j-1] + dp[i-1][j]\n",
    "            else:\n",
    "                dp[i][j] = dp[i-1][j]\n",
    "\n",
    "    return dp[-1][-1] "
   ]
  },
  {
   "cell_type": "code",
   "execution_count": 23,
   "metadata": {},
   "outputs": [
    {
     "data": {
      "text/plain": [
       "3"
      ]
     },
     "execution_count": 23,
     "metadata": {},
     "output_type": "execute_result"
    }
   ],
   "source": [
    "num_distict('rabbbit', 'rabbit')"
   ]
  },
  {
   "cell_type": "markdown",
   "metadata": {},
   "source": [
    "### 两个字符串的删除操作\n",
    "给定两个单词word1和word2，找到使得word1和word2相同的最小步数，每步可以删除任意一个字符串中的一个字符"
   ]
  },
  {
   "cell_type": "code",
   "execution_count": 24,
   "metadata": {},
   "outputs": [],
   "source": [
    "def min_distance(word1: str, word2: str):\n",
    "    dp = [[0] * (len(word2)+1) for _ in range(len(word1) + 1)]\n",
    "    for i in range(len(word1) + 1):\n",
    "        dp[i][0] = i\n",
    "    for i in range(len(word2) + 1):\n",
    "        dp[0][i] = i\n",
    "    for i in range(1, len(word1) + 1):\n",
    "        for j in range(1, len(word2) + 1):\n",
    "            if word1[i-1] == word2[j-1]:\n",
    "                # 相等不用删除\n",
    "                dp[i][j] = dp[i-1][j-1]\n",
    "            else:\n",
    "                # 在word1中删除一个dp[i-1][j]+1\n",
    "                # 在word2中删除一个dp[i][j-1]\n",
    "                # 在两个字符串中删除dp[i-1][j-1] + 2\n",
    "                dp[i][j] = min(dp[i-1][j]+1, dp[i][j-1] + 1, dp[i-1][j-1] + 2)\n",
    "    return dp[-1][-1]"
   ]
  },
  {
   "cell_type": "code",
   "execution_count": 25,
   "metadata": {},
   "outputs": [
    {
     "data": {
      "text/plain": [
       "2"
      ]
     },
     "execution_count": 25,
     "metadata": {},
     "output_type": "execute_result"
    }
   ],
   "source": [
    "min_distance('sea', 'eat')"
   ]
  },
  {
   "cell_type": "markdown",
   "metadata": {},
   "source": [
    "### 编辑距离\n",
    "给你两个单词word1和word2，请你计算出将word1转换成word2所使用的最少操作数，可以对一个单词进行如下操作\n",
    "* 插入一个字符\n",
    "* 删除一个字符\n",
    "* 替换一个字符"
   ]
  },
  {
   "cell_type": "code",
   "execution_count": 31,
   "metadata": {},
   "outputs": [],
   "source": [
    "def mini_distance(word1: str, word2: str):\n",
    "    # dp[i][j]表示以下标i-1为结尾的字符串word1，和以下标j-1为结尾的字符串word2的最近编辑距离\n",
    "    dp = [[0] * (len(word2) + 1) for _ in range(len(word1) + 1)]\n",
    "    for i in range(len(word1)+1):\n",
    "        # word1转化为空字符串所需的步数\n",
    "        dp[i][0] = i\n",
    "    for i in range(len(word2)+1):\n",
    "        # word2转为空字符串所需的步数\n",
    "        dp[0][i] = i\n",
    "    for i in range(1, len(word1)+1):\n",
    "        for j in range(1, len(word2)+1):\n",
    "            if word1[i-1] == word2[j-1]:\n",
    "                dp[i][j] = dp[i-1][j-1]\n",
    "            else:\n",
    "                # dp[i-1][j]+1，从word1中删除一个字符\n",
    "                # dp[i][j-1]+1，从word2中删除一个字符\n",
    "                # dp[i-1][j-1]+1，替换字符\n",
    "                dp[i][j] = min(dp[i-1][j], dp[i][j-1], dp[i-1][j-1]) + 1\n",
    "    return dp[-1][-1]"
   ]
  },
  {
   "cell_type": "code",
   "execution_count": 33,
   "metadata": {},
   "outputs": [
    {
     "data": {
      "text/plain": [
       "3"
      ]
     },
     "execution_count": 33,
     "metadata": {},
     "output_type": "execute_result"
    }
   ],
   "source": [
    "mini_distance('horse', 'ros')"
   ]
  },
  {
   "cell_type": "markdown",
   "metadata": {},
   "source": [
    "### 回文子串\n",
    "给定一个字符串，你的任务是计算这个字符串中有多少个回文子串，具体有不同开始位置或结束位置的子串，即使是由相同的字符串组成，也会被视作不同的子串"
   ]
  },
  {
   "cell_type": "code",
   "execution_count": 37,
   "metadata": {},
   "outputs": [],
   "source": [
    "def count_substring(s: str):\n",
    "    n = len(s)\n",
    "    dp = [[False] * n for _ in range(n)]\n",
    "    res = 0\n",
    "    for i in reversed(range(n + 1)):\n",
    "        for j in range(i, n):\n",
    "            if s[i] == s[j]:\n",
    "                if j - i <= 1:\n",
    "                    # 下标相差为1，类似于aa这种，是回文串\n",
    "                    res += 1\n",
    "                    dp[i][j] = True\n",
    "                elif dp[i+1][j-1]:\n",
    "                    res += 1\n",
    "                    dp[i][j] = True\n",
    "\n",
    "    return res\n"
   ]
  },
  {
   "cell_type": "code",
   "execution_count": 36,
   "metadata": {},
   "outputs": [
    {
     "data": {
      "text/plain": [
       "6"
      ]
     },
     "execution_count": 36,
     "metadata": {},
     "output_type": "execute_result"
    }
   ],
   "source": [
    "count_substring('aabb')"
   ]
  },
  {
   "cell_type": "code",
   "execution_count": 40,
   "metadata": {},
   "outputs": [],
   "source": [
    "def count_substring2(s: str):\n",
    "    def extend(s, i, j):\n",
    "        res = 0\n",
    "        while i >= 0 and j < len(s) and s[i] == s[j]:\n",
    "            # 从中间向两边扩散\n",
    "            i -= 1\n",
    "            j += 1\n",
    "            res += 1\n",
    "        return res\n",
    "    result = 0\n",
    "    for i in range(len(s)):\n",
    "        result += extend(s, i, i)\n",
    "        result += extend(s, i, i+1)\n",
    "    return result"
   ]
  },
  {
   "cell_type": "code",
   "execution_count": 41,
   "metadata": {},
   "outputs": [
    {
     "data": {
      "text/plain": [
       "6"
      ]
     },
     "execution_count": 41,
     "metadata": {},
     "output_type": "execute_result"
    }
   ],
   "source": [
    "count_substring2('aabb')"
   ]
  },
  {
   "cell_type": "markdown",
   "metadata": {},
   "source": [
    "### 最长回文子序列\n",
    "给定一个字符串s，找到其中最长的回文子序列，并返回长度，可以假设s的最大长度为1000"
   ]
  },
  {
   "cell_type": "code",
   "execution_count": 42,
   "metadata": {},
   "outputs": [],
   "source": [
    "def longest_palindrome_substring(s: str):\n",
    "    dp = [[0] * len(s) for _ in range(len(s))]\n",
    "    for i in range(len(s)):\n",
    "        dp[i][i] = 1\n",
    "    for i in reversed(range(len(s))):\n",
    "        for j in range(i+1, len(s)):\n",
    "            if s[i] == s[j]:\n",
    "                dp[i][j] = dp[i+1][j-1] + 2\n",
    "            else:\n",
    "                dp[i][j] = max(dp[i+1][j], dp[i][j-1])\n",
    "\n",
    "    return dp[0][-1]"
   ]
  },
  {
   "cell_type": "code",
   "execution_count": 43,
   "metadata": {},
   "outputs": [
    {
     "data": {
      "text/plain": [
       "4"
      ]
     },
     "execution_count": 43,
     "metadata": {},
     "output_type": "execute_result"
    }
   ],
   "source": [
    "longest_palindrome_substring('bbbab')"
   ]
  },
  {
   "cell_type": "code",
   "execution_count": null,
   "metadata": {},
   "outputs": [],
   "source": []
  }
 ],
 "metadata": {
  "interpreter": {
   "hash": "3fa48bb2c24bfd2c860ebc2f76fcf240faeca9c313f5297b1080b141badca120"
  },
  "kernelspec": {
   "display_name": "Python 3.8.5 64-bit ('base': conda)",
   "name": "python3"
  },
  "language_info": {
   "codemirror_mode": {
    "name": "ipython",
    "version": 3
   },
   "file_extension": ".py",
   "mimetype": "text/x-python",
   "name": "python",
   "nbconvert_exporter": "python",
   "pygments_lexer": "ipython3",
   "version": "3.8.5"
  },
  "orig_nbformat": 2
 },
 "nbformat": 4,
 "nbformat_minor": 2
}
