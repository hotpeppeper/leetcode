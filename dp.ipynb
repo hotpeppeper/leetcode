{
 "metadata": {
  "language_info": {
   "codemirror_mode": {
    "name": "ipython",
    "version": 3
   },
   "file_extension": ".py",
   "mimetype": "text/x-python",
   "name": "python",
   "nbconvert_exporter": "python",
   "pygments_lexer": "ipython3",
   "version": "3.8.5"
  },
  "orig_nbformat": 2,
  "kernelspec": {
   "name": "python3",
   "display_name": "Python 3.8.5 64-bit ('base': conda)"
  },
  "interpreter": {
   "hash": "3fa48bb2c24bfd2c860ebc2f76fcf240faeca9c313f5297b1080b141badca120"
  }
 },
 "nbformat": 4,
 "nbformat_minor": 2,
 "cells": [
  {
   "cell_type": "markdown",
   "source": [
    "#### 最小路径和\n",
    "\n",
    "给定一个包含非负整数的 m x n 网格 grid ，请找出一条从左上角到右下角的路径，使得路径上的数字总和为最小。"
   ],
   "metadata": {}
  },
  {
   "cell_type": "code",
   "execution_count": 1,
   "source": [
    "def min_path_sum(grid):\r\n",
    "    if not grid:\r\n",
    "        return 0\r\n",
    "\r\n",
    "    \r\n",
    "    column = len(grid[0])\r\n",
    "    row = len(grid)\r\n",
    "    # 计算第一行的值\r\n",
    "    for i in range(1, column):\r\n",
    "        grid[0][i] += grid[0][i-1]\r\n",
    "    # 计算第一列的值\r\n",
    "    for i in range(1, row):\r\n",
    "        grid[i][0] += grid[i-1][0]\r\n",
    "    \r\n",
    "    for r in range(1, row):\r\n",
    "        for col in range(column):\r\n",
    "            # 当前格子的最小值=上面一个格子和左面格子的最小值+本格的值\r\n",
    "            grid[r][col] = min(grid[r-1][col], grid[r][col-1]) + grid[r][col]\r\n",
    "    return grid[-1][-1]"
   ],
   "outputs": [],
   "metadata": {}
  },
  {
   "cell_type": "code",
   "execution_count": 2,
   "source": [
    "min_path_sum([[1,3,1],[1,5,1],[4,2,1]])"
   ],
   "outputs": [
    {
     "output_type": "execute_result",
     "data": {
      "text/plain": [
       "7"
      ]
     },
     "metadata": {},
     "execution_count": 2
    }
   ],
   "metadata": {}
  },
  {
   "cell_type": "code",
   "execution_count": 3,
   "source": [
    "min_path_sum([[1,2,3],[4,5,6]])"
   ],
   "outputs": [
    {
     "output_type": "execute_result",
     "data": {
      "text/plain": [
       "12"
      ]
     },
     "metadata": {},
     "execution_count": 3
    }
   ],
   "metadata": {}
  },
  {
   "cell_type": "markdown",
   "source": [
    "####  买卖股票的最佳时机\n",
    "给定一个数组 prices ，它的第 i 个元素 prices\\[i\\] 表示一支给定股票第 i 天的价格。\n",
    "\n",
    "你只能选择 某一天 买入这只股票，并选择在 未来的某一个不同的日子 卖出该股票。设计一个算法来计算你所能获取的最大利润。\n",
    "\n",
    "返回你可以从这笔交易中获取的最大利润。如果你不能获取任何利润，返回 0 。"
   ],
   "metadata": {}
  },
  {
   "cell_type": "code",
   "execution_count": 10,
   "source": [
    "def max_profit(prices):\r\n",
    "    res = 0\r\n",
    "    min_ = float('inf')\r\n",
    "    for i in prices:\r\n",
    "        min_ = min(min_, i)\r\n",
    "        res = max(res, i-min_)\r\n",
    "    return res"
   ],
   "outputs": [],
   "metadata": {}
  },
  {
   "cell_type": "code",
   "execution_count": 11,
   "source": [
    "max_profit([7,1,5,3,6,4])"
   ],
   "outputs": [
    {
     "output_type": "execute_result",
     "data": {
      "text/plain": [
       "5"
      ]
     },
     "metadata": {},
     "execution_count": 11
    }
   ],
   "metadata": {}
  },
  {
   "cell_type": "markdown",
   "source": [
    "### 买卖股票的最佳时机II\r\n",
    "给定一个数组，它的第i个元素是一支股票第i天的价格，设计一个算法来计算你能获取的最大利润。你可以尽可能的完成更多的交易（多次买卖一支股票）"
   ],
   "metadata": {}
  },
  {
   "cell_type": "code",
   "execution_count": 1,
   "source": [
    "def max_profit2(prices: list):\r\n",
    "    n = len(prices)\r\n",
    "    dp = [[0]*n for _ in range(n)]\r\n",
    "    dp[0][0] = -prices[0]\r\n",
    "    # dp[i][0]表示第i天持有股票所得现金\r\n",
    "    # dp[i][1]表示第i天不持有股票所得最多现金\r\n",
    "    for i in range(1, n):\r\n",
    "        \r\n",
    "        dp[i][0] = max(dp[i-1][0], dp[i-1][1] - prices[i])\r\n",
    "        dp[i][1] = max(dp[i-1][1], dp[i-1][0] + prices[i])\r\n",
    "    return dp[-1][1]"
   ],
   "outputs": [],
   "metadata": {}
  },
  {
   "cell_type": "markdown",
   "source": [
    "### 买卖股票的最佳时机III\r\n",
    "给定一个数组，它的第i个元素是一支给定的股票在第i天的价格\r\n",
    "设计一个算法来计算你能获取的最大利润，你最多可以完成两笔交易"
   ],
   "metadata": {}
  },
  {
   "cell_type": "code",
   "execution_count": 1,
   "source": [
    "def max_profit3(prices: list):\r\n",
    "    if len(prices) == 0:\r\n",
    "        return 0\r\n",
    "    n = len(prices)\r\n",
    "    # 一共5中状态，0：无操作，1：第一次买入，2：第一次卖出，3：第二次买入，4：第2次卖出\r\n",
    "    dp = [[0] * 5 for _ in range(n)]\r\n",
    "    dp[0][1] = -prices[0]\r\n",
    "    dp[0][3] = -prices[0]\r\n",
    "    for i in range(1, n):\r\n",
    "        dp[i][0] = dp[i-1][0]\r\n",
    "        dp[i][1] = max(dp[i-1][1], dp[i-1][0] + prices[i])\r\n",
    "        dp[i][2] = max(dp[i-1][2], dp[i-1][1] - prices[i])\r\n",
    "        dp[i][3] = max(dp[i-1][3], dp[i-1][3] - prices[i])\r\n",
    "        dp[i][4] = max(dp[i-1][4], dp[i-1][3] + prices[i])\r\n",
    "    return dp[-1][-1]"
   ],
   "outputs": [],
   "metadata": {}
  },
  {
   "cell_type": "markdown",
   "source": [
    "### 买卖股票的最佳时机IV\r\n",
    "给定一个整数数组prices，它的第i个元素是给定一支股票在第i天的价格，设计一个算法来计算你能获得的最大利润，你最多可以完成K笔交易"
   ],
   "metadata": {}
  },
  {
   "cell_type": "code",
   "execution_count": null,
   "source": [
    "def max_profit4(prices: list, k: int):\r\n",
    "    if len(prices) == 0:\r\n",
    "        return 0\r\n",
    "    n = len(prices)\r\n",
    "    # 解题逻辑和上一到题一样，只不过是把2换成了k\r\n",
    "    dp = [[0] * k for _ in range(n)]\r\n",
    "    for i in range(1, 2*k, 2):\r\n",
    "        dp[0][i] = -prices[0]\r\n",
    "    for i in range(1, n):\r\n",
    "        for j in range(0, 2*k, 2):\r\n",
    "            dp[i][j+1] = max(dp[i-1][j+1], dp[i-1][j] - prices[i])\r\n",
    "            dp[i][j+2] = max(dp[i-1][j+2], dp[i-1][j+1] + prices[i])\r\n",
    "\r\n",
    "    return dp[-1][-1]\r\n"
   ],
   "outputs": [],
   "metadata": {}
  },
  {
   "cell_type": "markdown",
   "source": [
    "#### 打家劫舍\n",
    "你是一个专业的小偷，计划偷窃沿街的房屋。每间房内都藏有一定的现金，影响你偷窃的唯一制约因素就是相邻的房屋装有相互连通的防盗系统，如果两间相邻的房屋在同一晚上被小偷闯入，系统会自动报警。\n",
    "\n",
    "给定一个代表每个房屋存放金额的非负整数数组，计算你 不触动警报装置的情况下 ，一夜之内能够偷窃到的最高金额。"
   ],
   "metadata": {}
  },
  {
   "cell_type": "code",
   "execution_count": 78,
   "source": [
    "def rob(nums):\r\n",
    "    if not nums:\r\n",
    "        return 0\r\n",
    "    res = [0] * len(nums)\r\n",
    "    res[0] = nums[0]\r\n",
    "    res[1] = max(nums[0], nums[1])\r\n",
    "    for i in range(2, len(nums)):\r\n",
    "        # 如果偷第i个房间，res[i] = res[i-2] + nums[i]，第i-1个房间不偷\r\n",
    "        # 如果不偷第i个房间，res[i] = dp[i-1]，第i-1个房间得偷\r\n",
    "        res[i] = max(res[i-2] + nums[i], res[i-1])\r\n",
    "    return res[-1]"
   ],
   "outputs": [],
   "metadata": {}
  },
  {
   "cell_type": "code",
   "execution_count": 79,
   "source": [
    "rob([2,7,9,3,1])"
   ],
   "outputs": [
    {
     "output_type": "execute_result",
     "data": {
      "text/plain": [
       "12"
      ]
     },
     "metadata": {},
     "execution_count": 79
    }
   ],
   "metadata": {}
  },
  {
   "cell_type": "markdown",
   "source": [
    "#### 打家劫舍 II\n",
    "你是一个专业的小偷，计划偷窃沿街的房屋，每间房内都藏有一定的现金。这个地方所有的房屋都 围成一圈 ，这意味着第一个房屋和最后一个房屋是紧挨着的。同时，相邻的房屋装有相互连通的防盗系统，如果两间相邻的房屋在同一晚上被小偷闯入，系统会自动报警 。\n",
    "\n",
    "给定一个代表每个房屋存放金额的非负整数数组，计算你 在不触动警报装置的情况下 ，能够偷窃到的最高金额。"
   ],
   "metadata": {}
  },
  {
   "cell_type": "code",
   "execution_count": 17,
   "source": [
    "def rob2(nums):\r\n",
    "    return max(rob(nums[:-1]), rob(nums[1:]))\r\n",
    "    "
   ],
   "outputs": [],
   "metadata": {}
  },
  {
   "cell_type": "code",
   "execution_count": 18,
   "source": [
    "rob2([1,2,3,1])"
   ],
   "outputs": [
    {
     "output_type": "execute_result",
     "data": {
      "text/plain": [
       "4"
      ]
     },
     "metadata": {},
     "execution_count": 18
    }
   ],
   "metadata": {}
  },
  {
   "cell_type": "markdown",
   "source": [
    "### 打家劫舍III\r\n",
    "在上次打劫完一条街道之后和一圈房屋后，小偷又发现一个新的可行窃的地区。这个地区只有一个入口，我们称之为根。除了跟之外，每栋房子有且只有一个父房子与之相连。一番侦查之后，聪明的小偷意识到这个地方所有的房屋的排列类似于一颗二叉树。如果两个直接相连的房子在同一天晚上被打劫，房屋自动报警。在不触动警报的情况下，小偷一晚能够盗取的最高金额"
   ],
   "metadata": {}
  },
  {
   "cell_type": "code",
   "execution_count": 81,
   "source": [
    "def rob3(root):\r\n",
    "    def rob_tree(cur):\r\n",
    "        if cur == None:\r\n",
    "            return [0, 0]\r\n",
    "        left = rob_tree(cur.left)\r\n",
    "        right = rob_tree(cur.right)\r\n",
    "        # 偷当前节点, 则不能偷左右子节点\r\n",
    "        val1 = cur.val + left[0] + right[0]\r\n",
    "        # 不偷当前节点，则偷左右子节点\r\n",
    "        val2 = max(left) + max(right)\r\n",
    "        return [val1, val2]\r\n",
    "\r\n",
    "    res = rob_tree(root)\r\n",
    "    return max(res)"
   ],
   "outputs": [],
   "metadata": {}
  },
  {
   "cell_type": "markdown",
   "source": [
    "#### 零钱兑换\n",
    "\n",
    "给定不同面额的硬币 coins 和一个总金额\n",
    "amount。编写一个函数来计算可以凑成总金额所需的最少的硬币个数。如果没有任何一种硬币组合能组成总金额，返回 -1。\n",
    "\n",
    "你可以认为每种硬币的数量是无限的。"
   ],
   "metadata": {}
  },
  {
   "cell_type": "code",
   "execution_count": 1,
   "source": [
    "def coin_change(coins, amount):\r\n",
    "    dp = [float('inf')] * (amount + 1)\r\n",
    "    dp[0] = 0\r\n",
    "    for coin in coins:\r\n",
    "        for i in range(coin, amount+1):\r\n",
    "            dp[i] = min(dp[i], dp[x-coin]+1)\r\n",
    "\r\n",
    "    return dp[amount] if dp[amount] != float('inf') else -1"
   ],
   "outputs": [],
   "metadata": {}
  },
  {
   "cell_type": "markdown",
   "source": [
    "### 斐波那契数\r\n",
    "斐波那契数，通常用F(n)表示，形成的序列成为斐波那契数列，概述由0和1开始，后面的每一项数字都是前面两项数字的和"
   ],
   "metadata": {}
  },
  {
   "cell_type": "code",
   "execution_count": 9,
   "source": [
    "def fibo(n):\r\n",
    "    if n <= 1:\r\n",
    "        return n\r\n",
    "    dp = [0] * (n + 1)\r\n",
    "    dp[0] = 0\r\n",
    "    dp[1] = 1\r\n",
    "    for i in range(2, n + 1):\r\n",
    "        dp[i] = dp[i - 1] + dp[i - 2]\r\n",
    "    print(dp)\r\n",
    "    return dp[-1]"
   ],
   "outputs": [],
   "metadata": {}
  },
  {
   "cell_type": "code",
   "execution_count": 10,
   "source": [
    "fibo(5)"
   ],
   "outputs": [
    {
     "output_type": "stream",
     "name": "stdout",
     "text": [
      "[0, 1, 1, 2, 3, 5]\n"
     ]
    },
    {
     "output_type": "execute_result",
     "data": {
      "text/plain": [
       "5"
      ]
     },
     "metadata": {},
     "execution_count": 10
    }
   ],
   "metadata": {}
  },
  {
   "cell_type": "code",
   "execution_count": 11,
   "source": [
    "def fibo(n):\r\n",
    "    if n <= 1:\r\n",
    "        return n\r\n",
    "    pre = 0\r\n",
    "    cur = 1\r\n",
    "    for i in range(2, n + 1):\r\n",
    "        sum_ = pre + cur\r\n",
    "        pre = cur\r\n",
    "        cur = sum_\r\n",
    "    return cur"
   ],
   "outputs": [],
   "metadata": {}
  },
  {
   "cell_type": "code",
   "execution_count": 13,
   "source": [
    "fibo(10)"
   ],
   "outputs": [
    {
     "output_type": "execute_result",
     "data": {
      "text/plain": [
       "55"
      ]
     },
     "metadata": {},
     "execution_count": 13
    }
   ],
   "metadata": {}
  },
  {
   "cell_type": "markdown",
   "source": [
    "### 爬楼梯\r\n",
    "假设你正在爬楼梯，需要n阶你才能到达楼顶，每次你可以爬1或者2个台阶。你有多少种不同的方法可以爬到楼顶呢"
   ],
   "metadata": {}
  },
  {
   "cell_type": "code",
   "execution_count": 24,
   "source": [
    "def climb_stairs(n: int):\r\n",
    "    if n <= 1:\r\n",
    "        return n\r\n",
    "    dp = [0] * (n)\r\n",
    "    # 把0当成第1阶\r\n",
    "    dp[0] = 1\r\n",
    "    dp[1] = 2\r\n",
    "    for i in range(2, n):\r\n",
    "        dp[i] = dp[i - 1] + dp[i - 2]\r\n",
    "    print(dp)\r\n",
    "    return dp[-1]"
   ],
   "outputs": [],
   "metadata": {}
  },
  {
   "cell_type": "code",
   "execution_count": 25,
   "source": [
    "climb_stairs(5)"
   ],
   "outputs": [
    {
     "output_type": "stream",
     "name": "stdout",
     "text": [
      "[1, 2, 3, 5, 8]\n"
     ]
    },
    {
     "output_type": "execute_result",
     "data": {
      "text/plain": [
       "8"
      ]
     },
     "metadata": {},
     "execution_count": 25
    }
   ],
   "metadata": {}
  },
  {
   "cell_type": "markdown",
   "source": [
    "### 使用最小花费排楼梯\r\n",
    "数组的每个下标作为一个阶梯，第i个阶梯对应着一个非负数的体力花费值cost\\[i\\]（下标从0开始）。每当你爬上一个阶梯你都要花费对应的体力值，一旦支付了相应的体力值，你就可以选择向上爬一个阶梯或者两个阶梯。请你找出到达楼顶的最低花费，在开始时，你可以选择从下标0或者1的元素作为初始阶梯"
   ],
   "metadata": {}
  },
  {
   "cell_type": "code",
   "execution_count": 32,
   "source": [
    "def min_cost_climbing_stairs(cost: list):\r\n",
    "    dp = [0] * len(cost)\r\n",
    "    dp[0] = cost[0]\r\n",
    "    dp[1] = cost[1]\r\n",
    "    for i in range(2, len(cost)):\r\n",
    "        # 前面两个阶梯花费的最小值，加上本阶梯的花费\r\n",
    "        dp[i] = min(dp[i-1], dp[i-2]) + cost[i]\r\n",
    "    print(dp)\r\n",
    "    return min(dp[-1], dp[-2])"
   ],
   "outputs": [],
   "metadata": {}
  },
  {
   "cell_type": "code",
   "execution_count": 33,
   "source": [
    "min_cost_climbing_stairs([1,100,1,1,1,100,1,1,100,1])"
   ],
   "outputs": [
    {
     "output_type": "stream",
     "name": "stdout",
     "text": [
      "[1, 100, 2, 3, 3, 103, 4, 5, 104, 6]\n"
     ]
    },
    {
     "output_type": "execute_result",
     "data": {
      "text/plain": [
       "6"
      ]
     },
     "metadata": {},
     "execution_count": 33
    }
   ],
   "metadata": {}
  },
  {
   "cell_type": "markdown",
   "source": [
    "### 不同路径\r\n",
    "一个机器人位于一个m x n的网格左上角，机器人每次只能向下或者向右移动一步，机器人试图到达网格的右下角，总共用多少条不同的路径"
   ],
   "metadata": {}
  },
  {
   "cell_type": "code",
   "execution_count": 34,
   "source": [
    "def unique_path(m, n):\r\n",
    "    dp = [[0] * n] * m\r\n",
    "    # 初始化第一行和第一列，每个格只有一条路径\r\n",
    "    for i in range(n):\r\n",
    "        dp[0][i] = 1\r\n",
    "    for i in range(m):\r\n",
    "        dp[i][0] = 1\r\n",
    "\r\n",
    "    for i in range(1, m):\r\n",
    "        for j in range(1, n):\r\n",
    "            dp[i][j] = dp[i-1][j] + dp[i][j-1]\r\n",
    "    return dp[-1][-1]"
   ],
   "outputs": [],
   "metadata": {}
  },
  {
   "cell_type": "code",
   "execution_count": 36,
   "source": [
    "print(unique_path(2,3))\r\n",
    "print(unique_path(7,3))"
   ],
   "outputs": [
    {
     "output_type": "stream",
     "name": "stdout",
     "text": [
      "3\n",
      "28\n"
     ]
    }
   ],
   "metadata": {}
  },
  {
   "cell_type": "markdown",
   "source": [
    "### 不同路径II\r\n",
    "一个机器人位于一个m x n网格的左上角，机器人每次只能向下或者向右移动一步，机器人试图到达网格的右下角，现在考虑网格中有障碍物。那么从左上角到右下角将会有多少种不同的路径，网格中的障碍物和空位置分别用0和1来表示"
   ],
   "metadata": {}
  },
  {
   "cell_type": "code",
   "execution_count": 39,
   "source": [
    "def unique_path2(grid: list):\r\n",
    "    m = len(grid)\r\n",
    "    n = len(grid[0])\r\n",
    "    dp = [[0] * n for _ in range(m)]\r\n",
    "    for i in range(n):\r\n",
    "        if grid[0][i] == 1:\r\n",
    "            break\r\n",
    "        dp[0][i] = 1\r\n",
    "    for i in range(m):\r\n",
    "        if grid[i][0] == 1:\r\n",
    "            break\r\n",
    "        dp[i][0] = 1\r\n",
    "    for i in range(1, m):\r\n",
    "        for j in range(1, n):\r\n",
    "            if grid[i][j] == 1:\r\n",
    "                continue\r\n",
    "            dp[i][j] = dp[i-1][j] + dp[i][j-1]\r\n",
    "    return dp[-1][-1]"
   ],
   "outputs": [],
   "metadata": {}
  },
  {
   "cell_type": "code",
   "execution_count": 40,
   "source": [
    "unique_path2([[0,0,0],[0,1,0],[0,0,0]])"
   ],
   "outputs": [
    {
     "output_type": "execute_result",
     "data": {
      "text/plain": [
       "2"
      ]
     },
     "metadata": {},
     "execution_count": 40
    }
   ],
   "metadata": {}
  },
  {
   "cell_type": "markdown",
   "source": [
    "### 整数拆分\r\n",
    "给定一个正整数n，将其拆分为至少两个正整数的和，并使这些整数的乘积最大化，返回你可以获得的最大乘积"
   ],
   "metadata": {}
  },
  {
   "cell_type": "code",
   "execution_count": 43,
   "source": [
    "def integer_break(n: int):\r\n",
    "    dp = [0] * (n + 1)\r\n",
    "    dp[2] = 1\r\n",
    "    # dp[i]表示拆分数字i，得到的最大乘积\r\n",
    "    for i in range(3, n+1):\r\n",
    "        for j in range(1, i):\r\n",
    "            dp[i] = max(dp[i], max((i-j)*j, dp[i-j]*j))\r\n",
    "    print(dp)\r\n",
    "    return dp[-1]"
   ],
   "outputs": [],
   "metadata": {}
  },
  {
   "cell_type": "code",
   "execution_count": 44,
   "source": [
    "integer_break(10)"
   ],
   "outputs": [
    {
     "output_type": "stream",
     "name": "stdout",
     "text": [
      "[0, 0, 1, 2, 4, 6, 9, 12, 18, 27, 36]\n"
     ]
    },
    {
     "output_type": "execute_result",
     "data": {
      "text/plain": [
       "36"
      ]
     },
     "metadata": {},
     "execution_count": 44
    }
   ],
   "metadata": {}
  },
  {
   "cell_type": "markdown",
   "source": [
    "### 不同的二叉搜索树\r\n",
    "给定一个正数n，求以1...n为节点组成的二叉搜索树有多少种"
   ],
   "metadata": {}
  },
  {
   "cell_type": "code",
   "execution_count": 45,
   "source": [
    "def num_trees(n: int):\r\n",
    "    dp = [0] * (n + 1)\r\n",
    "    dp[0] = 1\r\n",
    "    for i in range(n+1):\r\n",
    "        for j in range(1, i+1):\r\n",
    "            dp[i] += dp[j-1] * dp[i - j]\r\n",
    "    return dp[-1]"
   ],
   "outputs": [],
   "metadata": {}
  },
  {
   "cell_type": "code",
   "execution_count": 49,
   "source": [
    "num_trees(3)"
   ],
   "outputs": [
    {
     "output_type": "execute_result",
     "data": {
      "text/plain": [
       "5"
      ]
     },
     "metadata": {},
     "execution_count": 49
    }
   ],
   "metadata": {}
  },
  {
   "cell_type": "markdown",
   "source": [
    "### 分割等和子集\r\n",
    "给定一个只包含正整数的非空数组，是否可以将这个数组分割成两个子集，使得两个子集的元素和相等"
   ],
   "metadata": {}
  },
  {
   "cell_type": "code",
   "execution_count": 58,
   "source": [
    "def can_partition(nums: list):\r\n",
    "    # dp[i]中的i表示背包内总和\r\n",
    "    dp = [0] * 10001\r\n",
    "    sum_ = sum(nums)\r\n",
    "    if sum_ % 2 == 1:\r\n",
    "        return False\r\n",
    "    target = sum_ // 2\r\n",
    "\r\n",
    "    for i in range(len(nums)):\r\n",
    "        for j in reversed(range(nums[i], target+1)):\r\n",
    "            dp[j] = max(dp[j], dp[j - nums[i]] + nums[i])\r\n",
    "\r\n",
    "    print(dp[:target+1])\r\n",
    "    return dp[target] == target"
   ],
   "outputs": [],
   "metadata": {}
  },
  {
   "cell_type": "code",
   "execution_count": 59,
   "source": [
    "can_partition([1,5,11,5])"
   ],
   "outputs": [
    {
     "output_type": "stream",
     "name": "stdout",
     "text": [
      "[0, 1, 1, 1, 1, 5, 6, 6, 6, 6, 10, 11]\n"
     ]
    },
    {
     "output_type": "execute_result",
     "data": {
      "text/plain": [
       "True"
      ]
     },
     "metadata": {},
     "execution_count": 59
    }
   ],
   "metadata": {}
  },
  {
   "cell_type": "markdown",
   "source": [
    "### 最后一块石头的重量\r\n",
    "有一堆石头，每块石头的重量都是正整数，每一个回合，从中选出任一两块石头，然后将它们一起粉碎，假设石头的重量分别为x,y，且x<=y，那么粉碎的可能结果如下：\r\n",
    "* 如果x=y，那么两块石头都被完全粉碎\r\n",
    "* 如果x!=y，那么重量为x的石头将会被完全粉碎，而重量为y的石头新重量为y-x\r\n",
    "* 最后最多就会剩下一块石头。返回次石头最小的可能重量。如果没有石头剩下，就返回0"
   ],
   "metadata": {}
  },
  {
   "cell_type": "code",
   "execution_count": 64,
   "source": [
    "def last_stone_weight(stones: list):\r\n",
    "    # 问题转化为将石头分为两堆，\r\n",
    "    # 每堆的最大重量为所有石头重量和的一半，\r\n",
    "    # 最后剩下的最小重量就是总重量减去两堆石头的重量\r\n",
    "    dp = [0] * 15001\r\n",
    "    sum_ = sum(stones)\r\n",
    "    target = sum_ // 2\r\n",
    "    for i in range(len(stones)):\r\n",
    "        for j in reversed(range(stones[i], target+1)):\r\n",
    "            dp[j] = max(dp[j-stones[i]] + stones[i], dp[j])\r\n",
    "    return sum_ - dp[target] * 2"
   ],
   "outputs": [],
   "metadata": {}
  },
  {
   "cell_type": "code",
   "execution_count": 65,
   "source": [
    "last_stone_weight([2,7,4,1,8,1])"
   ],
   "outputs": [
    {
     "output_type": "execute_result",
     "data": {
      "text/plain": [
       "1"
      ]
     },
     "metadata": {},
     "execution_count": 65
    }
   ],
   "metadata": {}
  },
  {
   "cell_type": "markdown",
   "source": [
    "### 目标和\r\n",
    "给定一个非负证书组，a1,a2....an和一个目标数S，现在你有两个符号+和-。对于数组中的任意一个正数，你都可以从+ 或-中选择一个符号添加在前面，返回可以谁最终数组和为目标数D的所有添加符号的方法数"
   ],
   "metadata": {}
  },
  {
   "cell_type": "code",
   "execution_count": 76,
   "source": [
    "def find_target_sum_ways(nums: list, S: int):\r\n",
    "    sum_ = sum(nums)\r\n",
    "    if S > sum_ or (S + sum_) % 2 == 1:\r\n",
    "        return 0\r\n",
    "    bag_size = (S + sum_) // 2\r\n",
    "    dp = [0] * (bag_size + 1)\r\n",
    "    dp[0] = 1\r\n",
    "    for i in range(len(nums)):\r\n",
    "        for j in reversed(range(nums[i], bag_size+1)):\r\n",
    "            dp[j] += dp[j - nums[i]]\r\n",
    "    print(dp)\r\n",
    "    return dp[-1]"
   ],
   "outputs": [],
   "metadata": {}
  },
  {
   "cell_type": "code",
   "execution_count": 77,
   "source": [
    "find_target_sum_ways([1,1,1,1,1], 3)"
   ],
   "outputs": [
    {
     "output_type": "stream",
     "name": "stdout",
     "text": [
      "[1, 5, 10, 10, 5]\n"
     ]
    },
    {
     "output_type": "execute_result",
     "data": {
      "text/plain": [
       "5"
      ]
     },
     "metadata": {},
     "execution_count": 77
    }
   ],
   "metadata": {}
  },
  {
   "cell_type": "code",
   "execution_count": null,
   "source": [],
   "outputs": [],
   "metadata": {}
  }
 ]
}