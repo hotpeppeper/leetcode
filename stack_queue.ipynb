{
 "metadata": {
  "language_info": {
   "codemirror_mode": {
    "name": "ipython",
    "version": 3
   },
   "file_extension": ".py",
   "mimetype": "text/x-python",
   "name": "python",
   "nbconvert_exporter": "python",
   "pygments_lexer": "ipython3",
   "version": "3.8.5-final"
  },
  "orig_nbformat": 2,
  "kernelspec": {
   "name": "python3",
   "display_name": "Python 3.8.5 64-bit ('ProgramData': virtualenv)",
   "metadata": {
    "interpreter": {
     "hash": "3fa48bb2c24bfd2c860ebc2f76fcf240faeca9c313f5297b1080b141badca120"
    }
   }
  }
 },
 "nbformat": 4,
 "nbformat_minor": 2,
 "cells": [
  {
   "source": [
    "#### 前 K 个高频元素\n",
    "\n",
    "给定一个非空的整数数组，返回其中出现频率前 k 高的元素。"
   ],
   "cell_type": "markdown",
   "metadata": {}
  },
  {
   "cell_type": "code",
   "execution_count": 2,
   "metadata": {},
   "outputs": [],
   "source": [
    "import heapq\n",
    "from collections import Counter"
   ]
  },
  {
   "cell_type": "code",
   "execution_count": 3,
   "metadata": {},
   "outputs": [],
   "source": [
    "def topK_frquent(A, k):\n",
    "    count = Counter(A)\n",
    "    # Python实现的是最大堆，取负变成最小堆，\n",
    "    heap = [(-freq, word) for word, freq in count.items()]\n",
    "    heapq.heapify(heap)\n",
    "    return [heapq.heappop(heap)[1] for _ in range(k)]"
   ]
  },
  {
   "cell_type": "code",
   "execution_count": 4,
   "metadata": {},
   "outputs": [
    {
     "output_type": "execute_result",
     "data": {
      "text/plain": [
       "[1, 2]"
      ]
     },
     "metadata": {},
     "execution_count": 4
    }
   ],
   "source": [
    "topK_frquent([1,1,1,2,2,3], 2)"
   ]
  },
  {
   "source": [
    "#### 可以到达的最远建筑\n",
    "给你一个整数数组 heights ，表示建筑物的高度。另有一些砖块 bricks 和梯子 ladders 。你从建筑物 0 开始旅程，不断向后面的建筑物移动，期间可能会用到砖块或梯子。当从建筑物 i 移动到建筑物 i+1（下标 从 0 开始 ）时：如果当前建筑物的高度 大于或等于 下一建筑物的高度，则不需要梯子或砖块,如果当前建筑的高度 小于 下一个建筑的高度，您可以使用 一架梯子 或 (h\\[i+1\\] - h\\[i\\]) 个砖块,如果以最佳方式使用给定的梯子和砖块，返回你可以到达的最远建筑物的下标（下标 从 0 开始 ）。"
   ],
   "cell_type": "markdown",
   "metadata": {}
  },
  {
   "cell_type": "code",
   "execution_count": 8,
   "metadata": {},
   "outputs": [],
   "source": [
    "from queue import PriorityQueue\n",
    "import queue"
   ]
  },
  {
   "cell_type": "code",
   "execution_count": 9,
   "metadata": {},
   "outputs": [],
   "source": [
    "def furthest_building(heights, bricks, ladders):\n",
    "    if not heights:\n",
    "        return -1\n",
    "    # 用来记录高度差\n",
    "    Q = PriorityQueue()\n",
    "    q_sum = 0\n",
    "\n",
    "    last_pos = 0\n",
    "    pre_height = heights[0]\n",
    "    for i in range(1, len(heights)):\n",
    "        cur_height = heights[i]\n",
    "        if pre_height >= cur_height:\n",
    "            # 往下跳或者平跳\n",
    "            last_pos += 1\n",
    "        else:\n",
    "            delta = cur_height - pre_height\n",
    "            # 记录高度差\n",
    "            Q.put(-delta)\n",
    "            # 高度差和\n",
    "            q_sum += delta\n",
    "            # 如果高度差和大于砖块数，则用梯子把最大的高度差抵消\n",
    "            if q_sum > bricks and ladders > 0:\n",
    "                q_sum -= -Q.get()\n",
    "                ladders -= 1\n",
    "\n",
    "            if q_sum <= bricks:\n",
    "                last_pos += 1\n",
    "            else:\n",
    "                break\n",
    "        pre_height = cur_height\n",
    "    return last_pos"
   ]
  },
  {
   "cell_type": "code",
   "execution_count": 10,
   "metadata": {},
   "outputs": [
    {
     "output_type": "execute_result",
     "data": {
      "text/plain": [
       "7"
      ]
     },
     "metadata": {},
     "execution_count": 10
    }
   ],
   "source": [
    "furthest_building([4,12,2,7,3,18,20,3,19], 10, 2)"
   ]
  },
  {
   "cell_type": "code",
   "execution_count": 11,
   "metadata": {},
   "outputs": [
    {
     "output_type": "execute_result",
     "data": {
      "text/plain": [
       "3"
      ]
     },
     "metadata": {},
     "execution_count": 11
    }
   ],
   "source": [
    "furthest_building([14,3,19,3], 17, 0)"
   ]
  },
  {
   "source": [
    "#### 最低加油次数\n",
    "汽车从起点出发驶向目的地，该目的地位于出发位置东面 target 英里处, 沿途有加油站，每个 station\\[i\\] 代表一个加油站，它位于出发位置东面 station\\[i\\]\\[0\\] 英里处，并且有 station\\[i\\]\\[1\\]升汽油。 假设汽车油箱的容量是无限的，其中最初有 startFuel 升燃料。它每行驶 1 英里就会用掉 1 升汽油。当汽车到达加油站时，它可能停下来加油，将所有汽油从加油站转移到汽车中。为了到达目的地，汽车所必要的最低加油次数是多少？如果无法到达目的地，则返回 -1 。注意：如果汽车到达加油站时剩余燃料为 0，它仍然可以在那里加油。如果汽车到达目的地时剩余燃料为 0，仍然认为它已经到达目的地。"
   ],
   "cell_type": "markdown",
   "metadata": {}
  },
  {
   "cell_type": "code",
   "execution_count": 12,
   "metadata": {},
   "outputs": [],
   "source": [
    "import queue\n",
    "from queue import PriorityQueue\n",
    "def min_refuel_stops(target, startFuel, stations):\n",
    "    n = len(stations)\n",
    "    i = 0\n",
    "    cur_pos = 0\n",
    "    fuel_left = startFuel\n",
    "    # 用来记录沿途可加的油的数量\n",
    "    Q = PriorityQueue()\n",
    "    add_time = 0\n",
    "\n",
    "    while cur_pos + fuel_left < target:\n",
    "        pos = target\n",
    "        fuel = 0\n",
    "\n",
    "        if i < n and stations[i][0] < target:\n",
    "            # 如果有位于target之前的站点，则更新加油站的位置和油箱的油量\n",
    "            pos = stations[i][0]\n",
    "            fule = stations[i][1]\n",
    "\n",
    "        while cur_pos + fuel_left < pos:\n",
    "            if Q.empty():\n",
    "                # 油箱没油了\n",
    "                return -1\n",
    "            # 从队列中拿出最大的油量\n",
    "            cur_max_fuel = -Q.get()\n",
    "            fuel_left += cur_max_fuel\n",
    "            add_time += 1\n",
    "        # 减去行驶使用的油\n",
    "        fuel_cost = pos - cur_pos\n",
    "        fuel_left -= fuel_cost\n",
    "        cur_pos = pos\n",
    "\n",
    "        if fule > 0:\n",
    "            Q.put(-fule)\n",
    "        i += 1\n",
    "    return add_time if cur_pos + fuel_left >= target else -1"
   ]
  },
  {
   "cell_type": "code",
   "execution_count": 13,
   "metadata": {},
   "outputs": [
    {
     "output_type": "execute_result",
     "data": {
      "text/plain": [
       "2"
      ]
     },
     "metadata": {},
     "execution_count": 13
    }
   ],
   "source": [
    "min_refuel_stops(100, 10, [[10,60],[20,30],[30,30],[60,40]])"
   ]
  },
  {
   "source": [
    "#### 跳跃游戏 VI\n",
    "\n",
    "给你一个下标从 0 开始的整数数组 nums 和一个整数 k 。\n",
    "\n",
    "一开始你在下标 0 处。每一步，你最多可以往前跳 k 步，但你不能跳出数组的边界。也就是说，你可以从下标 i 跳到 \\[i + 1， min(n - 1, i + k)\\] 包含 两个端点的任意位置。\n",
    "\n",
    "你的目标是到达数组最后一个位置（下标为 n - 1 ），你的 得分 为经过的所有数字之和。\n",
    "\n",
    "请你返回你能得到的 最大得分 。"
   ],
   "cell_type": "markdown",
   "metadata": {}
  },
  {
   "cell_type": "code",
   "execution_count": 16,
   "metadata": {},
   "outputs": [],
   "source": [
    "def max_result(nums, k):\n",
    "    # 使用最大堆\n",
    "    n = len(nums)\n",
    "    res = nums[0]\n",
    "    heap = []\n",
    "    heapq.heappush(heap, (-res, 0))\n",
    "    for i in range(1, n):\n",
    "        while heap and i - heap[0][1] > k:\n",
    "            heapq.heappop(heap)\n",
    "        res = nums[i] - heap[0][0]\n",
    "        heapq.heappush(heap, (-res, i))\n",
    "    return res"
   ]
  },
  {
   "cell_type": "code",
   "execution_count": 17,
   "metadata": {},
   "outputs": [
    {
     "output_type": "execute_result",
     "data": {
      "text/plain": [
       "7"
      ]
     },
     "metadata": {},
     "execution_count": 17
    }
   ],
   "source": [
    "max_result([1,-1,-2,4,-7,3], 2)"
   ]
  },
  {
   "source": [
    "#### 简化路径\n",
    "给你一个字符串 path ，表示指向某一文件或目录的 Unix 风格 绝对路径 （以 '/' 开头），请你将其转化为更加简洁的规范路径。"
   ],
   "cell_type": "markdown",
   "metadata": {}
  },
  {
   "cell_type": "code",
   "execution_count": 3,
   "metadata": {},
   "outputs": [],
   "source": [
    "def simplifyPath(path: str) -> str:\n",
    "    path_str = path.split('/')\n",
    "    stack = []\n",
    "    for c in path_str:\n",
    "        if c == '.' or c == '':\n",
    "            continue\n",
    "        if c == '..':\n",
    "            if stack:\n",
    "                stack.pop()\n",
    "        else:\n",
    "            stack.append(c)\n",
    "\n",
    "    return '/' + '/'.join(stack)"
   ]
  },
  {
   "cell_type": "code",
   "execution_count": 4,
   "metadata": {},
   "outputs": [
    {
     "output_type": "execute_result",
     "data": {
      "text/plain": [
       "'/c'"
      ]
     },
     "metadata": {},
     "execution_count": 4
    }
   ],
   "source": [
    "simplifyPath('/a/./b/../../c/')"
   ]
  },
  {
   "source": [
    "#### 在排序数组中查找元素的第一个和最后一个位置\n",
    "给定一个按照升序排列的整数数组 nums，和一个目标值 target。找出给定目标值在数组中的开始位置和结束位置。\n",
    "如果数组中不存在目标值 target，返回 \\[-1, -1\\]。"
   ],
   "cell_type": "markdown",
   "metadata": {}
  },
  {
   "cell_type": "code",
   "execution_count": 5,
   "metadata": {},
   "outputs": [],
   "source": [
    "def searchRange(nums: list, target):\n",
    "    def left(nums, target):\n",
    "        # 搜索左边\n",
    "        if len(nums) == 0:\n",
    "            return -1\n",
    "        l, r = 0, len(nums) - 1\n",
    "        while l <= r:\n",
    "            mid = (l + r) // 2\n",
    "            if nums[mid] == target:\n",
    "                r = mid - 1\n",
    "            elif nums[mid] > target:\n",
    "                r = mid - 1\n",
    "            else:\n",
    "                l = mid + 1\n",
    "        if l <= len(nums) and nums[l] == target:\n",
    "            return l\n",
    "        else:\n",
    "            return -1\n",
    "\n",
    "    def right(nums, target):\n",
    "        if len(nums) == 0:\n",
    "            return -1\n",
    "        l, r = 0, len(nums) - 1\n",
    "        while l <= r:\n",
    "            mid = (l + r) // 2\n",
    "            if nums[mid] == target:\n",
    "                l = mid + 1\n",
    "            elif nums[mid] < target:\n",
    "                l = mid + 1\n",
    "            else:\n",
    "                r = mid - 1\n",
    "        if r >=0 and nums[r] == target:\n",
    "            return r\n",
    "        else:\n",
    "            return -1\n",
    "    \n",
    "    return [left(nums, target), right(nums, target)]"
   ]
  },
  {
   "source": [
    "searchRange([5,7,7,8,8,10], 8)"
   ],
   "cell_type": "code",
   "metadata": {},
   "execution_count": null,
   "outputs": []
  },
  {
   "cell_type": "code",
   "execution_count": null,
   "metadata": {},
   "outputs": [],
   "source": []
  }
 ]
}