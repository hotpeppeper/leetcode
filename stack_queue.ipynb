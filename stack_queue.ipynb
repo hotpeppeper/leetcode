{
 "metadata": {
  "language_info": {
   "codemirror_mode": {
    "name": "ipython",
    "version": 3
   },
   "file_extension": ".py",
   "mimetype": "text/x-python",
   "name": "python",
   "nbconvert_exporter": "python",
   "pygments_lexer": "ipython3",
   "version": "3.8.5-final"
  },
  "orig_nbformat": 2,
  "kernelspec": {
   "name": "python3",
   "display_name": "Python 3.8.5 64-bit ('ProgramData': virtualenv)",
   "metadata": {
    "interpreter": {
     "hash": "3fa48bb2c24bfd2c860ebc2f76fcf240faeca9c313f5297b1080b141badca120"
    }
   }
  }
 },
 "nbformat": 4,
 "nbformat_minor": 2,
 "cells": [
  {
   "source": [
    "#### 前 K 个高频元素\n",
    "\n",
    "给定一个非空的整数数组，返回其中出现频率前 k 高的元素。"
   ],
   "cell_type": "markdown",
   "metadata": {}
  },
  {
   "cell_type": "code",
   "execution_count": 2,
   "metadata": {},
   "outputs": [],
   "source": [
    "import heapq\n",
    "from collections import Counter"
   ]
  },
  {
   "cell_type": "code",
   "execution_count": 3,
   "metadata": {},
   "outputs": [],
   "source": [
    "def topK_frquent(A, k):\n",
    "    count = Counter(A)\n",
    "    # Python实现的是最大堆，取负变成最小堆，\n",
    "    heap = [(-freq, word) for word, freq in count.items()]\n",
    "    heapq.heapify(heap)\n",
    "    return [heapq.heappop(heap)[1] for _ in range(k)]"
   ]
  },
  {
   "cell_type": "code",
   "execution_count": 4,
   "metadata": {},
   "outputs": [
    {
     "output_type": "execute_result",
     "data": {
      "text/plain": [
       "[1, 2]"
      ]
     },
     "metadata": {},
     "execution_count": 4
    }
   ],
   "source": [
    "topK_frquent([1,1,1,2,2,3], 2)"
   ]
  },
  {
   "source": [
    "#### 可以到达的最远建筑\n",
    "给你一个整数数组 heights ，表示建筑物的高度。另有一些砖块 bricks 和梯子 ladders 。你从建筑物 0 开始旅程，不断向后面的建筑物移动，期间可能会用到砖块或梯子。当从建筑物 i 移动到建筑物 i+1（下标 从 0 开始 ）时：如果当前建筑物的高度 大于或等于 下一建筑物的高度，则不需要梯子或砖块,如果当前建筑的高度 小于 下一个建筑的高度，您可以使用 一架梯子 或 (h\\[i+1\\] - h\\[i\\]) 个砖块,如果以最佳方式使用给定的梯子和砖块，返回你可以到达的最远建筑物的下标（下标 从 0 开始 ）。"
   ],
   "cell_type": "markdown",
   "metadata": {}
  },
  {
   "cell_type": "code",
   "execution_count": 8,
   "metadata": {},
   "outputs": [],
   "source": [
    "from queue import PriorityQueue\n",
    "import queue"
   ]
  },
  {
   "cell_type": "code",
   "execution_count": 9,
   "metadata": {},
   "outputs": [],
   "source": [
    "def furthest_building(heights, bricks, ladders):\n",
    "    if not heights:\n",
    "        return -1\n",
    "    # 用来记录高度差\n",
    "    Q = PriorityQueue()\n",
    "    q_sum = 0\n",
    "\n",
    "    last_pos = 0\n",
    "    pre_height = heights[0]\n",
    "    for i in range(1, len(heights)):\n",
    "        cur_height = heights[i]\n",
    "        if pre_height >= cur_height:\n",
    "            # 往下跳或者平跳\n",
    "            last_pos += 1\n",
    "        else:\n",
    "            delta = cur_height - pre_height\n",
    "            # 记录高度差\n",
    "            Q.put(-delta)\n",
    "            # 高度差和\n",
    "            q_sum += delta\n",
    "            # 如果高度差和大于砖块数，则用梯子把最大的高度差抵消\n",
    "            if q_sum > bricks and ladders > 0:\n",
    "                q_sum -= -Q.get()\n",
    "                ladders -= 1\n",
    "\n",
    "            if q_sum <= bricks:\n",
    "                last_pos += 1\n",
    "            else:\n",
    "                break\n",
    "        pre_height = cur_height\n",
    "    return last_pos"
   ]
  },
  {
   "cell_type": "code",
   "execution_count": 10,
   "metadata": {},
   "outputs": [
    {
     "output_type": "execute_result",
     "data": {
      "text/plain": [
       "7"
      ]
     },
     "metadata": {},
     "execution_count": 10
    }
   ],
   "source": [
    "furthest_building([4,12,2,7,3,18,20,3,19], 10, 2)"
   ]
  },
  {
   "cell_type": "code",
   "execution_count": 11,
   "metadata": {},
   "outputs": [
    {
     "output_type": "execute_result",
     "data": {
      "text/plain": [
       "3"
      ]
     },
     "metadata": {},
     "execution_count": 11
    }
   ],
   "source": [
    "furthest_building([14,3,19,3], 17, 0)"
   ]
  },
  {
   "cell_type": "code",
   "execution_count": null,
   "metadata": {},
   "outputs": [],
   "source": []
  }
 ]
}