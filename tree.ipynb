{
 "cells": [
  {
   "cell_type": "markdown",
   "metadata": {},
   "source": [
    "#### 二叉树的遍历\n",
    "* 先序遍历  根节点->左子树->右子树"
   ]
  },
  {
   "cell_type": "code",
   "execution_count": 2,
   "metadata": {},
   "outputs": [],
   "source": [
    "class TreeNode:\n",
    "    def __init__(self, x):\n",
    "        self.value = x\n",
    "        self.left = None\n",
    "        self.right = None"
   ]
  },
  {
   "cell_type": "code",
   "execution_count": 9,
   "metadata": {},
   "outputs": [],
   "source": [
    "def pre_order(head: TreeNode):\n",
    "    if not head:\n",
    "        return\n",
    "    print(head.value)\n",
    "    pre_order(head.left)\n",
    "    pre_order(head.right)"
   ]
  },
  {
   "cell_type": "code",
   "execution_count": 10,
   "metadata": {},
   "outputs": [],
   "source": [
    "# 非递归方式前序遍历\n",
    "def pre_order_stack(root, TreeNode):\n",
    "    if not root:\n",
    "        return []\n",
    "    stack = [root] # 模拟栈\n",
    "    res = []\n",
    "    while stack:\n",
    "        node = stack.pop()\n",
    "        if node:\n",
    "            res.append(node.val)\n",
    "            # 栈是FILO。所以右子树先入栈\n",
    "            if node.right:\n",
    "                # 右子树压栈\n",
    "                stack.append(node.right)\n",
    "            if node.left:\n",
    "                # 左子树压栈\n",
    "                stack.append(node.left)\n",
    "    return res"
   ]
  },
  {
   "cell_type": "markdown",
   "metadata": {},
   "source": [
    "* 中序遍历 左子树->根节点->右子树"
   ]
  },
  {
   "cell_type": "code",
   "execution_count": 11,
   "metadata": {},
   "outputs": [],
   "source": [
    "def in_order(head: TreeNode):\n",
    "    if not head:\n",
    "        return\n",
    "    in_order(head.left)\n",
    "    print(head.value)\n",
    "    in_order(head.right)"
   ]
  },
  {
   "cell_type": "code",
   "execution_count": 12,
   "metadata": {},
   "outputs": [],
   "source": [
    "def in_order_stack(root: TreeNode):\n",
    "    stack = []\n",
    "    res = []\n",
    "    while root or len(stack) > 0:\n",
    "        while root:\n",
    "            # 先遍历到最左边的一个节点，把中间路过的节点压栈\n",
    "            stack.append(root)\n",
    "            root = root.left\n",
    "        root = stack.pop()\n",
    "        res.append(root.value)\n",
    "        # 将指针指向节点的右节点，如果右节点为null，则访问当前节点的父节点\n",
    "        root = root.right\n",
    "    return res"
   ]
  },
  {
   "cell_type": "markdown",
   "metadata": {},
   "source": [
    "* 后序遍历 左子树->右子树->根节点"
   ]
  },
  {
   "cell_type": "code",
   "execution_count": 13,
   "metadata": {},
   "outputs": [],
   "source": [
    "def post_order(head: TreeNode):\n",
    "    if not head:\n",
    "        return\n",
    "    post_order(head.left)\n",
    "    post_order(head.right)\n",
    "    print(head.value)"
   ]
  },
  {
   "cell_type": "code",
   "execution_count": 14,
   "metadata": {},
   "outputs": [],
   "source": [
    "def post_order_stack(head: TreeNode):\n",
    "    if not head:\n",
    "        return\n",
    "    stack = [head]\n",
    "    res = []\n",
    "    while stack:\n",
    "        node = stack.pop()\n",
    "        res.append(node.value)\n",
    "        if node.left:\n",
    "            stack.append(node.left)\n",
    "        if node.right:\n",
    "            stack.append(node.right)\n",
    "    return res[::-1]"
   ]
  },
  {
   "cell_type": "markdown",
   "metadata": {},
   "source": [
    "* 层序遍历\n",
    "逐层地，从左到右遍历所有的节点"
   ]
  },
  {
   "cell_type": "code",
   "execution_count": 15,
   "metadata": {},
   "outputs": [],
   "source": [
    "def level_order(head: TreeNode):\n",
    "    if not head:\n",
    "        return []\n",
    "\n",
    "    res = []\n",
    "    layers = deque()\n",
    "    layers.append(head)\n",
    "    while layers:\n",
    "        cur = []\n",
    "        for i in range(len(layers)):\n",
    "            node = layers.popleft()\n",
    "            cur.append(node.value)\n",
    "            if node.left:\n",
    "                layers.append(node.left)\n",
    "            if node.right:\n",
    "                layers.append(node.right)\n",
    "        res.append(cur)\n",
    "\n",
    "    return res"
   ]
  },
  {
   "cell_type": "markdown",
   "metadata": {},
   "source": [
    "* 二叉树的右视图\n",
    "给定一个二叉树，想象自己站在它的右侧，按照从顶部到底部的顺序，返回从右侧所能看到的节点值"
   ]
  },
  {
   "cell_type": "code",
   "execution_count": 16,
   "metadata": {},
   "outputs": [],
   "source": [
    "def right_view(root: TreeNode):\n",
    "    if not root:\n",
    "        return []\n",
    "    stack = [root]\n",
    "    res = []\n",
    "    while stack:\n",
    "        for i in range(len(stack)):\n",
    "            node = stack.pop()\n",
    "            if i == len(stack) - 1:\n",
    "                # 每一层最后一个元素即为右侧看见的元素\n",
    "                res.append(node.value)\n",
    "        if node.left:\n",
    "            stack.append(node.left)\n",
    "        if node.right:\n",
    "            stack.append(node.right)\n",
    "        \n",
    "    return res"
   ]
  },
  {
   "cell_type": "markdown",
   "metadata": {},
   "source": [
    "* 二叉树的层平均值\n",
    "给定一个二叉树，返回有每层节点平均值组成的数组"
   ]
  },
  {
   "cell_type": "code",
   "execution_count": 17,
   "metadata": {},
   "outputs": [],
   "source": [
    "def average_of_levels(root: TreeNode):\n",
    "    if not root:\n",
    "        return []\n",
    "    stack = [root]\n",
    "    res = []\n",
    "    while stack:\n",
    "        level_value = 0\n",
    "        n = len(stack)\n",
    "        for _ in range(n):\n",
    "            node = stack.pop()\n",
    "            level_value += node.value\n",
    "        res.append(level_value / n)\n",
    "        if node.left:\n",
    "            stack.append(node.left)\n",
    "        if node.right:\n",
    "            stack.append(node.right)\n",
    "    return res"
   ]
  },
  {
   "cell_type": "markdown",
   "metadata": {},
   "source": [
    "* 在每个树行中找最大值\n",
    "需要在二叉树中的每一行中找打最大的值"
   ]
  },
  {
   "cell_type": "code",
   "execution_count": 18,
   "metadata": {},
   "outputs": [],
   "source": [
    "def largest_values(root: TreeNode):\n",
    "    if not root:\n",
    "        return []\n",
    "\n",
    "    stack = [root]\n",
    "    res = []\n",
    "    while stack:\n",
    "        max_val = float('-inf')\n",
    "        n = len(stack)\n",
    "        for _ in range(n):\n",
    "            node = stack.pop()\n",
    "            if max_val < node.value:\n",
    "                max_val = node.value\n",
    "        if node.left:\n",
    "            stack.append(node.left)\n",
    "        if node.right:\n",
    "            stack.append(node.right)\n",
    "        res.append(max_val)"
   ]
  },
  {
   "cell_type": "markdown",
   "metadata": {},
   "source": [
    "#### 二叉树的最大深度\n",
    "给定一棵二叉树，找出其最大的深度"
   ]
  },
  {
   "cell_type": "code",
   "execution_count": 19,
   "metadata": {},
   "outputs": [],
   "source": [
    "def max_depth(root: TreeNode):\n",
    "    if not root:\n",
    "        return 0\n",
    "    else:\n",
    "        left_height = max_depth(root.left)\n",
    "        right_height = max_depth(root.right)\n",
    "        return max(left_height, right_height) + 1"
   ]
  },
  {
   "cell_type": "markdown",
   "metadata": {},
   "source": [
    "* 二叉树的最小深度\n",
    "给定一棵二叉树，找出其最小的深度"
   ]
  },
  {
   "cell_type": "code",
   "execution_count": 38,
   "metadata": {},
   "outputs": [],
   "source": [
    "def min_depth(root: TreeNode):\n",
    "    if not root:\n",
    "        return 0\n",
    "    left_depth = min_depth(root.left)\n",
    "    right_depth  = min_depth(root.right)\n",
    "    # 当左子树为空，右子树不为空，这是不是最低点\n",
    "    if not root.left and root.right:\n",
    "        return 1 + right_depth\n",
    "    # 当左子树不为空，右子树为空，这是不是最低点\n",
    "    if root.left and not root.right:\n",
    "        return 1 + left_depth\n",
    "    return 1 + min(left_depth, right_depth)"
   ]
  },
  {
   "cell_type": "markdown",
   "metadata": {},
   "source": [
    "#### 对称二叉树\n",
    "给定一棵二叉树，检查它是否对称"
   ]
  },
  {
   "cell_type": "code",
   "execution_count": 20,
   "metadata": {},
   "outputs": [],
   "source": [
    "def is_symmetric(root: TreeNode):\n",
    "    def check(p: TreeNode, q: TreeNode):\n",
    "        if not p and not q:\n",
    "            return True\n",
    "        if not p or not q:\n",
    "            return False\n",
    "        return q.value == p.value and check(p.left, q.right) and check(p.right, q.left)\n",
    "\n",
    "    return check(root, root)"
   ]
  },
  {
   "cell_type": "markdown",
   "metadata": {},
   "source": [
    "#### 从中序与后序遍历序列构造二叉树\n",
    "根据一棵树的中序遍历与后序遍历构造二叉树。"
   ]
  },
  {
   "cell_type": "code",
   "execution_count": 21,
   "metadata": {},
   "outputs": [],
   "source": [
    "def build_tree(inorder, postorder):\n",
    "    def helper(left, right):\n",
    "        if left > right:\n",
    "            return None\n",
    "        val = postorder.pop()\n",
    "        # 构造节点\n",
    "        root = TreeNode(val)\n",
    "        # 从中序遍历中找到val的位置\n",
    "        index = idx_map[val]\n",
    "        # 构造右子树\n",
    "        root.right = helper(index+1, right)\n",
    "        # 构造左子树\n",
    "        root.left = helper(left, index-1)\n",
    "        return root\n",
    "\n",
    "    idx_map = {val:idx for idx, val in enumerate(inorder)}\n",
    "    return helper(0, len(idx_map)-1)"
   ]
  },
  {
   "cell_type": "markdown",
   "metadata": {},
   "source": [
    "#### 从前序与中序遍历序列构造二叉树\n",
    "根据一棵树的前序遍历与中序遍历构造二叉树。"
   ]
  },
  {
   "cell_type": "code",
   "execution_count": 22,
   "metadata": {},
   "outputs": [],
   "source": [
    "def build_tree(preorder, inorder):\n",
    "    def helper(pre_left, pre_right, in_left, in_right):\n",
    "        if pre_left > pre_right:\n",
    "            return None\n",
    "\n",
    "        pre_root = pre_left\n",
    "        in_root = idx_map[pre_order[pre_root]]\n",
    "        root = TreeNode(preorder[pre_root])\n",
    "        # 左子树的长度\n",
    "        left_sub_tree_len = in_root - in_left\n",
    "        root.left = helper(pre_left+1, pre_left+left_sub_tree_len, in_left, in_root-1)\n",
    "        root.right = helper(pre_left+left_sub_tree_len+1, pre_right, in_order+1, in_right)\n",
    "\n",
    "        return root\n",
    "    idx_map = {val:idx for idx, val in enumerate(inorder)}\n",
    "    n = len(idx_map)\n",
    "    return helper(0, n-1, 0, n-1)"
   ]
  },
  {
   "cell_type": "markdown",
   "metadata": {},
   "source": [
    "#### 二叉树的最近公共祖先\n",
    "给定一个二叉树, 找到该树中两个指定节点的最近公共祖先。"
   ]
  },
  {
   "cell_type": "code",
   "execution_count": 23,
   "metadata": {},
   "outputs": [],
   "source": [
    "def lowest_common_ancestor(root: TreeNode, p: TreeNode, q: TreeNode):\n",
    "    if not root or root == p or root == q:\n",
    "        return root\n",
    "    lson = lowest_common_ancestor(root.left, p, q)\n",
    "    rson = lowest_common_ancestor(root.right, p, q)\n",
    "\n",
    "    if not lson and not rson:\n",
    "        # 左右子树都不含p, q，返回空\n",
    "        return\n",
    "    if not lson:\n",
    "        \n",
    "        return rson\n",
    "    if not rson:\n",
    "        return lson\n",
    "    return root"
   ]
  },
  {
   "cell_type": "markdown",
   "metadata": {},
   "source": [
    "#### 路径总和\n",
    "给定一个二叉树和一个目标和，判断该树中是否存在根节点到叶子节点的路径，这条路径上所有节点值相加等于目标和。\n",
    "说明: 叶子节点是指没有子节点的节点。"
   ]
  },
  {
   "cell_type": "code",
   "execution_count": 24,
   "metadata": {},
   "outputs": [],
   "source": [
    "def had_path_sum(root: TreeNode, sum_: int):\n",
    "    if not root:\n",
    "        return False\n",
    "    if root.left == None and root.right == None:\n",
    "        return sum_ - root.value == 0\n",
    "    return had_path_sum(root.left, sum_-root.value) or had_path_sum(root.right, sum_-root.value)"
   ]
  },
  {
   "cell_type": "code",
   "execution_count": null,
   "metadata": {},
   "outputs": [],
   "source": [
    "def had_path_sum(root: TreeNode, sum_: int):\n",
    "    if not root:\n",
    "        return False\n",
    "    if root.left is None and root.right is None:\n",
    "        return sum_ - root.value == 0\n",
    "    if root.left:\n",
    "        sum_ -= root.value # 递归\n",
    "        if had_path_sum(root.left):\n",
    "            return True\n",
    "        sum_ += root.value # 回溯\n",
    "    if root.right:\n",
    "        sum_ -= root.value\n",
    "        if had_path_sum(root.right):\n",
    "            return True\n",
    "        sum_ -= root.value\n",
    "    return False"
   ]
  },
  {
   "cell_type": "markdown",
   "metadata": {},
   "source": [
    "#### 路径总和 II\n",
    "给定一个二叉树和一个目标和，找到所有从根节点到叶子节点路径总和等于给定目标和的路径。\n",
    "\n",
    "说明: 叶子节点是指没有子节点的节点。"
   ]
  },
  {
   "cell_type": "code",
   "execution_count": 25,
   "metadata": {},
   "outputs": [],
   "source": [
    "def path_sum(root: TreeNode, sum: int) -> list:\n",
    "    path = []\n",
    "    res = []\n",
    "    def dfs(root, sum_):\n",
    "        if root == None:\n",
    "            return\n",
    "\n",
    "        path.append(root.value)\n",
    "        sum_ -= root.value\n",
    "        if root.left == None and root.right == None and sum_ == 0:\n",
    "            res.append(path[:])\n",
    "        dfs(root.left, sum_)\n",
    "        dfs(root.right, sum_)\n",
    "        path.pop()\n",
    "    \n",
    "    dfs(root, sum)\n",
    "    return res"
   ]
  },
  {
   "cell_type": "markdown",
   "metadata": {},
   "source": [
    "* 二叉树的所有路径\n",
    "给定一棵二叉树，返回所有从根节点到叶子节点的路径"
   ]
  },
  {
   "cell_type": "code",
   "execution_count": 41,
   "metadata": {},
   "outputs": [],
   "source": [
    "def binary_tree_path(root: TreeNode):\n",
    "    def construct(node, path):\n",
    "        if node:\n",
    "            path.append(node.value)\n",
    "            if not node.left or not node.right:\n",
    "                paths.append(path[:])\n",
    "            else:\n",
    "                if node.left:\n",
    "                    construct(node.left, path)\n",
    "                    path.pop()\n",
    "                if node.right:\n",
    "                    construct(node.right, path)\n",
    "                    path.pop()\n",
    "\n",
    "    paths = []\n",
    "    construct(root, [])\n",
    "    return ['->'.join(p) for p in paths]"
   ]
  },
  {
   "cell_type": "markdown",
   "metadata": {},
   "source": [
    "#### 建立二叉搜索树"
   ]
  },
  {
   "cell_type": "code",
   "execution_count": 26,
   "metadata": {},
   "outputs": [],
   "source": [
    "def insert(root: TreeNode, item: int):\n",
    "    if not root:\n",
    "        root = TreeNode(item)\n",
    "    elif item < root.value:\n",
    "        insert(root.left, item)\n",
    "    else:\n",
    "        insert(root.right, item)"
   ]
  },
  {
   "cell_type": "markdown",
   "metadata": {},
   "source": [
    "#### 搜索二叉树查找"
   ]
  },
  {
   "cell_type": "code",
   "execution_count": 27,
   "metadata": {},
   "outputs": [],
   "source": [
    "# 递归\n",
    "def search_bst(root: TreeNode, item: int):\n",
    "    if not root:\n",
    "        return False\n",
    "    state = False\n",
    "    if item == root.value:\n",
    "        state = True\n",
    "    if item < root.value:\n",
    "        state = search_bst(root.left, item)\n",
    "    if item >= root.value:\n",
    "        state = search_bst(root.right, item)\n",
    "    return state"
   ]
  },
  {
   "cell_type": "code",
   "execution_count": 28,
   "metadata": {},
   "outputs": [],
   "source": [
    "# 非递归\n",
    "def search_bst(root: TreeNode, item: int):\n",
    "    while root:\n",
    "        if item == root.value:\n",
    "            return True\n",
    "        if item < root.value:\n",
    "            root = root.left\n",
    "        if item >= root.value:\n",
    "            root = root.right\n",
    "    return False"
   ]
  },
  {
   "cell_type": "markdown",
   "metadata": {},
   "source": [
    "#### 验证二叉搜索树\n",
    "给定一个二叉树，判断其是否是一个有效的二叉搜索树。"
   ]
  },
  {
   "cell_type": "code",
   "execution_count": 29,
   "metadata": {},
   "outputs": [],
   "source": [
    "# 二叉搜索树的中序遍历为一个递增的序列\n",
    "def is_valid_bst(root: TreeNode):\n",
    "    res = True\n",
    "    pre_val = float('inf')\n",
    "    def in_order(root):\n",
    "        in_order(root.left)\n",
    "        if pre_val >= root.value:\n",
    "            res = False\n",
    "            return\n",
    "        pre_val = root.value\n",
    "        in_order(root.right)\n",
    "    in_order(root)\n",
    "    return res"
   ]
  },
  {
   "cell_type": "markdown",
   "metadata": {},
   "source": [
    "#### 删除二叉搜索树中的节点\n",
    "给定一个二叉搜索树的根节点 root 和一个值 key，删除二叉搜索树中的 key 对应的节点，并保证二叉搜索树的性质不变。返回二叉搜索树（有可能被更新）的根节点的引用。\n"
   ]
  },
  {
   "cell_type": "code",
   "execution_count": 30,
   "metadata": {},
   "outputs": [],
   "source": [
    "def delete_node(root: TreeNode, key: int):\n",
    "    if not root:\n",
    "        return None\n",
    "    if key > root.val:\n",
    "        # 去右子树删除\n",
    "        root.right = delete_node(root.right, key)\n",
    "    elif key < root.val:\n",
    "        # 去左子树删除\n",
    "        root.left = delete_node(root.left, key)\n",
    "    else:\n",
    "        # 当前节点是要删除的节点\n",
    "        if not root.left:\n",
    "            # 无左子树\n",
    "            return root.right\n",
    "        if not root.right:\n",
    "            # 无右子树\n",
    "            return root.left\n",
    "        # 左右子树都有\n",
    "        node = root.right\n",
    "        while node.left:\n",
    "            #  寻找欲删除节点右子树的最左节点\n",
    "            node = node.left\n",
    "        node.left = root.left # 将欲删除节点的左子树成为其右子树的最左节点的左子树\n",
    "        root = root.right #  欲删除节点的右子顶替其位置，节点被删除\n",
    "    return root"
   ]
  },
  {
   "cell_type": "markdown",
   "metadata": {},
   "source": [
    "#### 把二叉搜索树转换为累加树\n",
    "\n",
    "给出二叉 搜索 树的根节点，该树的节点值各不相同，请你将其转换为累加树（Greater Sum Tree），使每个节点 node 的新值等于原树中大于或等于 node.val 的值之和"
   ]
  },
  {
   "cell_type": "code",
   "execution_count": 31,
   "metadata": {},
   "outputs": [],
   "source": [
    "def convertBST(nums):\n",
    "    def dfs(root):\n",
    "        nonlocal total\n",
    "        if root:\n",
    "            dfs(root.right)\n",
    "            total += root.val\n",
    "            root.val = total\n",
    "            dfs(root.left)\n",
    "\n",
    "    total = 0\n",
    "    dfs(root)\n",
    "    return total"
   ]
  },
  {
   "cell_type": "markdown",
   "metadata": {},
   "source": [
    "#### 实现前缀树"
   ]
  },
  {
   "cell_type": "code",
   "execution_count": 32,
   "metadata": {},
   "outputs": [],
   "source": [
    "from collections import defaultdict\n",
    "class TrieNode:\n",
    "    def __init__(self):\n",
    "        self.child = defaultdict(TrieNode)\n",
    "        self.is_word = False\n",
    "\n",
    "\n",
    "class Trie:\n",
    "    def __init__(self):\n",
    "        self.root = TrieNode()\n",
    "\n",
    "    def insert(self, word):\n",
    "        cur = self.root\n",
    "        for c in word:\n",
    "            cur = cur.child[c]\n",
    "        cur.is_word = True\n",
    "\n",
    "    def search(self, word):\n",
    "        cur = self.root\n",
    "        for c in word:\n",
    "            cur = cur.child.get(c)\n",
    "            if not cur:\n",
    "                return False\n",
    "        return cur.is_word\n",
    "\n",
    "    def start_with(self, prefix):\n",
    "        cur = self.root\n",
    "        for c in prefix:\n",
    "            cur = cur.child.get(c)\n",
    "            if not cur:\n",
    "                return False\n",
    "        return True"
   ]
  },
  {
   "cell_type": "markdown",
   "metadata": {},
   "source": [
    "#### 二叉树的层平均值\n",
    "给定一个非空二叉树, 返回一个由每层节点平均值组成的数组。"
   ]
  },
  {
   "cell_type": "code",
   "execution_count": 33,
   "metadata": {},
   "outputs": [],
   "source": [
    "def average_of_lever(root: TreeNode):\n",
    "    if not root:\n",
    "        return 0\n",
    "    res = []\n",
    "    layers = deque()\n",
    "    layers.append(root)\n",
    "    while layers:\n",
    "        tmp = 0\n",
    "        layer_size = len(layers)\n",
    "        for i in range(layer_size):\n",
    "            node = layers.popleft()\n",
    "            tmp += node.value\n",
    "            if node.left:\n",
    "                layers.append(node.left)\n",
    "            if node.right:\n",
    "                layers.append(node.right)\n",
    "        res.append(tmp / layer_size)\n",
    "    return res"
   ]
  },
  {
   "cell_type": "markdown",
   "metadata": {},
   "source": [
    "#### 相同的树\n",
    "给定两个二叉树，编写一个函数来检验它们是否相同。\n",
    "如果两个树在结构上相同，并且节点具有相同的值，则认为它们是相同的。"
   ]
  },
  {
   "cell_type": "code",
   "execution_count": 34,
   "metadata": {},
   "outputs": [],
   "source": [
    "def is_same_tree(p, q):\n",
    "    if p == q:\n",
    "        return True\n",
    "    if not p or not q:\n",
    "        return False\n",
    "    \n",
    "    return p.value == q.value \\\n",
    "        and is_same_tree(p.left, q.left) and is_same_tree(p.right, q.right)"
   ]
  },
  {
   "cell_type": "markdown",
   "metadata": {},
   "source": [
    "* 翻转二叉树\n",
    "翻转一颗二叉树"
   ]
  },
  {
   "cell_type": "code",
   "execution_count": 36,
   "metadata": {},
   "outputs": [],
   "source": [
    "def reverse_tree(root: TreeNode):\n",
    "    if not root:\n",
    "        return root\n",
    "    left = reverse_tree(root.left)\n",
    "    right = reverse_tree(root.right)\n",
    "    root.left, root.right = right, left\n",
    "    return root"
   ]
  },
  {
   "cell_type": "markdown",
   "metadata": {},
   "source": [
    "* 对称二叉树\n",
    "给定一个二叉树，检查它是否是镜像对称的"
   ]
  },
  {
   "cell_type": "code",
   "execution_count": 37,
   "metadata": {},
   "outputs": [],
   "source": [
    "def is_symmetric(root: TreeNode):\n",
    "    def compare(left: TreeNode, right: TreeNode):\n",
    "        if left is None and right is not None:\n",
    "            return False\n",
    "        elif left is not None and right is None:\n",
    "            return False\n",
    "        elif left is None and right is None:\n",
    "            return True\n",
    "        elif left.value != right.value:\n",
    "            return False\n",
    "        else:\n",
    "            outside = compare(left.left, right,right)\n",
    "            inside = compare(left.right, right,left)\n",
    "            return outside and inside\n",
    "\n",
    "    if not root:\n",
    "        return True\n",
    "    return compare(root.left, root.right)"
   ]
  },
  {
   "cell_type": "markdown",
   "metadata": {},
   "source": [
    "* 完全二叉树的节点个数\n",
    "给出一个完全二叉树，求出该树的节点个数"
   ]
  },
  {
   "cell_type": "code",
   "execution_count": 39,
   "metadata": {},
   "outputs": [],
   "source": [
    "def get_node_num(root: TreeNode):\n",
    "    if not root:\n",
    "        return 0\n",
    "    left_num = get_node_num(root.left)\n",
    "    right_num = get_node_num(root.right)\n",
    "    return left_num + right_num + 1"
   ]
  },
  {
   "cell_type": "markdown",
   "metadata": {},
   "source": [
    "* 平衡二叉树\n",
    "给定一个二叉树，判定是否是高度平衡的二叉树，（一颗二叉树每个节点的左右两棵子树的高度差不超过1）"
   ]
  },
  {
   "cell_type": "code",
   "execution_count": 40,
   "metadata": {},
   "outputs": [],
   "source": [
    "def is_balanced(root: TreeNode):\n",
    "    def height(node: TreeNode):\n",
    "        if not node:\n",
    "            return 0\n",
    "        left_heght = height(node.left)\n",
    "        right_height = height(node.right)\n",
    "        if left_height == -1 or right_height == -1 or abs(left_height - right_height) > 1:\n",
    "            return -1\n",
    "        else:\n",
    "            return max(left_height, right_height) + 1\n",
    "\n",
    "    return height(root) > 0"
   ]
  },
  {
   "cell_type": "markdown",
   "metadata": {},
   "source": [
    "* 左叶子之和\n",
    "计算给定二叉树的所有左叶子之和"
   ]
  },
  {
   "cell_type": "code",
   "execution_count": 42,
   "metadata": {},
   "outputs": [],
   "source": [
    "def sum_of_left_leaves(root: TreeNode):\n",
    "    if root is None:\n",
    "        return 0\n",
    "    left_val = sum_of_left_leaves(root.left)\n",
    "    right_val = sum_of_left_leaves(root.right)\n",
    "\n",
    "    midval = 0\n",
    "    if root.left and root.left.left is None and root.right.right is None:\n",
    "        midval = root.left.value\n",
    "    return left_val + right_val + midval"
   ]
  },
  {
   "cell_type": "markdown",
   "metadata": {},
   "source": [
    "* 树左下角的值\n",
    "给定一颗二叉树，在树的最后一行找到最左边的值"
   ]
  },
  {
   "cell_type": "code",
   "execution_count": 44,
   "metadata": {},
   "outputs": [],
   "source": [
    "def find_bottom_left_value(root: TreeNode):\n",
    "    max_len = float('-inf')\n",
    "    max_left_value = 0\n",
    "    def traversal(node: TreeNode, left_len):\n",
    "        if node.left is None and node.right is None:\n",
    "            # 叶子节点\n",
    "            if left_len > max_len:\n",
    "                max_len = left_len\n",
    "                max_left_value = node.value\n",
    "        if root.left:\n",
    "            left_len += 1 # 深度加1\n",
    "            traversal(node.left)\n",
    "            left_len -= 1 # 回溯\n",
    "        if root.right:\n",
    "            left_len += 1\n",
    "            traversal(node.right)\n",
    "            left_len -= 1\n",
    "    traversal(root, 0)\n",
    "    return max_left_value"
   ]
  },
  {
   "cell_type": "code",
   "execution_count": 45,
   "metadata": {},
   "outputs": [],
   "source": [
    "def find_bottom_left_value_level(root: TreeNode):\n",
    "    stack = [root]\n",
    "    res = 0\n",
    "    while stack:\n",
    "        n = len(stack)\n",
    "        for i in range(n):\n",
    "            node = stack.pop()\n",
    "            if i == 0:\n",
    "                res = node.value\n",
    "            if node.left:\n",
    "                stack.append(node.left)\n",
    "            if node.right:\n",
    "                stack.append(node.right)\n",
    "    return res\n"
   ]
  },
  {
   "cell_type": "markdown",
   "metadata": {},
   "source": [
    "### 二叉树中的搜索\n",
    "给定一棵二叉搜索树的根节点和一个值，你需要在BST中找到节点值等于给定值的节点，返回一该节点为根的子树。如果节点不存在，则返回NULL"
   ]
  },
  {
   "cell_type": "code",
   "execution_count": 3,
   "metadata": {},
   "outputs": [],
   "source": [
    "def search_bst(root: TreeNode, val: int):\n",
    "    if not root or root.value == val:\n",
    "        return root\n",
    "    \n",
    "    if root.value > val:\n",
    "        return search_bst(root.left, val)\n",
    "    if root.value < val:\n",
    "        return search_bst(root.right, val)"
   ]
  },
  {
   "cell_type": "code",
   "execution_count": 4,
   "metadata": {},
   "outputs": [],
   "source": [
    "def search_bst1(root: TreeNode, val: int):\n",
    "    while root:\n",
    "        if root.value > val:\n",
    "            root = root.left\n",
    "        elif root.value < val:\n",
    "            root = root.right\n",
    "        else:\n",
    "            return root\n",
    "    return root"
   ]
  },
  {
   "cell_type": "markdown",
   "metadata": {},
   "source": [
    "### 求二叉搜索树的最小绝对差\n",
    "给你一棵所有节点为非负值的二叉搜索树，请你计算树中任意两个节点差的绝对值的最小值"
   ]
  },
  {
   "cell_type": "code",
   "execution_count": 5,
   "metadata": {},
   "outputs": [],
   "source": [
    "def get_minimum_diffrence(root: TreeNode):\n",
    "    stack = []\n",
    "    cur = root\n",
    "    pre = None\n",
    "    res = float('inf')\n",
    "    while cur or stack:\n",
    "        if cur:\n",
    "            stack.append(cur)\n",
    "            cur = cur.left\n",
    "        else:\n",
    "            cur = stack.pop()\n",
    "            if pre:\n",
    "                res = min(res, cur.value - pre.value)\n",
    "            pre = cur\n",
    "            cur = cur.right\n",
    "    return res"
   ]
  },
  {
   "cell_type": "markdown",
   "metadata": {},
   "source": [
    "### 二叉搜索树中的众数\n",
    "给定一棵有相同值的二叉搜索树，找出BST中的所有众数（出现频率最高的数）"
   ]
  },
  {
   "cell_type": "code",
   "execution_count": 6,
   "metadata": {},
   "outputs": [],
   "source": [
    "def find_mode(root: TreeNode):\n",
    "    if not root:\n",
    "        return\n",
    "    pre = root\n",
    "    count = 0\n",
    "    max_count = 0\n",
    "    res = []\n",
    "    def find_number(root: TreeNode, pre, count, max_count, res):\n",
    "        if not root:\n",
    "            return None\n",
    "        find_number(root.left)\n",
    "        if pre.value == root.value:\n",
    "            count += 1\n",
    "        else:\n",
    "            pre = root\n",
    "            count = 1\n",
    "        if count > max_count:\n",
    "            max_count = count\n",
    "            # 出现新的众数，重新赋值\n",
    "            res = [root.value]\n",
    "        elif count == max_count:\n",
    "            res.append(root.value)\n",
    "        find_number(root.right)\n",
    "        return\n",
    "    find_number(root, pre, count, max_count, res)\n",
    "\n",
    "    return res"
   ]
  },
  {
   "cell_type": "markdown",
   "metadata": {},
   "source": [
    "###  二叉树中所有距离为 K 的结点\n",
    "给定一个二叉树（具有根结点 root）， 一个目标结点 target ，和一个整数值 K 。\n",
    "返回到目标结点 target 距离为 K 的所有结点的值的列表。 答案可以以任何顺序返回。"
   ]
  },
  {
   "cell_type": "code",
   "execution_count": 1,
   "metadata": {},
   "outputs": [
    {
     "ename": "NameError",
     "evalue": "name 'TreeNode' is not defined",
     "output_type": "error",
     "traceback": [
      "\u001b[1;31m---------------------------------------------------------------------------\u001b[0m",
      "\u001b[1;31mNameError\u001b[0m                                 Traceback (most recent call last)",
      "\u001b[1;32m<ipython-input-1-54f91c58334b>\u001b[0m in \u001b[0;36m<module>\u001b[1;34m\u001b[0m\n\u001b[1;32m----> 1\u001b[1;33m \u001b[1;32mclass\u001b[0m \u001b[0mSolution\u001b[0m\u001b[1;33m:\u001b[0m\u001b[1;33m\u001b[0m\u001b[1;33m\u001b[0m\u001b[0m\n\u001b[0m\u001b[0;32m      2\u001b[0m     \u001b[1;32mdef\u001b[0m \u001b[0m__init__\u001b[0m\u001b[1;33m(\u001b[0m\u001b[0mself\u001b[0m\u001b[1;33m)\u001b[0m\u001b[1;33m:\u001b[0m\u001b[1;33m\u001b[0m\u001b[1;33m\u001b[0m\u001b[0m\n\u001b[0;32m      3\u001b[0m         \u001b[0mself\u001b[0m\u001b[1;33m.\u001b[0m\u001b[0mparents\u001b[0m \u001b[1;33m=\u001b[0m \u001b[1;33m{\u001b[0m\u001b[1;33m}\u001b[0m\u001b[1;33m\u001b[0m\u001b[1;33m\u001b[0m\u001b[0m\n\u001b[0;32m      4\u001b[0m         \u001b[0mself\u001b[0m\u001b[1;33m.\u001b[0m\u001b[0mres\u001b[0m \u001b[1;33m=\u001b[0m \u001b[1;33m[\u001b[0m\u001b[1;33m]\u001b[0m\u001b[1;33m\u001b[0m\u001b[1;33m\u001b[0m\u001b[0m\n\u001b[0;32m      5\u001b[0m \u001b[1;33m\u001b[0m\u001b[0m\n",
      "\u001b[1;32m<ipython-input-1-54f91c58334b>\u001b[0m in \u001b[0;36mSolution\u001b[1;34m()\u001b[0m\n\u001b[0;32m      4\u001b[0m         \u001b[0mself\u001b[0m\u001b[1;33m.\u001b[0m\u001b[0mres\u001b[0m \u001b[1;33m=\u001b[0m \u001b[1;33m[\u001b[0m\u001b[1;33m]\u001b[0m\u001b[1;33m\u001b[0m\u001b[1;33m\u001b[0m\u001b[0m\n\u001b[0;32m      5\u001b[0m \u001b[1;33m\u001b[0m\u001b[0m\n\u001b[1;32m----> 6\u001b[1;33m     \u001b[1;32mdef\u001b[0m \u001b[0mfind_parents\u001b[0m\u001b[1;33m(\u001b[0m\u001b[0mself\u001b[0m\u001b[1;33m,\u001b[0m \u001b[0mnode\u001b[0m\u001b[1;33m:\u001b[0m \u001b[0mTreeNode\u001b[0m\u001b[1;33m)\u001b[0m\u001b[1;33m:\u001b[0m\u001b[1;33m\u001b[0m\u001b[1;33m\u001b[0m\u001b[0m\n\u001b[0m\u001b[0;32m      7\u001b[0m         \u001b[1;32mif\u001b[0m \u001b[0mnode\u001b[0m\u001b[1;33m.\u001b[0m\u001b[0mleft\u001b[0m \u001b[1;32mis\u001b[0m \u001b[1;32mnot\u001b[0m \u001b[1;32mNone\u001b[0m\u001b[1;33m:\u001b[0m\u001b[1;33m\u001b[0m\u001b[1;33m\u001b[0m\u001b[0m\n\u001b[0;32m      8\u001b[0m             \u001b[0mself\u001b[0m\u001b[1;33m.\u001b[0m\u001b[0mparents\u001b[0m\u001b[1;33m[\u001b[0m\u001b[0mnode\u001b[0m\u001b[1;33m.\u001b[0m\u001b[0mleft\u001b[0m\u001b[1;33m.\u001b[0m\u001b[0mvalue\u001b[0m\u001b[1;33m]\u001b[0m \u001b[1;33m=\u001b[0m \u001b[0mnode\u001b[0m\u001b[1;33m\u001b[0m\u001b[1;33m\u001b[0m\u001b[0m\n",
      "\u001b[1;31mNameError\u001b[0m: name 'TreeNode' is not defined"
     ]
    }
   ],
   "source": [
    "class Solution:\n",
    "    def __init__(self):\n",
    "        self.parents = {}\n",
    "        self.res = []\n",
    "\n",
    "    def find_parents(self, node: TreeNode):\n",
    "        if node.left is not None:\n",
    "            self.parents[node.left.value] = node\n",
    "            self.find_parents(node.left)\n",
    "        if node.right is not None:\n",
    "            self.parents[node.right.value] = node\n",
    "            self.find_parents(node.right)\n",
    "\n",
    "    def find_res(self, node: TreeNode, from_: TreeNode, depth: int, k: int):\n",
    "        if node is None:\n",
    "            return None\n",
    "        if depth == k:\n",
    "            self.res.append(node.value)\n",
    "            return\n",
    "        if node.left != from_:\n",
    "            self.find_res(node.left, node, depth+1, k)\n",
    "        if node.right != from_:\n",
    "            self.find_res(node.right, node, depth+1, k)\n",
    "        if self.parents[node.value] != from_:\n",
    "            self.find_res(self.parents[node.value], node, depth+1, k)\n",
    "\n",
    "    def distanceK(self, root: TreeNode, target: TreeNode, k: int):\n",
    "        self.find_parents(root)\n",
    "        self.find_res(target, None, 0, k)\n",
    "        return self.res"
   ]
  },
  {
   "cell_type": "code",
   "execution_count": null,
   "metadata": {},
   "outputs": [],
   "source": []
  }
 ],
 "metadata": {
  "interpreter": {
   "hash": "3fa48bb2c24bfd2c860ebc2f76fcf240faeca9c313f5297b1080b141badca120"
  },
  "kernelspec": {
   "display_name": "Python 3.8.5 64-bit ('base': conda)",
   "name": "python3"
  },
  "language_info": {
   "codemirror_mode": {
    "name": "ipython",
    "version": 3
   },
   "file_extension": ".py",
   "mimetype": "text/x-python",
   "name": "python",
   "nbconvert_exporter": "python",
   "pygments_lexer": "ipython3",
   "version": "3.8.5"
  },
  "orig_nbformat": 2
 },
 "nbformat": 4,
 "nbformat_minor": 2
}
