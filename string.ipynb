{
 "metadata": {
  "language_info": {
   "codemirror_mode": {
    "name": "ipython",
    "version": 3
   },
   "file_extension": ".py",
   "mimetype": "text/x-python",
   "name": "python",
   "nbconvert_exporter": "python",
   "pygments_lexer": "ipython3",
   "version": "3.8.5"
  },
  "orig_nbformat": 2,
  "kernelspec": {
   "name": "python385jvsc74a57bd03fa48bb2c24bfd2c860ebc2f76fcf240faeca9c313f5297b1080b141badca120",
   "display_name": "Python 3.8.5 64-bit ('base': conda)"
  }
 },
 "nbformat": 4,
 "nbformat_minor": 2,
 "cells": [
  {
   "source": [
    "#### 找到字符串中所有字母异位词\n",
    "\n",
    "给定一个字符串 s 和一个非空字符串 p，找到 s 中所有是 p 的字母异位词的子串，返回这些子串的起始索引。\n",
    "\n",
    "字符串只包含小写英文字母，并且字符串 s 和 p 的长度都不超过 20100。\n",
    "\n",
    "字母异位词指字母相同，但排列不同的字符串。\n",
    "不考虑答案输出的顺序。\n"
   ],
   "cell_type": "markdown",
   "metadata": {}
  },
  {
   "cell_type": "code",
   "execution_count": 2,
   "metadata": {},
   "outputs": [],
   "source": [
    "def find_anagrames(s: str, p: str):\n",
    "    n = len(s)\n",
    "    m = len(p)\n",
    "    res = []\n",
    "    if n < m:\n",
    "        return res\n",
    "    \n",
    "    s_cnt = [0] * 26\n",
    "    p_cnt = [0] * 26\n",
    "    for i in range(m):\n",
    "        p_cnt[ord(p[i]) - ord('a')] += 1\n",
    "        s_cnt[ord(s[i]) - ord('a')] += 1\n",
    "    if s_cnt == p_cnt:\n",
    "        res.append(0)\n",
    "\n",
    "    for i in range(m, n):\n",
    "        s_cnt[ord(s[i-m]) - ord('a')] -= 1\n",
    "        s_cnt[ord(s[i]) - ord('a')] += 1\n",
    "        if s_cnt == p_cnt:\n",
    "            res.append(i - m + 1)\n",
    "    return res\n"
   ]
  },
  {
   "cell_type": "code",
   "execution_count": 3,
   "metadata": {},
   "outputs": [
    {
     "output_type": "execute_result",
     "data": {
      "text/plain": [
       "[0, 1, 2]"
      ]
     },
     "metadata": {},
     "execution_count": 3
    }
   ],
   "source": [
    "find_anagrames('abab', 'ab')"
   ]
  },
  {
   "source": [
    "#### 字母异位词分组\n",
    "给定一个字符串数组，将字母异位词组合在一起。字母异位词指字母相同，但排列不同的字符串。"
   ],
   "cell_type": "markdown",
   "metadata": {}
  },
  {
   "cell_type": "code",
   "execution_count": 4,
   "metadata": {},
   "outputs": [],
   "source": [
    "def group_anagrams(strs: list):\n",
    "    mp = {}\n",
    "    for st in strs:\n",
    "        cnts = [0] * 26\n",
    "        for i in st:\n",
    "            cnts[ord(i) - ord('a')] += 1\n",
    "        mp.setdefault(tuple(cnts), []).append(st)\n",
    "    return list(mp.values())"
   ]
  },
  {
   "cell_type": "code",
   "execution_count": 5,
   "metadata": {},
   "outputs": [
    {
     "output_type": "execute_result",
     "data": {
      "text/plain": [
       "[['eat', 'tea', 'ate'], ['tan', 'nat'], ['bat']]"
      ]
     },
     "metadata": {},
     "execution_count": 5
    }
   ],
   "source": [
    "group_anagrams([\"eat\", \"tea\", \"tan\", \"ate\", \"nat\", \"bat\"])"
   ]
  },
  {
   "source": [
    "#### 数字序列中某一位的数字\n",
    "\n",
    "数字以0123456789101112131415…的格式序列化到一个字符序列中。在这个序列中，第5位（从下标0开始计数）是5，第13位是1，第19位是4，等等。\n",
    "\n",
    "请写一个函数，求任意第n位对应的数字。"
   ],
   "cell_type": "markdown",
   "metadata": {}
  },
  {
   "cell_type": "code",
   "execution_count": 6,
   "metadata": {},
   "outputs": [],
   "source": [
    "def find_nth_digit(n):\n",
    "    start = 1 # 每digit位的起始数字，1,10,100\n",
    "    digit = 1 # 数字的位数，比如10则记为2,100则记为3\n",
    "    count = 9\n",
    "    while n > count:\n",
    "        n -= count\n",
    "        digit += 1\n",
    "        start *= 10\n",
    "        count = 9 * start * digit\n",
    "    num = start + (n - 1) // digit\n",
    "    return int(str(num)[(n-1) % digit])\n"
   ]
  },
  {
   "cell_type": "code",
   "execution_count": 7,
   "metadata": {},
   "outputs": [
    {
     "output_type": "execute_result",
     "data": {
      "text/plain": [
       "3"
      ]
     },
     "metadata": {},
     "execution_count": 7
    }
   ],
   "source": [
    "find_nth_digit(3)"
   ]
  },
  {
   "cell_type": "code",
   "execution_count": 8,
   "metadata": {},
   "outputs": [
    {
     "output_type": "execute_result",
     "data": {
      "text/plain": [
       "5"
      ]
     },
     "metadata": {},
     "execution_count": 8
    }
   ],
   "source": [
    "find_nth_digit(100)"
   ]
  },
  {
   "cell_type": "code",
   "execution_count": null,
   "metadata": {},
   "outputs": [],
   "source": []
  }
 ]
}