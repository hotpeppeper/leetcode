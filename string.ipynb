{
 "metadata": {
  "language_info": {
   "codemirror_mode": {
    "name": "ipython",
    "version": 3
   },
   "file_extension": ".py",
   "mimetype": "text/x-python",
   "name": "python",
   "nbconvert_exporter": "python",
   "pygments_lexer": "ipython3",
   "version": "3.8.5"
  },
  "orig_nbformat": 2,
  "kernelspec": {
   "name": "python385jvsc74a57bd03fa48bb2c24bfd2c860ebc2f76fcf240faeca9c313f5297b1080b141badca120",
   "display_name": "Python 3.8.5 64-bit ('base': conda)"
  }
 },
 "nbformat": 4,
 "nbformat_minor": 2,
 "cells": [
  {
   "source": [
    "#### 找到字符串中所有字母异位词\n",
    "\n",
    "给定一个字符串 s 和一个非空字符串 p，找到 s 中所有是 p 的字母异位词的子串，返回这些子串的起始索引。\n",
    "\n",
    "字符串只包含小写英文字母，并且字符串 s 和 p 的长度都不超过 20100。\n",
    "\n",
    "字母异位词指字母相同，但排列不同的字符串。\n",
    "不考虑答案输出的顺序。\n"
   ],
   "cell_type": "markdown",
   "metadata": {}
  },
  {
   "cell_type": "code",
   "execution_count": 2,
   "metadata": {},
   "outputs": [],
   "source": [
    "def find_anagrames(s: str, p: str):\n",
    "    n = len(s)\n",
    "    m = len(p)\n",
    "    res = []\n",
    "    if n < m:\n",
    "        return res\n",
    "    \n",
    "    s_cnt = [0] * 26\n",
    "    p_cnt = [0] * 26\n",
    "    for i in range(m):\n",
    "        p_cnt[ord(p[i]) - ord('a')] += 1\n",
    "        s_cnt[ord(s[i]) - ord('a')] += 1\n",
    "    if s_cnt == p_cnt:\n",
    "        res.append(0)\n",
    "\n",
    "    for i in range(m, n):\n",
    "        s_cnt[ord(s[i-m]) - ord('a')] -= 1\n",
    "        s_cnt[ord(s[i]) - ord('a')] += 1\n",
    "        if s_cnt == p_cnt:\n",
    "            res.append(i - m + 1)\n",
    "    return res\n"
   ]
  },
  {
   "cell_type": "code",
   "execution_count": 3,
   "metadata": {},
   "outputs": [
    {
     "output_type": "execute_result",
     "data": {
      "text/plain": [
       "[0, 1, 2]"
      ]
     },
     "metadata": {},
     "execution_count": 3
    }
   ],
   "source": [
    "find_anagrames('abab', 'ab')"
   ]
  },
  {
   "cell_type": "code",
   "execution_count": null,
   "metadata": {},
   "outputs": [],
   "source": []
  }
 ]
}