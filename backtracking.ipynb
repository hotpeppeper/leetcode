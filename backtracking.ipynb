{
 "cells": [
  {
   "cell_type": "markdown",
   "source": [
    "### 组合\r\n",
    "给定两个整数n和k，返回1...n中所有可能的k个数的组合"
   ],
   "metadata": {}
  },
  {
   "cell_type": "code",
   "execution_count": 3,
   "source": [
    "def combine(n: int, k: int):\r\n",
    "    res = []\r\n",
    "    path = []\r\n",
    "    def backtraking(n, k, start_index):\r\n",
    "        if len(path) == k:\r\n",
    "            res.append(path[:])\r\n",
    "            return\r\n",
    "        for i in range(start_index, n+1):\r\n",
    "            path.append(i)\r\n",
    "            backtraking(n, k, i+1)\r\n",
    "            path.pop()\r\n",
    "    backtraking(n, k, 1)\r\n",
    "    return res"
   ],
   "outputs": [],
   "metadata": {}
  },
  {
   "cell_type": "code",
   "execution_count": 4,
   "source": [
    "combine(4, 2)"
   ],
   "outputs": [
    {
     "output_type": "execute_result",
     "data": {
      "text/plain": [
       "[[1, 2], [1, 3], [1, 4], [2, 3], [2, 4], [3, 4]]"
      ]
     },
     "metadata": {},
     "execution_count": 4
    }
   ],
   "metadata": {}
  },
  {
   "cell_type": "code",
   "execution_count": 5,
   "source": [
    "def combine(n: int, k:int):\r\n",
    "    res = []\r\n",
    "    path = []\r\n",
    "    def backtracking(n, k, start_index):\r\n",
    "        if len(path) == k:\r\n",
    "            res.append(path[:])\r\n",
    "            return\r\n",
    "        # 剪枝\r\n",
    "        for i in range(start_index, n - (k-len(path)) + 2):\r\n",
    "            path.append(i)\r\n",
    "            backtracking(n, k, i+1)\r\n",
    "            path.pop()\r\n",
    "    backtracking(n, k, 1)\r\n",
    "    return res"
   ],
   "outputs": [],
   "metadata": {}
  },
  {
   "cell_type": "code",
   "execution_count": null,
   "source": [
    "combine(4, 2)"
   ],
   "outputs": [
    {
     "output_type": "execute_result",
     "data": {
      "text/plain": [
       "[[1, 2], [1, 3], [1, 4], [2, 3], [2, 4], [3, 4]]"
      ]
     },
     "metadata": {},
     "execution_count": 4
    }
   ],
   "metadata": {}
  },
  {
   "cell_type": "markdown",
   "source": [
    "### 组合综合III\r\n",
    "找出所有相加之和为n的k个数的组合。组合中只允许有1-9的正整数，并且每种组合中不存在重复的数字"
   ],
   "metadata": {}
  },
  {
   "cell_type": "code",
   "execution_count": 6,
   "source": [
    "def combine3(n: int, k:int):\r\n",
    "    res = []\r\n",
    "    path = []\r\n",
    "    # sum_ = 0\r\n",
    "    def backtracking(n, k, start_idx, sum_):\r\n",
    "        if sum_ > n:\r\n",
    "            # 剪枝\r\n",
    "            return\r\n",
    "        if len(path) == k:\r\n",
    "            if sum_ == n:\r\n",
    "                res.append(path[:])\r\n",
    "            return\r\n",
    "\r\n",
    "        for i in range(start_idx, 10 - (k - len(path)) + 1):\r\n",
    "            sum_ += i\r\n",
    "            path.append(i)\r\n",
    "            backtracking(n, k, i+1, sum_)\r\n",
    "            sum_ -= i\r\n",
    "            path.pop()\r\n",
    "    backtracking(n, k, 1, 0)\r\n",
    "    return res"
   ],
   "outputs": [],
   "metadata": {}
  },
  {
   "cell_type": "code",
   "execution_count": 7,
   "source": [
    "combine3(9, 3)"
   ],
   "outputs": [
    {
     "output_type": "execute_result",
     "data": {
      "text/plain": [
       "[[1, 2, 6], [1, 3, 5], [2, 3, 4]]"
      ]
     },
     "metadata": {},
     "execution_count": 7
    }
   ],
   "metadata": {}
  },
  {
   "cell_type": "markdown",
   "source": [
    "### 电话号码的字幕组合\r\n",
    "给定一个包含数字2-9的字符串，返回所有它能表示的字母组合\r\n",
    "给出数字到字母的映射与电话按键相同"
   ],
   "metadata": {}
  },
  {
   "cell_type": "code",
   "execution_count": 1,
   "source": [
    "def letter_conbinations(digits: str):\r\n",
    "    letter_map = {'2': 'abc', '3': 'def', '4': 'ghi',\r\n",
    "                  '5': 'jkl', '6': 'mno', '7': 'prqs',\r\n",
    "                  '8': 'tuv', '9': 'wxyz'}\r\n",
    "\r\n",
    "    res = []\r\n",
    "    path = []\r\n",
    "    def backtracking(digits, index):\r\n",
    "        if index == len(digits):\r\n",
    "            res.append(''.join(path))\r\n",
    "            return\r\n",
    "        digit = digits[index]\r\n",
    "        letters = letter_map[digit]\r\n",
    "        for i in range(len(letters)):\r\n",
    "            path.append(letters[i])\r\n",
    "            backtracking(digits, index+1)\r\n",
    "            path.pop()\r\n",
    "    backtracking(digits, 0)\r\n",
    "    return res"
   ],
   "outputs": [],
   "metadata": {}
  },
  {
   "cell_type": "code",
   "execution_count": 2,
   "source": [
    "letter_conbinations('23')"
   ],
   "outputs": [
    {
     "output_type": "execute_result",
     "data": {
      "text/plain": [
       "['ad', 'ae', 'af', 'bd', 'be', 'bf', 'cd', 'ce', 'cf']"
      ]
     },
     "metadata": {},
     "execution_count": 2
    }
   ],
   "metadata": {}
  },
  {
   "cell_type": "markdown",
   "source": [
    "### 组合总和\r\n",
    "给定一个无重复元素的数组candidates和一个目标数target，找出candidates中所有可以是数字和为target的组合，candidates中的数可以无限制重复被选取"
   ],
   "metadata": {}
  },
  {
   "cell_type": "code",
   "execution_count": 20,
   "source": [
    "def combination_sum(candidates: list, target: int):\r\n",
    "    res = []\r\n",
    "    path = []\r\n",
    "    def backtracking(candidates, target, sum_, start_idx):\r\n",
    "        if sum_ == target:\r\n",
    "            res.append(path[:])\r\n",
    "            return\r\n",
    "        for i in range(start_idx, len(candidates)):\r\n",
    "            sum_ += candidates[i]\r\n",
    "            if sum_ > target:\r\n",
    "                break\r\n",
    "            path.append(candidates[i])\r\n",
    "            backtracking(candidates, target, sum_, i)\r\n",
    "            sum_ -= candidates[i]\r\n",
    "            path.pop()\r\n",
    "    candidates.sort()\r\n",
    "    backtracking(candidates, target, 0, 0)\r\n",
    "    return res"
   ],
   "outputs": [],
   "metadata": {}
  },
  {
   "cell_type": "code",
   "execution_count": 21,
   "source": [
    "combination_sum([2,5,3], 8)"
   ],
   "outputs": [
    {
     "output_type": "execute_result",
     "data": {
      "text/plain": [
       "[[2, 2, 2, 2], [2, 3, 3], [3, 5]]"
      ]
     },
     "metadata": {},
     "execution_count": 21
    }
   ],
   "metadata": {}
  },
  {
   "cell_type": "markdown",
   "source": [
    "### 组合总和II\r\n",
    "给定一个数组candidat和一个目标数，找出candidates中所有可以是数字和为target的组合，candidates中的每个数字在组合中只能出现一次"
   ],
   "metadata": {}
  },
  {
   "cell_type": "code",
   "execution_count": 37,
   "source": [
    "def combination_sum2(candidates: list, target: int):\r\n",
    "    path = []\r\n",
    "    res = []\r\n",
    "    def backtracking(candidates, target, sum_, start_idx):\r\n",
    "        if sum_ == target:\r\n",
    "            res.append(path[:])\r\n",
    "            return\r\n",
    "        for i in range(start_idx, len(candidates)):\r\n",
    "            sum_ += candidates[i]\r\n",
    "            if sum_ > target:\r\n",
    "                break\r\n",
    "            if i > start_idx and candidates[i] == candidates[i-1]:\r\n",
    "                # 不同层出现相同的数，一定是i==start_idx\r\n",
    "                # 去重\r\n",
    "                continue\r\n",
    "            path.append(candidates[i])\r\n",
    "            backtracking(candidates, target, sum_, i+1)\r\n",
    "            sum_ -= candidates[i]\r\n",
    "            path.pop()\r\n",
    "    candidates.sort()\r\n",
    "    backtracking(candidates, target, 0, 0)\r\n",
    "    return res"
   ],
   "outputs": [],
   "metadata": {}
  },
  {
   "cell_type": "code",
   "execution_count": 38,
   "source": [
    "combination_sum2([10,1,2,7,6,5], 8)"
   ],
   "outputs": [
    {
     "output_type": "execute_result",
     "data": {
      "text/plain": [
       "[[1, 2, 5], [1, 7], [2, 6]]"
      ]
     },
     "metadata": {},
     "execution_count": 38
    }
   ],
   "metadata": {}
  },
  {
   "cell_type": "markdown",
   "source": [
    "### 分割回文字符串\r\n",
    "给定一个字符串s，将s分割成一些子串，是每个子串都是回文，返回s所有可能的子串"
   ],
   "metadata": {}
  },
  {
   "cell_type": "code",
   "execution_count": 43,
   "source": [
    "class Solution:\r\n",
    "    def __init__(self) -> None:\r\n",
    "        self.path = []\r\n",
    "        self.res = []\r\n",
    "\r\n",
    "    def is_palindrom(self, s: str):\r\n",
    "        return s == s[::-1]\r\n",
    "\r\n",
    "    def backtracking(self, s: str, start_idx: int):\r\n",
    "        if start_idx >= len(s):\r\n",
    "            self.res.append(self.path[:])\r\n",
    "            return\r\n",
    "        for i in range(start_idx, len(s)):\r\n",
    "            if self.is_palindrom(s[start_idx: i+1]):\r\n",
    "                self.path.append(s[start_idx: i+1])\r\n",
    "            else:\r\n",
    "                continue\r\n",
    "            self.backtracking(s, i+1)\r\n",
    "            self.path.pop()\r\n",
    "\r\n",
    "    def partition(self, s: str):\r\n",
    "        self.backtracking(s, 0)\r\n",
    "        return self.res"
   ],
   "outputs": [],
   "metadata": {}
  },
  {
   "cell_type": "code",
   "execution_count": 44,
   "source": [
    "s = Solution()\r\n",
    "s.partition('aab')"
   ],
   "outputs": [
    {
     "output_type": "execute_result",
     "data": {
      "text/plain": [
       "[['a', 'a', 'b'], ['aa', 'b']]"
      ]
     },
     "metadata": {},
     "execution_count": 44
    }
   ],
   "metadata": {}
  },
  {
   "cell_type": "markdown",
   "source": [
    "### 子集\r\n",
    "给定一组不含重复元素的整数数组nums，返回该数组所有可能的子集，解集中不能包含重复的元素"
   ],
   "metadata": {}
  },
  {
   "cell_type": "code",
   "execution_count": 47,
   "source": [
    "def subsets(nums: list):\r\n",
    "    res = []\r\n",
    "    path = []\r\n",
    "    def backtracking(nums, start_idx):\r\n",
    "        # 这里与组合问题不同，这里记录每一个节点，组合问题是记录满足条件的叶子节点\r\n",
    "        res.append(path[:])\r\n",
    "        if start_idx > len(nums):\r\n",
    "            return\r\n",
    "        for i in range(start_idx, len(nums)):\r\n",
    "            path.append(nums[i])\r\n",
    "            backtracking(nums, i+1)\r\n",
    "            path.pop()\r\n",
    "    backtracking(nums, 0)\r\n",
    "    return res"
   ],
   "outputs": [],
   "metadata": {}
  },
  {
   "cell_type": "code",
   "execution_count": 48,
   "source": [
    "subsets([1,2,3])"
   ],
   "outputs": [
    {
     "output_type": "execute_result",
     "data": {
      "text/plain": [
       "[[], [1], [1, 2], [1, 2, 3], [1, 3], [2], [2, 3], [3]]"
      ]
     },
     "metadata": {},
     "execution_count": 48
    }
   ],
   "metadata": {}
  },
  {
   "cell_type": "code",
   "execution_count": null,
   "source": [],
   "outputs": [],
   "metadata": {}
  }
 ],
 "metadata": {
  "orig_nbformat": 4,
  "language_info": {
   "name": "python",
   "version": "3.8.5",
   "mimetype": "text/x-python",
   "codemirror_mode": {
    "name": "ipython",
    "version": 3
   },
   "pygments_lexer": "ipython3",
   "nbconvert_exporter": "python",
   "file_extension": ".py"
  },
  "kernelspec": {
   "name": "python3",
   "display_name": "Python 3.8.5 64-bit ('base': conda)"
  },
  "interpreter": {
   "hash": "3fa48bb2c24bfd2c860ebc2f76fcf240faeca9c313f5297b1080b141badca120"
  }
 },
 "nbformat": 4,
 "nbformat_minor": 2
}