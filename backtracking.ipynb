{
 "cells": [
  {
   "cell_type": "markdown",
   "metadata": {},
   "source": [
    "### 组合\n",
    "给定两个整数n和k，返回1...n中所有可能的k个数的组合"
   ]
  },
  {
   "cell_type": "code",
   "execution_count": 3,
   "metadata": {},
   "outputs": [],
   "source": [
    "def combine(n: int, k: int):\n",
    "    res = []\n",
    "    path = []\n",
    "    def backtraking(n, k, start_index):\n",
    "        if len(path) == k:\n",
    "            res.append(path[:])\n",
    "            return\n",
    "        for i in range(start_index, n+1):\n",
    "            path.append(i)\n",
    "            backtraking(n, k, i+1)\n",
    "            path.pop()\n",
    "    backtraking(n, k, 1)\n",
    "    return res"
   ]
  },
  {
   "cell_type": "code",
   "execution_count": 4,
   "metadata": {},
   "outputs": [
    {
     "data": {
      "text/plain": [
       "[[1, 2], [1, 3], [1, 4], [2, 3], [2, 4], [3, 4]]"
      ]
     },
     "execution_count": 4,
     "metadata": {},
     "output_type": "execute_result"
    }
   ],
   "source": [
    "combine(4, 2)"
   ]
  },
  {
   "cell_type": "code",
   "execution_count": 5,
   "metadata": {},
   "outputs": [],
   "source": [
    "def combine(n: int, k:int):\n",
    "    res = []\n",
    "    path = []\n",
    "    def backtracking(n, k, start_index):\n",
    "        if len(path) == k:\n",
    "            res.append(path[:])\n",
    "            return\n",
    "        # 剪枝\n",
    "        for i in range(start_index, n - (k-len(path)) + 2):\n",
    "            path.append(i)\n",
    "            backtracking(n, k, i+1)\n",
    "            path.pop()\n",
    "    backtracking(n, k, 1)\n",
    "    return res"
   ]
  },
  {
   "cell_type": "code",
   "execution_count": null,
   "metadata": {},
   "outputs": [
    {
     "data": {
      "text/plain": [
       "[[1, 2], [1, 3], [1, 4], [2, 3], [2, 4], [3, 4]]"
      ]
     },
     "execution_count": 4,
     "metadata": {},
     "output_type": "execute_result"
    }
   ],
   "source": [
    "combine(4, 2)"
   ]
  },
  {
   "cell_type": "markdown",
   "metadata": {},
   "source": [
    "### 组合综合III\n",
    "找出所有相加之和为n的k个数的组合。组合中只允许有1-9的正整数，并且每种组合中不存在重复的数字"
   ]
  },
  {
   "cell_type": "code",
   "execution_count": 6,
   "metadata": {},
   "outputs": [],
   "source": [
    "def combine3(n: int, k:int):\n",
    "    res = []\n",
    "    path = []\n",
    "    # sum_ = 0\n",
    "    def backtracking(n, k, start_idx, sum_):\n",
    "        if sum_ > n:\n",
    "            # 剪枝\n",
    "            return\n",
    "        if len(path) == k:\n",
    "            if sum_ == n:\n",
    "                res.append(path[:])\n",
    "            return\n",
    "\n",
    "        for i in range(start_idx, 10 - (k - len(path)) + 1):\n",
    "            sum_ += i\n",
    "            path.append(i)\n",
    "            backtracking(n, k, i+1, sum_)\n",
    "            sum_ -= i\n",
    "            path.pop()\n",
    "    backtracking(n, k, 1, 0)\n",
    "    return res"
   ]
  },
  {
   "cell_type": "code",
   "execution_count": 7,
   "metadata": {},
   "outputs": [
    {
     "data": {
      "text/plain": [
       "[[1, 2, 6], [1, 3, 5], [2, 3, 4]]"
      ]
     },
     "execution_count": 7,
     "metadata": {},
     "output_type": "execute_result"
    }
   ],
   "source": [
    "combine3(9, 3)"
   ]
  },
  {
   "cell_type": "markdown",
   "metadata": {},
   "source": [
    "### 电话号码的字幕组合\n",
    "给定一个包含数字2-9的字符串，返回所有它能表示的字母组合\n",
    "给出数字到字母的映射与电话按键相同"
   ]
  },
  {
   "cell_type": "code",
   "execution_count": 1,
   "metadata": {},
   "outputs": [],
   "source": [
    "def letter_conbinations(digits: str):\n",
    "    letter_map = {'2': 'abc', '3': 'def', '4': 'ghi',\n",
    "                  '5': 'jkl', '6': 'mno', '7': 'prqs',\n",
    "                  '8': 'tuv', '9': 'wxyz'}\n",
    "\n",
    "    res = []\n",
    "    path = []\n",
    "    def backtracking(digits, index):\n",
    "        if index == len(digits):\n",
    "            res.append(''.join(path))\n",
    "            return\n",
    "        digit = digits[index]\n",
    "        letters = letter_map[digit]\n",
    "        for i in range(len(letters)):\n",
    "            path.append(letters[i])\n",
    "            backtracking(digits, index+1)\n",
    "            path.pop()\n",
    "    backtracking(digits, 0)\n",
    "    return res"
   ]
  },
  {
   "cell_type": "code",
   "execution_count": 2,
   "metadata": {},
   "outputs": [
    {
     "data": {
      "text/plain": [
       "['ad', 'ae', 'af', 'bd', 'be', 'bf', 'cd', 'ce', 'cf']"
      ]
     },
     "execution_count": 2,
     "metadata": {},
     "output_type": "execute_result"
    }
   ],
   "source": [
    "letter_conbinations('23')"
   ]
  },
  {
   "cell_type": "markdown",
   "metadata": {},
   "source": [
    "### 组合总和\n",
    "给定一个无重复元素的数组candidates和一个目标数target，找出candidates中所有可以是数字和为target的组合，candidates中的数可以无限制重复被选取"
   ]
  },
  {
   "cell_type": "code",
   "execution_count": 20,
   "metadata": {},
   "outputs": [],
   "source": [
    "def combination_sum(candidates: list, target: int):\n",
    "    res = []\n",
    "    path = []\n",
    "    def backtracking(candidates, target, sum_, start_idx):\n",
    "        if sum_ == target:\n",
    "            res.append(path[:])\n",
    "            return\n",
    "        for i in range(start_idx, len(candidates)):\n",
    "            sum_ += candidates[i]\n",
    "            if sum_ > target:\n",
    "                break\n",
    "            path.append(candidates[i])\n",
    "            # 可以重复取数，则从当前下标开始下次循环\n",
    "            backtracking(candidates, target, sum_, i)\n",
    "            sum_ -= candidates[i]\n",
    "            path.pop()\n",
    "    candidates.sort()\n",
    "    backtracking(candidates, target, 0, 0)\n",
    "    return res"
   ]
  },
  {
   "cell_type": "code",
   "execution_count": 21,
   "metadata": {},
   "outputs": [
    {
     "data": {
      "text/plain": [
       "[[2, 2, 2, 2], [2, 3, 3], [3, 5]]"
      ]
     },
     "execution_count": 21,
     "metadata": {},
     "output_type": "execute_result"
    }
   ],
   "source": [
    "combination_sum([2,5,3], 8)"
   ]
  },
  {
   "cell_type": "markdown",
   "metadata": {},
   "source": [
    "### 组合总和II\n",
    "给定一个数组candidat和一个目标数，找出candidates中所有可以是数字和为target的组合，candidates中的每个数字在组合中只能出现一次"
   ]
  },
  {
   "cell_type": "code",
   "execution_count": 37,
   "metadata": {},
   "outputs": [],
   "source": [
    "def combination_sum2(candidates: list, target: int):\n",
    "    path = []\n",
    "    res = []\n",
    "    def backtracking(candidates, target, sum_, start_idx):\n",
    "        if sum_ == target:\n",
    "            res.append(path[:])\n",
    "            return\n",
    "        for i in range(start_idx, len(candidates)):\n",
    "            sum_ += candidates[i]\n",
    "            if sum_ > target:\n",
    "                break\n",
    "            if i > start_idx and candidates[i] == candidates[i-1]:\n",
    "                # 不同层出现相同的数，一定是i==start_idx\n",
    "                # 去重\n",
    "                continue\n",
    "            path.append(candidates[i])\n",
    "            backtracking(candidates, target, sum_, i+1)\n",
    "            sum_ -= candidates[i]\n",
    "            path.pop()\n",
    "    candidates.sort()\n",
    "    backtracking(candidates, target, 0, 0)\n",
    "    return res"
   ]
  },
  {
   "cell_type": "code",
   "execution_count": 38,
   "metadata": {},
   "outputs": [
    {
     "data": {
      "text/plain": [
       "[[1, 2, 5], [1, 7], [2, 6]]"
      ]
     },
     "execution_count": 38,
     "metadata": {},
     "output_type": "execute_result"
    }
   ],
   "source": [
    "combination_sum2([10,1,2,7,6,5], 8)"
   ]
  },
  {
   "cell_type": "markdown",
   "metadata": {},
   "source": [
    "### 分割回文字符串\n",
    "给定一个字符串s，将s分割成一些子串，是每个子串都是回文，返回s所有可能的子串"
   ]
  },
  {
   "cell_type": "code",
   "execution_count": 43,
   "metadata": {},
   "outputs": [],
   "source": [
    "class Solution:\n",
    "    def __init__(self) -> None:\n",
    "        self.path = []\n",
    "        self.res = []\n",
    "\n",
    "    def is_palindrom(self, s: str):\n",
    "        return s == s[::-1]\n",
    "\n",
    "    def backtracking(self, s: str, start_idx: int):\n",
    "        if start_idx >= len(s):\n",
    "            self.res.append(self.path[:])\n",
    "            return\n",
    "        for i in range(start_idx, len(s)):\n",
    "            if self.is_palindrom(s[start_idx: i+1]):\n",
    "                self.path.append(s[start_idx: i+1])\n",
    "            else:\n",
    "                continue\n",
    "            self.backtracking(s, i+1)\n",
    "            self.path.pop()\n",
    "\n",
    "    def partition(self, s: str):\n",
    "        self.backtracking(s, 0)\n",
    "        return self.res"
   ]
  },
  {
   "cell_type": "code",
   "execution_count": 44,
   "metadata": {},
   "outputs": [
    {
     "data": {
      "text/plain": [
       "[['a', 'a', 'b'], ['aa', 'b']]"
      ]
     },
     "execution_count": 44,
     "metadata": {},
     "output_type": "execute_result"
    }
   ],
   "source": [
    "s = Solution()\n",
    "s.partition('aab')"
   ]
  },
  {
   "cell_type": "markdown",
   "metadata": {},
   "source": [
    "### 子集\n",
    "给定一组不含重复元素的整数数组nums，返回该数组所有可能的子集，解集中不能包含重复的元素"
   ]
  },
  {
   "cell_type": "code",
   "execution_count": 47,
   "metadata": {},
   "outputs": [],
   "source": [
    "def subsets(nums: list):\n",
    "    res = []\n",
    "    path = []\n",
    "    def backtracking(nums, start_idx):\n",
    "        # 这里与组合问题不同，这里记录每一个节点，组合问题是记录满足条件的叶子节点\n",
    "        res.append(path[:])\n",
    "        if start_idx > len(nums):\n",
    "            return\n",
    "        for i in range(start_idx, len(nums)):\n",
    "            path.append(nums[i])\n",
    "            backtracking(nums, i+1)\n",
    "            path.pop()\n",
    "    backtracking(nums, 0)\n",
    "    return res"
   ]
  },
  {
   "cell_type": "code",
   "execution_count": 48,
   "metadata": {},
   "outputs": [
    {
     "data": {
      "text/plain": [
       "[[], [1], [1, 2], [1, 2, 3], [1, 3], [2], [2, 3], [3]]"
      ]
     },
     "execution_count": 48,
     "metadata": {},
     "output_type": "execute_result"
    }
   ],
   "source": [
    "subsets([1,2,3])"
   ]
  },
  {
   "cell_type": "markdown",
   "metadata": {},
   "source": [
    "### 递增子序列\n",
    "给定一个整型数组，你的任务是找到所有该数组的递增子序列，递增子序列的长度至少是2"
   ]
  },
  {
   "cell_type": "code",
   "execution_count": 53,
   "metadata": {},
   "outputs": [],
   "source": [
    "def find_sub_sequences(nums: list):\n",
    "    res = []\n",
    "    path = []\n",
    "    def backtracing(nums, start_idx):\n",
    "        if len(path) > 1:\n",
    "            res.append(path[:])\n",
    "        if start_idx > len(nums):\n",
    "            return\n",
    "        use_set = set()\n",
    "        # 记录本层使用过的元素\n",
    "        for i in range(start_idx, len(nums)):\n",
    "            if (len(path) != 0 and nums[i] < path[-1]) or nums[i] in use_set:\n",
    "                continue\n",
    "            use_set.add(nums[i])\n",
    "            path.append(nums[i])\n",
    "            backtracing(nums, i+1)\n",
    "            path.pop()\n",
    "\n",
    "    backtracing(nums, 0)\n",
    "    return res"
   ]
  },
  {
   "cell_type": "code",
   "execution_count": 55,
   "metadata": {},
   "outputs": [
    {
     "data": {
      "text/plain": [
       "[[4, 7], [4, 7, 7], [4, 6], [4, 6, 7], [7, 7], [6, 7]]"
      ]
     },
     "execution_count": 55,
     "metadata": {},
     "output_type": "execute_result"
    }
   ],
   "source": [
    "find_sub_sequences([4,7,6,7])"
   ]
  },
  {
   "cell_type": "markdown",
   "metadata": {},
   "source": [
    "### 全排列\n",
    "给定一个没有重复数字的序列，返回其所有可能的全排列"
   ]
  },
  {
   "cell_type": "code",
   "execution_count": 64,
   "metadata": {},
   "outputs": [],
   "source": [
    "def permutation(nums: list):\n",
    "    res = []\n",
    "    path = []\n",
    "    used = {}\n",
    "    def backtracking(nums, used):\n",
    "        if len(path) == len(nums):\n",
    "            res.append(path[:])\n",
    "            return\n",
    "        for i in range(len(nums)):\n",
    "            # 排列问题每层从0开始搜索，比如元素1在[1,2]中使用过一次了，在[2,1]中还要使用一次\n",
    "            if used.get(i, False) == True:\n",
    "                continue\n",
    "            used[i] = True\n",
    "            path.append(nums[i])\n",
    "            backtracking(nums, used)\n",
    "            path.pop()\n",
    "            used[i] = False\n",
    "    backtracking(nums, used)\n",
    "    return res"
   ]
  },
  {
   "cell_type": "code",
   "execution_count": 65,
   "metadata": {},
   "outputs": [
    {
     "data": {
      "text/plain": [
       "[[1, 2, 3], [1, 3, 2], [2, 1, 3], [2, 3, 1], [3, 1, 2], [3, 2, 1]]"
      ]
     },
     "execution_count": 65,
     "metadata": {},
     "output_type": "execute_result"
    }
   ],
   "source": [
    "permutation([1,2,3])"
   ]
  },
  {
   "cell_type": "markdown",
   "metadata": {},
   "source": [
    "### 全排列II\n",
    "给定一个包含重复数字的序列nums，按任意顺序返回所哟不含重复的全排列"
   ]
  },
  {
   "cell_type": "code",
   "execution_count": 73,
   "metadata": {},
   "outputs": [],
   "source": [
    "def permutation2(nums: list):\n",
    "    res = []\n",
    "    path = []\n",
    "    used = [False] * len(nums)\n",
    "    def backtracking(nums, used):\n",
    "        if len(nums) == len(path):\n",
    "            res.append(path[:])\n",
    "            return\n",
    "        for i in range(len(nums)):\n",
    "            if i > 0 and nums[i] == nums[i-1] and used[i-1] == False:\n",
    "                continue\n",
    "            if used[i] == False:\n",
    "                used[i] = True\n",
    "                path.append(nums[i])\n",
    "                backtracking(nums, used)\n",
    "                used[i] = False\n",
    "                path.pop()\n",
    "    nums.sort()\n",
    "    backtracking(nums, used)\n",
    "    return res\n"
   ]
  },
  {
   "cell_type": "code",
   "execution_count": 74,
   "metadata": {},
   "outputs": [
    {
     "name": "stdout",
     "output_type": "stream",
     "text": [
      "[[1, 1, 2], [1, 2, 1], [2, 1, 1]]\n",
      "[[1, 2, 3], [1, 3, 2], [2, 1, 3], [2, 3, 1], [3, 1, 2], [3, 2, 1]]\n"
     ]
    }
   ],
   "source": [
    "print(permutation2([1,1,2]))\n",
    "print(permutation2([1,2,3]))"
   ]
  },
  {
   "cell_type": "markdown",
   "metadata": {},
   "source": [
    "### 从新安排行程\n",
    "给定一个机票的字符串二维数组\\[from, to\\], 子数组中的两个成员分别表示飞机出发和降落的机场地点，对该行程进行重新规划排序。所有这些机票都属于一个从JFK出发的先生，所以该行程必须从JFK开始\n",
    "* 如果存在多种有效行程，请你按照字符自然顺序返回最小行程的组合\n",
    "* 所有的机场都用三个大写字母表示\n",
    "* 假定所有机票至少存在一种合理的行程\n",
    "* 所有的机票必须都用一次且只能用一次"
   ]
  },
  {
   "cell_type": "code",
   "execution_count": 77,
   "metadata": {},
   "outputs": [],
   "source": [
    "def find_itinerary(tickes):\n",
    "    tickes_dict = {}\n",
    "    for i in tickes:\n",
    "        tickes_dict.setdefault(i[0], []).append(i[1])\n",
    "    path = ['JFK']\n",
    "    def backtracing(start_point):\n",
    "        if len(path) == len(tickes) + 1:\n",
    "            return True\n",
    "        # 排序保证按照字母顺序搜索\n",
    "        tickes_dict[start_point].sort()\n",
    "        for _ in tickes_dict[start_point]:\n",
    "            # 从当前节点中删除，防止死循环\n",
    "            end_point = tickes_dict[start_point].pop(0) \n",
    "            path.append(end_point)\n",
    "            if backtracing(end_point):\n",
    "                # 找到一条路径就返回\n",
    "                return True\n",
    "            tickes_dict[start_point].append(end_point)\n",
    "            path.pop()\n",
    "    backtracing('JFK')\n",
    "    return path"
   ]
  },
  {
   "cell_type": "code",
   "execution_count": 78,
   "metadata": {},
   "outputs": [
    {
     "data": {
      "text/plain": [
       "['JFK', 'MUC', 'LHR', 'SFO', 'SJC']"
      ]
     },
     "execution_count": 78,
     "metadata": {},
     "output_type": "execute_result"
    }
   ],
   "source": [
    "find_itinerary([[\"MUC\",\"LHR\"],[\"JFK\",\"MUC\"],[\"SFO\",\"SJC\"],[\"LHR\",\"SFO\"]])"
   ]
  },
  {
   "cell_type": "markdown",
   "metadata": {},
   "source": [
    "### 复原IP地址\n",
    "给定一个只包含数字的字符串，复原它并返回所有可能的IP地址格式"
   ]
  },
  {
   "cell_type": "code",
   "execution_count": null,
   "metadata": {},
   "outputs": [],
   "source": []
  }
 ],
 "metadata": {
  "interpreter": {
   "hash": "3fa48bb2c24bfd2c860ebc2f76fcf240faeca9c313f5297b1080b141badca120"
  },
  "kernelspec": {
   "display_name": "Python 3.8.5 64-bit ('base': conda)",
   "name": "python3"
  },
  "language_info": {
   "codemirror_mode": {
    "name": "ipython",
    "version": 3
   },
   "file_extension": ".py",
   "mimetype": "text/x-python",
   "name": "python",
   "nbconvert_exporter": "python",
   "pygments_lexer": "ipython3",
   "version": "3.8.5"
  },
  "orig_nbformat": 4
 },
 "nbformat": 4,
 "nbformat_minor": 2
}
