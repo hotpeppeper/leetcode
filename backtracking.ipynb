{
 "cells": [
  {
   "cell_type": "markdown",
   "source": [
    "### 组合\r\n",
    "给定两个整数n和k，返回1...n中所有可能的k个数的组合"
   ],
   "metadata": {}
  },
  {
   "cell_type": "code",
   "execution_count": 7,
   "source": [
    "def combine(n: int, k: int):\r\n",
    "    res = []\r\n",
    "    path = []\r\n",
    "    def backtraking(n, k, start_index):\r\n",
    "        if len(path) == k:\r\n",
    "            res.append(path[:])\r\n",
    "            return\r\n",
    "        for i in range(start_index, n+1):\r\n",
    "            path.append(i)\r\n",
    "            backtraking(n, k, i+1)\r\n",
    "            path.pop()\r\n",
    "    backtraking(n, k, 1)\r\n",
    "    return res"
   ],
   "outputs": [],
   "metadata": {}
  },
  {
   "cell_type": "code",
   "execution_count": 8,
   "source": [
    "combine(4, 2)"
   ],
   "outputs": [
    {
     "output_type": "execute_result",
     "data": {
      "text/plain": [
       "[[1, 2], [1, 3], [1, 4], [2, 3], [2, 4], [3, 4]]"
      ]
     },
     "metadata": {},
     "execution_count": 8
    }
   ],
   "metadata": {}
  },
  {
   "cell_type": "code",
   "execution_count": 13,
   "source": [
    "def combine(n: int, k:int):\r\n",
    "    res = []\r\n",
    "    path = []\r\n",
    "    def backtracking(n, k, start_index):\r\n",
    "        if len(path) == k:\r\n",
    "            res.append(path[:])\r\n",
    "            return\r\n",
    "        # 剪枝\r\n",
    "        for i in range(start_index, n - (k-len(path)) + 2):\r\n",
    "            path.append(i)\r\n",
    "            backtracking(n, k, i+1)\r\n",
    "            path.pop()\r\n",
    "    backtracking(n, k, 1)\r\n",
    "    return res"
   ],
   "outputs": [],
   "metadata": {}
  },
  {
   "cell_type": "code",
   "execution_count": 14,
   "source": [
    "combine(4, 2)"
   ],
   "outputs": [
    {
     "output_type": "execute_result",
     "data": {
      "text/plain": [
       "[[1, 2], [1, 3], [1, 4], [2, 3], [2, 4], [3, 4]]"
      ]
     },
     "metadata": {},
     "execution_count": 14
    }
   ],
   "metadata": {}
  },
  {
   "cell_type": "code",
   "execution_count": null,
   "source": [],
   "outputs": [],
   "metadata": {}
  }
 ],
 "metadata": {
  "orig_nbformat": 4,
  "language_info": {
   "name": "python",
   "version": "3.8.5",
   "mimetype": "text/x-python",
   "codemirror_mode": {
    "name": "ipython",
    "version": 3
   },
   "pygments_lexer": "ipython3",
   "nbconvert_exporter": "python",
   "file_extension": ".py"
  },
  "kernelspec": {
   "name": "python3",
   "display_name": "Python 3.8.5 64-bit ('base': conda)"
  },
  "interpreter": {
   "hash": "3fa48bb2c24bfd2c860ebc2f76fcf240faeca9c313f5297b1080b141badca120"
  }
 },
 "nbformat": 4,
 "nbformat_minor": 2
}