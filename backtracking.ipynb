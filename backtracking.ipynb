{
 "cells": [
  {
   "cell_type": "markdown",
   "source": [
    "### 组合\r\n",
    "给定两个整数n和k，返回1...n中所有可能的k个数的组合"
   ],
   "metadata": {}
  },
  {
   "cell_type": "code",
   "execution_count": null,
   "source": [
    "def combine(n: int, k: int):\r\n",
    "    res = []\r\n",
    "    path = []\r\n",
    "    def backtraking(n, k, start_index):\r\n",
    "        if len(path) == k:\r\n",
    "            res.append(path[:])\r\n",
    "            return\r\n",
    "        for i in range(start_index, n+1):\r\n",
    "            path.append(i)\r\n",
    "            backtraking(n, k, i+1)\r\n",
    "            path.pop()\r\n",
    "    backtraking(n, k, 1)\r\n",
    "    return res"
   ],
   "outputs": [
    {
     "output_type": "error",
     "ename": "Error",
     "evalue": "Session cannot generate requests",
     "traceback": [
      "Error: Session cannot generate requests",
      "at w.executeCodeCell (c:\\Users\\Administrator\\.vscode\\extensions\\ms-toolsai.jupyter-2021.8.1236758218\\out\\client\\extension.js:90:327199)",
      "at w.execute (c:\\Users\\Administrator\\.vscode\\extensions\\ms-toolsai.jupyter-2021.8.1236758218\\out\\client\\extension.js:90:326520)",
      "at w.start (c:\\Users\\Administrator\\.vscode\\extensions\\ms-toolsai.jupyter-2021.8.1236758218\\out\\client\\extension.js:90:322336)",
      "at processTicksAndRejections (internal/process/task_queues.js:93:5)",
      "at async t.CellExecutionQueue.executeQueuedCells (c:\\Users\\Administrator\\.vscode\\extensions\\ms-toolsai.jupyter-2021.8.1236758218\\out\\client\\extension.js:90:336863)",
      "at async t.CellExecutionQueue.start (c:\\Users\\Administrator\\.vscode\\extensions\\ms-toolsai.jupyter-2021.8.1236758218\\out\\client\\extension.js:90:336403)"
     ]
    }
   ],
   "metadata": {}
  },
  {
   "cell_type": "code",
   "execution_count": null,
   "source": [
    "combine(4, 2)"
   ],
   "outputs": [
    {
     "output_type": "execute_result",
     "data": {
      "text/plain": [
       "[[1, 2], [1, 3], [1, 4], [2, 3], [2, 4], [3, 4]]"
      ]
     },
     "metadata": {},
     "execution_count": 2
    }
   ],
   "metadata": {}
  },
  {
   "cell_type": "code",
   "execution_count": null,
   "source": [
    "def combine(n: int, k:int):\r\n",
    "    res = []\r\n",
    "    path = []\r\n",
    "    def backtracking(n, k, start_index):\r\n",
    "        if len(path) == k:\r\n",
    "            res.append(path[:])\r\n",
    "            return\r\n",
    "        # 剪枝\r\n",
    "        for i in range(start_index, n - (k-len(path)) + 2):\r\n",
    "            path.append(i)\r\n",
    "            backtracking(n, k, i+1)\r\n",
    "            path.pop()\r\n",
    "    backtracking(n, k, 1)\r\n",
    "    return res"
   ],
   "outputs": [],
   "metadata": {}
  },
  {
   "cell_type": "code",
   "execution_count": null,
   "source": [
    "combine(4, 2)"
   ],
   "outputs": [
    {
     "output_type": "execute_result",
     "data": {
      "text/plain": [
       "[[1, 2], [1, 3], [1, 4], [2, 3], [2, 4], [3, 4]]"
      ]
     },
     "metadata": {},
     "execution_count": 4
    }
   ],
   "metadata": {}
  },
  {
   "cell_type": "markdown",
   "source": [
    "### 组合综合III\r\n",
    "找出所有相加之和为n的k个数的组合。组合中只允许有1-9的正整数，并且每种组合中不存在重复的数字"
   ],
   "metadata": {}
  },
  {
   "cell_type": "code",
   "execution_count": null,
   "source": [
    "def combine3(n: int, k:int):\r\n",
    "    res = []\r\n",
    "    path = []\r\n",
    "    # sum_ = 0\r\n",
    "    def backtracking(n, k, start_idx, sum_):\r\n",
    "        if sum_ > n:\r\n",
    "            # 剪枝\r\n",
    "            return\r\n",
    "        if len(path) == k:\r\n",
    "            if sum_ == n:\r\n",
    "                res.append(path[:])\r\n",
    "            return\r\n",
    "\r\n",
    "        for i in range(start_idx, 10):\r\n",
    "            sum_ += i\r\n",
    "            path.append(i)\r\n",
    "            backtracking(n, k, i+1, sum_)\r\n",
    "            sum_ -= i\r\n",
    "            path.pop()\r\n",
    "    backtracking(n, k, 1, 0)\r\n",
    "    return res"
   ],
   "outputs": [],
   "metadata": {}
  },
  {
   "cell_type": "code",
   "execution_count": null,
   "source": [
    "combine3(9, 3)"
   ],
   "outputs": [
    {
     "output_type": "execute_result",
     "data": {
      "text/plain": [
       "[[1, 2, 6], [1, 3, 5], [2, 3, 4]]"
      ]
     },
     "metadata": {},
     "execution_count": 6
    }
   ],
   "metadata": {}
  },
  {
   "cell_type": "markdown",
   "source": [
    "### 电话号码的字幕组合\r\n",
    "给定一个包含数字2-9的字符串，返回所有它能表示的字母组合\r\n",
    "给出数字到字母的映射与电话按键相同"
   ],
   "metadata": {}
  },
  {
   "cell_type": "code",
   "execution_count": 1,
   "source": [
    "def letter_conbinations(digits: str):\r\n",
    "    letter_map = {'2': 'abc', '3': 'def', '4': 'ghi',\r\n",
    "                  '5': 'jkl', '6': 'mno', '7': 'prqs',\r\n",
    "                  '8': 'tuv', '9': 'wxyz'}\r\n",
    "\r\n",
    "    res = []\r\n",
    "    path = []\r\n",
    "    def backtracking(digits, index):\r\n",
    "        if index == len(digits):\r\n",
    "            res.append(''.join(path))\r\n",
    "            return\r\n",
    "        digit = digits[index]\r\n",
    "        letters = letter_map[digit]\r\n",
    "        for i in range(len(letters)):\r\n",
    "            path.append(letters[i])\r\n",
    "            backtracking(digits, index+1)\r\n",
    "            path.pop()\r\n",
    "    backtracking(digits, 0)\r\n",
    "    return res"
   ],
   "outputs": [],
   "metadata": {}
  },
  {
   "cell_type": "code",
   "execution_count": null,
   "source": [
    "letter_conbinations('23')"
   ],
   "outputs": [],
   "metadata": {}
  },
  {
   "cell_type": "code",
   "execution_count": null,
   "source": [],
   "outputs": [],
   "metadata": {}
  }
 ],
 "metadata": {
  "orig_nbformat": 4,
  "language_info": {
   "name": "python",
   "version": "3.8.5",
   "mimetype": "text/x-python",
   "codemirror_mode": {
    "name": "ipython",
    "version": 3
   },
   "pygments_lexer": "ipython3",
   "nbconvert_exporter": "python",
   "file_extension": ".py"
  },
  "kernelspec": {
   "name": "python3",
   "display_name": "Python 3.8.5 64-bit ('base': conda)"
  },
  "interpreter": {
   "hash": "3fa48bb2c24bfd2c860ebc2f76fcf240faeca9c313f5297b1080b141badca120"
  }
 },
 "nbformat": 4,
 "nbformat_minor": 2
}