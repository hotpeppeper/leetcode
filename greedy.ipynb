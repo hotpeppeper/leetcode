{
 "cells": [
  {
   "cell_type": "markdown",
   "metadata": {},
   "source": [
    "* 分发饼干\n",
    "假设你是一位很棒的家长，想要给孩子们一些饼干，但是每个汉字最多只能给一块饼干。对每个孩子i，都有一个胃口值g\\[i\\]，这是能让孩子们满足胃口的最小尺寸，并且每块饼干j都有一个尺寸s\\[j\\]，如果s\\[j\\]>=g\\[i\\]，可以把这个饼干j分给孩子i，这个孩子会得到满足。你的目的是尽可能满足越多数量的孩子，并输出这个最大的数值"
   ]
  },
  {
   "cell_type": "code",
   "execution_count": 2,
   "metadata": {},
   "outputs": [],
   "source": [
    "def find_content_children(g: list, s: list):\n",
    "    g.sort(reverse=True)\n",
    "    s.sort()\n",
    "    res = 0\n",
    "    idx = len(s) - 1\n",
    "    for i in range(len(g)):\n",
    "        # 大饼干满足胃口大的\n",
    "        if idx >= 0 and s[idx] >= g[i]:\n",
    "            idx -= 1\n",
    "            res += 1\n",
    "    return res"
   ]
  },
  {
   "cell_type": "markdown",
   "metadata": {},
   "source": [
    "* 摆动序列\n",
    "如果连续数字之间的差严格地在正数和负数之间交替，则数字序列称为摆动序列。第一个差（如果存在的话）可能是正数或者负数。少于两个元素的序列也是摆动序列。比如\\[1,7,4,9,2,5\\]是摆动序列。给定一个整数序列，返回作为摆动序列的最长子序列的长度。可以通过从原始序列中删除一些元素来获得子序列，剩下的元素保持其原始顺序"
   ]
  },
  {
   "cell_type": "code",
   "execution_count": 5,
   "metadata": {},
   "outputs": [],
   "source": [
    "def wiggle_max_length(nums: list):\n",
    "    n = len(nums)\n",
    "    res = 1\n",
    "    pre_diff = 0\n",
    "    cur_diff = 0\n",
    "    for i in range(1, n):\n",
    "        cur_diff = nums[i] - nums[i-1]\n",
    "        if (cur_diff > 0 and pre_diff <= 0) or (cur_diff < 0 and pre_diff > 0):\n",
    "            res += 1\n",
    "            pre_diff = cur_diff\n",
    "    return res\n"
   ]
  },
  {
   "cell_type": "code",
   "execution_count": 6,
   "metadata": {},
   "outputs": [
    {
     "name": "stdout",
     "output_type": "stream",
     "text": [
      "2\n",
      "7\n"
     ]
    }
   ],
   "source": [
    "print(wiggle_max_length([1,2,3,4,5,6,7,8,9]))\n",
    "print(wiggle_max_length([1,17,5,10,13,15,10,5,16,8]))"
   ]
  },
  {
   "cell_type": "markdown",
   "metadata": {},
   "source": [
    "### 最大子序和\n",
    "给定一个正数数组nums，找到一个具有最大子序和的连续子数组（子数组中最少包含一个元素），返回其最大和"
   ]
  },
  {
   "cell_type": "code",
   "execution_count": 16,
   "metadata": {},
   "outputs": [],
   "source": [
    "# 动态规划\n",
    "def max_sub_array(nums: list):\n",
    "    if len(nums) == 1:\n",
    "        return nums[0]\n",
    "    res = nums[0]\n",
    "    pre = 0\n",
    "    for i in nums:\n",
    "        pre = max(pre+i, i)\n",
    "        res = max(res, pre)\n",
    "    return res"
   ]
  },
  {
   "cell_type": "code",
   "execution_count": 17,
   "metadata": {},
   "outputs": [
    {
     "data": {
      "text/plain": [
       "6"
      ]
     },
     "execution_count": 17,
     "metadata": {},
     "output_type": "execute_result"
    }
   ],
   "source": [
    "max_sub_array([-2,1,-3,4,-1,2,1,-5,4])"
   ]
  },
  {
   "cell_type": "code",
   "execution_count": 1,
   "metadata": {},
   "outputs": [],
   "source": [
    "# 贪心算法\n",
    "def max_sub_array(nums: list):\n",
    "    res = float('-inf')\n",
    "    sum_ = 0\n",
    "    for num in nums:\n",
    "        sum_ += num\n",
    "        if sum_ > res:\n",
    "            res = sum_\n",
    "        if sum_ < 0: # 当前和为负数，则重置为0，这时对最大值只会起副作用\n",
    "            sum_ = 0\n",
    "    return res"
   ]
  },
  {
   "cell_type": "code",
   "execution_count": 2,
   "metadata": {},
   "outputs": [
    {
     "data": {
      "text/plain": [
       "6"
      ]
     },
     "execution_count": 2,
     "metadata": {},
     "output_type": "execute_result"
    }
   ],
   "source": [
    "max_sub_array([-2,1,-3,4,-1,2,1,-5,4])"
   ]
  },
  {
   "cell_type": "markdown",
   "metadata": {},
   "source": [
    "### 买卖股票的最佳时机II\n",
    "给定一个数组，它的第i个元素是股票第i天的价格，设计一个算法计算你所能获取的最大利润。你可以尽可能多的完成交易"
   ]
  },
  {
   "cell_type": "code",
   "execution_count": 22,
   "metadata": {},
   "outputs": [],
   "source": [
    "# 动态规划\n",
    "def max_profit(prices: list):\n",
    "    res = 0\n",
    "    pre = float('inf')\n",
    "    for i in range(1, len(prices)):\n",
    "        res += max(prices[i] - prices[i-1], 0)\n",
    "    return res "
   ]
  },
  {
   "cell_type": "code",
   "execution_count": 23,
   "metadata": {},
   "outputs": [
    {
     "data": {
      "text/plain": [
       "7"
      ]
     },
     "execution_count": 23,
     "metadata": {},
     "output_type": "execute_result"
    }
   ],
   "source": [
    "max_profit([7,1,5,3,6,4])"
   ]
  },
  {
   "cell_type": "code",
   "execution_count": 3,
   "metadata": {},
   "outputs": [],
   "source": [
    "# 贪心算法\n",
    "def max_profit(prices: list):\n",
    "    res = 0\n",
    "    for i in range(1, len(prices)):\n",
    "        # 将问题转化为只算正的收益\n",
    "        res += max(prices[i] - prices[i-1], 0)\n",
    "    return res"
   ]
  },
  {
   "cell_type": "code",
   "execution_count": 4,
   "metadata": {},
   "outputs": [
    {
     "data": {
      "text/plain": [
       "7"
      ]
     },
     "execution_count": 4,
     "metadata": {},
     "output_type": "execute_result"
    }
   ],
   "source": [
    "max_profit([7,1,5,3,6,4])"
   ]
  },
  {
   "cell_type": "markdown",
   "metadata": {},
   "source": [
    "### 跳跃游戏\n",
    "给定一个非负整数数组，你最初位于数组的第一个位置。数组中的每个元素代表你在该位置可以跳跃的最大长度，判断你能否到达的最后一个位置"
   ]
  },
  {
   "cell_type": "code",
   "execution_count": 1,
   "metadata": {},
   "outputs": [],
   "source": [
    "def can_jump(nums):\n",
    "    if len(nums) == 1:\n",
    "        return True\n",
    "    n = len(nums)\n",
    "    cover = 0 # 最大覆盖范围\n",
    "    for i in range(n - 1):\n",
    "        if i <= cover:\n",
    "            cover = max(i + nums[i], cover)\n",
    "            if cover >= n - 1:\n",
    "                return True\n",
    "    return False"
   ]
  },
  {
   "cell_type": "code",
   "execution_count": 2,
   "metadata": {},
   "outputs": [
    {
     "data": {
      "text/plain": [
       "True"
      ]
     },
     "execution_count": 2,
     "metadata": {},
     "output_type": "execute_result"
    }
   ],
   "source": [
    "can_jump([2,3,1,1,4])"
   ]
  },
  {
   "cell_type": "code",
   "execution_count": 3,
   "metadata": {},
   "outputs": [
    {
     "data": {
      "text/plain": [
       "False"
      ]
     },
     "execution_count": 3,
     "metadata": {},
     "output_type": "execute_result"
    }
   ],
   "source": [
    "can_jump([0,2,1])"
   ]
  },
  {
   "cell_type": "markdown",
   "metadata": {},
   "source": [
    "### 跳跃游戏II\n",
    "给定一个非负整数数组，你最初位于数组的第一个位置，数组中的每个元素代表你在该位置可以跳跃的最大长度，你的目标是使用最少的跳跃次数到达数组的最后一个位置"
   ]
  },
  {
   "cell_type": "code",
   "execution_count": 4,
   "metadata": {},
   "outputs": [],
   "source": [
    "def can_jump2(nums):\n",
    "    if len(nums) == 1:\n",
    "        return 1\n",
    "    n = len(nums)\n",
    "    count = 0\n",
    "    cur_instance = 0\n",
    "    next_instance = 0\n",
    "    for i in range(n-1):\n",
    "        # 记录路过的覆盖最远的距离\n",
    "        next_instance = max(i + nums[i], next_instance)\n",
    "        if i == cur_instance:\n",
    "            # 达到此次跳跃的最远覆盖，需要跳跃，从路过的位置中取出最远的覆盖距离\n",
    "            cur_instance = next_instance\n",
    "            count += 1\n",
    "    return count"
   ]
  },
  {
   "cell_type": "code",
   "execution_count": 5,
   "metadata": {},
   "outputs": [
    {
     "data": {
      "text/plain": [
       "2"
      ]
     },
     "execution_count": 5,
     "metadata": {},
     "output_type": "execute_result"
    }
   ],
   "source": [
    "can_jump2([2,3,1,1,4])"
   ]
  },
  {
   "cell_type": "markdown",
   "metadata": {},
   "source": [
    "### K次取反后，最大的数组和\n",
    "给定一个整数数组A，我们只能用一下方法修改该数组：选择某个索引i并将A\\[i\\]，替换为-A\\[i\\]，然后总共重复这个过程K次，返回数组可能的最大值"
   ]
  },
  {
   "cell_type": "code",
   "execution_count": 6,
   "metadata": {},
   "outputs": [],
   "source": [
    "def largest_sum_after_negations(A, K):\n",
    "    # 按照绝对值大小排序，如果是复数则取反\n",
    "    A = sorted(A, key=lambda x: abs(x), reverse=True)\n",
    "    for i in range(len(A)):\n",
    "        if A[i] < 0 and K > 0:\n",
    "            A[i] = -A[i]\n",
    "            K -= 1\n",
    "    if K % 2 == 1:\n",
    "        # k不等于0，且为奇数，将数组中最小的数，取反\n",
    "        A[len(A) - 1] *= -1\n",
    "\n",
    "    return sum(A)"
   ]
  },
  {
   "cell_type": "code",
   "execution_count": 7,
   "metadata": {},
   "outputs": [
    {
     "data": {
      "text/plain": [
       "6"
      ]
     },
     "execution_count": 7,
     "metadata": {},
     "output_type": "execute_result"
    }
   ],
   "source": [
    "largest_sum_after_negations([3,-1,0,2],3)"
   ]
  },
  {
   "cell_type": "markdown",
   "metadata": {},
   "source": [
    "### 加油站\n",
    "在一条环路上有N个加油站，其中第i个加油站有gas\\[i\\]升汽油，有一辆油箱容量无上限的汽车，从第i个加油站开往第i+1个加油站需要消耗cost\\[i\\]升汽油，你从其中一个的加油站出发，开始时油箱为空，如果你可以绕环路行驶一周，则返回出发时加油站的编号，否则返回-1\n"
   ]
  },
  {
   "cell_type": "code",
   "execution_count": 8,
   "metadata": {},
   "outputs": [],
   "source": [
    "def can_comlete_circuit(gas: list, cost: list):\n",
    "    # 能环形一圈，则gas和cost的差的和需要大于0\n",
    "    # 当gas[i] - cost[i] < 0，说明不能到达下一站，重新计数\n",
    "    cur_sum = 0\n",
    "    total_sum = 0\n",
    "    start = 0\n",
    "    for i in range(len(gas)):\n",
    "        cur_sum += gas[i] - cost[i]\n",
    "        total_sum += gas[i] - cost[i]\n",
    "        if cur_sum < 0:\n",
    "            start = i + 1\n",
    "            cur_sum = 0\n",
    "    if total_sum < 0:\n",
    "        return -1\n",
    "    else:\n",
    "        return start"
   ]
  },
  {
   "cell_type": "code",
   "execution_count": 9,
   "metadata": {},
   "outputs": [
    {
     "name": "stdout",
     "output_type": "stream",
     "text": [
      "-1\n",
      "3\n"
     ]
    }
   ],
   "source": [
    "print(can_comlete_circuit([2,3,4],[3,4,3]))\n",
    "print(can_comlete_circuit([1,2,3,4,5],[3,4,5,1,2]))"
   ]
  },
  {
   "cell_type": "markdown",
   "metadata": {},
   "source": [
    "### 分发糖果\n",
    "老师想给孩子们分发糖果，有N个孩子站成一条直线，老师会根据每个孩子的表现，预先给她们频分。按照以下要求，老师给孩子们分发糖果\n",
    "* 每个孩子至少分配一个糖果\n",
    "* 相邻的孩子中，评分高的孩子必须获得更多的糖果\n",
    "这样下来，老师至少要准备多少颗糖果"
   ]
  },
  {
   "cell_type": "code",
   "execution_count": 22,
   "metadata": {},
   "outputs": [],
   "source": [
    "def candy(ratings: list):\n",
    "    n = len(ratings)\n",
    "    candy_list = [1] * n\n",
    "    for i in range(n):\n",
    "        # 从左向右看，比较右边比左边大的情况\n",
    "        if ratings[i] > ratings[i - 1]:\n",
    "            candy_list[i] = candy_list[i - 1] + 1\n",
    "\n",
    "    for i in reversed(range(n - 1)):\n",
    "        # 从右往左看，比较左边比右边大的情况\n",
    "        if ratings[i] > ratings[i + 1]:\n",
    "            candy_list[i] = max(candy_list[i + 1] + 1, candy_list[i])\n",
    "    print(candy_list)\n",
    "    return sum(candy_list)"
   ]
  },
  {
   "cell_type": "code",
   "execution_count": 23,
   "metadata": {},
   "outputs": [
    {
     "name": "stdout",
     "output_type": "stream",
     "text": [
      "[1, 2, 1, 4, 3, 2, 1]\n"
     ]
    },
    {
     "data": {
      "text/plain": [
       "14"
      ]
     },
     "execution_count": 23,
     "metadata": {},
     "output_type": "execute_result"
    }
   ],
   "source": [
    "candy([1,2,2,5,4,3,2])"
   ]
  },
  {
   "cell_type": "markdown",
   "metadata": {},
   "source": [
    "### 柠檬水找零\n",
    "在柠檬水摊上，每一杯柠檬水的售价为5美元。顾客排队购买你的产品，按账单bills的顺序一次购买一杯。每位顾客只买一杯，然后向你支付5美元，10美元或20美元。你必须给每个顾客正确找零，也就是说静交易是每位顾客向你支付5美元，注意一开始你没有任何零钱。如果能给每位顾客正确找零返回true，否则返回false"
   ]
  },
  {
   "cell_type": "code",
   "execution_count": 27,
   "metadata": {},
   "outputs": [],
   "source": [
    "def lemonade_change(bills: list):\n",
    "    five = 0\n",
    "    ten = 0\n",
    "    twenty = 0\n",
    "    for i in bills:\n",
    "        if i == 5:\n",
    "            five += 1\n",
    "        if i == 10:\n",
    "            if five > 0:\n",
    "                ten += 1\n",
    "                five -= 1\n",
    "            else:\n",
    "                return False\n",
    "        if i == 20:\n",
    "            if ten > 0 and five > 0:\n",
    "                ten -= 1\n",
    "                five -= 1\n",
    "                twenty += 1\n",
    "            elif five >= 3:\n",
    "                five -= 3\n",
    "                twenty += 1\n",
    "            else:\n",
    "                return False\n",
    "    return True"
   ]
  },
  {
   "cell_type": "code",
   "execution_count": 28,
   "metadata": {},
   "outputs": [
    {
     "name": "stdout",
     "output_type": "stream",
     "text": [
      "False\n",
      "True\n"
     ]
    }
   ],
   "source": [
    "print(lemonade_change([5,5,10,10,20]))\n",
    "print(lemonade_change([5,5,10]))"
   ]
  },
  {
   "cell_type": "markdown",
   "metadata": {},
   "source": [
    "### 根据身高重建队列\n",
    "假设有打乱顺序的一群人站成一个队列，数组people表示队列中一些人的属性，每个peop\\[i\\] = \\[hi,ki\\]，表示第i个人的身高为hi，前面正好有ki个身高大于等于hi的人，请你重新构造并返回数组people所表示的队列。返回的队列是格式化为数组queue，其中queue\\[j\\] = \\[hj, kj\\]是队列中的第j个人的属性"
   ]
  },
  {
   "cell_type": "code",
   "execution_count": 20,
   "metadata": {},
   "outputs": [],
   "source": [
    "def reconstract_queue(people: list):\n",
    "    people = sorted(people, key=lambda x: (-x[0], x[1]))\n",
    "    que = []\n",
    "    for i in range(len(people)):\n",
    "        if len(que) < people[i][1]:\n",
    "            que.append(people[i])\n",
    "        else:\n",
    "            que.insert(people[i][1], people[i])\n",
    "\n",
    "    return que"
   ]
  },
  {
   "cell_type": "code",
   "execution_count": 21,
   "metadata": {},
   "outputs": [
    {
     "data": {
      "text/plain": [
       "[[5, 0], [7, 0], [5, 2], [6, 1], [4, 4], [7, 1]]"
      ]
     },
     "execution_count": 21,
     "metadata": {},
     "output_type": "execute_result"
    }
   ],
   "source": [
    "reconstract_queue([[7,0],[4,4],[7,1],[5,0],[6,1],[5,2]])"
   ]
  },
  {
   "cell_type": "markdown",
   "metadata": {},
   "source": [
    "### 用最少数量的箭引爆气球\n",
    "在二维空间中有许多气球，对于每个气球，提供的输入是水平方向上，气球直径的开始坐标和结束坐标。由于它是水平的所以总坐标并不重要，因此之哟啊知道开始和借宿的横坐标就足够了，开始坐标总是小于结束坐标。一只弓箭可以沿着下轴从不同点完全垂直地射出，在坐标x处射出一支箭，若有一个气球的直径的开始坐标和结束坐标为x_start, x_end，且满足xstart <= xend,则该气球会被引爆，可以射出的弓箭没有限制。弓箭一旦被射出之后，可以无限前进。我们想找到使得所有气球引爆所需的最少的弓箭数量\n",
    "给你一个数组pioints, points\\[i\\] = \\[xstart, xend\\]"
   ]
  },
  {
   "cell_type": "code",
   "execution_count": 3,
   "metadata": {},
   "outputs": [],
   "source": [
    "def find_min_arrow_shots(points: list):\n",
    "    if len(points) == 0:\n",
    "        return 0\n",
    "    points = sorted(points, key=lambda x: x[0])\n",
    "    res = 1\n",
    "    for i in range(1, len(points)):\n",
    "        if points[i][0] > points[i - 1][1]:\n",
    "            # 两只气球不挨着，需要一支箭\n",
    "            res += 1\n",
    "        else:\n",
    "            # 两只球不挨着，更新重叠气球的最小右边界\n",
    "            points[i][1] = min(points[i-1][1], points[i][1])\n",
    "        \n",
    "    return res\n"
   ]
  },
  {
   "cell_type": "code",
   "execution_count": 5,
   "metadata": {},
   "outputs": [
    {
     "data": {
      "text/plain": [
       "2"
      ]
     },
     "execution_count": 5,
     "metadata": {},
     "output_type": "execute_result"
    }
   ],
   "source": [
    "find_min_arrow_shots([[10,16],[2,8],[1,6],[7,12]])"
   ]
  },
  {
   "cell_type": "markdown",
   "metadata": {},
   "source": [
    "### 无重叠区间\n",
    "给定一个区间集合，找到需要移除区间的最小数量。使剩余区间相互不重叠"
   ]
  },
  {
   "cell_type": "code",
   "execution_count": 13,
   "metadata": {},
   "outputs": [],
   "source": [
    "def erase_overlap_intervals(intervals: list):\n",
    "    if len(intervals) == 0:\n",
    "        return 0\n",
    "    intervals = sorted(intervals, key=lambda x: x[1])\n",
    "    counts = 1 # 非交叉点的个数\n",
    "    end = intervals[0][1]\n",
    "    for i in range(1, len(intervals)):\n",
    "        if intervals[i][0] >= end:\n",
    "            end = intervals[i][1]\n",
    "            counts += 1\n",
    "    return len(intervals) - counts"
   ]
  },
  {
   "cell_type": "code",
   "execution_count": 14,
   "metadata": {},
   "outputs": [
    {
     "data": {
      "text/plain": [
       "2"
      ]
     },
     "execution_count": 14,
     "metadata": {},
     "output_type": "execute_result"
    }
   ],
   "source": [
    "erase_overlap_intervals([[1,100],[11,22],[1,11],[2,12]])"
   ]
  },
  {
   "cell_type": "markdown",
   "metadata": {},
   "source": [
    "### 划分字母区间\n",
    "字符串S由小写字母组成。我们要把这个字符串划分为尽可能多的片段，同一个字母最多出现在一个片段中，返回一个表示每个字符串片段的长度的列表"
   ]
  },
  {
   "cell_type": "code",
   "execution_count": 21,
   "metadata": {},
   "outputs": [],
   "source": [
    "def partition_labels(S: str):\n",
    "    char_dict = {}\n",
    "    for i, s in enumerate(S):\n",
    "        # 统计每个字符最后出现的位置\n",
    "        char_dict[s] = i\n",
    "\n",
    "    res = []\n",
    "    right = 0\n",
    "    left = 0\n",
    "    for i, s in enumerate(S):\n",
    "        right = max(char_dict[s], right)\n",
    "        if i == right:\n",
    "            # 找到字符最后出现的位置，即为边界分割点了\n",
    "            res.append(right - left + 1)\n",
    "            left = i + 1\n",
    "    return res"
   ]
  },
  {
   "cell_type": "code",
   "execution_count": 22,
   "metadata": {},
   "outputs": [
    {
     "data": {
      "text/plain": [
       "[9, 7, 8]"
      ]
     },
     "execution_count": 22,
     "metadata": {},
     "output_type": "execute_result"
    }
   ],
   "source": [
    "partition_labels('ababcbacadefegdehijhklij')"
   ]
  },
  {
   "cell_type": "markdown",
   "metadata": {},
   "source": [
    "### 单调递减的数字\n",
    "给定一个非负整数N，找出小于或者等于N的最大的整数，同时这个整数需要满足其哥哥位数上的数字是单调递增的。当且仅当每个相邻位数上的数字x,y满足x<=y时，我们称这个整数是单调递增的"
   ]
  },
  {
   "cell_type": "code",
   "execution_count": 27,
   "metadata": {},
   "outputs": [],
   "source": [
    "def monotone_increasing_digits(N: int):\n",
    "    str_n = list(str(N))\n",
    "    for i in reversed(range(1, len(str_n))):\n",
    "        if int(str_n[i - 1]) >= int(str_n[i]):\n",
    "            str_n[i - 1] = str(int(str_n[i-1]) - 1)\n",
    "            str_n[i:] = '9' * (len(str_n) - i)\n",
    "    return int(''.join(str_n))\n"
   ]
  },
  {
   "cell_type": "code",
   "execution_count": 29,
   "metadata": {},
   "outputs": [
    {
     "name": "stdout",
     "output_type": "stream",
     "text": [
      "299\n",
      "9\n",
      "589\n"
     ]
    }
   ],
   "source": [
    "print(monotone_increasing_digits(323))\n",
    "print(monotone_increasing_digits(9))\n",
    "print(monotone_increasing_digits(598))"
   ]
  },
  {
   "cell_type": "markdown",
   "metadata": {},
   "source": [
    "### 买卖股票的最佳时机含手续费\n",
    "给定一个整数数组prices，其中第i个元素代表了第i天的股票价格；非负整数fee代表了交易股票的手续费用。你可以无限次的完成交易，但是你每笔交易都需要付手续费。如果你已经购买了一个股票，在卖出它之前你就不能继续购买股票了。返回获得利润的最大值"
   ]
  },
  {
   "cell_type": "code",
   "execution_count": 2,
   "metadata": {},
   "outputs": [],
   "source": [
    "def max_profit(prices: list, fee: int):\n",
    "    res = 0\n",
    "    buy = prices[0] + fee\n",
    "    for i in range(1, len(prices)):\n",
    "        if prices[i] + fee < buy:\n",
    "            buy = prices[i] + fee\n",
    "        if prices[i] > buy + fee:\n",
    "            res += prices[i] - buy\n",
    "            buy = prices[i]\n",
    "    return res "
   ]
  },
  {
   "cell_type": "code",
   "execution_count": null,
   "metadata": {},
   "outputs": [],
   "source": []
  }
 ],
 "metadata": {
  "kernelspec": {
   "display_name": "Python 3.8.8 ('base')",
   "language": "python",
   "name": "python3"
  },
  "language_info": {
   "codemirror_mode": {
    "name": "ipython",
    "version": 3
   },
   "file_extension": ".py",
   "mimetype": "text/x-python",
   "name": "python",
   "nbconvert_exporter": "python",
   "pygments_lexer": "ipython3",
   "version": "3.8.8"
  },
  "orig_nbformat": 4,
  "vscode": {
   "interpreter": {
    "hash": "e42634819b8c191a5d07eaf23810ff32516dd8d3875f28ec3e488928fbd3c187"
   }
  }
 },
 "nbformat": 4,
 "nbformat_minor": 2
}
