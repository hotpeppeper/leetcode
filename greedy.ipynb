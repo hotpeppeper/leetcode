{
 "cells": [
  {
   "cell_type": "markdown",
   "source": [
    "* 分发饼干\r\n",
    "假设你是一位很棒的家长，想要给孩子们一些饼干，但是每个汉字最多只能给一块饼干。对每个孩子i，都有一个胃口值g\\[i\\]，这是能让孩子们满足胃口的最小尺寸，并且每块饼干j都有一个尺寸s\\[j\\]，如果s\\[j\\]>=g\\[i\\]，可以把这个饼干j分给孩子i，这个孩子会得到满足。你的目的是尽可能满足越多数量的孩子，并输出这个最大的数值"
   ],
   "metadata": {}
  },
  {
   "cell_type": "code",
   "execution_count": 2,
   "source": [
    "def find_content_children(g: list, s: list):\r\n",
    "    g.sort(reverse=True)\r\n",
    "    s.sort()\r\n",
    "    res = 0\r\n",
    "    idx = len(s) - 1\r\n",
    "    for i in range(len(g)):\r\n",
    "        # 大饼干满足胃口大的\r\n",
    "        if idx >= 0 and s[idx] >= g[i]:\r\n",
    "            idx -= 1\r\n",
    "            res += 1\r\n",
    "    return res"
   ],
   "outputs": [],
   "metadata": {}
  },
  {
   "cell_type": "markdown",
   "source": [
    "* 摆动序列\r\n",
    "如果连续数字之间的差严格地在正数和负数之间交替，则数字序列称为摆动序列。第一个差（如果存在的话）可能是正数或者负数。少于两个元素的序列也是摆动序列。比如\\[1,7,4,9,2,5\\]是摆动序列。给定一个整数序列，返回作为摆动序列的最长子序列的长度。可以通过从原始序列中删除一些元素来获得子序列，剩下的元素保持其原始顺序"
   ],
   "metadata": {}
  },
  {
   "cell_type": "code",
   "execution_count": 5,
   "source": [
    "def wiggle_max_length(nums: list):\r\n",
    "    n = len(nums)\r\n",
    "    res = 1\r\n",
    "    pre_diff = 0\r\n",
    "    cur_diff = 0\r\n",
    "    for i in range(1, n):\r\n",
    "        cur_diff = nums[i] - nums[i-1]\r\n",
    "        if (cur_diff > 0 and pre_diff <= 0) or (cur_diff < 0 and pre_diff > 0):\r\n",
    "            res += 1\r\n",
    "            pre_diff = cur_diff\r\n",
    "    return res\r\n"
   ],
   "outputs": [],
   "metadata": {}
  },
  {
   "cell_type": "code",
   "execution_count": 6,
   "source": [
    "print(wiggle_max_length([1,2,3,4,5,6,7,8,9]))\r\n",
    "print(wiggle_max_length([1,17,5,10,13,15,10,5,16,8]))"
   ],
   "outputs": [
    {
     "output_type": "stream",
     "name": "stdout",
     "text": [
      "2\n",
      "7\n"
     ]
    }
   ],
   "metadata": {}
  },
  {
   "cell_type": "code",
   "execution_count": null,
   "source": [],
   "outputs": [],
   "metadata": {}
  }
 ],
 "metadata": {
  "orig_nbformat": 4,
  "language_info": {
   "name": "python",
   "version": "3.8.5",
   "mimetype": "text/x-python",
   "codemirror_mode": {
    "name": "ipython",
    "version": 3
   },
   "pygments_lexer": "ipython3",
   "nbconvert_exporter": "python",
   "file_extension": ".py"
  },
  "kernelspec": {
   "name": "python3",
   "display_name": "Python 3.8.5 64-bit ('base': conda)"
  },
  "interpreter": {
   "hash": "3fa48bb2c24bfd2c860ebc2f76fcf240faeca9c313f5297b1080b141badca120"
  }
 },
 "nbformat": 4,
 "nbformat_minor": 2
}