{
 "cells": [
  {
   "cell_type": "markdown",
   "source": [
    "* 分发饼干\r\n",
    "假设你是一位很棒的家长，想要给孩子们一些饼干，但是每个汉字最多只能给一块饼干。对每个孩子i，都有一个胃口值g\\[i\\]，这是能让孩子们满足胃口的最小尺寸，并且每块饼干j都有一个尺寸s\\[j\\]，如果s\\[j\\]>=g\\[i\\]，可以把这个饼干j分给孩子i，这个孩子会得到满足。你的目的是尽可能满足越多数量的孩子，并输出这个最大的数值"
   ],
   "metadata": {}
  },
  {
   "cell_type": "code",
   "execution_count": 2,
   "source": [
    "def find_content_children(g: list, s: list):\r\n",
    "    g.sort(reverse=True)\r\n",
    "    s.sort()\r\n",
    "    res = 0\r\n",
    "    idx = len(s) - 1\r\n",
    "    for i in range(len(g)):\r\n",
    "        # 大饼干满足胃口大的\r\n",
    "        if idx >= 0 and s[idx] >= g[i]:\r\n",
    "            idx -= 1\r\n",
    "            res += 1\r\n",
    "    return res"
   ],
   "outputs": [],
   "metadata": {}
  },
  {
   "cell_type": "markdown",
   "source": [
    "* 摆动序列\r\n",
    "如果连续数字之间的差严格地在正数和负数之间交替，则数字序列称为摆动序列。第一个差（如果存在的话）可能是正数或者负数。少于两个元素的序列也是摆动序列。比如\\[1,7,4,9,2,5\\]是摆动序列。给定一个整数序列，返回作为摆动序列的最长子序列的长度。可以通过从原始序列中删除一些元素来获得子序列，剩下的元素保持其原始顺序"
   ],
   "metadata": {}
  },
  {
   "cell_type": "code",
   "execution_count": 5,
   "source": [
    "def wiggle_max_length(nums: list):\r\n",
    "    n = len(nums)\r\n",
    "    res = 1\r\n",
    "    pre_diff = 0\r\n",
    "    cur_diff = 0\r\n",
    "    for i in range(1, n):\r\n",
    "        cur_diff = nums[i] - nums[i-1]\r\n",
    "        if (cur_diff > 0 and pre_diff <= 0) or (cur_diff < 0 and pre_diff > 0):\r\n",
    "            res += 1\r\n",
    "            pre_diff = cur_diff\r\n",
    "    return res\r\n"
   ],
   "outputs": [],
   "metadata": {}
  },
  {
   "cell_type": "code",
   "execution_count": 6,
   "source": [
    "print(wiggle_max_length([1,2,3,4,5,6,7,8,9]))\r\n",
    "print(wiggle_max_length([1,17,5,10,13,15,10,5,16,8]))"
   ],
   "outputs": [
    {
     "output_type": "stream",
     "name": "stdout",
     "text": [
      "2\n",
      "7\n"
     ]
    }
   ],
   "metadata": {}
  },
  {
   "cell_type": "markdown",
   "source": [
    "### 最大子序和\r\n",
    "给定一个正数数组nums，找到一个具有最大子序和的连续子数组（子数组中最少包含一个元素），返回其最大和"
   ],
   "metadata": {}
  },
  {
   "cell_type": "code",
   "execution_count": 16,
   "source": [
    "def max_sub_array(nums: list):\r\n",
    "    if len(nums) == 1:\r\n",
    "        return nums[0]\r\n",
    "    res = nums[0]\r\n",
    "    pre = 0\r\n",
    "    for i in nums:\r\n",
    "        pre = max(pre+i, i)\r\n",
    "        res = max(res, pre)\r\n",
    "    return res"
   ],
   "outputs": [],
   "metadata": {}
  },
  {
   "cell_type": "code",
   "execution_count": 17,
   "source": [
    "max_sub_array([-2,1,-3,4,-1,2,1,-5,4])"
   ],
   "outputs": [
    {
     "output_type": "execute_result",
     "data": {
      "text/plain": [
       "6"
      ]
     },
     "metadata": {},
     "execution_count": 17
    }
   ],
   "metadata": {}
  },
  {
   "cell_type": "markdown",
   "source": [
    "### 买卖股票的最佳时机II\r\n",
    "给定一个数组，它的第i个元素是股票第i天的价格，设计一个算法计算你所能获取的最大利润。你可以尽可能多的完成交易"
   ],
   "metadata": {}
  },
  {
   "cell_type": "code",
   "execution_count": 22,
   "source": [
    "def max_profit(prices: list):\r\n",
    "    res = 0\r\n",
    "    pre = float('inf')\r\n",
    "    for i in range(1, len(prices)):\r\n",
    "        res += max(prices[i] - prices[i-1], 0)\r\n",
    "    return res "
   ],
   "outputs": [],
   "metadata": {}
  },
  {
   "cell_type": "code",
   "execution_count": 23,
   "source": [
    "max_profit([7,1,5,3,6,4])"
   ],
   "outputs": [
    {
     "output_type": "execute_result",
     "data": {
      "text/plain": [
       "7"
      ]
     },
     "metadata": {},
     "execution_count": 23
    }
   ],
   "metadata": {}
  },
  {
   "cell_type": "markdown",
   "source": [
    "### 跳跃游戏\r\n",
    "给定一个非负整数数组，你最初位于数组的第一个位置。数组中的每个元素代表你在该位置可以跳跃的最大长度，判断你能否到达的最后一个位置"
   ],
   "metadata": {}
  },
  {
   "cell_type": "code",
   "execution_count": 1,
   "source": [
    "def can_jump(nums):\r\n",
    "    if len(nums) == 1:\r\n",
    "        return True\r\n",
    "    n = len(nums)\r\n",
    "    cover = 0\r\n",
    "    for i in range(n - 1):\r\n",
    "        if i <= cover:\r\n",
    "            cover = max(i + nums[i], cover)\r\n",
    "            if cover >= n - 1:\r\n",
    "                return True\r\n",
    "    return False"
   ],
   "outputs": [],
   "metadata": {}
  },
  {
   "cell_type": "code",
   "execution_count": 2,
   "source": [
    "can_jump([2,3,1,1,4])"
   ],
   "outputs": [
    {
     "output_type": "execute_result",
     "data": {
      "text/plain": [
       "True"
      ]
     },
     "metadata": {},
     "execution_count": 2
    }
   ],
   "metadata": {}
  },
  {
   "cell_type": "code",
   "execution_count": 3,
   "source": [
    "can_jump([0,2,1])"
   ],
   "outputs": [
    {
     "output_type": "execute_result",
     "data": {
      "text/plain": [
       "False"
      ]
     },
     "metadata": {},
     "execution_count": 3
    }
   ],
   "metadata": {}
  },
  {
   "cell_type": "markdown",
   "source": [
    "### 跳跃游戏II\r\n",
    "给定一个非负整数数组，你最初位于数组的第一个位置，数组中的每个元素代表你在该位置可以跳跃的最大长度，你的目标是使用最少的跳跃次数到达数组的最后一个位置"
   ],
   "metadata": {}
  },
  {
   "cell_type": "code",
   "execution_count": 4,
   "source": [
    "def can_jump2(nums):\r\n",
    "    if len(nums) == 1:\r\n",
    "        return 1\r\n",
    "    n = len(nums)\r\n",
    "    count = 0\r\n",
    "    cur_instance = 0\r\n",
    "    next_instance = 0\r\n",
    "    for i in range(n-1):\r\n",
    "        # 记录路过的覆盖最远的距离\r\n",
    "        next_instance = max(i + nums[i], next_instance)\r\n",
    "        if i == cur_instance:\r\n",
    "            # 达到此次跳跃的最远覆盖，需要跳跃，从路过的位置中取出最远的覆盖距离\r\n",
    "            cur_instance = next_instance\r\n",
    "            count += 1\r\n",
    "    return count"
   ],
   "outputs": [],
   "metadata": {}
  },
  {
   "cell_type": "code",
   "execution_count": 5,
   "source": [
    "can_jump2([2,3,1,1,4])"
   ],
   "outputs": [
    {
     "output_type": "execute_result",
     "data": {
      "text/plain": [
       "2"
      ]
     },
     "metadata": {},
     "execution_count": 5
    }
   ],
   "metadata": {}
  },
  {
   "cell_type": "markdown",
   "source": [
    "### K次取反后，最大的数组和\r\n",
    "给定一个整数数组A，我们只能用一下方法修改该数组：选择某个索引i并将A\\[i\\]，替换为-A\\[i\\]，然后总共重复这个过程K次，返回数组可能的最大值"
   ],
   "metadata": {}
  },
  {
   "cell_type": "code",
   "execution_count": 6,
   "source": [
    "def largest_sum_after_negations(A, K):\r\n",
    "    # 按照绝对值大小排序，如果是复数则取反\r\n",
    "    A = sorted(A, key=lambda x: abs(x), reverse=True)\r\n",
    "    for i in range(len(A)):\r\n",
    "        if A[i] < 0 and K > 0:\r\n",
    "            A[i] = -A[i]\r\n",
    "            K -= 1\r\n",
    "    if K % 2 == 1:\r\n",
    "        # k不等于0，且为奇数，将数组中最小的数，取反k次\r\n",
    "        A[len(A) - 1] *= -1\r\n",
    "\r\n",
    "    return sum(A)"
   ],
   "outputs": [],
   "metadata": {}
  },
  {
   "cell_type": "code",
   "execution_count": 7,
   "source": [
    "largest_sum_after_negations([3,-1,0,2],3)"
   ],
   "outputs": [
    {
     "output_type": "execute_result",
     "data": {
      "text/plain": [
       "6"
      ]
     },
     "metadata": {},
     "execution_count": 7
    }
   ],
   "metadata": {}
  },
  {
   "cell_type": "markdown",
   "source": [
    "### 加油站\r\n",
    "在一条环路上有N个加油站，其中第i个加油站有gas\\[i\\]升汽油，有一辆油箱容量无上限的汽车，从第i个加油站开往第i+1个加油站需要消耗cost\\[i\\]升汽油，你从其中一个的加油站出发，开始时油箱为空，如果你可以绕环路行驶一周，则返回出发时加油站的编号，否则返回-1\r\n"
   ],
   "metadata": {}
  },
  {
   "cell_type": "code",
   "execution_count": 8,
   "source": [
    "def can_comlete_circuit(gas: list, cost: list):\r\n",
    "    # 能环形一圈，则gas和cost的差的和需要大于0\r\n",
    "    # 当gas[i] - cost[i] < 0，说明不能到达下一站，重新计数\r\n",
    "    cur_sum = 0\r\n",
    "    total_sum = 0\r\n",
    "    start = 0\r\n",
    "    for i in range(len(gas)):\r\n",
    "        cur_sum += gas[i] - cost[i]\r\n",
    "        total_sum += gas[i] - cost[i]\r\n",
    "        if cur_sum < 0:\r\n",
    "            start = i + 1\r\n",
    "            cur_sum = 0\r\n",
    "    if total_sum < 0:\r\n",
    "        return -1\r\n",
    "    else:\r\n",
    "        return start"
   ],
   "outputs": [],
   "metadata": {}
  },
  {
   "cell_type": "code",
   "execution_count": 9,
   "source": [
    "print(can_comlete_circuit([2,3,4],[3,4,3]))\r\n",
    "print(can_comlete_circuit([1,2,3,4,5],[3,4,5,1,2]))"
   ],
   "outputs": [
    {
     "output_type": "stream",
     "name": "stdout",
     "text": [
      "-1\n",
      "3\n"
     ]
    }
   ],
   "metadata": {}
  },
  {
   "cell_type": "markdown",
   "source": [
    "### 分发糖果\r\n",
    "老师想给孩子们分发糖果，有N个孩子站成一条直线，老师会根据每个孩子的表现，预先给她们频分。按照以下要求，老师给孩子们分发糖果\r\n",
    "* 每个孩子至少分配一个糖果\r\n",
    "* 相邻的孩子中，评分高的孩子必须获得更多的糖果\r\n",
    "这样下来，老师至少要准备多少颗糖果"
   ],
   "metadata": {}
  },
  {
   "cell_type": "code",
   "execution_count": 22,
   "source": [
    "def candy(ratings: list):\r\n",
    "    n = len(ratings)\r\n",
    "    candy_list = [1] * n\r\n",
    "    for i in range(n):\r\n",
    "        # 从左向右看，比较右边比左边大的情况\r\n",
    "        if ratings[i] > ratings[i - 1]:\r\n",
    "            candy_list[i] = candy_list[i - 1] + 1\r\n",
    "\r\n",
    "    for i in reversed(range(n - 1)):\r\n",
    "        # 从右往左看，比较左边比右边大的情况\r\n",
    "        if ratings[i] > ratings[i + 1]:\r\n",
    "            candy_list[i] = max(candy_list[i + 1] + 1, candy_list[i])\r\n",
    "    print(candy_list)\r\n",
    "    return sum(candy_list)"
   ],
   "outputs": [],
   "metadata": {}
  },
  {
   "cell_type": "code",
   "execution_count": 23,
   "source": [
    "candy([1,2,2,5,4,3,2])"
   ],
   "outputs": [
    {
     "output_type": "stream",
     "name": "stdout",
     "text": [
      "[1, 2, 1, 4, 3, 2, 1]\n"
     ]
    },
    {
     "output_type": "execute_result",
     "data": {
      "text/plain": [
       "14"
      ]
     },
     "metadata": {},
     "execution_count": 23
    }
   ],
   "metadata": {}
  },
  {
   "cell_type": "markdown",
   "source": [
    "### 柠檬水找零\r\n",
    "在柠檬水摊上，每一杯柠檬水的售价为5美元。顾客排队购买你的产品，按账单bills的顺序一次购买一杯。每位顾客只买一杯，然后向你支付5美元，10美元或20美元。你必须给每个顾客正确找零，也就是说静交易是每位顾客向你支付5美元，注意一开始你没有任何零钱。如果能给每位顾客正确找零返回true，否则返回false"
   ],
   "metadata": {}
  },
  {
   "cell_type": "code",
   "execution_count": 27,
   "source": [
    "def lemonade_change(bills: list):\r\n",
    "    five = 0\r\n",
    "    ten = 0\r\n",
    "    twenty = 0\r\n",
    "    for i in bills:\r\n",
    "        if i == 5:\r\n",
    "            five += 1\r\n",
    "        if i == 10:\r\n",
    "            if five > 0:\r\n",
    "                ten += 1\r\n",
    "                five -= 1\r\n",
    "            else:\r\n",
    "                return False\r\n",
    "        if i == 20:\r\n",
    "            if ten > 0 and five > 0:\r\n",
    "                ten -= 1\r\n",
    "                five -= 1\r\n",
    "                twenty += 1\r\n",
    "            elif five >= 3:\r\n",
    "                five -= 3\r\n",
    "                twenty += 1\r\n",
    "            else:\r\n",
    "                return False\r\n",
    "    return True"
   ],
   "outputs": [],
   "metadata": {}
  },
  {
   "cell_type": "code",
   "execution_count": 28,
   "source": [
    "print(lemonade_change([5,5,10,10,20]))\r\n",
    "print(lemonade_change([5,5,10]))"
   ],
   "outputs": [
    {
     "output_type": "stream",
     "name": "stdout",
     "text": [
      "False\n",
      "True\n"
     ]
    }
   ],
   "metadata": {}
  },
  {
   "cell_type": "markdown",
   "source": [
    "### 根据身高重建队列\r\n",
    "假设有打乱顺序的一群人站成一个队列，数组people表示队列中一些人的属性，每个peop\\[i\\] = \\[hi,ki\\]，表示第i个人的身高为hi，前面正好有ki个身高大于等于hi的人，请你重新构造并返回数组people所表示的队列。返回的队列是格式化为数组queue，其中queue\\[j\\] = \\[hj, kj\\]是队列中的第j个人的属性"
   ],
   "metadata": {}
  },
  {
   "cell_type": "code",
   "execution_count": 20,
   "source": [
    "def reconstract_queue(people: list):\r\n",
    "    people = sorted(people, key=lambda x: (-x[0], x[1]))\r\n",
    "    que = []\r\n",
    "    for i in range(len(people)):\r\n",
    "        if len(que) < people[i][1]:\r\n",
    "            que.append(people[i])\r\n",
    "        else:\r\n",
    "            que.insert(people[i][1], people[i])\r\n",
    "\r\n",
    "    return que"
   ],
   "outputs": [],
   "metadata": {}
  },
  {
   "cell_type": "code",
   "execution_count": 21,
   "source": [
    "reconstract_queue([[7,0],[4,4],[7,1],[5,0],[6,1],[5,2]])"
   ],
   "outputs": [
    {
     "output_type": "execute_result",
     "data": {
      "text/plain": [
       "[[5, 0], [7, 0], [5, 2], [6, 1], [4, 4], [7, 1]]"
      ]
     },
     "metadata": {},
     "execution_count": 21
    }
   ],
   "metadata": {}
  },
  {
   "cell_type": "markdown",
   "source": [
    "### 用最少数量的箭引爆气球\r\n",
    "在二维空间中有许多气球，对于每个气球，提供的输入是水平方向上，气球直径的开始坐标和结束坐标。由于它是水平的所以总坐标并不重要，因此之哟啊知道开始和借宿的横坐标就足够了，开始坐标总是小于结束坐标。一只弓箭可以沿着下轴从不同点完全垂直地射出，在坐标x处射出一支箭，若有一个气球的直径的开始坐标和结束坐标为x_start, x_end，且满足xstart <= xend,则该气球会被引爆，可以射出的弓箭没有限制。弓箭一旦被射出之后，可以无限前进。我们想找到使得所有气球引爆所需的最少的弓箭数量\r\n",
    "给你一个数组pioints, points\\[i\\] = \\[xstart, xend\\]"
   ],
   "metadata": {}
  },
  {
   "cell_type": "code",
   "execution_count": 3,
   "source": [
    "def find_min_arrow_shots(points: list):\r\n",
    "    if len(points) == 0:\r\n",
    "        return 0\r\n",
    "    points = sorted(points, key=lambda x: x[0])\r\n",
    "    res = 1\r\n",
    "    for i in range(1, len(points)):\r\n",
    "        if points[i][0] > points[i - 1][1]:\r\n",
    "            # 两只气球不挨着，需要一支箭\r\n",
    "            res += 1\r\n",
    "        else:\r\n",
    "            points[i][1] = min(points[i-1][1], points[i][1])\r\n",
    "        \r\n",
    "    return res\r\n"
   ],
   "outputs": [],
   "metadata": {}
  },
  {
   "cell_type": "code",
   "execution_count": 5,
   "source": [
    "find_min_arrow_shots([[10,16],[2,8],[1,6],[7,12]])"
   ],
   "outputs": [
    {
     "output_type": "execute_result",
     "data": {
      "text/plain": [
       "2"
      ]
     },
     "metadata": {},
     "execution_count": 5
    }
   ],
   "metadata": {}
  },
  {
   "cell_type": "code",
   "execution_count": null,
   "source": [],
   "outputs": [],
   "metadata": {}
  }
 ],
 "metadata": {
  "orig_nbformat": 4,
  "language_info": {
   "name": "python",
   "version": "3.8.5",
   "mimetype": "text/x-python",
   "codemirror_mode": {
    "name": "ipython",
    "version": 3
   },
   "pygments_lexer": "ipython3",
   "nbconvert_exporter": "python",
   "file_extension": ".py"
  },
  "kernelspec": {
   "name": "python3",
   "display_name": "Python 3.8.5 64-bit ('base': conda)"
  },
  "interpreter": {
   "hash": "3fa48bb2c24bfd2c860ebc2f76fcf240faeca9c313f5297b1080b141badca120"
  }
 },
 "nbformat": 4,
 "nbformat_minor": 2
}