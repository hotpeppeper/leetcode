{
 "cells": [
  {
   "cell_type": "markdown",
   "source": [
    "* 分发饼干\r\n",
    "假设你是一位很棒的家长，想要给孩子们一些饼干，但是每个汉字最多只能给一块饼干。对每个孩子i，都有一个胃口值g\\[i\\]，这是能让孩子们满足胃口的最小尺寸，并且每块饼干j都有一个尺寸s\\[j\\]，如果s\\[j\\]>=g\\[i\\]，可以把这个饼干j分给孩子i，这个孩子会得到满足。你的目的是尽可能满足越多数量的孩子，并输出这个最大的数值"
   ],
   "metadata": {}
  },
  {
   "cell_type": "code",
   "execution_count": 2,
   "source": [
    "def find_content_children(g: list, s: list):\r\n",
    "    g.sort(reverse=True)\r\n",
    "    s.sort()\r\n",
    "    res = 0\r\n",
    "    idx = len(s) - 1\r\n",
    "    for i in range(len(g)):\r\n",
    "        # 大饼干满足胃口大的\r\n",
    "        if idx >= 0 and s[idx] >= g[i]:\r\n",
    "            idx -= 1\r\n",
    "            res += 1\r\n",
    "    return res"
   ],
   "outputs": [],
   "metadata": {}
  },
  {
   "cell_type": "code",
   "execution_count": null,
   "source": [],
   "outputs": [],
   "metadata": {}
  }
 ],
 "metadata": {
  "orig_nbformat": 4,
  "language_info": {
   "name": "python",
   "version": "3.8.5",
   "mimetype": "text/x-python",
   "codemirror_mode": {
    "name": "ipython",
    "version": 3
   },
   "pygments_lexer": "ipython3",
   "nbconvert_exporter": "python",
   "file_extension": ".py"
  },
  "kernelspec": {
   "name": "python3",
   "display_name": "Python 3.8.5 64-bit ('base': conda)"
  },
  "interpreter": {
   "hash": "3fa48bb2c24bfd2c860ebc2f76fcf240faeca9c313f5297b1080b141badca120"
  }
 },
 "nbformat": 4,
 "nbformat_minor": 2
}