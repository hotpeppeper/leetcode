{
 "metadata": {
  "language_info": {
   "codemirror_mode": {
    "name": "ipython",
    "version": 3
   },
   "file_extension": ".py",
   "mimetype": "text/x-python",
   "name": "python",
   "nbconvert_exporter": "python",
   "pygments_lexer": "ipython3",
   "version": "3.8.5-final"
  },
  "orig_nbformat": 2,
  "kernelspec": {
   "name": "python3",
   "display_name": "Python 3.8.5 64-bit (conda)",
   "metadata": {
    "interpreter": {
     "hash": "3fa48bb2c24bfd2c860ebc2f76fcf240faeca9c313f5297b1080b141badca120"
    }
   }
  }
 },
 "nbformat": 4,
 "nbformat_minor": 2,
 "cells": [
  {
   "source": [
    "#### 二维数组中查找\n",
    "在一个 n * m 的二维数组中，每一行都按照从左到右递增的顺序排序，每一列都按照从上到下递增的顺序排序。请完成一个函数，输入这样的一个二维数组和一个整数，判断数组中是否含有该整数。"
   ],
   "cell_type": "markdown",
   "metadata": {}
  },
  {
   "cell_type": "code",
   "execution_count": 12,
   "metadata": {},
   "outputs": [],
   "source": [
    "def find_number_in_2darray(mattrix, target):\n",
    "    if len(mattrix) == 0 or len(mattrix[0]) == 0:\n",
    "        return False\n",
    "    row, column = len(mattrix), len(mattrix[0])\n",
    "    l, r = 0, len(mattrix[0]) - 1\n",
    "    while l < row and r >= 0:\n",
    "        num = mattrix[l][r]\n",
    "        if num == target:\n",
    "            return True\n",
    "        elif num > target:\n",
    "            # num大于target，列下标减1\n",
    "            r -= 1\n",
    "        else:\n",
    "            # num小于target。行下标加1\n",
    "            l += 1\n",
    "    return False"
   ]
  },
  {
   "cell_type": "code",
   "execution_count": 15,
   "metadata": {},
   "outputs": [
    {
     "output_type": "stream",
     "name": "stdout",
     "text": [
      "True\nTrue\nTrue\n"
     ]
    }
   ],
   "source": [
    "aa = [\n",
    "  [1,   4,  7, 11, 15],\n",
    "  [2,   5,  8, 12, 19],\n",
    "  [3,   6,  9, 16, 22],\n",
    "  [10, 13, 14, 17, 24],\n",
    "  [18, 21, 23, 26, 30]\n",
    "]\n",
    "print(find_number_in_2darray(aa, 23))\n",
    "print(find_number_in_2darray(aa, 13))\n",
    "print(find_number_in_2darray(aa, 30))"
   ]
  },
  {
   "source": [
    "#### 旋转数组的最小数字\n",
    "把一个数组最开始的若干个元素搬到数组的末尾，我们称之为数组的旋转。输入一个递增排序的数组的一个旋转，输出旋转数组的最小元素。例如，数组 \\[3,4,5,1,2\\] 为 \\[1,2,3,4,5\\] 的一个旋转，该数组的最小值为1。 "
   ],
   "cell_type": "markdown",
   "metadata": {}
  },
  {
   "cell_type": "code",
   "execution_count": 20,
   "metadata": {},
   "outputs": [],
   "source": [
    "def min_array(numbers):\n",
    "    n = len(numbers)\n",
    "    if n == 0:\n",
    "        return 0\n",
    "    if n == 1:\n",
    "        return numbers[0]\n",
    "    l, r = 0, n - 1\n",
    "    while l < r:\n",
    "        mid = l + (r - l) // 2\n",
    "        if numbers[mid] > numbers[r]:\n",
    "            # 最小的数字在右边\n",
    "            l = mid + 1\n",
    "        elif numbers[mid] < numbers[r]:\n",
    "            # 最小的数字在左边\n",
    "            r = mid\n",
    "        else:\n",
    "            r -= 1\n",
    "    return numbers[l]"
   ]
  },
  {
   "cell_type": "code",
   "execution_count": 22,
   "metadata": {},
   "outputs": [
    {
     "output_type": "stream",
     "name": "stdout",
     "text": [
      "0\n0\n1\n"
     ]
    }
   ],
   "source": [
    "print(min_array([2,2,2,0,1]))\n",
    "print(min_array([3,4,5,0,1,2]))\n",
    "print(min_array([3,4,5,1,2]))"
   ]
  },
  {
   "source": [
    "#### 二进制中1的个数\n",
    "请实现一个函数，输入一个整数，输出该数二进制表示中 1 的个数。例如，把 9 表示成二进制是 1001，有 2 位是 1。因此，如果输入 9，则该函数输出 2。"
   ],
   "cell_type": "markdown",
   "metadata": {}
  },
  {
   "cell_type": "code",
   "execution_count": 23,
   "metadata": {},
   "outputs": [],
   "source": [
    "def hamming_weight(n):\n",
    "    res = 0\n",
    "    while n:\n",
    "        res += 1\n",
    "        n &= (n-1)\n",
    "    return res"
   ]
  },
  {
   "cell_type": "code",
   "execution_count": 24,
   "metadata": {},
   "outputs": [
    {
     "output_type": "stream",
     "name": "stdout",
     "text": [
      "4\n3\n2\n8\n"
     ]
    }
   ],
   "source": [
    "print(hamming_weight(15))\n",
    "print(hamming_weight(14))\n",
    "print(hamming_weight(10))\n",
    "print(hamming_weight(255))"
   ]
  },
  {
   "cell_type": "code",
   "execution_count": null,
   "metadata": {},
   "outputs": [],
   "source": []
  }
 ]
}