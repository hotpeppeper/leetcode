{
    "metadata": {
     "language_info": {
      "codemirror_mode": {
       "name": "ipython",
       "version": 3
      },
      "file_extension": ".py",
      "mimetype": "text/x-python",
      "name": "python",
      "nbconvert_exporter": "python",
      "pygments_lexer": "ipython3",
      "version": "3.8.5"
     },
     "orig_nbformat": 2,
     "kernelspec": {
      "name": "python3",
      "display_name": "Python 3",
      "language": "python"
     }
    },
    "nbformat": 4,
    "nbformat_minor": 2,
    "cells": [
     {
      "source": [
       "#### 二维数组中查找\n",
       "在一个 n * m 的二维数组中，每一行都按照从左到右递增的顺序排序，每一列都按照从上到下递增的顺序排序。请完成一个函数，输入这样的一个二维数组和一个整数，判断数组中是否含有该整数。"
      ],
      "cell_type": "markdown",
      "metadata": {}
     },
     {
      "cell_type": "code",
      "execution_count": 12,
      "metadata": {},
      "outputs": [],
      "source": [
       "def find_number_in_2darray(mattrix, target):\n",
       "    if len(mattrix) == 0 or len(mattrix[0]) == 0:\n",
       "        return False\n",
       "    row, column = len(mattrix), len(mattrix[0])\n",
       "    l, r = 0, len(mattrix[0]) - 1\n",
       "    while l < row and r >= 0:\n",
       "        num = mattrix[l][r]\n",
       "        if num == target:\n",
       "            return True\n",
       "        elif num > target:\n",
       "            # num大于target，列下标减1\n",
       "            r -= 1\n",
       "        else:\n",
       "            # num小于target。行下标加1\n",
       "            l += 1\n",
       "    return False"
      ]
     },
     {
      "cell_type": "code",
      "execution_count": 15,
      "metadata": {},
      "outputs": [
       {
        "output_type": "stream",
        "name": "stdout",
        "text": [
         "True\nTrue\nTrue\n"
        ]
       }
      ],
      "source": [
       "aa = [\n",
       "  [1,   4,  7, 11, 15],\n",
       "  [2,   5,  8, 12, 19],\n",
       "  [3,   6,  9, 16, 22],\n",
       "  [10, 13, 14, 17, 24],\n",
       "  [18, 21, 23, 26, 30]\n",
       "]\n",
       "print(find_number_in_2darray(aa, 23))\n",
       "print(find_number_in_2darray(aa, 13))\n",
       "print(find_number_in_2darray(aa, 30))"
      ]
     },
     {
      "source": [
       "#### 旋转数组的最小数字\n",
       "把一个数组最开始的若干个元素搬到数组的末尾，我们称之为数组的旋转。输入一个递增排序的数组的一个旋转，输出旋转数组的最小元素。例如，数组 \\[3,4,5,1,2\\] 为 \\[1,2,3,4,5\\] 的一个旋转，该数组的最小值为1。 "
      ],
      "cell_type": "markdown",
      "metadata": {}
     },
     {
      "cell_type": "code",
      "execution_count": 20,
      "metadata": {},
      "outputs": [],
      "source": [
       "def min_array(numbers):\n",
       "    n = len(numbers)\n",
       "    if n == 0:\n",
       "        return 0\n",
       "    if n == 1:\n",
       "        return numbers[0]\n",
       "    l, r = 0, n - 1\n",
       "    while l < r:\n",
       "        mid = l + (r - l) // 2\n",
       "        if numbers[mid] > numbers[r]:\n",
       "            # 最小的数字在右边\n",
       "            l = mid + 1\n",
       "        elif numbers[mid] < numbers[r]:\n",
       "            # 最小的数字在左边\n",
       "            r = mid\n",
       "        else:\n",
       "            r -= 1\n",
       "    return numbers[l]"
      ]
     },
     {
      "cell_type": "code",
      "execution_count": 22,
      "metadata": {},
      "outputs": [
       {
        "output_type": "stream",
        "name": "stdout",
        "text": [
         "0\n0\n1\n"
        ]
       }
      ],
      "source": [
       "print(min_array([2,2,2,0,1]))\n",
       "print(min_array([3,4,5,0,1,2]))\n",
       "print(min_array([3,4,5,1,2]))"
      ]
     },
     {
      "source": [
       "#### 二进制中1的个数\n",
       "请实现一个函数，输入一个整数，输出该数二进制表示中 1 的个数。例如，把 9 表示成二进制是 1001，有 2 位是 1。因此，如果输入 9，则该函数输出 2。"
      ],
      "cell_type": "markdown",
      "metadata": {}
     },
     {
      "cell_type": "code",
      "execution_count": 23,
      "metadata": {},
      "outputs": [],
      "source": [
       "def hamming_weight(n):\n",
       "    res = 0\n",
       "    while n:\n",
       "        res += 1\n",
       "        n &= (n-1)\n",
       "    return res"
      ]
     },
     {
      "cell_type": "code",
      "execution_count": 24,
      "metadata": {},
      "outputs": [
       {
        "output_type": "stream",
        "name": "stdout",
        "text": [
         "4\n3\n2\n8\n"
        ]
       }
      ],
      "source": [
       "print(hamming_weight(15))\n",
       "print(hamming_weight(14))\n",
       "print(hamming_weight(10))\n",
       "print(hamming_weight(255))"
      ]
     },
     {
      "source": [
       "#### 矩阵中的路径\n",
       "请设计一个函数，用来判断在一个矩阵中是否存在一条包含某字符串所有字符的路径。路径可以从矩阵中的任意一格开始，每一步可以在矩阵中向左、右、上、下移动一格。如果一条路径经过了矩阵的某一格，那么该路径不能再次进入该格子。"
      ],
      "cell_type": "markdown",
      "metadata": {}
     },
     {
      "cell_type": "code",
      "execution_count": 25,
      "metadata": {},
      "outputs": [],
      "source": [
       "def exist(board, word):\n",
       "    def dfs(i, j, k):\n",
       "        if not (0 <= i < len(board)) or not (0 <= j < len(board[0])) or board[i][j] != word:\n",
       "            return False\n",
       "        if k == len(word) - 1:\n",
       "            return True\n",
       "\n",
       "        tmp, board[i][j] = board[i][j], '/'\n",
       "        res = dfs(i+1, j, k+1) or dfs(i-1, j, k+1) or dfs(i, j-1, k+1)\n",
       "        board[i][j] = tmp\n",
       "        return res\n",
       "    for i in range(len(board)):\n",
       "        for j in range(len(board[0])):\n",
       "            if dfs(i, j ,0):\n",
       "                return True\n",
       "    return False"
      ]
     },
     {
      "source": [
       "#### 反转链表\n",
       "定义一个函数，输入一个链表的头节点，反转该链表并输出反转后链表的头节点。"
      ],
      "cell_type": "markdown",
      "metadata": {}
     },
     {
      "cell_type": "code",
      "execution_count": 27,
      "metadata": {},
      "outputs": [],
      "source": [
       "class ListNode:\n",
       "    def __init__(self, x):\n",
       "        self.val = x\n",
       "        self.next = None"
      ]
     },
     {
      "cell_type": "code",
      "execution_count": 28,
      "metadata": {},
      "outputs": [],
      "source": [
       "def reverse_list(head: ListNode):\n",
       "    cur = None\n",
       "    pre = head\n",
       "    while pre:\n",
       "        tmp = pre.next\n",
       "        pre.next = cur\n",
       "        cur = pre\n",
       "        pre = tmp\n",
       "    return cur"
      ]
     },
     {
      "cell_type": "code",
      "execution_count": 29,
      "metadata": {},
      "outputs": [],
      "source": [
       "head = ListNode(1)\n",
       "head.next = ListNode(2)\n",
       "head.next.next = ListNode(3)\n",
       "head.next.next.next = ListNode(4)\n",
       "head.next.next.next.next = ListNode(5)\n",
       "res = reverse_list(head)"
      ]
     },
     {
      "cell_type": "code",
      "execution_count": 30,
      "metadata": {},
      "outputs": [
       {
        "output_type": "stream",
        "name": "stdout",
        "text": [
         "5\n4\n3\n2\n1\n"
        ]
       }
      ],
      "source": [
       "while res:\n",
       "    print(res.val)\n",
       "    res = res.next"
      ]
     },
     {
      "source": [
       "#### 查找和最小的K对数字"
      ],
      "cell_type": "markdown",
      "metadata": {}
     },
     {
      "cell_type": "code",
      "execution_count": 5,
      "metadata": {},
      "outputs": [],
      "source": [
       "import heapq\n",
       "def k_smallest_pairs(A, B, k):\n",
       "    if not A or not B or k <= 0:\n",
       "        return []\n",
       "\n",
       "    al = 0 if not A else len(A)\n",
       "    bl = 0 if not B else len(B)\n",
       "\n",
       "    Q = []\n",
       "    for i in range(al):\n",
       "        # 结构为[和, A的下标, B的下标]\n",
       "        Q.append([A[i] + B[0], i, 0])\n",
       "    \n",
       "    heapq.heapify(Q)\n",
       "    res = []\n",
       "    i = 0\n",
       "    while i < k and len(Q) > 0:\n",
       "        i += 1\n",
       "        q = heapq.heappop(Q)\n",
       "        res.append([A[q[1]], B[q[2]]])\n",
       "\n",
       "        if q[2] + 1< bl:\n",
       "            heapq.heappush(Q, [A[q[1]]+B[q[2]], q[1], q[2]+1])\n",
       "\n",
       "    return res"
      ]
     },
     {
      "cell_type": "code",
      "execution_count": 6,
      "metadata": {},
      "outputs": [
       {
        "output_type": "execute_result",
        "data": {
         "text/plain": [
          "[[1, 2], [1, 4], [1, 6]]"
         ]
        },
        "metadata": {},
        "execution_count": 6
       }
      ],
      "source": [
       "k_smallest_pairs([1,7,11], [2,4,6], 3)"
      ]
     },
     {
      "source": [
       "##### 前 K 个高频元素"
      ],
      "cell_type": "markdown",
      "metadata": {}
     },
     {
      "cell_type": "code",
      "execution_count": 11,
      "metadata": {},
      "outputs": [],
      "source": [
       "from collections import Counter\n",
       "def topk_frequence(nums, K):\n",
       "    if not nums or K <= 0:\n",
       "        return []\n",
       "    count = Counter(nums)\n",
       "    heap = [(-v, k) for k, v in count.items()]\n",
       "    heapq.heapify(heap)\n",
       "\n",
       "    res = [heapq.heappop(heap)[-1] for _ in range(K)]\n",
       "    return res"
      ]
     },
     {
      "cell_type": "code",
      "execution_count": 12,
      "metadata": {},
      "outputs": [
       {
        "output_type": "execute_result",
        "data": {
         "text/plain": [
          "[1, 2, 3]"
         ]
        },
        "metadata": {},
        "execution_count": 12
       }
      ],
      "source": [
       "topk_frequence([1,1,1,1,2,2,2,2,3,3,3,3,4], 3)"
      ]
     },
     {
      "source": [
       "#### 无重复字符的最长子串\n",
       "给定一个字符串，请你找出其中不含有重复字符的 最长子串 的长度。"
      ],
      "cell_type": "markdown",
      "metadata": {}
     },
     {
      "cell_type": "code",
      "execution_count": 1,
      "metadata": {},
      "outputs": [],
      "source": [
       "def length_of_longest_substring(s: str):\n",
       "    if not s:\n",
       "        return 0\n",
       "    left = 0\n",
       "    n = len(s)\n",
       "    max_len = 0\n",
       "    cur_len = 0\n",
       "    look = set()\n",
       "    for i in range(n):\n",
       "        cur_len += 1\n",
       "        while s[i] in look:\n",
       "            look.remove(s[i])\n",
       "            left += 1\n",
       "            cur_len -= 1\n",
       "        max_len = max(max_len, cur_len)\n",
       "        look.add(s[i])\n",
       "    return max_len"
      ]
     },
     {
      "cell_type": "code",
      "execution_count": 3,
      "metadata": {},
      "outputs": [],
      "source": [
       "def length_of_longest_substring(s: str):\n",
       "    res = 0\n",
       "    dic = {}\n",
       "    k = -1\n",
       "    for i, c in enumerate(s):\n",
       "        if c in dic and dic[c] > k:\n",
       "            k = dic[c]\n",
       "            dic[c] = i\n",
       "        else:\n",
       "            dic[c] = i\n",
       "            res = max(res, i - k)\n",
       "    return res"
      ]
     },
     {
      "cell_type": "code",
      "execution_count": 5,
      "metadata": {},
      "outputs": [
       {
        "output_type": "execute_result",
        "data": {
         "text/plain": [
          "5"
         ]
        },
        "metadata": {},
        "execution_count": 5
       }
      ],
      "source": [
       "length_of_longest_substring('abcabcbbqwer')"
      ]
     },
     {
      "source": [
       "#### 长度最小的子数组\n",
       "给定一个含有 n 个正整数的数组和一个正整数 target 。\n",
       "找出该数组中满足其和 ≥ target 的长度最小的 连续子数组 \\[numsl, numsl+1, ..., numsr-1, numsr\\] ，并返回其长度。如果不存在符合条件的子数组，返回 0 。"
      ],
      "cell_type": "markdown",
      "metadata": {}
     },
     {
      "cell_type": "code",
      "execution_count": 3,
      "metadata": {},
      "outputs": [],
      "source": [
       "def min_subarray(s: int, nums: list):\n",
       "    slow, fast = 0, 0\n",
       "    n = len(nums)\n",
       "    res = n+1\n",
       "    total = 0\n",
       "    while fast < n:\n",
       "        total += nums[fast]\n",
       "        while total >= s:\n",
       "            res = min(res, fast - slow + 1)\n",
       "            total -= nums[slow]\n",
       "            slow += 1\n",
       "        fast += 1\n",
       "    return 0 if res == n+1 else res"
      ]
     },
     {
      "source": [
       "#### 最长公共前缀\n",
       "编写一个函数来查找字符串数组中的最长公共前缀。"
      ],
      "cell_type": "markdown",
      "metadata": {}
     },
     {
      "cell_type": "code",
      "execution_count": 11,
      "metadata": {},
      "outputs": [],
      "source": [
       "def longestCommonPrefix(strs: list) -> str:\n",
       "    if not strs:\n",
       "        return ''\n",
       "    n = len(strs[0])\n",
       "    count = len(strs)\n",
       "    for i in range(n):\n",
       "        c = strs[0][i]\n",
       "        # 遍历到某个字符串尾或者字符不想等的时候\n",
       "        if any(i == len(strs[j]) or c != strs[j][i] for j in range(1, count)):\n",
       "            return strs[0][:i]\n",
       "    return strs[0]"
      ]
     },
     {
      "cell_type": "code",
      "execution_count": 12,
      "metadata": {},
      "outputs": [
       {
        "output_type": "execute_result",
        "data": {
         "text/plain": [
          "'fl'"
         ]
        },
        "metadata": {},
        "execution_count": 12
       }
      ],
      "source": [
       "longestCommonPrefix([\"flower\",\"flow\",\"flight\"])"
      ]
     },
     {
      "source": [
       "#### 最大子序和\n",
       "给定一个整数数组 nums ，找到一个具有最大和的连续子数组（子数组最少包含一个元素），返回其最大和。"
      ],
      "cell_type": "markdown",
      "metadata": {}
     },
     {
      "cell_type": "code",
      "execution_count": null,
      "metadata": {},
      "outputs": [],
      "source": [
       "def maxSubArray(nums: list):\n",
       "    if len(nums) == 0:\n",
       "        return nums[0]\n",
       "    pre = 0\n",
       "    max_val = nums[0]\n",
       "    for i in nums:\n",
       "        pre = max(pre + i, pre)\n",
       "        max_val = max(max_val, pre)\n",
       "\n",
       "    return max_val"
      ]
     },
     {
      "source": [
       "#### 最长递增子序列\n",
       "给你一个整数数组 nums ，找到其中最长严格递增子序列的长度。"
      ],
      "cell_type": "markdown",
      "metadata": {}
     },
     {
      "cell_type": "code",
      "execution_count": 1,
      "metadata": {},
      "outputs": [],
      "source": [
       "def lengthOfLIS(nums):\n",
       "    if not nums:\n",
       "        return 0\n",
       "    dp = []\n",
       "    for i in range(len(nums)):\n",
       "        dp.append(1)\n",
       "        for j in range(i):\n",
       "            if nums[i] > nums[j]:\n",
       "                dp[i] = max(dp[i], dp[j]+1)\n",
       "    return max(dp)"
      ]
     },
     {
      "cell_type": "code",
      "execution_count": 2,
      "metadata": {},
      "outputs": [
       {
        "output_type": "execute_result",
        "data": {
         "text/plain": [
          "4"
         ]
        },
        "metadata": {},
        "execution_count": 2
       }
      ],
      "source": [
       "lengthOfLIS([10,9,2,5,3,7,101,18])"
      ]
     },
     {
      "cell_type": "code",
      "execution_count": 13,
      "metadata": {},
      "outputs": [],
      "source": [
       "def lengthOfLIS(nums):\n",
       "    # 维持tail为一个严格递增的队列\n",
       "    # res为tails的非0长度 \n",
       "    tails, res = [0] * len(nums), 0\n",
       "    for num in nums:\n",
       "        l, r = 0, res\n",
       "        while l < r:\n",
       "            m = (l + r) // 2\n",
       "            if tails[m] < num: # 非严格递增可以改成 <= num\n",
       "                l = m + 1\n",
       "            else:\n",
       "                r = m\n",
       "        tails[l] = num\n",
       "        if r == res:\n",
       "            res += 1\n",
       "    print(tails)\n",
       "    return res"
      ]
     },
     {
      "cell_type": "code",
      "execution_count": 14,
      "metadata": {},
      "outputs": [
       {
        "output_type": "stream",
        "name": "stdout",
        "text": [
         "[2, 3, 7, 18, 0, 0, 0, 0]\n"
        ]
       },
       {
        "output_type": "execute_result",
        "data": {
         "text/plain": [
          "4"
         ]
        },
        "metadata": {},
        "execution_count": 14
       }
      ],
      "source": [
       "lengthOfLIS([10,9,2,5,3,7,101,18])"
      ]
     },
     {
      "cell_type": "code",
      "execution_count": 17,
      "metadata": {},
      "outputs": [
       {
        "output_type": "stream",
        "name": "stdout",
        "text": [
         "[2, 3, 6, 21, 0, 0, 0, 0]\n"
        ]
       },
       {
        "output_type": "execute_result",
        "data": {
         "text/plain": [
          "4"
         ]
        },
        "metadata": {},
        "execution_count": 17
       }
      ],
      "source": [
       "lengthOfLIS([10,9,2,5,3,7,21,6])"
      ]
     },
     {
      "source": [
       "#### 乘积小于K的子数组\n",
       "给定一个正整数数组 nums。\n",
       "\n",
       "找出该数组内乘积小于 k 的连续的子数组的个数。"
      ],
      "cell_type": "markdown",
      "metadata": {}
     },
     {
      "cell_type": "code",
      "execution_count": 18,
      "metadata": {},
      "outputs": [],
      "source": [
       "def numSubarrayProductLessThanK(nums: list, k: int):\n",
       "    if not nums or k <= 1:\n",
       "        return 0\n",
       "    prod = 1\n",
       "    res = 0\n",
       "    left = 0\n",
       "    for right, num in enumerate(nums):\n",
       "        prod *= num\n",
       "        while prod >= k:\n",
       "            # 如果乘积大于k，左指针向右移动\n",
       "            prod /= nums[left]\n",
       "            left += 1\n",
       "        res += right - left + 1\n",
       "    return res"
      ]
     },
     {
      "cell_type": "code",
      "execution_count": 19,
      "metadata": {},
      "outputs": [
       {
        "output_type": "execute_result",
        "data": {
         "text/plain": [
          "8"
         ]
        },
        "metadata": {},
        "execution_count": 19
       }
      ],
      "source": [
       "numSubarrayProductLessThanK([10,5,2,6], 100)"
      ]
     },
     {
      "source": [
       "#### 括号生成\n",
       "数字 n 代表生成括号的对数，请你设计一个函数，用于能够生成所有可能的并且 有效的 括号组合。"
      ],
      "cell_type": "markdown",
      "metadata": {}
     },
     {
      "cell_type": "code",
      "execution_count": 20,
      "metadata": {},
      "outputs": [],
      "source": [
       "def generateParenthesis(n):\n",
       "    res = []\n",
       "    def _gen(S, left, right):\n",
       "        if len(S) == 2*n:\n",
       "            res.append(''.join(S))\n",
       "            return\n",
       "        if left < n:\n",
       "            # 左括号的数量小于n，可以放一个左括号\n",
       "            S.append('(')\n",
       "            _gen(S, left+1, right)\n",
       "            S.pop()\n",
       "        if right < left:\n",
       "            # 右括号的数量小于左括号，可以放右括号\n",
       "            S.append(')')\n",
       "            _gen(S, left, right+1)\n",
       "            S.pop()\n",
       "\n",
       "    _gen([], 0, 0)\n",
       "    return res"
      ]
     },
     {
      "cell_type": "code",
      "execution_count": 21,
      "metadata": {},
      "outputs": [
       {
        "output_type": "execute_result",
        "data": {
         "text/plain": [
          "['((()))', '(()())', '(())()', '()(())', '()()()']"
         ]
        },
        "metadata": {},
        "execution_count": 21
       }
      ],
      "source": [
       "generateParenthesis(3)"
      ]
     },
     {
      "cell_type": "code",
      "execution_count": 22,
      "metadata": {},
      "outputs": [
       {
        "output_type": "execute_result",
        "data": {
         "text/plain": [
          "['(((())))',\n",
          " '((()()))',\n",
          " '((())())',\n",
          " '((()))()',\n",
          " '(()(()))',\n",
          " '(()()())',\n",
          " '(()())()',\n",
          " '(())(())',\n",
          " '(())()()',\n",
          " '()((()))',\n",
          " '()(()())',\n",
          " '()(())()',\n",
          " '()()(())',\n",
          " '()()()()']"
         ]
        },
        "metadata": {},
        "execution_count": 22
       }
      ],
      "source": [
       "generateParenthesis(4)"
      ]
     },
     {
      "source": [
       "#### 最长回文子串\n",
       "给你一个字符串 s，找到 s 中最长的回文子串。"
       "#### 滑动窗口最大值这个题目"
      ],
      "cell_type": "markdown",
      "metadata": {}
     },
     {
      "cell_type": "code",
      "execution_count": 8,
      "metadata": {},
      "outputs": [],
      "source": [
       "def longestPalindrome(s: str):\n",
       "    n = len(s)\n",
       "    def _certer_spread(i, j):\n",
       "        left = i\n",
       "        right = j\n",
       "        while i >= 0 and j < n and s[i] == s[j]:\n",
       "            i -= 1\n",
       "            j += 1\n",
       "        return s[i+1: j], j-i-1\n",
       "    if n < 2:\n",
       "        return s\n",
       "    res = ''\n",
       "    maxlen = 0\n",
       "    for i in range(n):\n",
       "        odd, odd_len = _certer_spread(i, i)\n",
       "        even, even_len = _certer_spread(i, i+1)\n",
       "        parli = odd if odd_len > even_len else even\n",
       "        if len(parli) > maxlen:\n",
       "            res = parli\n",
       "            maxlen = len(parli)\n",
       "    return res"
      ]
     },
     {
      "cell_type": "code",
      "execution_count": 9,
      "metadata": {},
      "outputs": [
       {
        "output_type": "execute_result",
        "data": {
         "text/plain": [
          "'bab'"
         ]
        },
        "metadata": {},
        "execution_count": 9
       }
      ],
      "source": [
       "longestPalindrome('babad')"
      ]
     },
     {
      "source": [
       "#### 替换后的最长重复字符\n",
       "\n",
       "给你一个仅由大写英文字母组成的字符串，你可以将任意位置上的字符替换成另外的字符，总共可最多替换 k\n",
       "次。在执行上述操作后，找到包含重复字母的最长子串的长度。"
      ],
      "cell_type": "markdown",
      "metadata": {}
     },
     {
      "cell_type": "code",
      "execution_count": 10,
      "metadata": {},
      "outputs": [],
      "source": [
       "def character_replacement(s: str, k: int):\n",
       "    left = -1\n",
       "    char_num = 0\n",
       "    res = 0\n",
       "    cnt = [0] * 256\n",
       "    for i, c in enumerate(s):\n",
       "        j = ord(c)\n",
       "        cnt[j] += 1\n",
       "        char_num = max(char_num, cnt[j])\n",
       "        if i - left - char_num > k:\n",
       "            # 说明此时k不够用，不能把不是出现最多的字符全部替换\n",
       "            # 考虑左边界右移，左边字符移出窗口后，频数数组-1\n",
       "            left += 1\n",
       "            old = ord(s[left])\n",
       "            cnt[old] -= 1\n",
       "        res = max(res, i-left)\n",
       "    return res"
      ]
     },
     {
      "cell_type": "code",
      "execution_count": 11,
      "metadata": {},
      "outputs": [
       {
        "output_type": "execute_result",
        "data": {
         "text/plain": [
          "4"
         ]
        },
        "metadata": {},
        "execution_count": 11
       }
      ],
      "source": [
       "character_replacement('ABBA', 2)"
      ]
     },
     {
      "source": [
       "#### 最大子序和\n",
       "给定一个整数数组 nums ，找到一个具有最大和的连续子数组（子数组最少包含一个元素），返回其最大和。"
      ],
      "cell_type": "markdown",
      "metadata": {}
     },
     {
      "cell_type": "code",
      "execution_count": null,
      "metadata": {},
      "outputs": [],
      "source": []
     }
    ]
   }