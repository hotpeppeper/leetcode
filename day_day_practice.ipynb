{
 "metadata": {
  "language_info": {
   "codemirror_mode": {
    "name": "ipython",
    "version": 3
   },
   "file_extension": ".py",
   "mimetype": "text/x-python",
   "name": "python",
   "nbconvert_exporter": "python",
   "pygments_lexer": "ipython3",
   "version": "3.8.5-final"
  },
  "orig_nbformat": 2,
  "kernelspec": {
   "name": "python3",
   "display_name": "Python 3",
   "language": "python"
  }
 },
 "nbformat": 4,
 "nbformat_minor": 2,
 "cells": [
  {
   "source": [
    "#### 二维数组中查找\n",
    "在一个 n * m 的二维数组中，每一行都按照从左到右递增的顺序排序，每一列都按照从上到下递增的顺序排序。请完成一个函数，输入这样的一个二维数组和一个整数，判断数组中是否含有该整数。"
   ],
   "cell_type": "markdown",
   "metadata": {}
  },
  {
   "cell_type": "code",
   "execution_count": 12,
   "metadata": {},
   "outputs": [],
   "source": [
    "def find_number_in_2darray(mattrix, target):\n",
    "    if len(mattrix) == 0 or len(mattrix[0]) == 0:\n",
    "        return False\n",
    "    row, column = len(mattrix), len(mattrix[0])\n",
    "    l, r = 0, len(mattrix[0]) - 1\n",
    "    while l < row and r >= 0:\n",
    "        num = mattrix[l][r]\n",
    "        if num == target:\n",
    "            return True\n",
    "        elif num > target:\n",
    "            # num大于target，列下标减1\n",
    "            r -= 1\n",
    "        else:\n",
    "            # num小于target。行下标加1\n",
    "            l += 1\n",
    "    return False"
   ]
  },
  {
   "cell_type": "code",
   "execution_count": 15,
   "metadata": {},
   "outputs": [
    {
     "output_type": "stream",
     "name": "stdout",
     "text": [
      "True\nTrue\nTrue\n"
     ]
    }
   ],
   "source": [
    "aa = [\n",
    "  [1,   4,  7, 11, 15],\n",
    "  [2,   5,  8, 12, 19],\n",
    "  [3,   6,  9, 16, 22],\n",
    "  [10, 13, 14, 17, 24],\n",
    "  [18, 21, 23, 26, 30]\n",
    "]\n",
    "print(find_number_in_2darray(aa, 23))\n",
    "print(find_number_in_2darray(aa, 13))\n",
    "print(find_number_in_2darray(aa, 30))"
   ]
  },
  {
   "source": [
    "#### 旋转数组的最小数字\n",
    "把一个数组最开始的若干个元素搬到数组的末尾，我们称之为数组的旋转。输入一个递增排序的数组的一个旋转，输出旋转数组的最小元素。例如，数组 \\[3,4,5,1,2\\] 为 \\[1,2,3,4,5\\] 的一个旋转，该数组的最小值为1。 "
   ],
   "cell_type": "markdown",
   "metadata": {}
  },
  {
   "cell_type": "code",
   "execution_count": 20,
   "metadata": {},
   "outputs": [],
   "source": [
    "def min_array(numbers):\n",
    "    n = len(numbers)\n",
    "    if n == 0:\n",
    "        return 0\n",
    "    if n == 1:\n",
    "        return numbers[0]\n",
    "    l, r = 0, n - 1\n",
    "    while l < r:\n",
    "        mid = l + (r - l) // 2\n",
    "        if numbers[mid] > numbers[r]:\n",
    "            # 最小的数字在右边\n",
    "            l = mid + 1\n",
    "        elif numbers[mid] < numbers[r]:\n",
    "            # 最小的数字在左边\n",
    "            r = mid\n",
    "        else:\n",
    "            r -= 1\n",
    "    return numbers[l]"
   ]
  },
  {
   "cell_type": "code",
   "execution_count": 22,
   "metadata": {},
   "outputs": [
    {
     "output_type": "stream",
     "name": "stdout",
     "text": [
      "0\n0\n1\n"
     ]
    }
   ],
   "source": [
    "print(min_array([2,2,2,0,1]))\n",
    "print(min_array([3,4,5,0,1,2]))\n",
    "print(min_array([3,4,5,1,2]))"
   ]
  },
  {
   "source": [
    "#### 二进制中1的个数\n",
    "请实现一个函数，输入一个整数，输出该数二进制表示中 1 的个数。例如，把 9 表示成二进制是 1001，有 2 位是 1。因此，如果输入 9，则该函数输出 2。"
   ],
   "cell_type": "markdown",
   "metadata": {}
  },
  {
   "cell_type": "code",
   "execution_count": 23,
   "metadata": {},
   "outputs": [],
   "source": [
    "def hamming_weight(n):\n",
    "    res = 0\n",
    "    while n:\n",
    "        res += 1\n",
    "        n &= (n-1)\n",
    "    return res"
   ]
  },
  {
   "cell_type": "code",
   "execution_count": 24,
   "metadata": {},
   "outputs": [
    {
     "output_type": "stream",
     "name": "stdout",
     "text": [
      "4\n3\n2\n8\n"
     ]
    }
   ],
   "source": [
    "print(hamming_weight(15))\n",
    "print(hamming_weight(14))\n",
    "print(hamming_weight(10))\n",
    "print(hamming_weight(255))"
   ]
  },
  {
   "source": [
    "#### 矩阵中的路径\n",
    "请设计一个函数，用来判断在一个矩阵中是否存在一条包含某字符串所有字符的路径。路径可以从矩阵中的任意一格开始，每一步可以在矩阵中向左、右、上、下移动一格。如果一条路径经过了矩阵的某一格，那么该路径不能再次进入该格子。"
   ],
   "cell_type": "markdown",
   "metadata": {}
  },
  {
   "cell_type": "code",
   "execution_count": 25,
   "metadata": {},
   "outputs": [],
   "source": [
    "def exist(board, word):\n",
    "    def dfs(i, j, k):\n",
    "        if not (0 <= i < len(board)) or not (0 <= j < len(board[0])) or board[i][j] != word:\n",
    "            return False\n",
    "        if k == len(word) - 1:\n",
    "            return True\n",
    "\n",
    "        tmp, board[i][j] = board[i][j], '/'\n",
    "        res = dfs(i+1, j, k+1) or dfs(i-1, j, k+1) or dfs(i, j-1, k+1)\n",
    "        board[i][j] = tmp\n",
    "        return res\n",
    "    for i in range(len(board)):\n",
    "        for j in range(len(board[0])):\n",
    "            if dfs(i, j ,0):\n",
    "                return True\n",
    "    return False"
   ]
  },
  {
   "source": [
    "#### 反转链表\n",
    "定义一个函数，输入一个链表的头节点，反转该链表并输出反转后链表的头节点。"
   ],
   "cell_type": "markdown",
   "metadata": {}
  },
  {
   "cell_type": "code",
   "execution_count": 27,
   "metadata": {},
   "outputs": [],
   "source": [
    "class ListNode:\n",
    "    def __init__(self, x):\n",
    "        self.val = x\n",
    "        self.next = None"
   ]
  },
  {
   "cell_type": "code",
   "execution_count": 28,
   "metadata": {},
   "outputs": [],
   "source": [
    "def reverse_list(head: ListNode):\n",
    "    cur = None\n",
    "    pre = head\n",
    "    while pre:\n",
    "        tmp = pre.next\n",
    "        pre.next = cur\n",
    "        cur = pre\n",
    "        pre = tmp\n",
    "    return cur"
   ]
  },
  {
   "cell_type": "code",
   "execution_count": 29,
   "metadata": {},
   "outputs": [],
   "source": [
    "head = ListNode(1)\n",
    "head.next = ListNode(2)\n",
    "head.next.next = ListNode(3)\n",
    "head.next.next.next = ListNode(4)\n",
    "head.next.next.next.next = ListNode(5)\n",
    "res = reverse_list(head)"
   ]
  },
  {
   "cell_type": "code",
   "execution_count": 30,
   "metadata": {},
   "outputs": [
    {
     "output_type": "stream",
     "name": "stdout",
     "text": [
      "5\n4\n3\n2\n1\n"
     ]
    }
   ],
   "source": [
    "while res:\n",
    "    print(res.val)\n",
    "    res = res.next"
   ]
  },
  {
   "source": [
    "#### 查找和最小的K对数字"
   ],
   "cell_type": "markdown",
   "metadata": {}
  },
  {
   "cell_type": "code",
   "execution_count": 5,
   "metadata": {},
   "outputs": [],
   "source": [
    "import heapq\n",
    "def k_smallest_pairs(A, B, k):\n",
    "    if not A or not B or k <= 0:\n",
    "        return []\n",
    "\n",
    "    al = 0 if not A else len(A)\n",
    "    bl = 0 if not B else len(B)\n",
    "\n",
    "    Q = []\n",
    "    for i in range(al):\n",
    "        # 结构为[和, A的下标, B的下标]\n",
    "        Q.append([A[i] + B[0], i, 0])\n",
    "    \n",
    "    heapq.heapify(Q)\n",
    "    res = []\n",
    "    i = 0\n",
    "    while i < k and len(Q) > 0:\n",
    "        i += 1\n",
    "        q = heapq.heappop(Q)\n",
    "        res.append([A[q[1]], B[q[2]]])\n",
    "\n",
    "        if q[2] + 1< bl:\n",
    "            heapq.heappush(Q, [A[q[1]]+B[q[2]], q[1], q[2]+1])\n",
    "\n",
    "    return res"
   ]
  },
  {
   "cell_type": "code",
   "execution_count": 6,
   "metadata": {},
   "outputs": [
    {
     "output_type": "execute_result",
     "data": {
      "text/plain": [
       "[[1, 2], [1, 4], [1, 6]]"
      ]
     },
     "metadata": {},
     "execution_count": 6
    }
   ],
   "source": [
    "k_smallest_pairs([1,7,11], [2,4,6], 3)"
   ]
  },
  {
   "source": [
    "##### 前 K 个高频元素"
   ],
   "cell_type": "markdown",
   "metadata": {}
  },
  {
   "cell_type": "code",
   "execution_count": 11,
   "metadata": {},
   "outputs": [],
   "source": [
    "from collections import Counter\n",
    "def topk_frequence(nums, K):\n",
    "    if not nums or K <= 0:\n",
    "        return []\n",
    "    count = Counter(nums)\n",
    "    heap = [(-v, k) for k, v in count.items()]\n",
    "    heapq.heapify(heap)\n",
    "\n",
    "    res = [heapq.heappop(heap)[-1] for _ in range(K)]\n",
    "    return res"
   ]
  },
  {
   "cell_type": "code",
   "execution_count": 12,
   "metadata": {},
   "outputs": [
    {
     "output_type": "execute_result",
     "data": {
      "text/plain": [
       "[1, 2, 3]"
      ]
     },
     "metadata": {},
     "execution_count": 12
    }
   ],
   "source": [
    "topk_frequence([1,1,1,1,2,2,2,2,3,3,3,3,4], 3)"
   ]
  },
  {
   "source": [
    "#### 无重复字符的最长子串\n",
    "给定一个字符串，请你找出其中不含有重复字符的 最长子串 的长度。"
   ],
   "cell_type": "markdown",
   "metadata": {}
  },
  {
   "cell_type": "code",
   "execution_count": 1,
   "metadata": {},
   "outputs": [],
   "source": [
    "def length_of_longest_substring(s: str):\n",
    "    if not s:\n",
    "        return 0\n",
    "    left = 0\n",
    "    n = len(s)\n",
    "    max_len = 0\n",
    "    cur_len = 0\n",
    "    look = set()\n",
    "    for i in range(n):\n",
    "        cur_len += 1\n",
    "        while s[i] in look:\n",
    "            look.remove(s[i])\n",
    "            left += 1\n",
    "            cur_len -= 1\n",
    "        max_len = max(max_len, cur_len)\n",
    "        look.add(s[i])\n",
    "    return max_len"
   ]
  },
  {
   "cell_type": "code",
   "execution_count": 2,
   "metadata": {},
   "outputs": [
    {
     "output_type": "execute_result",
     "data": {
      "text/plain": [
       "3"
      ]
     },
     "metadata": {},
     "execution_count": 2
    }
   ],
   "source": [
    "length_of_longest_substring('abcabcbb')"
   ]
  },
  {
   "source": [
    "#### 长度最小的子数组\n",
    "给定一个含有 n 个正整数的数组和一个正整数 target 。\n",
    "找出该数组中满足其和 ≥ target 的长度最小的 连续子数组 \\[numsl, numsl+1, ..., numsr-1, numsr\\] ，并返回其长度。如果不存在符合条件的子数组，返回 0 。"
   ],
   "cell_type": "markdown",
   "metadata": {}
  },
  {
   "cell_type": "code",
   "execution_count": 3,
   "metadata": {},
   "outputs": [],
   "source": [
    "def min_subarray(s: int, nums: list):\n",
    "    slow, fast = 0, 0\n",
    "    n = len(nums)\n",
    "    res = n+1\n",
    "    total = 0\n",
    "    while fast < n:\n",
    "        total += nums[fast]\n",
    "        while total >= s:\n",
    "            res = min(res, fast - slow + 1)\n",
    "            total -= nums[slow]\n",
    "            slow += 1\n",
    "        fast += 1\n",
    "    return 0 if res == n+1 else res"
   ]
  },
  {
   "source": [
    "#### 最长公共前缀\n",
    "编写一个函数来查找字符串数组中的最长公共前缀。"
   ],
   "cell_type": "markdown",
   "metadata": {}
  },
  {
   "cell_type": "code",
   "execution_count": 11,
   "metadata": {},
   "outputs": [],
   "source": [
    "def longestCommonPrefix(strs: list) -> str:\n",
    "    if not strs:\n",
    "        return ''\n",
    "    n = len(strs[0])\n",
    "    count = len(strs)\n",
    "    for i in range(n):\n",
    "        c = strs[0][i]\n",
    "        # 遍历到某个字符串尾或者字符不想等的时候\n",
    "        if any(i == len(strs[j]) or c != strs[j][i] for j in range(1, count)):\n",
    "            return strs[0][:i]\n",
    "    return strs[0]"
   ]
  },
  {
   "cell_type": "code",
   "execution_count": 12,
   "metadata": {},
   "outputs": [
    {
     "output_type": "execute_result",
     "data": {
      "text/plain": [
       "'fl'"
      ]
     },
     "metadata": {},
     "execution_count": 12
    }
   ],
   "source": [
    "longestCommonPrefix([\"flower\",\"flow\",\"flight\"])"
   ]
  },
  {
   "cell_type": "code",
   "execution_count": null,
   "metadata": {},
   "outputs": [],
   "source": []
  }
 ]
}