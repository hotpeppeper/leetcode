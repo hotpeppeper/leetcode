{
 "metadata": {
  "language_info": {
   "codemirror_mode": {
    "name": "ipython",
    "version": 3
   },
   "file_extension": ".py",
   "mimetype": "text/x-python",
   "name": "python",
   "nbconvert_exporter": "python",
   "pygments_lexer": "ipython3",
   "version": "3.8.5-final"
  },
  "orig_nbformat": 2,
  "kernelspec": {
   "name": "python3",
   "display_name": "Python 3",
   "language": "python"
  }
 },
 "nbformat": 4,
 "nbformat_minor": 2,
 "cells": [
  {
   "source": [
    "#### 移动零\n",
    "给定一个数组 nums，编写一个函数将所有 0 移动到数组的末尾，同时保持非零元素的相对顺序。"
   ],
   "cell_type": "markdown",
   "metadata": {}
  },
  {
   "cell_type": "code",
   "execution_count": 3,
   "metadata": {},
   "outputs": [],
   "source": [
    "def move_zeros(nums: list) -> list:\n",
    "    # 双指针，乱序\n",
    "    n = len(nums)\n",
    "    left = 0\n",
    "    right = n - 1\n",
    "    while left < right:\n",
    "        if nums[left] == 0 and nums[right] != 0:\n",
    "            nums[left], nums[right] = nums[right], nums[left]\n",
    "            left += 1\n",
    "            right -= 1\n",
    "        else:\n",
    "            if nums[left] != 0:\n",
    "                left += 1\n",
    "            if nums[right] == 0:\n",
    "                right -= 1\n",
    "        "
   ]
  },
  {
   "cell_type": "code",
   "execution_count": 4,
   "metadata": {},
   "outputs": [
    {
     "output_type": "stream",
     "name": "stdout",
     "text": [
      "[12, 1, 3, 0, 0]\n"
     ]
    }
   ],
   "source": [
    "nums = [0,1,0,3,12]\n",
    "move_zeros(nums)\n",
    "print(nums)"
   ]
  },
  {
   "cell_type": "code",
   "execution_count": 9,
   "metadata": {},
   "outputs": [],
   "source": [
    "def move_zeros(nums: list) -> list:\n",
    "    n = len(nums)\n",
    "    i = -1\n",
    "    j = 0\n",
    "    while j < n:\n",
    "        # 将所有不等于0的元素移至数组前面\n",
    "        if nums[j] != 0:\n",
    "            i += 1\n",
    "            nums[i] = nums[j]\n",
    "        j += 1\n",
    "    # 剩下的元素直接赋值为0\n",
    "    for k in range(i+1, n):\n",
    "        nums[k] = 0"
   ]
  },
  {
   "cell_type": "code",
   "execution_count": 10,
   "metadata": {},
   "outputs": [
    {
     "output_type": "stream",
     "name": "stdout",
     "text": [
      "[1, 3, 12, 0, 0]\n"
     ]
    }
   ],
   "source": [
    "nums = [0,1,0,3,12]\n",
    "move_zeros(nums)\n",
    "print(nums)"
   ]
  },
  {
   "source": [
    "#### 移除元素\n",
    "给你一个数组 nums 和一个值 val，你需要 原地 移除所有数值等于 val 的元素，并返回移除后数组的新长度。\n",
    "不要使用额外的数组空间，你必须仅使用 O(1) 额外空间并 原地 修改输入数组。"
   ],
   "cell_type": "markdown",
   "metadata": {}
  },
  {
   "cell_type": "code",
   "execution_count": 16,
   "metadata": {},
   "outputs": [],
   "source": [
    "def move_element(nums, val):\n",
    "    n = len(nums)\n",
    "    i = 0\n",
    "    j = 0\n",
    "    while j < n:\n",
    "        if nums[j] != val:\n",
    "            nums[i] = nums[j]\n",
    "            i += 1\n",
    "        j += 1\n",
    "    return i"
   ]
  },
  {
   "cell_type": "code",
   "execution_count": 17,
   "metadata": {},
   "outputs": [
    {
     "output_type": "execute_result",
     "data": {
      "text/plain": [
       "2"
      ]
     },
     "metadata": {},
     "execution_count": 17
    }
   ],
   "source": [
    "nums = [3,2,2,3]\n",
    "val = 3\n",
    "move_element(nums, val)"
   ]
  },
  {
   "source": [
    "#### 删除排序数组中的重复项\n",
    "给定一个排序数组，你需要在 原地 删除重复出现的元素，使得每个元素只出现一次，返回移除后数组的新长度。\n",
    "不要使用额外的数组空间，你必须在 原地 修改输入数组 并在使用 O(1) 额外空间的条件下完成。"
   ],
   "cell_type": "markdown",
   "metadata": {}
  },
  {
   "cell_type": "code",
   "execution_count": 30,
   "metadata": {},
   "outputs": [],
   "source": [
    "def remove_duplicates(nums: list):\n",
    "    i = 0\n",
    "    j = 1\n",
    "    n = len(nums)\n",
    "    while j < n:\n",
    "        if nums[i] != nums[j]:\n",
    "            if i+1 != j:\n",
    "                nums[i+1] = nums[j]\n",
    "            i += 1\n",
    "        j += 1\n",
    "    return i+1"
   ]
  },
  {
   "cell_type": "code",
   "execution_count": 31,
   "metadata": {},
   "outputs": [
    {
     "output_type": "execute_result",
     "data": {
      "text/plain": [
       "5"
      ]
     },
     "metadata": {},
     "execution_count": 31
    }
   ],
   "source": [
    "nums = [0,0,1,1,1,2,2,3,3,4]\n",
    "remove_duplicates(nums)"
   ]
  },
  {
   "cell_type": "code",
   "execution_count": 32,
   "metadata": {},
   "outputs": [
    {
     "output_type": "execute_result",
     "data": {
      "text/plain": [
       "[0, 1, 2, 3, 4, 2, 2, 3, 3, 4]"
      ]
     },
     "metadata": {},
     "execution_count": 32
    }
   ],
   "source": [
    "nums"
   ]
  },
  {
   "source": [
    "#### 删除排序数组中的重复项 II\n",
    "给定一个增序排列数组 nums ，你需要在 原地 删除重复出现的元素，使得每个元素最多出现两次，返回移除后数组的新长度。\n",
    "\n",
    "不要使用额外的数组空间，你必须在 原地 修改输入数组 并在使用 O(1) 额外空间的条件下完成。"
   ],
   "cell_type": "markdown",
   "metadata": {}
  },
  {
   "cell_type": "code",
   "execution_count": 39,
   "metadata": {},
   "outputs": [],
   "source": [
    "def remove_duplicates(nums: list):\n",
    "    j, count = 1, 1\n",
    "    for i in range(1, len(nums)):\n",
    "        if nums[i] == nums[i-1]:\n",
    "            count += 1\n",
    "        else:\n",
    "            count = 1\n",
    "        if count <= 2:\n",
    "            nums[j] = nums[i]\n",
    "            j += 1\n",
    "    return j    "
   ]
  },
  {
   "cell_type": "code",
   "execution_count": 40,
   "metadata": {},
   "outputs": [
    {
     "output_type": "stream",
     "name": "stdout",
     "text": [
      "5\n[1, 1, 2, 2, 3, 3]\n"
     ]
    }
   ],
   "source": [
    "nums = [1,1,1,2,2,3]\n",
    "print(remove_duplicates(nums))\n",
    "print(nums)"
   ]
  },
  {
   "source": [
    "#### 颜色分类\n",
    "给定一个包含红色、白色和蓝色，一共 n 个元素的数组，原地对它们进行排序，使得相同颜色的元素相邻，并按照红色、白色、蓝色顺序排列。\n",
    "\n",
    "此题中，我们使用整数 0、 1 和 2 分别表示红色、白色和蓝色。"
   ],
   "cell_type": "markdown",
   "metadata": {}
  },
  {
   "cell_type": "code",
   "execution_count": 3,
   "metadata": {},
   "outputs": [],
   "source": [
    "def set_colors(nums):\n",
    "    n = len(nums)\n",
    "    lt = -1\n",
    "    gt = n\n",
    "    i = 0\n",
    "    while i < gt:\n",
    "        if nums[i] == 0:\n",
    "            lt += 1\n",
    "            nums[lt], nums[i] = nums[i], nums[lt]\n",
    "            i += 1\n",
    "        elif nums[i] == 2:\n",
    "            gt -= 1\n",
    "            nums[gt], nums[i] = nums[i], nums[gt]\n",
    "        else:\n",
    "            i += 1"
   ]
  },
  {
   "cell_type": "code",
   "execution_count": 4,
   "metadata": {},
   "outputs": [
    {
     "output_type": "execute_result",
     "data": {
      "text/plain": [
       "[0, 0, 1, 1, 2, 2]"
      ]
     },
     "metadata": {},
     "execution_count": 4
    }
   ],
   "source": [
    "nums = [2,0,2,1,1,0]\n",
    "set_colors(nums)\n",
    "nums"
   ]
  },
  {
   "source": [
    "#### 合并两个有序数组\n",
    "给你两个有序整数数组 nums1 和 nums2，请你将 nums2 合并到 nums1 中，使 nums1 成为一个有序数组。"
   ],
   "cell_type": "markdown",
   "metadata": {}
  },
  {
   "cell_type": "code",
   "execution_count": 5,
   "metadata": {},
   "outputs": [],
   "source": [
    "def merge(nums1, m, nums2, n):\n",
    "    p1 = m - 1\n",
    "    p2 = n - 1\n",
    "    p = m + n - 1\n",
    "    while p1 >= 0 and p2 >= 0:\n",
    "        if nums1[p1] < nums2[p2]:\n",
    "            nums1[p] = nums2[p2]\n",
    "            p2 -= 1\n",
    "        else:\n",
    "            nums1[p] = nums1[p1]\n",
    "            p1 -= 1\n",
    "        p -= 1\n",
    "    nums1[:p2+1] = nums2[:p2+1]"
   ]
  },
  {
   "cell_type": "code",
   "execution_count": 6,
   "metadata": {},
   "outputs": [
    {
     "output_type": "execute_result",
     "data": {
      "text/plain": [
       "[1, 2, 2, 3, 5, 6]"
      ]
     },
     "metadata": {},
     "execution_count": 6
    }
   ],
   "source": [
    "nums1 = [1,2,3,0,0,0]\n",
    "m = 3\n",
    "nums2 = [2,5,6]\n",
    "n = 3\n",
    "merge(nums1, m, nums2, n)\n",
    "nums1"
   ]
  },
  {
   "source": [
    "#### 反转字符串中的元音字母\n",
    "编写一个函数，以字符串作为输入，反转该字符串中的元音字母。"
   ],
   "cell_type": "markdown",
   "metadata": {}
  },
  {
   "cell_type": "code",
   "execution_count": 4,
   "metadata": {},
   "outputs": [],
   "source": [
    "def reverse_vowels(s):\n",
    "    dic = set('aeiouAEIOU')\n",
    "    i = 0\n",
    "    j = len(s) - 1\n",
    "    s_l = list(s)\n",
    "    while i < j:\n",
    "        if s_l[i] in dic and s_l[j] in dic:\n",
    "            s_l[i], s_l[j] = s_l[j], s_l[i]\n",
    "            i += 1\n",
    "            j -= 1\n",
    "        if not s_l[i] in dic:\n",
    "            i += 1\n",
    "        if not s_l[j] in dic:\n",
    "            j -= 1\n",
    "    return ''.join(s_l)"
   ]
  },
  {
   "cell_type": "code",
   "execution_count": 5,
   "metadata": {},
   "outputs": [
    {
     "output_type": "execute_result",
     "data": {
      "text/plain": [
       "'leotcede'"
      ]
     },
     "metadata": {},
     "execution_count": 5
    }
   ],
   "source": [
    "reverse_vowels('leetcode')"
   ]
  },
  {
   "cell_type": "code",
   "execution_count": null,
   "metadata": {},
   "outputs": [],
   "source": []
  }
 ]
}