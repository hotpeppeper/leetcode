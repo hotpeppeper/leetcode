{
 "metadata": {
  "language_info": {
   "codemirror_mode": {
    "name": "ipython",
    "version": 3
   },
   "file_extension": ".py",
   "mimetype": "text/x-python",
   "name": "python",
   "nbconvert_exporter": "python",
   "pygments_lexer": "ipython3",
   "version": "3.8.5-final"
  },
  "orig_nbformat": 2,
  "kernelspec": {
   "name": "python3",
   "display_name": "Python 3",
   "language": "python"
  }
 },
 "nbformat": 4,
 "nbformat_minor": 2,
 "cells": [
  {
   "source": [
    "#### 移动零\n",
    "给定一个数组 nums，编写一个函数将所有 0 移动到数组的末尾，同时保持非零元素的相对顺序。"
   ],
   "cell_type": "markdown",
   "metadata": {}
  },
  {
   "cell_type": "code",
   "execution_count": 3,
   "metadata": {},
   "outputs": [],
   "source": [
    "def move_zeros(nums: list) -> list:\n",
    "    # 双指针，乱序\n",
    "    n = len(nums)\n",
    "    left = 0\n",
    "    right = n - 1\n",
    "    while left < right:\n",
    "        if nums[left] == 0 and nums[right] != 0:\n",
    "            nums[left], nums[right] = nums[right], nums[left]\n",
    "            left += 1\n",
    "            right -= 1\n",
    "        else:\n",
    "            if nums[left] != 0:\n",
    "                left += 1\n",
    "            if nums[right] == 0:\n",
    "                right -= 1\n",
    "        "
   ]
  },
  {
   "cell_type": "code",
   "execution_count": 4,
   "metadata": {},
   "outputs": [
    {
     "output_type": "stream",
     "name": "stdout",
     "text": [
      "[12, 1, 3, 0, 0]\n"
     ]
    }
   ],
   "source": [
    "nums = [0,1,0,3,12]\n",
    "move_zeros(nums)\n",
    "print(nums)"
   ]
  },
  {
   "cell_type": "code",
   "execution_count": 9,
   "metadata": {},
   "outputs": [],
   "source": [
    "def move_zeros(nums: list) -> list:\n",
    "    n = len(nums)\n",
    "    i = -1\n",
    "    j = 0\n",
    "    while j < n:\n",
    "        # 将所有不等于0的元素移至数组前面\n",
    "        if nums[j] != 0:\n",
    "            i += 1\n",
    "            nums[i] = nums[j]\n",
    "        j += 1\n",
    "    # 剩下的元素直接赋值为0\n",
    "    for k in range(i+1, n):\n",
    "        nums[k] = 0"
   ]
  },
  {
   "cell_type": "code",
   "execution_count": 10,
   "metadata": {},
   "outputs": [
    {
     "output_type": "stream",
     "name": "stdout",
     "text": [
      "[1, 3, 12, 0, 0]\n"
     ]
    }
   ],
   "source": [
    "nums = [0,1,0,3,12]\n",
    "move_zeros(nums)\n",
    "print(nums)"
   ]
  },
  {
   "source": [
    "#### 移除元素\n",
    "给你一个数组 nums 和一个值 val，你需要 原地 移除所有数值等于 val 的元素，并返回移除后数组的新长度。\n",
    "不要使用额外的数组空间，你必须仅使用 O(1) 额外空间并 原地 修改输入数组。"
   ],
   "cell_type": "markdown",
   "metadata": {}
  },
  {
   "cell_type": "code",
   "execution_count": 16,
   "metadata": {},
   "outputs": [],
   "source": [
    "def move_element(nums, val):\n",
    "    n = len(nums)\n",
    "    i = 0\n",
    "    j = 0\n",
    "    while j < n:\n",
    "        if nums[j] != val:\n",
    "            nums[i] = nums[j]\n",
    "            i += 1\n",
    "        j += 1\n",
    "    return i"
   ]
  },
  {
   "cell_type": "code",
   "execution_count": 17,
   "metadata": {},
   "outputs": [
    {
     "output_type": "execute_result",
     "data": {
      "text/plain": [
       "2"
      ]
     },
     "metadata": {},
     "execution_count": 17
    }
   ],
   "source": [
    "nums = [3,2,2,3]\n",
    "val = 3\n",
    "move_element(nums, val)"
   ]
  },
  {
   "source": [
    "#### 删除排序数组中的重复项\n",
    "给定一个排序数组，你需要在 原地 删除重复出现的元素，使得每个元素只出现一次，返回移除后数组的新长度。\n",
    "不要使用额外的数组空间，你必须在 原地 修改输入数组 并在使用 O(1) 额外空间的条件下完成。"
   ],
   "cell_type": "markdown",
   "metadata": {}
  },
  {
   "cell_type": "code",
   "execution_count": 30,
   "metadata": {},
   "outputs": [],
   "source": [
    "def remove_duplicates(nums: list):\n",
    "    i = 0\n",
    "    j = 1\n",
    "    n = len(nums)\n",
    "    while j < n:\n",
    "        if nums[i] != nums[j]:\n",
    "            if i+1 != j:\n",
    "                nums[i+1] = nums[j]\n",
    "            i += 1\n",
    "        j += 1\n",
    "    return i+1"
   ]
  },
  {
   "cell_type": "code",
   "execution_count": 31,
   "metadata": {},
   "outputs": [
    {
     "output_type": "execute_result",
     "data": {
      "text/plain": [
       "5"
      ]
     },
     "metadata": {},
     "execution_count": 31
    }
   ],
   "source": [
    "nums = [0,0,1,1,1,2,2,3,3,4]\n",
    "remove_duplicates(nums)"
   ]
  },
  {
   "cell_type": "code",
   "execution_count": 32,
   "metadata": {},
   "outputs": [
    {
     "output_type": "execute_result",
     "data": {
      "text/plain": [
       "[0, 1, 2, 3, 4, 2, 2, 3, 3, 4]"
      ]
     },
     "metadata": {},
     "execution_count": 32
    }
   ],
   "source": [
    "nums"
   ]
  },
  {
   "cell_type": "code",
   "execution_count": null,
   "metadata": {},
   "outputs": [],
   "source": []
  }
 ]
}