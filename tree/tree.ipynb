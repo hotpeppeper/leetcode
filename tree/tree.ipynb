{
 "metadata": {
  "language_info": {
   "codemirror_mode": {
    "name": "ipython",
    "version": 3
   },
   "file_extension": ".py",
   "mimetype": "text/x-python",
   "name": "python",
   "nbconvert_exporter": "python",
   "pygments_lexer": "ipython3",
   "version": "3.8.5-final"
  },
  "orig_nbformat": 2,
  "kernelspec": {
   "name": "python3",
   "display_name": "Python 3",
   "language": "python"
  }
 },
 "nbformat": 4,
 "nbformat_minor": 2,
 "cells": [
  {
   "source": [
    "#### 二叉树的遍历\n",
    "* 先序遍历  根节点->左子树->右子树"
   ],
   "cell_type": "markdown",
   "metadata": {}
  },
  {
   "cell_type": "code",
   "execution_count": 1,
   "metadata": {},
   "outputs": [],
   "source": [
    "class TreeNode:\n",
    "    def __init__(self, x):\n",
    "        self.value = x\n",
    "        self.left = None\n",
    "        self.right = None"
   ]
  },
  {
   "cell_type": "code",
   "execution_count": 3,
   "metadata": {},
   "outputs": [],
   "source": [
    "def pre_order(head: TreeNode):\n",
    "    if not head:\n",
    "        return\n",
    "    print(head.value)\n",
    "    pre_order(head.left)\n",
    "    pre_order(head.right)"
   ]
  },
  {
   "source": [
    "* 中序遍历 左子树->根节点->右子树"
   ],
   "cell_type": "markdown",
   "metadata": {}
  },
  {
   "cell_type": "code",
   "execution_count": 4,
   "metadata": {},
   "outputs": [],
   "source": [
    "def in_order(head: TreeNode):\n",
    "    if not head:\n",
    "        return\n",
    "    in_order(head.left)\n",
    "    print(head.value)\n",
    "    in_order(head.right)"
   ]
  },
  {
   "source": [
    "* 后序遍历 左子树->右子树->根节点"
   ],
   "cell_type": "markdown",
   "metadata": {}
  },
  {
   "cell_type": "code",
   "execution_count": 5,
   "metadata": {},
   "outputs": [],
   "source": [
    "def post_order(head: TreeNode):\n",
    "    if not head:\n",
    "        return\n",
    "    post_order(head.left)\n",
    "    post_order(head.right)\n",
    "    print(head.value)"
   ]
  },
  {
   "source": [
    "* 层序遍历\n",
    "逐层地，从左到右遍历所有的节点"
   ],
   "cell_type": "markdown",
   "metadata": {}
  },
  {
   "cell_type": "code",
   "execution_count": 6,
   "metadata": {},
   "outputs": [],
   "source": [
    "def level_order(head: TreeNode):\n",
    "    if not head:\n",
    "        return []\n",
    "\n",
    "    res = []\n",
    "    layers = deque()\n",
    "    layers.append(head)\n",
    "    while layers:\n",
    "        cur = []\n",
    "        for i in range(len(layers)):\n",
    "            node = layers.popleft()\n",
    "            cur.append(node.value)\n",
    "            if node.left:\n",
    "                layers.append(node.left)\n",
    "            if node.right:\n",
    "                layers.append(node.right)\n",
    "        res.append(cur)\n",
    "\n",
    "    return res"
   ]
  },
  {
   "source": [
    "#### 二叉树的最大深度\n",
    "给定一棵二叉树，找出其最大的深度"
   ],
   "cell_type": "markdown",
   "metadata": {}
  },
  {
   "cell_type": "code",
   "execution_count": 7,
   "metadata": {},
   "outputs": [],
   "source": [
    "def max_depth(root: TreeNode):\n",
    "    if not root:\n",
    "        return 0\n",
    "    else:\n",
    "        left_height = max_depth(root.left)\n",
    "        right_height = max_depth(root.right)\n",
    "        return max(left_height, right_height) + 1"
   ]
  },
  {
   "source": [
    "#### 对称二叉树\n",
    "给定一棵二叉树，检查它是否对称"
   ],
   "cell_type": "markdown",
   "metadata": {}
  },
  {
   "cell_type": "code",
   "execution_count": 8,
   "metadata": {},
   "outputs": [],
   "source": [
    "def is_symmetric(root: TreeNode):\n",
    "    def check(p: TreeNode, q: TreeNode):\n",
    "        if not p and not q:\n",
    "            return True\n",
    "        if not p or not q:\n",
    "            return False\n",
    "        return q.value == p.value and check(p.left, q.right) and check(p.right, q.left)\n",
    "\n",
    "    return check(root, root)"
   ]
  },
  {
   "source": [
    "#### 从中序与后序遍历序列构造二叉树\n",
    "根据一棵树的中序遍历与后序遍历构造二叉树。"
   ],
   "cell_type": "markdown",
   "metadata": {}
  },
  {
   "cell_type": "code",
   "execution_count": 10,
   "metadata": {},
   "outputs": [],
   "source": [
    "def build_tree(inorder, postorder):\n",
    "    def helper(left, right):\n",
    "        if left > right:\n",
    "            return None\n",
    "        val = postorder.pop()\n",
    "        # 构造节点\n",
    "        root = TreeNode(val)\n",
    "        # 从中序遍历中找到val的位置\n",
    "        index = idx_map[val]\n",
    "        # 构造右子树\n",
    "        root.right = helper(index+1, right)\n",
    "        # 构造左子树\n",
    "        root.left = helper(left, index-1)\n",
    "        return root\n",
    "\n",
    "    idx_map = {val:idx for idx, val in enumerate(inorder)}\n",
    "    return helper(0, len(idx_map)-1)"
   ]
  },
  {
   "source": [
    "#### 从前序与中序遍历序列构造二叉树\n",
    "根据一棵树的前序遍历与中序遍历构造二叉树。"
   ],
   "cell_type": "markdown",
   "metadata": {}
  },
  {
   "cell_type": "code",
   "execution_count": 11,
   "metadata": {},
   "outputs": [],
   "source": [
    "def build_tree(preorder, inorder):\n",
    "    def helper(pre_left, pre_right, in_left, in_right):\n",
    "        if pre_left > pre_right:\n",
    "            return None\n",
    "\n",
    "        pre_root = pre_left\n",
    "        in_root = idx_map[pre_order[pre_root]]\n",
    "        root = TreeNode(preorder[pre_root])\n",
    "        # 左子树的长度\n",
    "        left_sub_tree_len = in_root - in_left\n",
    "        root.left = helper(pre_left+1, pre_left+left_sub_tree_len, in_left, in_root-1)\n",
    "        root.right = helper(pre_left+left_sub_tree_len+1, pre_right, in_order+1, in_right)\n",
    "\n",
    "        return root\n",
    "    idx_map = {val:idx for idx, val in enumerate(inorder)}\n",
    "    n = len(idx_map)\n",
    "    return helper(0, n-1, 0, n-1)"
   ]
  },
  {
   "source": [
    "#### 二叉树的最近公共祖先\n",
    "给定一个二叉树, 找到该树中两个指定节点的最近公共祖先。"
   ],
   "cell_type": "markdown",
   "metadata": {}
  },
  {
   "cell_type": "code",
   "execution_count": 12,
   "metadata": {},
   "outputs": [],
   "source": [
    "def lowest_common_ancestor(root: TreeNode, p: TreeNode, q: TreeNode):\n",
    "    if not root or root == p or root == q:\n",
    "        return root\n",
    "    lson = lowest_common_ancestor(root.left, p, q)\n",
    "    rson = lowest_common_ancestor(root.right, p, q)\n",
    "\n",
    "    if not lson and not rson:\n",
    "        # 左右子树都不含p, q，返回空\n",
    "        return\n",
    "    if not lson:\n",
    "        \n",
    "        return rson\n",
    "    if not rson:\n",
    "        return lson\n",
    "    return root"
   ]
  },
  {
   "source": [
    "#### 路径总和\n",
    "给定一个二叉树和一个目标和，判断该树中是否存在根节点到叶子节点的路径，这条路径上所有节点值相加等于目标和。\n",
    "说明: 叶子节点是指没有子节点的节点。"
   ],
   "cell_type": "markdown",
   "metadata": {}
  },
  {
   "cell_type": "code",
   "execution_count": 2,
   "metadata": {},
   "outputs": [],
   "source": [
    "def had_path_sum(root: TreeNode, sum_: int):\n",
    "    if not root:\n",
    "        return False\n",
    "    if root.left == None and root.right == None:\n",
    "        return sum_ - root.value == 0\n",
    "    return had_path_sum(root.left, sum_-root.value) or had_path_sum(root.right, sum_-root.value)"
   ]
  },
  {
   "source": [
    "#### 路径总和 II\n",
    "给定一个二叉树和一个目标和，找到所有从根节点到叶子节点路径总和等于给定目标和的路径。\n",
    "\n",
    "说明: 叶子节点是指没有子节点的节点。"
   ],
   "cell_type": "markdown",
   "metadata": {}
  },
  {
   "cell_type": "code",
   "execution_count": 3,
   "metadata": {},
   "outputs": [],
   "source": [
    "def path_sum(root: TreeNode, sum: int) -> list:\n",
    "    path = []\n",
    "    res = []\n",
    "    def dfs(root, sum_):\n",
    "        if root == None:\n",
    "            return\n",
    "\n",
    "        path.append(root.value)\n",
    "        sum_ -= root.value\n",
    "        if root.left == None and root.right == None and sum_ == 0:\n",
    "            res.append(path[:])\n",
    "        dfs(root.left, sum_)\n",
    "        dfs(root.right, sum_)\n",
    "        path.pop()\n",
    "    \n",
    "    dfs(root, sum)\n",
    "    return res"
   ]
  },
  {
   "source": [
    "#### 建立二叉搜索树"
   ],
   "cell_type": "markdown",
   "metadata": {}
  },
  {
   "cell_type": "code",
   "execution_count": 2,
   "metadata": {},
   "outputs": [],
   "source": [
    "def insert(root: TreeNode, item: int):\n",
    "    if not root:\n",
    "        root = TreeNode(item)\n",
    "    elif item < root.value:\n",
    "        insert(root.left, item)\n",
    "    else:\n",
    "        insert(root.right, item)"
   ]
  },
  {
   "source": [
    "#### 搜索二叉树查找"
   ],
   "cell_type": "markdown",
   "metadata": {}
  },
  {
   "cell_type": "code",
   "execution_count": 3,
   "metadata": {},
   "outputs": [],
   "source": [
    "# 递归\n",
    "def search_bst(root: TreeNode, item: int):\n",
    "    if not root:\n",
    "        return False\n",
    "    state = False\n",
    "    if item == root.value:\n",
    "        state = True\n",
    "    if item < root.value:\n",
    "        state = search_bst(root.left, item)\n",
    "    if item >= root.value:\n",
    "        state = search_bst(root.right, item)\n",
    "    return state"
   ]
  },
  {
   "cell_type": "code",
   "execution_count": 4,
   "metadata": {},
   "outputs": [],
   "source": [
    "# 非递归\n",
    "def search_bst(root: TreeNode, item: int):\n",
    "    while root:\n",
    "        if item == root.value:\n",
    "            return True\n",
    "        if item < root.value:\n",
    "            root = root.left\n",
    "        if item >= root.value:\n",
    "            root = root.right\n",
    "    return False"
   ]
  },
  {
   "source": [
    "#### 验证二叉搜索树\n",
    "给定一个二叉树，判断其是否是一个有效的二叉搜索树。"
   ],
   "cell_type": "markdown",
   "metadata": {}
  },
  {
   "cell_type": "code",
   "execution_count": 5,
   "metadata": {},
   "outputs": [],
   "source": [
    "def is_valid_bst(root: TreeNode):\n",
    "    pass"
   ]
  },
  {
   "source": [
    "#### 删除二叉搜索树中的节点\n",
    "给定一个二叉搜索树的根节点 root 和一个值 key，删除二叉搜索树中的 key 对应的节点，并保证二叉搜索树的性质不变。返回二叉搜索树（有可能被更新）的根节点的引用。\n"
   ],
   "cell_type": "markdown",
   "metadata": {}
  },
  {
   "cell_type": "code",
   "execution_count": 6,
   "metadata": {},
   "outputs": [],
   "source": [
    "def delete_node(root: TreeNode, key: int):\n",
    "    if not root:\n",
    "        return None\n",
    "    if key > root.val:\n",
    "        # 去右子树删除\n",
    "        root.right = delete_node(root.right, key)\n",
    "    elif key < root.val:\n",
    "        # 去左子树删除\n",
    "        root.left = delete_node(root.left, key)\n",
    "    else:\n",
    "        # 当前节点是要删除的节点\n",
    "        if not root.left:\n",
    "            # 无左子树\n",
    "            return root.right\n",
    "        if not root.right:\n",
    "            # 无右子树\n",
    "            return root.left\n",
    "        # 左右子树都有\n",
    "        node = root.right\n",
    "        while node.left:\n",
    "            #  寻找欲删除节点右子树的最左节点\n",
    "            node = node.left\n",
    "        node.left = root.left # 将欲删除节点的左子树成为其右子树的最左节点的左子树\n",
    "        root = root.right #  欲删除节点的右子顶替其位置，节点被删除\n",
    "    return root"
   ]
  },
  {
   "source": [
    "#### 把二叉搜索树转换为累加树\n",
    "\n",
    "给出二叉 搜索 树的根节点，该树的节点值各不相同，请你将其转换为累加树（Greater Sum Tree），使每个节点 node 的新值等于原树中大于或等于 node.val 的值之和"
   ],
   "cell_type": "markdown",
   "metadata": {}
  },
  {
   "cell_type": "code",
   "execution_count": 9,
   "metadata": {},
   "outputs": [],
   "source": [
    "def convertBST(nums):\n",
    "    def dfs(root):\n",
    "        nonlocal total\n",
    "        if root:\n",
    "            dfs(root.right)\n",
    "            total += root.val\n",
    "            root.val = total\n",
    "            dfs(root.left)\n",
    "\n",
    "    total = 0\n",
    "    dfs(root)\n",
    "    return total"
   ]
  },
  {
   "source": [
    "#### 实现前缀树"
   ],
   "cell_type": "markdown",
   "metadata": {}
  },
  {
   "cell_type": "code",
   "execution_count": 10,
   "metadata": {},
   "outputs": [],
   "source": [
    "from collections import defaultdict\n",
    "class TrieNode:\n",
    "    def __init__(self):\n",
    "        self.child = defaultdict(TrieNode)\n",
    "        self.is_word = False\n",
    "\n",
    "\n",
    "class Trie:\n",
    "    def __init__(self):\n",
    "        self.root = TrieNode()\n",
    "\n",
    "    def insert(self, word):\n",
    "        cur = self.root\n",
    "        for c in word:\n",
    "            cur = cur.child[c]\n",
    "        cur.is_word = True\n",
    "\n",
    "    def search(self, word):\n",
    "        cur = self.root\n",
    "        for c in word:\n",
    "            cur = cur.child.get(c)\n",
    "            if not cur:\n",
    "                return False\n",
    "        return cur.is_word\n",
    "\n",
    "    def start_with(self, prefix):\n",
    "        cur = self.root\n",
    "        for c in prefix:\n",
    "            cur = cur.child.get(c)\n",
    "            if not cur:\n",
    "                return False\n",
    "        return True"
   ]
  },
  {
   "source": [
    "#### 二叉树的层平均值\n",
    "给定一个非空二叉树, 返回一个由每层节点平均值组成的数组。"
   ],
   "cell_type": "markdown",
   "metadata": {}
  },
  {
   "cell_type": "code",
   "execution_count": 2,
   "metadata": {},
   "outputs": [],
   "source": [
    "def average_of_lever(root: TreeNode):\n",
    "    if not root:\n",
    "        return 0\n",
    "    res = []\n",
    "    layers = deque()\n",
    "    layers.append(root)\n",
    "    while layers:\n",
    "        tmp = 0\n",
    "        layer_size = len(layers)\n",
    "        for i in range(layer_size):\n",
    "            node = layers.popleft()\n",
    "            tmp += node.value\n",
    "            if node.left:\n",
    "                layers.append(node.left)\n",
    "            if node.right:\n",
    "                layers.append(node.right)\n",
    "        res.append(tmp / layer_size)\n",
    "    return res"
   ]
  },
  {
   "cell_type": "code",
   "execution_count": null,
   "metadata": {},
   "outputs": [],
   "source": []
  }
 ]
}