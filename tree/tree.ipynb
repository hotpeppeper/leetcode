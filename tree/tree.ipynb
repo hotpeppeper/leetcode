{
 "metadata": {
  "language_info": {
   "codemirror_mode": {
    "name": "ipython",
    "version": 3
   },
   "file_extension": ".py",
   "mimetype": "text/x-python",
   "name": "python",
   "nbconvert_exporter": "python",
   "pygments_lexer": "ipython3",
   "version": "3.7.3-final"
  },
  "orig_nbformat": 2,
  "kernelspec": {
   "name": "python3",
   "display_name": "Python 3"
  }
 },
 "nbformat": 4,
 "nbformat_minor": 2,
 "cells": [
  {
   "source": [
    "#### 二叉树的遍历\n",
    "* 先序遍历  根节点->左子树->右子树"
   ],
   "cell_type": "markdown",
   "metadata": {}
  },
  {
   "cell_type": "code",
   "execution_count": 2,
   "metadata": {},
   "outputs": [],
   "source": [
    "class TreeNode:\n",
    "    def __init__(self, x):\n",
    "        self.value = x\n",
    "        self.left = None\n",
    "        self.right = None"
   ]
  },
  {
   "cell_type": "code",
   "execution_count": 3,
   "metadata": {},
   "outputs": [],
   "source": [
    "def pre_order(head: TreeNode):\n",
    "    if not head:\n",
    "        return\n",
    "    print(head.value)\n",
    "    pre_order(head.left)\n",
    "    pre_order(head.right)"
   ]
  },
  {
   "source": [
    "* 中序遍历 左子树->根节点->右子树"
   ],
   "cell_type": "markdown",
   "metadata": {}
  },
  {
   "cell_type": "code",
   "execution_count": 4,
   "metadata": {},
   "outputs": [],
   "source": [
    "def in_order(head: TreeNode):\n",
    "    if not head:\n",
    "        return\n",
    "    in_order(head.left)\n",
    "    print(head.value)\n",
    "    in_order(head.right)"
   ]
  },
  {
   "source": [
    "* 后序遍历 左子树->右子树->根节点"
   ],
   "cell_type": "markdown",
   "metadata": {}
  },
  {
   "cell_type": "code",
   "execution_count": 5,
   "metadata": {},
   "outputs": [],
   "source": [
    "def post_order(head: TreeNode):\n",
    "    if not head:\n",
    "        return\n",
    "    post_order(head.left)\n",
    "    post_order(head.right)\n",
    "    print(head.value)"
   ]
  },
  {
   "source": [
    "* 层序遍历\n",
    "逐层地，从左到右遍历所有的节点"
   ],
   "cell_type": "markdown",
   "metadata": {}
  },
  {
   "cell_type": "code",
   "execution_count": 6,
   "metadata": {},
   "outputs": [],
   "source": [
    "def level_order(head: TreeNode):\n",
    "    if not head:\n",
    "        return []\n",
    "\n",
    "    res = []\n",
    "    layers = deque()\n",
    "    layers.append(head)\n",
    "    while layers:\n",
    "        cur = []\n",
    "        for i in range(len(layers)):\n",
    "            node = layers.popleft()\n",
    "            cur.append(node.value)\n",
    "            if node.left:\n",
    "                layers.append(node.left)\n",
    "            if node.right:\n",
    "                layers.append(node.right)\n",
    "        res.append(cur)\n",
    "\n",
    "    return res"
   ]
  },
  {
   "source": [
    "#### 二叉树的最大深度\n",
    "给定一棵二叉树，找出其最大的深度"
   ],
   "cell_type": "markdown",
   "metadata": {}
  },
  {
   "cell_type": "code",
   "execution_count": 7,
   "metadata": {},
   "outputs": [],
   "source": [
    "def max_depth(root: TreeNode):\n",
    "    if not root:\n",
    "        return 0\n",
    "    else:\n",
    "        left_height = max_depth(root.left)\n",
    "        right_height = max_depth(root.right)\n",
    "        return max(left_height, right_height)"
   ]
  },
  {
   "source": [
    "#### 对称二叉树\n",
    "给定一棵二叉树，检查它是否对称"
   ],
   "cell_type": "markdown",
   "metadata": {}
  },
  {
   "cell_type": "code",
   "execution_count": 8,
   "metadata": {},
   "outputs": [],
   "source": [
    "def is_symmetric(root: TreeNode):\n",
    "    def check(p: TreeNode, q: TreeNode):\n",
    "        if not p and not q:\n",
    "            return True\n",
    "        if not p or not q:\n",
    "            return False\n",
    "        return q.value == p.value and check(p.left, q.right) and check(p.right, q.left)\n",
    "\n",
    "    return check(root, root)"
   ]
  },
  {
   "source": [
    "#### 从中序与后序遍历序列构造二叉树\n",
    "根据一棵树的中序遍历与后序遍历构造二叉树。"
   ],
   "cell_type": "markdown",
   "metadata": {}
  },
  {
   "cell_type": "code",
   "execution_count": 9,
   "metadata": {},
   "outputs": [],
   "source": [
    "def build_tree(inorder, postorder):\n",
    "    def helper(left, right):\n",
    "        if left > right:\n",
    "            return None\n",
    "        val = postorder.pop()\n",
    "        # 构造节点\n",
    "        root = TreeNode(val)\n",
    "        # 从中序遍历中找到val的位置\n",
    "        index = idx_map[val]\n",
    "        # 构造右子树\n",
    "        root.right = helper(index+1, right)\n",
    "        # 构造左子树\n",
    "        root.left = helper(left, index-1)\n",
    "        return root\n",
    "\n",
    "    idx_map = {val:idx for idx, val in enumerate(inorder)}\n",
    "    return helper(0, len(idx_map)-1)"
   ]
  },
  {
   "cell_type": "code",
   "execution_count": null,
   "metadata": {},
   "outputs": [],
   "source": []
  }
 ]
}