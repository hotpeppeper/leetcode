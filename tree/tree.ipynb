{
 "metadata": {
  "language_info": {
   "codemirror_mode": {
    "name": "ipython",
    "version": 3
   },
   "file_extension": ".py",
   "mimetype": "text/x-python",
   "name": "python",
   "nbconvert_exporter": "python",
   "pygments_lexer": "ipython3",
   "version": "3.7.3-final"
  },
  "orig_nbformat": 2,
  "kernelspec": {
   "name": "python3",
   "display_name": "Python 3"
  }
 },
 "nbformat": 4,
 "nbformat_minor": 2,
 "cells": [
  {
   "source": [
    "#### 二叉树的遍历\n",
    "* 先序遍历  根节点->左子树->右子树"
   ],
   "cell_type": "markdown",
   "metadata": {}
  },
  {
   "cell_type": "code",
   "execution_count": 1,
   "metadata": {},
   "outputs": [],
   "source": [
    "class TreeNode:\n",
    "    def __init__(self, x):\n",
    "        self.value = x\n",
    "        self.left = None\n",
    "        self.right = None"
   ]
  },
  {
   "cell_type": "code",
   "execution_count": 2,
   "metadata": {},
   "outputs": [],
   "source": [
    "def pre_order(head: TreeNode):\n",
    "    if not head:\n",
    "        return\n",
    "    print(head.value)\n",
    "    pre_order(head.left)\n",
    "    pre_order(head.right)"
   ]
  },
  {
   "source": [
    "* 中序遍历 左子树->根节点->右子树"
   ],
   "cell_type": "markdown",
   "metadata": {}
  },
  {
   "cell_type": "code",
   "execution_count": 3,
   "metadata": {},
   "outputs": [],
   "source": [
    "def in_order(head: TreeNode):\n",
    "    if not head:\n",
    "        return\n",
    "    in_order(head.left)\n",
    "    print(head.value)\n",
    "    in_order(head.right)"
   ]
  },
  {
   "source": [
    "* 后序遍历 左子树->右子树->根节点"
   ],
   "cell_type": "markdown",
   "metadata": {}
  },
  {
   "cell_type": "code",
   "execution_count": 4,
   "metadata": {},
   "outputs": [],
   "source": [
    "def post_order(head: TreeNode):\n",
    "    if not head:\n",
    "        return\n",
    "    post_order(head.left)\n",
    "    post_order(head.right)\n",
    "    print(head.value)"
   ]
  },
  {
   "cell_type": "code",
   "execution_count": null,
   "metadata": {},
   "outputs": [],
   "source": []
  }
 ]
}