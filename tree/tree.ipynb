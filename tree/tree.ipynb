{
 "metadata": {
  "language_info": {
   "codemirror_mode": {
    "name": "ipython",
    "version": 3
   },
   "file_extension": ".py",
   "mimetype": "text/x-python",
   "name": "python",
   "nbconvert_exporter": "python",
   "pygments_lexer": "ipython3",
   "version": "3.8.5"
  },
  "orig_nbformat": 2,
  "kernelspec": {
   "name": "python3",
   "display_name": "Python 3.8.5 64-bit ('base': conda)"
  },
  "interpreter": {
   "hash": "3fa48bb2c24bfd2c860ebc2f76fcf240faeca9c313f5297b1080b141badca120"
  }
 },
 "nbformat": 4,
 "nbformat_minor": 2,
 "cells": [
  {
   "cell_type": "markdown",
   "source": [
    "#### 二叉树的遍历\n",
    "* 先序遍历  根节点->左子树->右子树"
   ],
   "metadata": {}
  },
  {
   "cell_type": "code",
   "execution_count": 8,
   "source": [
    "class TreeNode:\r\n",
    "    def __init__(self, x):\r\n",
    "        self.value = x\r\n",
    "        self.left = None\r\n",
    "        self.right = None"
   ],
   "outputs": [],
   "metadata": {}
  },
  {
   "cell_type": "code",
   "execution_count": 9,
   "source": [
    "def pre_order(head: TreeNode):\r\n",
    "    if not head:\r\n",
    "        return\r\n",
    "    print(head.value)\r\n",
    "    pre_order(head.left)\r\n",
    "    pre_order(head.right)"
   ],
   "outputs": [],
   "metadata": {}
  },
  {
   "cell_type": "code",
   "execution_count": 10,
   "source": [
    "# 非递归方式前序遍历\r\n",
    "def pre_order_stack(root, TreeNode):\r\n",
    "    if not root:\r\n",
    "        return []\r\n",
    "    stack = [root] # 模拟栈\r\n",
    "    res = []\r\n",
    "    while stack:\r\n",
    "        node = stack.pop()\r\n",
    "        if node:\r\n",
    "            res.append(node.val)\r\n",
    "            # 栈是FILO。所以右子树先入栈\r\n",
    "            if node.right:\r\n",
    "                # 右子树压栈\r\n",
    "                stack.append(node.right)\r\n",
    "            if node.left:\r\n",
    "                # 左子树压栈\r\n",
    "                stack.append(node.left)\r\n",
    "    return res"
   ],
   "outputs": [],
   "metadata": {}
  },
  {
   "cell_type": "markdown",
   "source": [
    "* 中序遍历 左子树->根节点->右子树"
   ],
   "metadata": {}
  },
  {
   "cell_type": "code",
   "execution_count": 11,
   "source": [
    "def in_order(head: TreeNode):\r\n",
    "    if not head:\r\n",
    "        return\r\n",
    "    in_order(head.left)\r\n",
    "    print(head.value)\r\n",
    "    in_order(head.right)"
   ],
   "outputs": [],
   "metadata": {}
  },
  {
   "cell_type": "code",
   "execution_count": 12,
   "source": [
    "def in_order_stack(root: TreeNode):\r\n",
    "    stack = []\r\n",
    "    res = []\r\n",
    "    while root or len(stack) > 0:\r\n",
    "        while root:\r\n",
    "            # 先遍历到最左边的一个节点，把中间路过的节点压栈\r\n",
    "            stack.append(root)\r\n",
    "            root = root.left\r\n",
    "        root = stack.pop()\r\n",
    "        res.append(root.value)\r\n",
    "        # 将指针指向节点的右节点，如果右节点为null，则访问当前节点的父节点\r\n",
    "        root = root.right\r\n",
    "    return res"
   ],
   "outputs": [],
   "metadata": {}
  },
  {
   "cell_type": "markdown",
   "source": [
    "* 后序遍历 左子树->右子树->根节点"
   ],
   "metadata": {}
  },
  {
   "cell_type": "code",
   "execution_count": 13,
   "source": [
    "def post_order(head: TreeNode):\r\n",
    "    if not head:\r\n",
    "        return\r\n",
    "    post_order(head.left)\r\n",
    "    post_order(head.right)\r\n",
    "    print(head.value)"
   ],
   "outputs": [],
   "metadata": {}
  },
  {
   "cell_type": "code",
   "execution_count": 14,
   "source": [
    "def post_order_stack(head: TreeNode):\r\n",
    "    if not head:\r\n",
    "        return\r\n",
    "    stack = [head]\r\n",
    "    res = []\r\n",
    "    while stack:\r\n",
    "        node = stack.pop()\r\n",
    "        res.append(node.value)\r\n",
    "        if node.left:\r\n",
    "            stack.append(node.left)\r\n",
    "        if node.right:\r\n",
    "            stack.append(node.right)\r\n",
    "    return res[::-1]"
   ],
   "outputs": [],
   "metadata": {}
  },
  {
   "cell_type": "markdown",
   "source": [
    "* 层序遍历\n",
    "逐层地，从左到右遍历所有的节点"
   ],
   "metadata": {}
  },
  {
   "cell_type": "code",
   "execution_count": 15,
   "source": [
    "def level_order(head: TreeNode):\r\n",
    "    if not head:\r\n",
    "        return []\r\n",
    "\r\n",
    "    res = []\r\n",
    "    layers = deque()\r\n",
    "    layers.append(head)\r\n",
    "    while layers:\r\n",
    "        cur = []\r\n",
    "        for i in range(len(layers)):\r\n",
    "            node = layers.popleft()\r\n",
    "            cur.append(node.value)\r\n",
    "            if node.left:\r\n",
    "                layers.append(node.left)\r\n",
    "            if node.right:\r\n",
    "                layers.append(node.right)\r\n",
    "        res.append(cur)\r\n",
    "\r\n",
    "    return res"
   ],
   "outputs": [],
   "metadata": {}
  },
  {
   "cell_type": "markdown",
   "source": [
    "* 二叉树的右视图\r\n",
    "给定一个二叉树，想象自己站在它的右侧，按照从顶部到底部的顺序，返回从右侧所能看到的节点值"
   ],
   "metadata": {}
  },
  {
   "cell_type": "code",
   "execution_count": 16,
   "source": [
    "def right_view(root: TreeNode):\r\n",
    "    if not root:\r\n",
    "        return []\r\n",
    "    stack = [root]\r\n",
    "    res = []\r\n",
    "    while stack:\r\n",
    "        for i in range(len(stack)):\r\n",
    "            node = stack.pop()\r\n",
    "            if i == len(stack) - 1:\r\n",
    "                # 每一层最后一个元素即为右侧看见的元素\r\n",
    "                res.append(node.value)\r\n",
    "        if node.left:\r\n",
    "            stack.append(node.left)\r\n",
    "        if node.right:\r\n",
    "            stack.append(node.right)\r\n",
    "        \r\n",
    "    return res"
   ],
   "outputs": [],
   "metadata": {}
  },
  {
   "cell_type": "markdown",
   "source": [
    "* 二叉树的层平均值\r\n",
    "给定一个二叉树，返回有每层节点平均值组成的数组"
   ],
   "metadata": {}
  },
  {
   "cell_type": "code",
   "execution_count": 17,
   "source": [
    "def average_of_levels(root: TreeNode):\r\n",
    "    if not root:\r\n",
    "        return []\r\n",
    "    stack = [root]\r\n",
    "    res = []\r\n",
    "    while stack:\r\n",
    "        level_value = 0\r\n",
    "        n = len(stack)\r\n",
    "        for _ in range(n):\r\n",
    "            node = stack.pop()\r\n",
    "            level_value += node.value\r\n",
    "        res.append(level_value / n)\r\n",
    "        if node.left:\r\n",
    "            stack.append(node.left)\r\n",
    "        if node.right:\r\n",
    "            stack.append(node.right)\r\n",
    "    return res"
   ],
   "outputs": [],
   "metadata": {}
  },
  {
   "cell_type": "markdown",
   "source": [
    "* 在每个树行中找最大值\r\n",
    "需要在二叉树中的每一行中找打最大的值"
   ],
   "metadata": {}
  },
  {
   "cell_type": "code",
   "execution_count": 18,
   "source": [
    "def largest_values(root: TreeNode):\r\n",
    "    if not root:\r\n",
    "        return []\r\n",
    "\r\n",
    "    stack = [root]\r\n",
    "    res = []\r\n",
    "    while stack:\r\n",
    "        max_val = float('-inf')\r\n",
    "        n = len(stack)\r\n",
    "        for _ in range(n):\r\n",
    "            node = stack.pop()\r\n",
    "            if max_val < node.value:\r\n",
    "                max_val = node.value\r\n",
    "        if node.left:\r\n",
    "            stack.append(node.left)\r\n",
    "        if node.right:\r\n",
    "            stack.append(node.right)\r\n",
    "        res.append(max_val)"
   ],
   "outputs": [],
   "metadata": {}
  },
  {
   "cell_type": "markdown",
   "source": [
    "#### 二叉树的最大深度\r\n",
    "给定一棵二叉树，找出其最大的深度"
   ],
   "metadata": {}
  },
  {
   "cell_type": "code",
   "execution_count": 19,
   "source": [
    "def max_depth(root: TreeNode):\r\n",
    "    if not root:\r\n",
    "        return 0\r\n",
    "    else:\r\n",
    "        left_height = max_depth(root.left)\r\n",
    "        right_height = max_depth(root.right)\r\n",
    "        return max(left_height, right_height) + 1"
   ],
   "outputs": [],
   "metadata": {}
  },
  {
   "cell_type": "markdown",
   "source": [
    "*二叉树的最小深度\r\n",
    "给定一棵二叉树，找出其最小的深度"
   ],
   "metadata": {}
  },
  {
   "cell_type": "code",
   "execution_count": 38,
   "source": [
    "def min_depth(root: TreeNode):\r\n",
    "    if not root:\r\n",
    "        return 0\r\n",
    "    left_depth = min_depth(root.left)\r\n",
    "    right_depth  = min_depth(root.right)\r\n",
    "    # 当左子树为空，右子树不为空，这是不是最低点\r\n",
    "    if not root.left and root.right:\r\n",
    "        return 1 + right_depth\r\n",
    "    # 当左子树不为空，右子树为空，这是不是最低点\r\n",
    "    if root.left and not root.right:\r\n",
    "        return 1 + left_depth\r\n",
    "    return 1 + min(left_depth, right_depth)"
   ],
   "outputs": [],
   "metadata": {}
  },
  {
   "cell_type": "markdown",
   "source": [
    "#### 对称二叉树\n",
    "给定一棵二叉树，检查它是否对称"
   ],
   "metadata": {}
  },
  {
   "cell_type": "code",
   "execution_count": 20,
   "source": [
    "def is_symmetric(root: TreeNode):\r\n",
    "    def check(p: TreeNode, q: TreeNode):\r\n",
    "        if not p and not q:\r\n",
    "            return True\r\n",
    "        if not p or not q:\r\n",
    "            return False\r\n",
    "        return q.value == p.value and check(p.left, q.right) and check(p.right, q.left)\r\n",
    "\r\n",
    "    return check(root, root)"
   ],
   "outputs": [],
   "metadata": {}
  },
  {
   "cell_type": "markdown",
   "source": [
    "#### 从中序与后序遍历序列构造二叉树\n",
    "根据一棵树的中序遍历与后序遍历构造二叉树。"
   ],
   "metadata": {}
  },
  {
   "cell_type": "code",
   "execution_count": 21,
   "source": [
    "def build_tree(inorder, postorder):\r\n",
    "    def helper(left, right):\r\n",
    "        if left > right:\r\n",
    "            return None\r\n",
    "        val = postorder.pop()\r\n",
    "        # 构造节点\r\n",
    "        root = TreeNode(val)\r\n",
    "        # 从中序遍历中找到val的位置\r\n",
    "        index = idx_map[val]\r\n",
    "        # 构造右子树\r\n",
    "        root.right = helper(index+1, right)\r\n",
    "        # 构造左子树\r\n",
    "        root.left = helper(left, index-1)\r\n",
    "        return root\r\n",
    "\r\n",
    "    idx_map = {val:idx for idx, val in enumerate(inorder)}\r\n",
    "    return helper(0, len(idx_map)-1)"
   ],
   "outputs": [],
   "metadata": {}
  },
  {
   "cell_type": "markdown",
   "source": [
    "#### 从前序与中序遍历序列构造二叉树\n",
    "根据一棵树的前序遍历与中序遍历构造二叉树。"
   ],
   "metadata": {}
  },
  {
   "cell_type": "code",
   "execution_count": 22,
   "source": [
    "def build_tree(preorder, inorder):\r\n",
    "    def helper(pre_left, pre_right, in_left, in_right):\r\n",
    "        if pre_left > pre_right:\r\n",
    "            return None\r\n",
    "\r\n",
    "        pre_root = pre_left\r\n",
    "        in_root = idx_map[pre_order[pre_root]]\r\n",
    "        root = TreeNode(preorder[pre_root])\r\n",
    "        # 左子树的长度\r\n",
    "        left_sub_tree_len = in_root - in_left\r\n",
    "        root.left = helper(pre_left+1, pre_left+left_sub_tree_len, in_left, in_root-1)\r\n",
    "        root.right = helper(pre_left+left_sub_tree_len+1, pre_right, in_order+1, in_right)\r\n",
    "\r\n",
    "        return root\r\n",
    "    idx_map = {val:idx for idx, val in enumerate(inorder)}\r\n",
    "    n = len(idx_map)\r\n",
    "    return helper(0, n-1, 0, n-1)"
   ],
   "outputs": [],
   "metadata": {}
  },
  {
   "cell_type": "markdown",
   "source": [
    "#### 二叉树的最近公共祖先\n",
    "给定一个二叉树, 找到该树中两个指定节点的最近公共祖先。"
   ],
   "metadata": {}
  },
  {
   "cell_type": "code",
   "execution_count": 23,
   "source": [
    "def lowest_common_ancestor(root: TreeNode, p: TreeNode, q: TreeNode):\r\n",
    "    if not root or root == p or root == q:\r\n",
    "        return root\r\n",
    "    lson = lowest_common_ancestor(root.left, p, q)\r\n",
    "    rson = lowest_common_ancestor(root.right, p, q)\r\n",
    "\r\n",
    "    if not lson and not rson:\r\n",
    "        # 左右子树都不含p, q，返回空\r\n",
    "        return\r\n",
    "    if not lson:\r\n",
    "        \r\n",
    "        return rson\r\n",
    "    if not rson:\r\n",
    "        return lson\r\n",
    "    return root"
   ],
   "outputs": [],
   "metadata": {}
  },
  {
   "cell_type": "markdown",
   "source": [
    "#### 路径总和\n",
    "给定一个二叉树和一个目标和，判断该树中是否存在根节点到叶子节点的路径，这条路径上所有节点值相加等于目标和。\n",
    "说明: 叶子节点是指没有子节点的节点。"
   ],
   "metadata": {}
  },
  {
   "cell_type": "code",
   "execution_count": 24,
   "source": [
    "def had_path_sum(root: TreeNode, sum_: int):\r\n",
    "    if not root:\r\n",
    "        return False\r\n",
    "    if root.left == None and root.right == None:\r\n",
    "        return sum_ - root.value == 0\r\n",
    "    return had_path_sum(root.left, sum_-root.value) or had_path_sum(root.right, sum_-root.value)"
   ],
   "outputs": [],
   "metadata": {}
  },
  {
   "cell_type": "markdown",
   "source": [
    "#### 路径总和 II\n",
    "给定一个二叉树和一个目标和，找到所有从根节点到叶子节点路径总和等于给定目标和的路径。\n",
    "\n",
    "说明: 叶子节点是指没有子节点的节点。"
   ],
   "metadata": {}
  },
  {
   "cell_type": "code",
   "execution_count": 25,
   "source": [
    "def path_sum(root: TreeNode, sum: int) -> list:\r\n",
    "    path = []\r\n",
    "    res = []\r\n",
    "    def dfs(root, sum_):\r\n",
    "        if root == None:\r\n",
    "            return\r\n",
    "\r\n",
    "        path.append(root.value)\r\n",
    "        sum_ -= root.value\r\n",
    "        if root.left == None and root.right == None and sum_ == 0:\r\n",
    "            res.append(path[:])\r\n",
    "        dfs(root.left, sum_)\r\n",
    "        dfs(root.right, sum_)\r\n",
    "        path.pop()\r\n",
    "    \r\n",
    "    dfs(root, sum)\r\n",
    "    return res"
   ],
   "outputs": [],
   "metadata": {}
  },
  {
   "cell_type": "markdown",
   "source": [
    "#### 建立二叉搜索树"
   ],
   "metadata": {}
  },
  {
   "cell_type": "code",
   "execution_count": 26,
   "source": [
    "def insert(root: TreeNode, item: int):\r\n",
    "    if not root:\r\n",
    "        root = TreeNode(item)\r\n",
    "    elif item < root.value:\r\n",
    "        insert(root.left, item)\r\n",
    "    else:\r\n",
    "        insert(root.right, item)"
   ],
   "outputs": [],
   "metadata": {}
  },
  {
   "cell_type": "markdown",
   "source": [
    "#### 搜索二叉树查找"
   ],
   "metadata": {}
  },
  {
   "cell_type": "code",
   "execution_count": 27,
   "source": [
    "# 递归\r\n",
    "def search_bst(root: TreeNode, item: int):\r\n",
    "    if not root:\r\n",
    "        return False\r\n",
    "    state = False\r\n",
    "    if item == root.value:\r\n",
    "        state = True\r\n",
    "    if item < root.value:\r\n",
    "        state = search_bst(root.left, item)\r\n",
    "    if item >= root.value:\r\n",
    "        state = search_bst(root.right, item)\r\n",
    "    return state"
   ],
   "outputs": [],
   "metadata": {}
  },
  {
   "cell_type": "code",
   "execution_count": 28,
   "source": [
    "# 非递归\r\n",
    "def search_bst(root: TreeNode, item: int):\r\n",
    "    while root:\r\n",
    "        if item == root.value:\r\n",
    "            return True\r\n",
    "        if item < root.value:\r\n",
    "            root = root.left\r\n",
    "        if item >= root.value:\r\n",
    "            root = root.right\r\n",
    "    return False"
   ],
   "outputs": [],
   "metadata": {}
  },
  {
   "cell_type": "markdown",
   "source": [
    "#### 验证二叉搜索树\n",
    "给定一个二叉树，判断其是否是一个有效的二叉搜索树。"
   ],
   "metadata": {}
  },
  {
   "cell_type": "code",
   "execution_count": 29,
   "source": [
    "# 二叉搜索树的中序遍历为一个递增的序列\r\n",
    "def is_valid_bst(root: TreeNode):\r\n",
    "    res = True\r\n",
    "    pre_val = float('inf')\r\n",
    "    def in_order(root):\r\n",
    "        in_order(root.left)\r\n",
    "        if pre_val >= root.value:\r\n",
    "            res = False\r\n",
    "            return\r\n",
    "        pre_val = root.value\r\n",
    "        in_order(root.right)\r\n",
    "    in_order(root)\r\n",
    "    return res"
   ],
   "outputs": [],
   "metadata": {}
  },
  {
   "cell_type": "markdown",
   "source": [
    "#### 删除二叉搜索树中的节点\n",
    "给定一个二叉搜索树的根节点 root 和一个值 key，删除二叉搜索树中的 key 对应的节点，并保证二叉搜索树的性质不变。返回二叉搜索树（有可能被更新）的根节点的引用。\n"
   ],
   "metadata": {}
  },
  {
   "cell_type": "code",
   "execution_count": 30,
   "source": [
    "def delete_node(root: TreeNode, key: int):\r\n",
    "    if not root:\r\n",
    "        return None\r\n",
    "    if key > root.val:\r\n",
    "        # 去右子树删除\r\n",
    "        root.right = delete_node(root.right, key)\r\n",
    "    elif key < root.val:\r\n",
    "        # 去左子树删除\r\n",
    "        root.left = delete_node(root.left, key)\r\n",
    "    else:\r\n",
    "        # 当前节点是要删除的节点\r\n",
    "        if not root.left:\r\n",
    "            # 无左子树\r\n",
    "            return root.right\r\n",
    "        if not root.right:\r\n",
    "            # 无右子树\r\n",
    "            return root.left\r\n",
    "        # 左右子树都有\r\n",
    "        node = root.right\r\n",
    "        while node.left:\r\n",
    "            #  寻找欲删除节点右子树的最左节点\r\n",
    "            node = node.left\r\n",
    "        node.left = root.left # 将欲删除节点的左子树成为其右子树的最左节点的左子树\r\n",
    "        root = root.right #  欲删除节点的右子顶替其位置，节点被删除\r\n",
    "    return root"
   ],
   "outputs": [],
   "metadata": {}
  },
  {
   "cell_type": "markdown",
   "source": [
    "#### 把二叉搜索树转换为累加树\n",
    "\n",
    "给出二叉 搜索 树的根节点，该树的节点值各不相同，请你将其转换为累加树（Greater Sum Tree），使每个节点 node 的新值等于原树中大于或等于 node.val 的值之和"
   ],
   "metadata": {}
  },
  {
   "cell_type": "code",
   "execution_count": 31,
   "source": [
    "def convertBST(nums):\r\n",
    "    def dfs(root):\r\n",
    "        nonlocal total\r\n",
    "        if root:\r\n",
    "            dfs(root.right)\r\n",
    "            total += root.val\r\n",
    "            root.val = total\r\n",
    "            dfs(root.left)\r\n",
    "\r\n",
    "    total = 0\r\n",
    "    dfs(root)\r\n",
    "    return total"
   ],
   "outputs": [],
   "metadata": {}
  },
  {
   "cell_type": "markdown",
   "source": [
    "#### 实现前缀树"
   ],
   "metadata": {}
  },
  {
   "cell_type": "code",
   "execution_count": 32,
   "source": [
    "from collections import defaultdict\r\n",
    "class TrieNode:\r\n",
    "    def __init__(self):\r\n",
    "        self.child = defaultdict(TrieNode)\r\n",
    "        self.is_word = False\r\n",
    "\r\n",
    "\r\n",
    "class Trie:\r\n",
    "    def __init__(self):\r\n",
    "        self.root = TrieNode()\r\n",
    "\r\n",
    "    def insert(self, word):\r\n",
    "        cur = self.root\r\n",
    "        for c in word:\r\n",
    "            cur = cur.child[c]\r\n",
    "        cur.is_word = True\r\n",
    "\r\n",
    "    def search(self, word):\r\n",
    "        cur = self.root\r\n",
    "        for c in word:\r\n",
    "            cur = cur.child.get(c)\r\n",
    "            if not cur:\r\n",
    "                return False\r\n",
    "        return cur.is_word\r\n",
    "\r\n",
    "    def start_with(self, prefix):\r\n",
    "        cur = self.root\r\n",
    "        for c in prefix:\r\n",
    "            cur = cur.child.get(c)\r\n",
    "            if not cur:\r\n",
    "                return False\r\n",
    "        return True"
   ],
   "outputs": [],
   "metadata": {}
  },
  {
   "cell_type": "markdown",
   "source": [
    "#### 二叉树的层平均值\n",
    "给定一个非空二叉树, 返回一个由每层节点平均值组成的数组。"
   ],
   "metadata": {}
  },
  {
   "cell_type": "code",
   "execution_count": 33,
   "source": [
    "def average_of_lever(root: TreeNode):\r\n",
    "    if not root:\r\n",
    "        return 0\r\n",
    "    res = []\r\n",
    "    layers = deque()\r\n",
    "    layers.append(root)\r\n",
    "    while layers:\r\n",
    "        tmp = 0\r\n",
    "        layer_size = len(layers)\r\n",
    "        for i in range(layer_size):\r\n",
    "            node = layers.popleft()\r\n",
    "            tmp += node.value\r\n",
    "            if node.left:\r\n",
    "                layers.append(node.left)\r\n",
    "            if node.right:\r\n",
    "                layers.append(node.right)\r\n",
    "        res.append(tmp / layer_size)\r\n",
    "    return res"
   ],
   "outputs": [],
   "metadata": {}
  },
  {
   "cell_type": "markdown",
   "source": [
    "#### 相同的树\n",
    "给定两个二叉树，编写一个函数来检验它们是否相同。\n",
    "如果两个树在结构上相同，并且节点具有相同的值，则认为它们是相同的。"
   ],
   "metadata": {}
  },
  {
   "cell_type": "code",
   "execution_count": 34,
   "source": [
    "def is_same_tree(p, q):\r\n",
    "    if p == q:\r\n",
    "        return True\r\n",
    "    if not p or not q:\r\n",
    "        return False\r\n",
    "    \r\n",
    "    return p.value == q.value \\\r\n",
    "        and is_same_tree(p.left, q.left) and is_same_tree(p.right, q.right)"
   ],
   "outputs": [],
   "metadata": {}
  },
  {
   "cell_type": "markdown",
   "source": [
    "* 翻转二叉树\r\n",
    "翻转一颗二叉树"
   ],
   "metadata": {}
  },
  {
   "cell_type": "code",
   "execution_count": 36,
   "source": [
    "def reverse_tree(root: TreeNode):\r\n",
    "    if not root:\r\n",
    "        return root\r\n",
    "    left = reverse_tree(root.left)\r\n",
    "    right = reverse_tree(root.right)\r\n",
    "    root.left, root.right = right, left\r\n",
    "    return root"
   ],
   "outputs": [],
   "metadata": {}
  },
  {
   "cell_type": "markdown",
   "source": [
    "* 对称二叉树\r\n",
    "给定一个二叉树，检查它是否是镜像对称的"
   ],
   "metadata": {}
  },
  {
   "cell_type": "code",
   "execution_count": 37,
   "source": [
    "def is_symmetric(root: TreeNode):\r\n",
    "    def compare(left: TreeNode, right: TreeNode):\r\n",
    "        if left is None and right is not None:\r\n",
    "            return False\r\n",
    "        elif left is not None and right is None:\r\n",
    "            return False\r\n",
    "        elif left is None and right is None:\r\n",
    "            return True\r\n",
    "        elif left.value != right.value:\r\n",
    "            return False\r\n",
    "        else:\r\n",
    "            outside = compare(left.left, right,right)\r\n",
    "            inside = compare(left.right, right,left)\r\n",
    "            return outside and inside\r\n",
    "\r\n",
    "    if not root:\r\n",
    "        return True\r\n",
    "    return compare(root.left, root.right)"
   ],
   "outputs": [],
   "metadata": {}
  },
  {
   "cell_type": "markdown",
   "source": [
    "* 完全二叉树的节点个数\r\n",
    "给出一个完全二叉树，求出该树的节点个数"
   ],
   "metadata": {}
  },
  {
   "cell_type": "code",
   "execution_count": 39,
   "source": [
    "def get_node_num(root: TreeNode):\r\n",
    "    if not root:\r\n",
    "        return 0\r\n",
    "    left_num = get_node_num(root.left)\r\n",
    "    right_num = get_node_num(root.right)\r\n",
    "    return left_num + right_num + 1"
   ],
   "outputs": [],
   "metadata": {}
  },
  {
   "cell_type": "markdown",
   "source": [
    "* 平衡二叉树\r\n",
    "给定一个二叉树，判定是否是高度平衡的二叉树，（一颗二叉树每个节点的左右两棵子树的高度差不超过1）"
   ],
   "metadata": {}
  },
  {
   "cell_type": "code",
   "execution_count": null,
   "source": [
    "def is_balanced(root: TreeNode):\r\n",
    "    def height(node: TreeNode):\r\n",
    "        if not node:\r\n",
    "            return 0\r\n",
    "        left_heght = height(node.left)\r\n",
    "        right_height = height(node.right)\r\n",
    "        if left_height == -1 or right_height == -1 or abs(left_height - right_height) > 1:\r\n",
    "            return -1\r\n",
    "        else:\r\n",
    "            return max(left_height, right_height) + 1\r\n",
    "\r\n",
    "    return height(root) > 0"
   ],
   "outputs": [],
   "metadata": {}
  }
 ]
}