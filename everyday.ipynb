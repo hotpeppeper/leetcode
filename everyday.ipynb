{
 "cells": [
  {
   "cell_type": "markdown",
   "metadata": {},
   "source": [
    "### 乘积最大子数组\n",
    "给你一个整数数组nums，请你找出数组中乘积最大的连续子数组，并返回该子数组所对应的乘积"
   ]
  },
  {
   "cell_type": "code",
   "execution_count": 1,
   "metadata": {},
   "outputs": [],
   "source": [
    "def max_product(nums: list):\n",
    "    # 记录最大正数\n",
    "    dp_max = [0] * len(nums)\n",
    "    # 记录最小数\n",
    "    dp_min = [0] * len(nums)\n",
    "    dp_max[0] = nums[0]\n",
    "    dp_min[0] = nums[0]\n",
    "    for i in range(1, len(nums)):\n",
    "        dp_max[i] = max(dp_max[i-1]*nums[i], nums[i], dp_min[i-1]*nums[i])\n",
    "        dp_min[i] = min(dp_min[i-1]*nums[i], nums[i], dp_max[i-1]*nums[i])\n",
    "    return max(dp_max)\n",
    "    "
   ]
  },
  {
   "cell_type": "code",
   "execution_count": 2,
   "metadata": {},
   "outputs": [
    {
     "data": {
      "text/plain": [
       "18"
      ]
     },
     "execution_count": 2,
     "metadata": {},
     "output_type": "execute_result"
    }
   ],
   "source": [
    "max_product([-1, 3, -2, -3])"
   ]
  },
  {
   "cell_type": "code",
   "execution_count": 3,
   "metadata": {},
   "outputs": [],
   "source": [
    "def max_product(nums: list):\n",
    "    if len(nums) == 1:\n",
    "        return nums[0]\n",
    "    pre_max = nums[0]\n",
    "    pre_min = nums[0]\n",
    "    res = pre_max\n",
    "    for i in nums[1:]:\n",
    "        cur_max = max(pre_max*i, i, pre_min*i)\n",
    "        cur_min = min(pre_min*i, i, pre_max*i)\n",
    "        res = max(res, cur_max)\n",
    "        pre_max = cur_max\n",
    "        pre_min = cur_min\n",
    "    return res"
   ]
  },
  {
   "cell_type": "code",
   "execution_count": 4,
   "metadata": {},
   "outputs": [
    {
     "data": {
      "text/plain": [
       "18"
      ]
     },
     "execution_count": 4,
     "metadata": {},
     "output_type": "execute_result"
    }
   ],
   "source": [
    "max_product([-1, 3, -2, -3])"
   ]
  },
  {
   "cell_type": "markdown",
   "metadata": {},
   "source": [
    "### 数组中重复的数字\n",
    "在一个长度为n的数组nums里所有的数字都在0~n-1的范围内，数组中某些数字是重复的，但不知道有几个数字重复了，也不知道每个数字重复了几次。请找出数组中任意一个重复的数字"
   ]
  },
  {
   "cell_type": "code",
   "execution_count": 13,
   "metadata": {},
   "outputs": [],
   "source": [
    "def find_repeat_number(nums: list):\n",
    "    i = 0\n",
    "    while i < len(nums):\n",
    "        if nums[i] == i:\n",
    "            i += 1\n",
    "            continue\n",
    "        if nums[i] == nums[nums[i]]:\n",
    "            return nums[i]\n",
    "        nums[nums[i]], nums[i] = nums[i], nums[nums[i]]"
   ]
  },
  {
   "cell_type": "code",
   "execution_count": 14,
   "metadata": {},
   "outputs": [
    {
     "data": {
      "text/plain": [
       "2"
      ]
     },
     "execution_count": 14,
     "metadata": {},
     "output_type": "execute_result"
    }
   ],
   "source": [
    "find_repeat_number([2, 3, 1, 0, 2, 5, 3])"
   ]
  },
  {
   "cell_type": "markdown",
   "metadata": {},
   "source": [
    "### 数组中重复的数据\n",
    "给定一个数组a，其中1<=a\\[i\\]<=n, n是数组的长度，其中有些元素出现两次，其它元素出现1次，找出所有出现两次的元素"
   ]
  },
  {
   "cell_type": "code",
   "execution_count": 17,
   "metadata": {},
   "outputs": [],
   "source": [
    "def find_duplicate(nums: list):\n",
    "    res = []\n",
    "    for i in range(len(nums)):\n",
    "        num = abs(nums[i]) - 1\n",
    "        if nums[num] < 0:\n",
    "            res.append(num + 1)\n",
    "        nums[num] = -nums[num]\n",
    "    return res"
   ]
  },
  {
   "cell_type": "code",
   "execution_count": 18,
   "metadata": {},
   "outputs": [
    {
     "data": {
      "text/plain": [
       "[2, 3]"
      ]
     },
     "execution_count": 18,
     "metadata": {},
     "output_type": "execute_result"
    }
   ],
   "source": [
    "find_duplicate([4,3,2,7,8,2,3,1])"
   ]
  },
  {
   "cell_type": "markdown",
   "metadata": {},
   "source": [
    "### 二维数组中的查找\n",
    "在一个 n * m 的二维数组中，每一行都按照从左到右递增的顺序排序，每一列都按照从上到下递增的顺序排序。请完成一个高效的函数，输入这样的一个二维数组和一个整数，判断数组中是否含有该整数。"
   ]
  },
  {
   "cell_type": "code",
   "execution_count": 4,
   "metadata": {},
   "outputs": [],
   "source": [
    "def find_number_in_2darray(matrix, target):\n",
    "    m = len(matrix)\n",
    "    n = len(matrix[0])\n",
    "    row = 0\n",
    "    column = n - 1\n",
    "    # 从右上角开始找\n",
    "    while row < m and column > 0:\n",
    "        num = matrix[row][column]\n",
    "        if num == target:\n",
    "            return True\n",
    "        elif num > target:\n",
    "            # 列下标减1\n",
    "            column -= 1\n",
    "        else:\n",
    "            # 行下标+1\n",
    "            row += 1\n",
    "    return False"
   ]
  },
  {
   "cell_type": "code",
   "execution_count": 5,
   "metadata": {},
   "outputs": [
    {
     "name": "stdout",
     "output_type": "stream",
     "text": [
      "True\n",
      "False\n"
     ]
    }
   ],
   "source": [
    "m = [\n",
    "  [1,   4,  7, 11, 15],\n",
    "  [2,   5,  8, 12, 19],\n",
    "  [3,   6,  9, 16, 22],\n",
    "  [10, 13, 14, 17, 24],\n",
    "  [18, 21, 23, 26, 30]\n",
    "]\n",
    "print(find_number_in_2darray(m, 5))\n",
    "print(find_number_in_2darray(m, 50))"
   ]
  },
  {
   "cell_type": "markdown",
   "metadata": {},
   "source": [
    "###  旋转数组的最小数字\n",
    "把一个数组最开始的若干个元素搬到数组的末尾，我们称之为数组的旋转。输入一个递增排序的数组的一个旋转，输出旋转数组的最小元素。例如，数组 \\[3,4,5,1,2\\] 为 \\[1,2,3,4,5\\] 的一个旋转，该数组的最小值为1。  \n"
   ]
  },
  {
   "cell_type": "code",
   "execution_count": 6,
   "metadata": {},
   "outputs": [],
   "source": [
    "def min_arrary(numbers: list):\n",
    "    left = 0\n",
    "    right = len(numbers) - 1\n",
    "    while left < right:\n",
    "        mid = (left + right) // 2\n",
    "        if numbers[mid] > numbers[right]:\n",
    "            left = mid + 1\n",
    "        elif numbers[mid] < numbers[right]:\n",
    "            right = mid\n",
    "        else:\n",
    "            right -= 1\n",
    "    return numbers[mid]"
   ]
  },
  {
   "cell_type": "markdown",
   "metadata": {},
   "source": [
    "### 矩阵中的路径\n",
    "给定一个 m x n 二维字符网格 board 和一个字符串单词 word 。如果 word 存在于网格中，返回 true ；否则，返回 false 。\n",
    "\n",
    "单词必须按照字母顺序，通过相邻的单元格内的字母构成，其中“相邻”单元格是那些水平相邻或垂直相邻的单元格。同一个单元格内的字母不允许被重复使用。"
   ]
  },
  {
   "cell_type": "code",
   "execution_count": 15,
   "metadata": {},
   "outputs": [],
   "source": [
    "def exist(board: list, word: str):\n",
    "    def dfs(i, j, k):\n",
    "        if (not 0 <= i < len(board) \n",
    "            or not 0 <= j < len(board[0])\n",
    "            or board[i][j] != word[k]):\n",
    "            return False\n",
    "        if k == len(word) - 1:\n",
    "            return True\n",
    "        board[i][j] = ' '\n",
    "        # 向4个方向搜索\n",
    "        res = dfs(i+1, j, k+1) or dfs(i, j+1, k+1) or dfs(i-1, j, k+1) or dfs(i, j-1, k+1)\n",
    "        board[i][j] = word[k]\n",
    "        return res\n",
    "    for i in range(len(board)):\n",
    "        for j in range(len(board[0])):\n",
    "            if dfs(i, j, 0):\n",
    "                return True\n",
    "    return False"
   ]
  },
  {
   "cell_type": "code",
   "execution_count": 16,
   "metadata": {},
   "outputs": [
    {
     "data": {
      "text/plain": [
       "True"
      ]
     },
     "execution_count": 16,
     "metadata": {},
     "output_type": "execute_result"
    }
   ],
   "source": [
    "board = [[\"A\",\"B\",\"C\",\"E\"],[\"S\",\"F\",\"C\",\"S\"],[\"A\",\"D\",\"E\",\"E\"]]\n",
    "word = \"ABFCEDA\"\n",
    "exist(board, word)"
   ]
  },
  {
   "cell_type": "markdown",
   "metadata": {},
   "source": [
    "### 机器人的运动范围\n",
    "地上有一个m行n列的方格，从坐标 \\[0,0\\] 到坐标 \\[m-1,n-1\\] 。一个机器人从坐标 [0, 0] 的格子开始移动，它每次可以向左、右、上、下移动一格（不能移动到方格外），也不能进入行坐标和列坐标的数位之和大于k的格子。例如，当k为18时，机器人能够进入方格 [35, 37] ，因为3+5+3+7=18。但它不能进入方格 [35, 38]，因为3+5+3+8=19。请问该机器人能够到达多少个格子？\n"
   ]
  },
  {
   "cell_type": "code",
   "execution_count": 17,
   "metadata": {},
   "outputs": [],
   "source": [
    "from queue import Queue\n",
    "def digit_sum(n):\n",
    "    res = 0\n",
    "    while n:\n",
    "        res += n % 10\n",
    "        n //= 10\n",
    "    return res\n",
    "\n",
    "def moving_count(m, n, k):\n",
    "    q = Queue()\n",
    "    q.put((0, 0))\n",
    "    s = set()\n",
    "    while not q.empty():\n",
    "        x, y = q.get()\n",
    "        if ((x, y) not in s\n",
    "             and (0 <= x <= m)\n",
    "             and (0 <= y <= n)\n",
    "             and digit_sum(x) + digit_sum(y) <= k):\n",
    "            s.add((x, y))\n",
    "            # 可以将搜索的方向缩减为向右或者向下\n",
    "            for xy in [(x+1, y), (x, y+1)]:\n",
    "                q.put(xy)\n",
    "    return len(s)\n"
   ]
  },
  {
   "cell_type": "code",
   "execution_count": 19,
   "metadata": {},
   "outputs": [
    {
     "data": {
      "text/plain": [
       "1"
      ]
     },
     "execution_count": 19,
     "metadata": {},
     "output_type": "execute_result"
    }
   ],
   "source": [
    "moving_count(3, 1, 0)"
   ]
  },
  {
   "cell_type": "markdown",
   "metadata": {},
   "source": [
    "###  剪绳子\n",
    "给你一根长度为 n 的绳子，请把绳子剪成整数长度的 m 段（m、n都是整数，n>1并且m>1），每段绳子的长度记为 k\\[0\\],k\\[1\\]...k\\[m-1\\] 。请问 k\\[0\\]*k\\[1\\]*...*k\\[m-1\n",
    "] 可能的最大乘积是多少？例如，当绳子的长度是8时，我们把它剪成长度分别为2、3、3的三段，此时得到的最大乘积是18。\n"
   ]
  },
  {
   "cell_type": "code",
   "execution_count": 20,
   "metadata": {},
   "outputs": [],
   "source": [
    "def cut_roupe(n):\n",
    "    dp = [0] * (n + 1)\n",
    "    dp[2] = 1\n",
    "    # dp[i]表示长度为i的绳子剪成m段后的最大乘积\n",
    "    # (i-j)的长度的绳子可剪可不剪，不剪的乘积为j*(i-j)，如果剪的话乘积为j*dp[i-j]\n",
    "    for i in range(3, n+1):\n",
    "        for j in range(2, i):\n",
    "            dp[i] = max(dp[i], j*(i-j), j*dp[i-j])\n",
    "    return dp[-1]"
   ]
  },
  {
   "cell_type": "code",
   "execution_count": 21,
   "metadata": {},
   "outputs": [],
   "source": [
    "def cut_roupe(n):\n",
    "    if n < 4:\n",
    "        return n -1\n",
    "    res = 1\n",
    "    # 尽可能把绳子分为长度为3的小段\n",
    "    while n > 4:\n",
    "        res *= 3\n",
    "        n -=3\n",
    "    return res * n "
   ]
  },
  {
   "cell_type": "markdown",
   "metadata": {},
   "source": [
    "### 调整数组顺序使奇数位于偶数前面\n",
    "输入一个整数数组，实现一个函数来调整该数组中数字的顺序，使得所有奇数位于数组的前半部分，所有偶数位于数组的后半部分。"
   ]
  },
  {
   "cell_type": "code",
   "execution_count": 22,
   "metadata": {},
   "outputs": [],
   "source": [
    "def exchange(nums):\n",
    "    left = 0\n",
    "    right = len(nums) - 1\n",
    "    while left < right:\n",
    "        if nums[left] % 2 == 0 and nums[right] % 2 == 1:\n",
    "            nums[left], nums[right] = nums[right], nums[left]\n",
    "            left += 1\n",
    "            right -= 1\n",
    "        elif nums[left] % 2 == 1 and nums[right] % 2 == 0:\n",
    "            left += 1\n",
    "            right -= 1\n",
    "        elif nums[left] % 2 == 1 and nums[right] % 2 == 1:\n",
    "            left += 1\n",
    "        elif nums[left] % 2 == 0 and nums[right] % 2 == 0:\n",
    "            right -= 1\n",
    "    return nums"
   ]
  },
  {
   "cell_type": "markdown",
   "metadata": {},
   "source": [
    "### 二进制中1的个数\n",
    "编写一个函数，输入是一个无符号整数（以二进制串的形式），返回其二进制表达式中数字位数为 '1' 的个数（也被称为 汉明重量).）。"
   ]
  },
  {
   "cell_type": "code",
   "execution_count": 23,
   "metadata": {},
   "outputs": [],
   "source": [
    "def hamming_weight(n):\n",
    "    res = 0\n",
    "    while n :\n",
    "        res += n & 1\n",
    "        n >>= 1\n",
    "    return res"
   ]
  },
  {
   "cell_type": "markdown",
   "metadata": {},
   "source": [
    "###  数值的整数次方\n",
    "实现 pow(x, n) ，即计算 x 的 n 次幂函数（即，xn）。不得使用库函数，同时不需要考虑大数问题。"
   ]
  },
  {
   "cell_type": "code",
   "execution_count": 1,
   "metadata": {},
   "outputs": [],
   "source": [
    "def my_pow(x, n):\n",
    "    sign = 1\n",
    "    if n < 0:\n",
    "        n = -n\n",
    "        x = 1 / x\n",
    "    res = 1\n",
    "    while n > 0:\n",
    "        if n & 1:\n",
    "            res *= x\n",
    "        x *= x\n",
    "        n >>= 1\n",
    "    return res"
   ]
  },
  {
   "cell_type": "code",
   "execution_count": 2,
   "metadata": {},
   "outputs": [
    {
     "data": {
      "text/plain": [
       "1024"
      ]
     },
     "execution_count": 2,
     "metadata": {},
     "output_type": "execute_result"
    }
   ],
   "source": [
    "my_pow(2, 10)"
   ]
  },
  {
   "cell_type": "markdown",
   "metadata": {},
   "source": [
    "### 岛屿数量\n",
    "给你一个由1（陆地）和0（水）组成的二维网络，请你计算网格中岛屿的数量\n",
    "岛屿总是被水包围，并且每座岛屿只能由水平方向和/或竖直方向上相邻的陆地连接形成。\n",
    "\n",
    "此外，你可以假设该网格的四条边均被水包围。"
   ]
  },
  {
   "cell_type": "code",
   "execution_count": 1,
   "metadata": {},
   "outputs": [],
   "source": [
    "def num_islands(grid: list):\n",
    "    def dfs(grid, row, col):\n",
    "        r = len(grid)\n",
    "        c = len(grid[0])\n",
    "        grid[row][col] = 0\n",
    "        # 每次搜索到1，置0，避免重复搜索\n",
    "        for x, y in ([row-1, col], [row+1, col], [row, col-1], [row, col+1]):\n",
    "            if 0<=x<r and 0<=y<c and grid[x][y] == '1':\n",
    "                dfs(grid, x, y)\n",
    "\n",
    "    row = len(grid)\n",
    "    col = len(grid[0])\n",
    "    res = 0\n",
    "    for x in range(row):\n",
    "        for y in range(col):\n",
    "            if grid[x][y] == '1':\n",
    "                res += 1\n",
    "                dfs(grid, x, y)\n",
    "    return res"
   ]
  },
  {
   "cell_type": "code",
   "execution_count": 2,
   "metadata": {},
   "outputs": [
    {
     "name": "stdout",
     "output_type": "stream",
     "text": [
      "1\n"
     ]
    }
   ],
   "source": [
    "grid = [\n",
    "  [\"1\",\"1\",\"1\",\"1\",\"0\"],\n",
    "  [\"1\",\"1\",\"0\",\"1\",\"0\"],\n",
    "  [\"1\",\"1\",\"0\",\"0\",\"0\"],\n",
    "  [\"0\",\"0\",\"0\",\"0\",\"0\"]\n",
    "]\n",
    "print(num_islands(grid))"
   ]
  },
  {
   "cell_type": "code",
   "execution_count": null,
   "metadata": {},
   "outputs": [],
   "source": []
  },
  {
   "cell_type": "code",
   "execution_count": null,
   "metadata": {},
   "outputs": [],
   "source": []
  }
 ],
 "metadata": {
  "interpreter": {
   "hash": "3fa48bb2c24bfd2c860ebc2f76fcf240faeca9c313f5297b1080b141badca120"
  },
  "kernelspec": {
   "display_name": "Python 3.8.5 64-bit ('base': conda)",
   "name": "python3"
  },
  "language_info": {
   "codemirror_mode": {
    "name": "ipython",
    "version": 3
   },
   "file_extension": ".py",
   "mimetype": "text/x-python",
   "name": "python",
   "nbconvert_exporter": "python",
   "pygments_lexer": "ipython3",
   "version": "3.8.5"
  },
  "orig_nbformat": 4
 },
 "nbformat": 4,
 "nbformat_minor": 2
}
