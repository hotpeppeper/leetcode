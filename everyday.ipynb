{
 "cells": [
  {
   "cell_type": "markdown",
   "source": [
    "### 乘积最大子数组\r\n",
    "给你一个整数数组nums，请你找出数组中乘积最大的连续子数组，并返回该子数组所对应的乘积"
   ],
   "metadata": {}
  },
  {
   "cell_type": "code",
   "execution_count": 5,
   "source": [
    "def max_product(nums: list):\r\n",
    "    # 记录最大正数\r\n",
    "    dp_max = [0] * len(nums)\r\n",
    "    # 记录最小数\r\n",
    "    dp_min = [0] * len(nums)\r\n",
    "    dp_max[0] = nums[0]\r\n",
    "    dp_min[0] = nums[0]\r\n",
    "    for i in range(1, len(nums)):\r\n",
    "        dp_max[i] = max(dp_max[i-1]*nums[i], nums[i], dp_min[i-1]*nums[i])\r\n",
    "        dp_min[i] = min(dp_min[i-1]*nums[i], nums[i], dp_max[i-1]*nums[i])\r\n",
    "    return max(dp_max)\r\n",
    "    "
   ],
   "outputs": [],
   "metadata": {}
  },
  {
   "cell_type": "code",
   "execution_count": 6,
   "source": [
    "max_product([-1, 3, -2, -3])"
   ],
   "outputs": [
    {
     "output_type": "stream",
     "name": "stdout",
     "text": [
      "[-1, 3, 6, 18]\n"
     ]
    },
    {
     "output_type": "execute_result",
     "data": {
      "text/plain": [
       "18"
      ]
     },
     "metadata": {},
     "execution_count": 6
    }
   ],
   "metadata": {}
  },
  {
   "cell_type": "code",
   "execution_count": 9,
   "source": [
    "def max_product(nums: list):\r\n",
    "    if len(nums) == 1:\r\n",
    "        return nums[0]\r\n",
    "    pre_max = nums[0]\r\n",
    "    pre_min = nums[0]\r\n",
    "    res = pre_max\r\n",
    "    for i in nums[1:]:\r\n",
    "        cur_max = max(pre_max*i, i, pre_min*i)\r\n",
    "        cur_min = min(pre_min*i, i, pre_max*i)\r\n",
    "        res = max(res, cur_max)\r\n",
    "        pre_max = cur_max\r\n",
    "        pre_min = cur_min\r\n",
    "    return res"
   ],
   "outputs": [],
   "metadata": {}
  },
  {
   "cell_type": "code",
   "execution_count": 10,
   "source": [
    "max_product([-1, 3, -2, -3])"
   ],
   "outputs": [
    {
     "output_type": "execute_result",
     "data": {
      "text/plain": [
       "18"
      ]
     },
     "metadata": {},
     "execution_count": 10
    }
   ],
   "metadata": {}
  },
  {
   "cell_type": "code",
   "execution_count": null,
   "source": [],
   "outputs": [],
   "metadata": {}
  }
 ],
 "metadata": {
  "orig_nbformat": 4,
  "language_info": {
   "name": "python",
   "version": "3.8.5",
   "mimetype": "text/x-python",
   "codemirror_mode": {
    "name": "ipython",
    "version": 3
   },
   "pygments_lexer": "ipython3",
   "nbconvert_exporter": "python",
   "file_extension": ".py"
  },
  "kernelspec": {
   "name": "python3",
   "display_name": "Python 3.8.5 64-bit ('base': conda)"
  },
  "interpreter": {
   "hash": "3fa48bb2c24bfd2c860ebc2f76fcf240faeca9c313f5297b1080b141badca120"
  }
 },
 "nbformat": 4,
 "nbformat_minor": 2
}