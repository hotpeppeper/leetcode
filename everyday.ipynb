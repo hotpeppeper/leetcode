{
 "cells": [
  {
   "cell_type": "markdown",
   "source": [
    "### 乘积最大子数组\r\n",
    "给你一个整数数组nums，请你找出数组中乘积最大的连续子数组，并返回该子数组所对应的乘积"
   ],
   "metadata": {}
  },
  {
   "cell_type": "code",
   "execution_count": 5,
   "source": [
    "def max_product(nums: list):\r\n",
    "    # 记录最大正数\r\n",
    "    dp_max = [0] * len(nums)\r\n",
    "    # 记录最小数\r\n",
    "    dp_min = [0] * len(nums)\r\n",
    "    dp_max[0] = nums[0]\r\n",
    "    dp_min[0] = nums[0]\r\n",
    "    for i in range(1, len(nums)):\r\n",
    "        dp_max[i] = max(dp_max[i-1]*nums[i], nums[i], dp_min[i-1]*nums[i])\r\n",
    "        dp_min[i] = min(dp_min[i-1]*nums[i], nums[i], dp_max[i-1]*nums[i])\r\n",
    "    return max(dp_max)\r\n",
    "    "
   ],
   "outputs": [],
   "metadata": {}
  },
  {
   "cell_type": "code",
   "execution_count": 6,
   "source": [
    "max_product([-1, 3, -2, -3])"
   ],
   "outputs": [
    {
     "output_type": "stream",
     "name": "stdout",
     "text": [
      "[-1, 3, 6, 18]\n"
     ]
    },
    {
     "output_type": "execute_result",
     "data": {
      "text/plain": [
       "18"
      ]
     },
     "metadata": {},
     "execution_count": 6
    }
   ],
   "metadata": {}
  },
  {
   "cell_type": "code",
   "execution_count": 9,
   "source": [
    "def max_product(nums: list):\r\n",
    "    if len(nums) == 1:\r\n",
    "        return nums[0]\r\n",
    "    pre_max = nums[0]\r\n",
    "    pre_min = nums[0]\r\n",
    "    res = pre_max\r\n",
    "    for i in nums[1:]:\r\n",
    "        cur_max = max(pre_max*i, i, pre_min*i)\r\n",
    "        cur_min = min(pre_min*i, i, pre_max*i)\r\n",
    "        res = max(res, cur_max)\r\n",
    "        pre_max = cur_max\r\n",
    "        pre_min = cur_min\r\n",
    "    return res"
   ],
   "outputs": [],
   "metadata": {}
  },
  {
   "cell_type": "code",
   "execution_count": 10,
   "source": [
    "max_product([-1, 3, -2, -3])"
   ],
   "outputs": [
    {
     "output_type": "execute_result",
     "data": {
      "text/plain": [
       "18"
      ]
     },
     "metadata": {},
     "execution_count": 10
    }
   ],
   "metadata": {}
  },
  {
   "cell_type": "markdown",
   "source": [
    "### 数组中重复的数字\r\n",
    "在一个长度为n的数组nums里所有的数字都在0~n-1的范围内，数组中某些数字是重复的，但不知道有几个数字重复了，也不知道每个数字重复了几次。请找出数组中任意一个重复的数字"
   ],
   "metadata": {}
  },
  {
   "cell_type": "code",
   "execution_count": 13,
   "source": [
    "def find_repeat_number(nums: list):\r\n",
    "    i = 0\r\n",
    "    while i < len(nums):\r\n",
    "        if nums[i] == i:\r\n",
    "            i += 1\r\n",
    "            continue\r\n",
    "        if nums[i] == nums[nums[i]]:\r\n",
    "            return nums[i]\r\n",
    "        nums[nums[i]], nums[i] = nums[i], nums[nums[i]]"
   ],
   "outputs": [],
   "metadata": {}
  },
  {
   "cell_type": "code",
   "execution_count": 14,
   "source": [
    "find_repeat_number([2, 3, 1, 0, 2, 5, 3])"
   ],
   "outputs": [
    {
     "output_type": "execute_result",
     "data": {
      "text/plain": [
       "2"
      ]
     },
     "metadata": {},
     "execution_count": 14
    }
   ],
   "metadata": {}
  },
  {
   "cell_type": "markdown",
   "source": [
    "### 数组中重复的数据\r\n",
    "给定一个数组a，其中1<=a\\[i\\]<=n, n是数组的长度，其中有些元素出现两次，其它元素出现1次，找出所有出现两次的元素"
   ],
   "metadata": {}
  },
  {
   "cell_type": "code",
   "execution_count": 17,
   "source": [
    "def find_duplicate(nums: list):\r\n",
    "    res = []\r\n",
    "    for i in range(len(nums)):\r\n",
    "        num = abs(nums[i]) - 1\r\n",
    "        if nums[num] < 0:\r\n",
    "            res.append(num + 1)\r\n",
    "        nums[num] = -nums[num]\r\n",
    "    return res"
   ],
   "outputs": [],
   "metadata": {}
  },
  {
   "cell_type": "code",
   "execution_count": 18,
   "source": [
    "find_duplicate([4,3,2,7,8,2,3,1])"
   ],
   "outputs": [
    {
     "output_type": "execute_result",
     "data": {
      "text/plain": [
       "[2, 3]"
      ]
     },
     "metadata": {},
     "execution_count": 18
    }
   ],
   "metadata": {}
  },
  {
   "cell_type": "markdown",
   "source": [
    "### 二维数组中的查找\r\n",
    "在一个 n * m 的二维数组中，每一行都按照从左到右递增的顺序排序，每一列都按照从上到下递增的顺序排序。请完成一个高效的函数，输入这样的一个二维数组和一个整数，判断数组中是否含有该整数。"
   ],
   "metadata": {}
  },
  {
   "cell_type": "code",
   "execution_count": 4,
   "source": [
    "def find_number_in_2darray(matrix, target):\r\n",
    "    m = len(matrix)\r\n",
    "    n = len(matrix[0])\r\n",
    "    row = 0\r\n",
    "    column = n - 1\r\n",
    "    # 从右上角开始找\r\n",
    "    while row < m and column > 0:\r\n",
    "        num = matrix[row][column]\r\n",
    "        if num == target:\r\n",
    "            return True\r\n",
    "        elif num > target:\r\n",
    "            # 列下标减1\r\n",
    "            column -= 1\r\n",
    "        else:\r\n",
    "            # 行下标+1\r\n",
    "            row += 1\r\n",
    "    return False"
   ],
   "outputs": [],
   "metadata": {}
  },
  {
   "cell_type": "code",
   "execution_count": 5,
   "source": [
    "m = [\r\n",
    "  [1,   4,  7, 11, 15],\r\n",
    "  [2,   5,  8, 12, 19],\r\n",
    "  [3,   6,  9, 16, 22],\r\n",
    "  [10, 13, 14, 17, 24],\r\n",
    "  [18, 21, 23, 26, 30]\r\n",
    "]\r\n",
    "print(find_number_in_2darray(m, 5))\r\n",
    "print(find_number_in_2darray(m, 50))"
   ],
   "outputs": [
    {
     "output_type": "stream",
     "name": "stdout",
     "text": [
      "True\n",
      "False\n"
     ]
    }
   ],
   "metadata": {}
  },
  {
   "cell_type": "markdown",
   "source": [
    "###  旋转数组的最小数字\r\n",
    "把一个数组最开始的若干个元素搬到数组的末尾，我们称之为数组的旋转。输入一个递增排序的数组的一个旋转，输出旋转数组的最小元素。例如，数组 \\[3,4,5,1,2\\] 为 \\[1,2,3,4,5\\] 的一个旋转，该数组的最小值为1。  \r\n"
   ],
   "metadata": {}
  },
  {
   "cell_type": "code",
   "execution_count": 6,
   "source": [
    "def min_arrary(numbers: list):\r\n",
    "    left = 0\r\n",
    "    right = len(numbers) - 1\r\n",
    "    while left < right:\r\n",
    "        mid = (left + right) // 2\r\n",
    "        if numbers[mid] > numbers[right]:\r\n",
    "            left = mid + 1\r\n",
    "        elif numbers[mid] < numbers[right]:\r\n",
    "            right = mid\r\n",
    "        else:\r\n",
    "            right -= 1\r\n",
    "    return numbers[mid]"
   ],
   "outputs": [],
   "metadata": {}
  },
  {
   "cell_type": "markdown",
   "source": [
    "### 矩阵中的路径\r\n",
    "给定一个 m x n 二维字符网格 board 和一个字符串单词 word 。如果 word 存在于网格中，返回 true ；否则，返回 false 。\r\n",
    "\r\n",
    "单词必须按照字母顺序，通过相邻的单元格内的字母构成，其中“相邻”单元格是那些水平相邻或垂直相邻的单元格。同一个单元格内的字母不允许被重复使用。"
   ],
   "metadata": {}
  },
  {
   "cell_type": "code",
   "execution_count": 15,
   "source": [
    "def exist(board: list, word: str):\r\n",
    "    def dfs(i, j, k):\r\n",
    "        if (not 0 <= i < len(board) \r\n",
    "            or not 0 <= j < len(board[0])\r\n",
    "            or board[i][j] != word[k]):\r\n",
    "            return False\r\n",
    "        if k == len(word) - 1:\r\n",
    "            return True\r\n",
    "        board[i][j] = ' '\r\n",
    "        # 向4个方向搜索\r\n",
    "        res = dfs(i+1, j, k+1) or dfs(i, j+1, k+1) or dfs(i-1, j, k+1) or dfs(i, j-1, k+1)\r\n",
    "        board[i][j] = word[k]\r\n",
    "        return res\r\n",
    "    for i in range(len(board)):\r\n",
    "        for j in range(len(board[0])):\r\n",
    "            if dfs(i, j, 0):\r\n",
    "                return True\r\n",
    "    return False"
   ],
   "outputs": [],
   "metadata": {}
  },
  {
   "cell_type": "code",
   "execution_count": 16,
   "source": [
    "board = [[\"A\",\"B\",\"C\",\"E\"],[\"S\",\"F\",\"C\",\"S\"],[\"A\",\"D\",\"E\",\"E\"]]\r\n",
    "word = \"ABFCEDA\"\r\n",
    "exist(board, word)"
   ],
   "outputs": [
    {
     "output_type": "execute_result",
     "data": {
      "text/plain": [
       "True"
      ]
     },
     "metadata": {},
     "execution_count": 16
    }
   ],
   "metadata": {}
  },
  {
   "cell_type": "markdown",
   "source": [
    "### 机器人的运动范围\r\n",
    "地上有一个m行n列的方格，从坐标 \\[0,0\\] 到坐标 \\[m-1,n-1\\] 。一个机器人从坐标 [0, 0] 的格子开始移动，它每次可以向左、右、上、下移动一格（不能移动到方格外），也不能进入行坐标和列坐标的数位之和大于k的格子。例如，当k为18时，机器人能够进入方格 [35, 37] ，因为3+5+3+7=18。但它不能进入方格 [35, 38]，因为3+5+3+8=19。请问该机器人能够到达多少个格子？\r\n"
   ],
   "metadata": {}
  },
  {
   "cell_type": "code",
   "execution_count": 17,
   "source": [
    "from queue import Queue\r\n",
    "def digit_sum(n):\r\n",
    "    res = 0\r\n",
    "    while n:\r\n",
    "        res += n % 10\r\n",
    "        n //= 10\r\n",
    "    return res\r\n",
    "\r\n",
    "def moving_count(m, n, k):\r\n",
    "    q = Queue()\r\n",
    "    q.put((0, 0))\r\n",
    "    s = set()\r\n",
    "    while not q.empty():\r\n",
    "        x, y = q.get()\r\n",
    "        if ((x, y) not in s\r\n",
    "             and (0 <= x <= m)\r\n",
    "             and (0 <= y <= n)\r\n",
    "             and digit_sum(x) + digit_sum(y) <= k):\r\n",
    "            s.add((x, y))\r\n",
    "            for xy in [(x+1, y), (x, y+1)]:\r\n",
    "                q.put(xy)\r\n",
    "    return len(s)\r\n"
   ],
   "outputs": [],
   "metadata": {}
  },
  {
   "cell_type": "code",
   "execution_count": 19,
   "source": [
    "moving_count(3, 1, 0)"
   ],
   "outputs": [
    {
     "output_type": "execute_result",
     "data": {
      "text/plain": [
       "1"
      ]
     },
     "metadata": {},
     "execution_count": 19
    }
   ],
   "metadata": {}
  },
  {
   "cell_type": "markdown",
   "source": [
    "###  剪绳子\r\n",
    "给你一根长度为 n 的绳子，请把绳子剪成整数长度的 m 段（m、n都是整数，n>1并且m>1），每段绳子的长度记为 k\\[0\\],k\\[1\\]...k\\[m-1\\] 。请问 k\\[0\\]*k\\[1\\]*...*k\\[m-1\r\n",
    "] 可能的最大乘积是多少？例如，当绳子的长度是8时，我们把它剪成长度分别为2、3、3的三段，此时得到的最大乘积是18。\r\n"
   ],
   "metadata": {}
  },
  {
   "cell_type": "code",
   "execution_count": 20,
   "source": [
    "def cut_roupe(n):\r\n",
    "    dp = [0] * (n + 1)\r\n",
    "    dp[2] = 1\r\n",
    "    # dp[i]表示长度为i的绳子剪成m段后的最大乘积\r\n",
    "    # (i-j)的长度的绳子可剪可不剪，不剪的乘积为j*(i-j)，如果剪的话乘积为j*dp[i-j]\r\n",
    "    for i in range(3, n+1):\r\n",
    "        for j in range(2, i):\r\n",
    "            dp[i] = max(dp[i], j*(i-j), j*dp[i-j])\r\n",
    "    return dp[-1]"
   ],
   "outputs": [],
   "metadata": {}
  },
  {
   "cell_type": "code",
   "execution_count": 21,
   "source": [
    "def cut_roupe(n):\r\n",
    "    if n < 4:\r\n",
    "        return n -1\r\n",
    "    res = 1\r\n",
    "    # 尽可能把绳子分为长度为3的小段\r\n",
    "    while n > 4:\r\n",
    "        res *= 3\r\n",
    "        n -=3\r\n",
    "    return res * n "
   ],
   "outputs": [],
   "metadata": {}
  },
  {
   "cell_type": "markdown",
   "source": [
    "### 调整数组顺序使奇数位于偶数前面\r\n",
    "输入一个整数数组，实现一个函数来调整该数组中数字的顺序，使得所有奇数位于数组的前半部分，所有偶数位于数组的后半部分。"
   ],
   "metadata": {}
  },
  {
   "cell_type": "code",
   "execution_count": 22,
   "source": [
    "def exchange(nums):\r\n",
    "    left = 0\r\n",
    "    right = len(nums) - 1\r\n",
    "    while left < right:\r\n",
    "        if nums[left] % 2 == 0 and nums[right] % 2 == 1:\r\n",
    "            nums[left], nums[right] = nums[right], nums[left]\r\n",
    "            left += 1\r\n",
    "            right -= 1\r\n",
    "        elif nums[left] % 2 == 1 and nums[right] % 2 == 0:\r\n",
    "            left += 1\r\n",
    "            right -= 1\r\n",
    "        elif nums[left] % 2 == 1 and nums[right] % 2 == 1:\r\n",
    "            left += 1\r\n",
    "        elif nums[left] % 2 == 0 and nums[right] % 2 == 0:\r\n",
    "            right -= 1\r\n",
    "    return nums"
   ],
   "outputs": [],
   "metadata": {}
  },
  {
   "cell_type": "markdown",
   "source": [
    "### 二进制中1的个数\r\n",
    "编写一个函数，输入是一个无符号整数（以二进制串的形式），返回其二进制表达式中数字位数为 '1' 的个数（也被称为 汉明重量).）。"
   ],
   "metadata": {}
  },
  {
   "cell_type": "code",
   "execution_count": 23,
   "source": [
    "def hamming_weight(n):\r\n",
    "    res = 0\r\n",
    "    while n :\r\n",
    "        res += n & 1\r\n",
    "        n >>= 1\r\n",
    "    return res"
   ],
   "outputs": [],
   "metadata": {}
  },
  {
   "cell_type": "markdown",
   "source": [
    "###  数值的整数次方\r\n",
    "实现 pow(x, n) ，即计算 x 的 n 次幂函数（即，xn）。不得使用库函数，同时不需要考虑大数问题。"
   ],
   "metadata": {}
  },
  {
   "cell_type": "code",
   "execution_count": 24,
   "source": [
    "def my_pow(x, n):\r\n",
    "    sign = 1\r\n",
    "    if n < 0:\r\n",
    "        n = -n\r\n",
    "        x = 1 / x\r\n",
    "    res = 1\r\n",
    "    while n > 0:\r\n",
    "        if n & 1:\r\n",
    "            res *= x\r\n",
    "        x *= x\r\n",
    "        n >>= 1\r\n",
    "    return res"
   ],
   "outputs": [],
   "metadata": {}
  },
  {
   "cell_type": "code",
   "execution_count": null,
   "source": [],
   "outputs": [],
   "metadata": {}
  }
 ],
 "metadata": {
  "orig_nbformat": 4,
  "language_info": {
   "name": "python",
   "version": "3.8.5",
   "mimetype": "text/x-python",
   "codemirror_mode": {
    "name": "ipython",
    "version": 3
   },
   "pygments_lexer": "ipython3",
   "nbconvert_exporter": "python",
   "file_extension": ".py"
  },
  "kernelspec": {
   "name": "python3",
   "display_name": "Python 3.8.5 64-bit ('base': conda)"
  },
  "interpreter": {
   "hash": "3fa48bb2c24bfd2c860ebc2f76fcf240faeca9c313f5297b1080b141badca120"
  }
 },
 "nbformat": 4,
 "nbformat_minor": 2
}