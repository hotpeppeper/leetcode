{
 "metadata": {
  "language_info": {
   "codemirror_mode": {
    "name": "ipython",
    "version": 3
   },
   "file_extension": ".py",
   "mimetype": "text/x-python",
   "name": "python",
   "nbconvert_exporter": "python",
   "pygments_lexer": "ipython3",
   "version": "3.7.3-final"
  },
  "orig_nbformat": 2,
  "kernelspec": {
   "name": "python3",
   "display_name": "Python 3",
   "language": "python"
  }
 },
 "nbformat": 4,
 "nbformat_minor": 2,
 "cells": [
  {
   "source": [
    "#### 两个数组的交集\n",
    "\n",
    "给定两个数组，编写一个函数来计算它们的交集。"
   ],
   "cell_type": "markdown",
   "metadata": {}
  },
  {
   "cell_type": "code",
   "execution_count": 1,
   "metadata": {},
   "outputs": [],
   "source": [
    "def intersection(nums1: list, nums2: list) -> list:\n",
    "    return list(set(nums1) & set(nums2))"
   ]
  },
  {
   "cell_type": "code",
   "execution_count": 2,
   "metadata": {},
   "outputs": [
    {
     "output_type": "execute_result",
     "data": {
      "text/plain": [
       "[2]"
      ]
     },
     "metadata": {},
     "execution_count": 2
    }
   ],
   "source": [
    "intersection([1,2,3,1], [2,2])"
   ]
  },
  {
   "source": [
    "#### 快乐数\n",
    "编写一个算法来判断一个数 n 是不是快乐数\n",
    "\n",
    "快乐数定义为：对于一个正整数，每一次将该数替换为它每个位置上的数字的平方和，然后重复这个过程直到这个数变为 1，也可能是 无限循环 但始终变不到 1。如果 可以变为  1，那么这个数就是快乐数。\n"
   ],
   "cell_type": "markdown",
   "metadata": {}
  },
  {
   "cell_type": "code",
   "execution_count": 5,
   "metadata": {},
   "outputs": [],
   "source": [
    "def is_happy(n: int):\n",
    "    def next_(n):\n",
    "        # 计算下一个数\n",
    "        total = 0\n",
    "        while n:\n",
    "            n, digit = divmod(n, 10)\n",
    "            total += digit ** 2\n",
    "        return total\n",
    "\n",
    "    seen = set()\n",
    "    while n != 1 and n not in seen:\n",
    "        seen.add(n)\n",
    "        n = next_(n)\n",
    "    return n == 1"
   ]
  },
  {
   "cell_type": "code",
   "execution_count": 7,
   "metadata": {},
   "outputs": [
    {
     "output_type": "execute_result",
     "data": {
      "text/plain": [
       "True"
      ]
     },
     "metadata": {},
     "execution_count": 7
    }
   ],
   "source": [
    "is_happy(19)"
   ]
  },
  {
   "source": [
    "#### 存在重复元素\n",
    "给定一个整数数组，判断是否存在重复元素"
   ],
   "cell_type": "markdown",
   "metadata": {}
  },
  {
   "cell_type": "code",
   "execution_count": 9,
   "metadata": {},
   "outputs": [],
   "source": [
    "def contains_duplicate(nums: list):\n",
    "    return len(nums) != len(set(nums))"
   ]
  },
  {
   "cell_type": "code",
   "execution_count": 10,
   "metadata": {},
   "outputs": [
    {
     "output_type": "execute_result",
     "data": {
      "text/plain": [
       "True"
      ]
     },
     "metadata": {},
     "execution_count": 10
    }
   ],
   "source": [
    "contains_duplicate([1,1,1,3,3,4,3,2,4,2])"
   ]
  },
  {
   "source": [
    "#### 两个数组的交集 II\n",
    "给定两个数组，编写一个函数来计算它们的交集。"
   ],
   "cell_type": "markdown",
   "metadata": {}
  },
  {
   "cell_type": "code",
   "execution_count": 17,
   "metadata": {},
   "outputs": [],
   "source": [
    "from collections import Counter\n",
    "def intersect(nums1: list, nums2: list):\n",
    "    if len(nums1) > len(nums2):\n",
    "        return intersect(nums2, nums1)\n",
    "\n",
    "    m = Counter()\n",
    "    for i in nums1:\n",
    "        m[i] += 1\n",
    "    res = []\n",
    "    for i in nums2:\n",
    "        count = m.get(i, 0)\n",
    "        if count > 0:\n",
    "            res.append(i)\n",
    "            m[i] -= 1\n",
    "            if m[i] == 0:\n",
    "                m.pop(i)\n",
    "    return res"
   ]
  },
  {
   "cell_type": "code",
   "execution_count": 18,
   "metadata": {},
   "outputs": [
    {
     "output_type": "execute_result",
     "data": {
      "text/plain": [
       "[2, 2]"
      ]
     },
     "metadata": {},
     "execution_count": 18
    }
   ],
   "source": [
    "intersect([1,2,2,1], [2,2])"
   ]
  },
  {
   "source": [
    "#### 有效的字母异位词\n",
    "给定两个字符串 s 和 t ，编写一个函数来判断 t 是否是 s 的字母异位词。"
   ],
   "cell_type": "markdown",
   "metadata": {}
  },
  {
   "cell_type": "code",
   "execution_count": 1,
   "metadata": {},
   "outputs": [],
   "source": [
    "# 排序，异位词等价于，排序后相等\n",
    "def is_anagram(s: str, t: str):\n",
    "    s = [i for i in s]\n",
    "    t = [i for i in t]\n",
    "    s.sort()\n",
    "    t.sort()\n",
    "    return s == t"
   ]
  },
  {
   "cell_type": "code",
   "execution_count": 4,
   "metadata": {},
   "outputs": [
    {
     "output_type": "execute_result",
     "data": {
      "text/plain": [
       "True"
      ]
     },
     "metadata": {},
     "execution_count": 4
    }
   ],
   "source": [
    "is_anagram('rat', 'tra')"
   ]
  },
  {
   "cell_type": "code",
   "execution_count": 5,
   "metadata": {},
   "outputs": [],
   "source": [
    "# 使用哈希表\n",
    "def is_anagram(s: str, t: str):\n",
    "    if len(s) != len(t):\n",
    "        return False\n",
    "\n",
    "    dic = {}\n",
    "    for i in s:\n",
    "        num = dic.get(i, 0)\n",
    "        dic[i] = num + 1\n",
    "    \n",
    "    for i in t:\n",
    "        num = dic.get(i, 0)\n",
    "        if num > 0:\n",
    "            dic[i] -= 1\n",
    "            if dic[i] == 0:\n",
    "                dic.pop(i)\n",
    "    return len(dic) == 0"
   ]
  },
  {
   "cell_type": "code",
   "execution_count": 7,
   "metadata": {},
   "outputs": [
    {
     "output_type": "execute_result",
     "data": {
      "text/plain": [
       "True"
      ]
     },
     "metadata": {},
     "execution_count": 7
    }
   ],
   "source": [
    "is_anagram('anagram', 'nagaram')"
   ]
  },
  {
   "cell_type": "code",
   "execution_count": 10,
   "metadata": {},
   "outputs": [],
   "source": [
    "from collections import Counter\n",
    "def is_anagram(s: str, t: str):\n",
    "    return Counter(s) == Counter(t)"
   ]
  },
  {
   "cell_type": "code",
   "execution_count": 11,
   "metadata": {},
   "outputs": [
    {
     "output_type": "execute_result",
     "data": {
      "text/plain": [
       "True"
      ]
     },
     "metadata": {},
     "execution_count": 11
    }
   ],
   "source": [
    "is_anagram('anagram', 'nagaram')"
   ]
  },
  {
   "source": [
    "#### 同构字符串\n",
    "给定两个字符串 s 和 t，判断它们是否是同构的。\n",
    "\n",
    "如果 s 中的字符可以被替换得到 t ，那么这两个字符串是同构的。\n",
    "\n",
    "所有出现的字符都必须用另一个字符替换，同时保留字符的顺序。两个字符不能映射到同一个字符上，但字符可以映射自己本身。"
   ],
   "cell_type": "markdown",
   "metadata": {}
  },
  {
   "cell_type": "code",
   "execution_count": null,
   "metadata": {},
   "outputs": [],
   "source": [
    "def is_isomorphic(s: str, t: str) -> bool:\n",
    "    "
   ]
  }
 ]
}