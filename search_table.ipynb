{
 "metadata": {
  "language_info": {
   "codemirror_mode": {
    "name": "ipython",
    "version": 3
   },
   "file_extension": ".py",
   "mimetype": "text/x-python",
   "name": "python",
   "nbconvert_exporter": "python",
   "pygments_lexer": "ipython3",
   "version": "3.8.5-final"
  },
  "orig_nbformat": 2,
  "kernelspec": {
   "name": "python3",
   "display_name": "Python 3",
   "language": "python"
  }
 },
 "nbformat": 4,
 "nbformat_minor": 2,
 "cells": [
  {
   "source": [
    "#### 两个数组的交集\n",
    "\n",
    "给定两个数组，编写一个函数来计算它们的交集。"
   ],
   "cell_type": "markdown",
   "metadata": {}
  },
  {
   "cell_type": "code",
   "execution_count": 1,
   "metadata": {},
   "outputs": [],
   "source": [
    "def intersection(nums1: list, nums2: list) -> list:\n",
    "    return list(set(nums1) & set(nums2))"
   ]
  },
  {
   "cell_type": "code",
   "execution_count": 2,
   "metadata": {},
   "outputs": [
    {
     "output_type": "execute_result",
     "data": {
      "text/plain": [
       "[2]"
      ]
     },
     "metadata": {},
     "execution_count": 2
    }
   ],
   "source": [
    "intersection([1,2,3,1], [2,2])"
   ]
  },
  {
   "source": [
    "#### 快乐数\n",
    "编写一个算法来判断一个数 n 是不是快乐数\n",
    "\n",
    "快乐数定义为：对于一个正整数，每一次将该数替换为它每个位置上的数字的平方和，然后重复这个过程直到这个数变为 1，也可能是 无限循环 但始终变不到 1。如果 可以变为  1，那么这个数就是快乐数。\n"
   ],
   "cell_type": "markdown",
   "metadata": {}
  },
  {
   "cell_type": "code",
   "execution_count": 5,
   "metadata": {},
   "outputs": [],
   "source": [
    "def is_happy(n: int):\n",
    "    def next_(n):\n",
    "        # 计算下一个数\n",
    "        total = 0\n",
    "        while n:\n",
    "            n, digit = divmod(n, 10)\n",
    "            total += digit ** 2\n",
    "        return total\n",
    "\n",
    "    seen = set()\n",
    "    while n != 1 and n not in seen:\n",
    "        seen.add(n)\n",
    "        n = next_(n)\n",
    "    return n == 1"
   ]
  },
  {
   "cell_type": "code",
   "execution_count": 7,
   "metadata": {},
   "outputs": [
    {
     "output_type": "execute_result",
     "data": {
      "text/plain": [
       "True"
      ]
     },
     "metadata": {},
     "execution_count": 7
    }
   ],
   "source": [
    "is_happy(19)"
   ]
  },
  {
   "source": [
    "#### 存在重复元素\n",
    "给定一个整数数组，判断是否存在重复元素"
   ],
   "cell_type": "markdown",
   "metadata": {}
  },
  {
   "cell_type": "code",
   "execution_count": 9,
   "metadata": {},
   "outputs": [],
   "source": [
    "def contains_duplicate(nums: list):\n",
    "    return len(nums) != len(set(nums))"
   ]
  },
  {
   "cell_type": "code",
   "execution_count": 10,
   "metadata": {},
   "outputs": [
    {
     "output_type": "execute_result",
     "data": {
      "text/plain": [
       "True"
      ]
     },
     "metadata": {},
     "execution_count": 10
    }
   ],
   "source": [
    "contains_duplicate([1,1,1,3,3,4,3,2,4,2])"
   ]
  },
  {
   "source": [
    "#### 两个数组的交集 II\n",
    "给定两个数组，编写一个函数来计算它们的交集。"
   ],
   "cell_type": "markdown",
   "metadata": {}
  },
  {
   "cell_type": "code",
   "execution_count": 17,
   "metadata": {},
   "outputs": [],
   "source": [
    "from collections import Counter\n",
    "def intersect(nums1: list, nums2: list):\n",
    "    if len(nums1) > len(nums2):\n",
    "        return intersect(nums2, nums1)\n",
    "\n",
    "    m = Counter()\n",
    "    for i in nums1:\n",
    "        m[i] += 1\n",
    "    res = []\n",
    "    for i in nums2:\n",
    "        count = m.get(i, 0)\n",
    "        if count > 0:\n",
    "            res.append(i)\n",
    "            m[i] -= 1\n",
    "            if m[i] == 0:\n",
    "                m.pop(i)\n",
    "    return res"
   ]
  },
  {
   "cell_type": "code",
   "execution_count": 18,
   "metadata": {},
   "outputs": [
    {
     "output_type": "execute_result",
     "data": {
      "text/plain": [
       "[2, 2]"
      ]
     },
     "metadata": {},
     "execution_count": 18
    }
   ],
   "source": [
    "intersect([1,2,2,1], [2,2])"
   ]
  },
  {
   "source": [
    "#### 有效的字母异位词\n",
    "给定两个字符串 s 和 t ，编写一个函数来判断 t 是否是 s 的字母异位词。"
   ],
   "cell_type": "markdown",
   "metadata": {}
  },
  {
   "cell_type": "code",
   "execution_count": 1,
   "metadata": {},
   "outputs": [],
   "source": [
    "# 排序，异位词等价于，排序后相等\n",
    "def is_anagram(s: str, t: str):\n",
    "    s = [i for i in s]\n",
    "    t = [i for i in t]\n",
    "    s.sort()\n",
    "    t.sort()\n",
    "    return s == t"
   ]
  },
  {
   "cell_type": "code",
   "execution_count": 4,
   "metadata": {},
   "outputs": [
    {
     "output_type": "execute_result",
     "data": {
      "text/plain": [
       "True"
      ]
     },
     "metadata": {},
     "execution_count": 4
    }
   ],
   "source": [
    "is_anagram('rat', 'tra')"
   ]
  },
  {
   "cell_type": "code",
   "execution_count": 5,
   "metadata": {},
   "outputs": [],
   "source": [
    "# 使用哈希表\n",
    "def is_anagram(s: str, t: str):\n",
    "    if len(s) != len(t):\n",
    "        return False\n",
    "\n",
    "    dic = {}\n",
    "    for i in s:\n",
    "        num = dic.get(i, 0)\n",
    "        dic[i] = num + 1\n",
    "    \n",
    "    for i in t:\n",
    "        num = dic.get(i, 0)\n",
    "        if num > 0:\n",
    "            dic[i] -= 1\n",
    "            if dic[i] == 0:\n",
    "                dic.pop(i)\n",
    "    return len(dic) == 0"
   ]
  },
  {
   "cell_type": "code",
   "execution_count": 7,
   "metadata": {},
   "outputs": [
    {
     "output_type": "execute_result",
     "data": {
      "text/plain": [
       "True"
      ]
     },
     "metadata": {},
     "execution_count": 7
    }
   ],
   "source": [
    "is_anagram('anagram', 'nagaram')"
   ]
  },
  {
   "cell_type": "code",
   "execution_count": 10,
   "metadata": {},
   "outputs": [],
   "source": [
    "from collections import Counter\n",
    "def is_anagram(s: str, t: str):\n",
    "    return Counter(s) == Counter(t)"
   ]
  },
  {
   "cell_type": "code",
   "execution_count": 11,
   "metadata": {},
   "outputs": [
    {
     "output_type": "execute_result",
     "data": {
      "text/plain": [
       "True"
      ]
     },
     "metadata": {},
     "execution_count": 11
    }
   ],
   "source": [
    "is_anagram('anagram', 'nagaram')"
   ]
  },
  {
   "source": [
    "#### 同构字符串\n",
    "给定两个字符串 s 和 t，判断它们是否是同构的。\n",
    "\n",
    "如果 s 中的字符可以被替换得到 t ，那么这两个字符串是同构的。\n",
    "\n",
    "所有出现的字符都必须用另一个字符替换，同时保留字符的顺序。两个字符不能映射到同一个字符上，但字符可以映射自己本身。"
   ],
   "cell_type": "markdown",
   "metadata": {}
  },
  {
   "cell_type": "code",
   "execution_count": 1,
   "metadata": {},
   "outputs": [],
   "source": [
    "def is_isomorphic(s: str, t: str) -> bool:\n",
    "    if len(s) != len(t):\n",
    "        return False\n",
    "\n",
    "    s_list = [0] * 128\n",
    "    t_list = [0] * 128\n",
    "    for i in range(len(s)):\n",
    "        if s_list[ord(s[i])] != t_list[ord(t[i])]:\n",
    "            return False\n",
    "        s_list[ord(s[i])] = i + 1\n",
    "        t_list[ord(t[i])] = i + 1\n",
    "    return True"
   ]
  },
  {
   "cell_type": "code",
   "execution_count": 3,
   "metadata": {},
   "outputs": [],
   "source": [
    "def is_isomorphic(s: str, t: str) -> bool:\n",
    "    hashmap = {} # 字母映射关系表\n",
    "    ismap = {} # 记录另外一个是否出现\n",
    "    for i in range(len(s)):\n",
    "        if s[i] in hashmap:\n",
    "            if hashmap[s[i]] != t[i]:\n",
    "                return False\n",
    "        else:\n",
    "            if t[i] in ismap:\n",
    "                return False\n",
    "            hashmap[s[i]] = t[i]\n",
    "            ismap[t[i]] = True\n",
    "    return True"
   ]
  },
  {
   "source": [
    "#### 根据字符出现频率排序\n",
    "给定一个字符串，请将字符串里的字符按照出现的频率降序排列。"
   ],
   "cell_type": "markdown",
   "metadata": {}
  },
  {
   "cell_type": "code",
   "execution_count": 1,
   "metadata": {},
   "outputs": [],
   "source": [
    "from collections import Counter\n",
    "def frequency_sort(s: str) -> str:\n",
    "    c = Counter(s)\n",
    "    res = ''\n",
    "    for i in c.most_common():\n",
    "        res += i * c[i]\n",
    "\n",
    "    return res"
   ]
  },
  {
   "source": [
    "#### 两数之和\n",
    "给定一个整数数组 nums 和一个目标值 target，请你在该数组中找出和为目标值的那 两个 整数，并返回他们的数组下标。\n",
    "\n",
    "你可以假设每种输入只会对应一个答案。但是，数组中同一个元素不能使用两遍。\n"
   ],
   "cell_type": "markdown",
   "metadata": {}
  },
  {
   "cell_type": "code",
   "execution_count": 2,
   "metadata": {},
   "outputs": [],
   "source": [
    "def two_sum(nums: list, target: int) -> list:\n",
    "    lookup = {}\n",
    "    for i, val in enumerate(nums):\n",
    "        tmp = target - val\n",
    "        if tmp in lookup:\n",
    "            return [lookup[tmp], i]\n",
    "        else:\n",
    "            lookup[val] = i\n",
    "    return [] "
   ]
  },
  {
   "cell_type": "code",
   "execution_count": 3,
   "metadata": {},
   "outputs": [
    {
     "output_type": "execute_result",
     "data": {
      "text/plain": [
       "[0, 1]"
      ]
     },
     "metadata": {},
     "execution_count": 3
    }
   ],
   "source": [
    "two_sum([2, 7, 11, 15], 9)"
   ]
  },
  {
   "source": [
    "#### 三数之和\n",
    "给你一个包含 n 个整数的数组 nums，判断 nums 中是否存在三个元素 a，b，c ，使得 a + b + c = 0 ？请你找出所有满足条件且不重复的三元组。"
   ],
   "cell_type": "markdown",
   "metadata": {}
  },
  {
   "cell_type": "code",
   "execution_count": 11,
   "metadata": {},
   "outputs": [],
   "source": [
    "def three_sum(nums: list) -> list:\n",
    "    n = len(nums)\n",
    "    nums.sort()\n",
    "    res = []\n",
    "    for first in range(n):\n",
    "        if first > 0 and nums[first] == nums[first - 1]:\n",
    "            continue\n",
    "        third = n -1\n",
    "        target = -nums[first]\n",
    "        for second in range(first+1, n):\n",
    "            if second > first + 1 and nums[second] == nums[second - 1]:\n",
    "                continue\n",
    "            while second < third and nums[second] + nums[third] > target:\n",
    "                third -= 1\n",
    "            if third == second:\n",
    "                break\n",
    "            if nums[second] + nums[third] == target:\n",
    "                res.append([nums[first], nums[second], nums[third]])\n",
    "    return res"
   ]
  },
  {
   "cell_type": "code",
   "execution_count": 12,
   "metadata": {},
   "outputs": [
    {
     "output_type": "execute_result",
     "data": {
      "text/plain": [
       "[[-1, -1, 2], [-1, 0, 1]]"
      ]
     },
     "metadata": {},
     "execution_count": 12
    }
   ],
   "source": [
    "three_sum([-1, 0, 1, 2, -1, -4])"
   ]
  },
  {
   "source": [
    "### 四数相加 II\n",
    "给定四个包含整数的数组列表 A , B , C , D ,计算有多少个元组 (i, j, k, l) ，使得 A\\[i\\] + B\\[j\\] + C\\[k\\] + D\\[l\\] = 0。"
   ],
   "cell_type": "markdown",
   "metadata": {}
  },
  {
   "cell_type": "code",
   "execution_count": 2,
   "metadata": {},
   "outputs": [],
   "source": [
    "from collections import Counter\n",
    "def four_sum_count(A: list, B: list, C: list, D: list) -> int:\n",
    "    count = Counter(i+j for i in A for j in B)\n",
    "    res = 0\n",
    "    for i in C:\n",
    "        for j in D:\n",
    "            tmp = -(i + j)\n",
    "            if tmp in count:\n",
    "                res += count[tmp]\n",
    "    return res"
   ]
  },
  {
   "cell_type": "code",
   "execution_count": 3,
   "metadata": {},
   "outputs": [
    {
     "output_type": "execute_result",
     "data": {
      "text/plain": [
       "2"
      ]
     },
     "metadata": {},
     "execution_count": 3
    }
   ],
   "source": [
    "four_sum_count([1,2],[-2,-1],[-1,2],[0,2])"
   ]
  },
  {
   "source": [
    "#### 字母异位词分组\n",
    "给定一个字符串数组，将字母异位词组合在一起。字母异位词指字母相同，但排列不同的字符串。"
   ],
   "cell_type": "markdown",
   "metadata": {}
  },
  {
   "cell_type": "code",
   "execution_count": 14,
   "metadata": {},
   "outputs": [],
   "source": [
    "def group_anagrams(strs):\n",
    "    dic = {}\n",
    "    for s in strs:\n",
    "        k = ''.join(sorted(list(s)))\n",
    "        dic.setdefault(k,[]).append(s)\n",
    "    return list(dic.values())"
   ]
  },
  {
   "cell_type": "code",
   "execution_count": 15,
   "metadata": {},
   "outputs": [
    {
     "output_type": "execute_result",
     "data": {
      "text/plain": [
       "[['eat', 'tea', 'ate'], ['tan', 'nat'], ['bat']]"
      ]
     },
     "metadata": {},
     "execution_count": 15
    }
   ],
   "source": [
    "group_anagrams([\"eat\", \"tea\", \"tan\", \"ate\", \"nat\", \"bat\"])"
   ]
  },
  {
   "source": [
    "#### 回旋镖的数量\n",
    "给定平面上 n 对 互不相同 的点 points ，其中 points\\[i\\] = \\[xi, yi\\] 。回旋镖 是由点 (i, j, k) 表示的元组 ，其中 i 和 j 之间的距离和 i 和 k 之间的距离相等（需要考虑元组的顺序）。"
   ],
   "cell_type": "markdown",
   "metadata": {}
  },
  {
   "cell_type": "code",
   "execution_count": null,
   "metadata": {},
   "outputs": [],
   "source": [
    "from collections import defaultdict\n",
    "def number_of_boomerange(points):\n",
    "    res = 0\n",
    "    for p in points:\n",
    "        dic = defaultdict(int)\n",
    "        for q in points:"
   ]
  }
 ]
}